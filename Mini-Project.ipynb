{
 "cells": [
  {
   "cell_type": "markdown",
   "source": [
    "# Introduction to data analysis - Spring 2023\n",
    "## Mini-Project\n",
    "\n",
    "Lior Ben Sidi\n",
    "Yarin Katan"
   ],
   "metadata": {
    "collapsed": false
   }
  },
  {
   "cell_type": "markdown",
   "source": [
    "### Submission guidelines:\n",
    "● Submission deadline: 08/08/23 at 23:55.\n",
    "○ The submission box in Moodle will close 48 hours after this deadline. To avoid\n",
    "penalties for late submissions (as stated in the syllabus), submit by this deadline.\n",
    "● Submission in pairs only (unless special permission is given by the head TA)\n",
    "● Submission must include (at least) two files (not a single zip):\n",
    "○ One jupyter notebook with your answers to parts 1, 2, 3, and 4 with both markdown\n",
    "and code cells. Markdown cells should contain brief explanations of your analyses.\n",
    "No need to elaborate in this file - you will do that in the PDF - but it should be clear\n",
    "enough that we know which questions the code relates to and what it does. Code\n",
    "cells must enable complete reproduction of all your results. Your code should be\n",
    "clearly documented.\n",
    "○ One PDF of exported content of your jupyter notebook. The PDF has to contain your\n",
    "outputs, similar to homework submission.\n",
    "○ One PDF file with your answers to part 5.\n",
    "○ You should merge the exported PDF and the PDF for part 5. You may use online free\n",
    "tools to do that, like: https://tools.pdf24.org/en/merge-pdf\n",
    "○ As listed in the syllabus, if you use generative AI tools, you must also submit a (third)\n",
    "docx file with details on your usage. Refer to the syllabus for details.\n",
    "● File names must be in the following format: final_project_ID1_ID2.pdf,\n",
    "final_project_ID1_ID2.ipynb .\n",
    "● You must adhere to the syllabus when you prepare and submit your work. Any deviation from\n",
    "the syllabus and/or guidelines herein will result in point deduction.\n",
    "● You can write in either Hebrew or English, but it’s better to use the language you are more\n",
    "comfortable with."
   ],
   "metadata": {
    "collapsed": false
   }
  },
  {
   "cell_type": "markdown",
   "source": [
    "### Instructions\n",
    "For the course mini-project, you will work with a dataset of your choice (from a set of possible\n",
    "datasets) to answer questions you are curious about."
   ],
   "metadata": {
    "collapsed": false
   }
  },
  {
   "cell_type": "markdown",
   "source": [
    "### IMPORTANT NOTES, please read carefully:\n",
    "● In all of the following analyses, you will likely need to make some choices regarding what\n",
    "variables to include, whether to do some pre-processing (e.g., addressing missing values,\n",
    "generating new variables), what techniques to use in the analysis, etc. Clearly state each\n",
    "decision you made, explain why you made it and what might have been alternative choices.\n",
    "● You can earn up to 15 bonus points for your project (can reach a maximum of 115 points) if\n",
    "you do a particularly thoughtful analysis, involving either an additional (unprovided, but\n",
    "somewhat complimentary) dataset, or analysis of a complex data type (e.g., text). Note,\n",
    "simply using complex data or an additional data source does not guarantee a bonus. If you\n",
    "ask an interesting question and think of an original way to address it, that will get you the\n",
    "extra points."
   ],
   "metadata": {
    "collapsed": false
   }
  },
  {
   "cell_type": "markdown",
   "source": [
    "### Part 1: Choose a dataset"
   ],
   "metadata": {
    "collapsed": false
   }
  },
  {
   "cell_type": "markdown",
   "source": [
    "#### Choose one of the following datasets:\n",
    "● Adult Income dataset:\n",
    "https://www.kaggle.com/datasets/wenruliu/adult-income-dataset\n",
    "● US Estimated Crimes dataset:\n",
    "https://www.kaggle.com/datasets/tunguz/us-estimated-crimes\n",
    "● Diabetes Prediction dataset:\n",
    "https://www.kaggle.com/datasets/iammustafatz/diabetes-prediction-dataset\n",
    "● US Married Couples in 1976 dataset:\n",
    "https://www.kaggle.com/datasets/utkarshx27/labor-supply-data\n",
    "● World Air Quality Index dataset:\n",
    "https://www.kaggle.com/datasets/adityaramachandran27/world-air-quality-index-by-city-and-c\n",
    "oordinates\n",
    "● Mobile Phones dataset:\n",
    "https://www.kaggle.com/datasets/artempozdniakov/ukrainian-market-mobile-phones-data\n",
    "● Students Exam Scores dataset (Only use the version in the file named\n",
    "‘Expanded_data_with_more_features.csv’, not the version in the other file):\n",
    "https://www.kaggle.com/datasets/desalegngeb/students-exam-scores?select=Expanded_dat\n",
    "a_with_more_features.csv\n",
    "\n",
    "Once you have chosen your dataset:\n",
    "1) State which dataset you chose.\n",
    "2) Provide a brief (2-4 sentences) description of the dataset. What is this dataset about?\n",
    "3) List the features in the dataset and their types.\n",
    "4) List the number of records in the dataset."
   ],
   "metadata": {
    "collapsed": false
   }
  },
  {
   "cell_type": "code",
   "execution_count": 84,
   "outputs": [],
   "source": [
    "#Import libraries:\n",
    "import numpy as np\n",
    "import pandas as pd\n",
    "import matplotlib.pyplot as plt\n",
    "import matplotlib.style as style\n",
    "style.use('tableau-colorblind10')\n",
    "import seaborn as sns\n",
    "sns.set_palette(\"viridis\")\n",
    "from tqdm import tqdm"
   ],
   "metadata": {
    "collapsed": false,
    "ExecuteTime": {
     "start_time": "2023-06-30T17:54:53.505007Z",
     "end_time": "2023-06-30T17:54:53.831540Z"
    }
   }
  },
  {
   "cell_type": "code",
   "execution_count": 85,
   "outputs": [
    {
     "data": {
      "text/plain": "       gender   age  hypertension  heart_disease smoking_history    bmi   \n0      Female  80.0             0              1           never  25.19  \\\n1      Female  54.0             0              0         No Info  27.32   \n2        Male  28.0             0              0           never  27.32   \n3      Female  36.0             0              0         current  23.45   \n4        Male  76.0             1              1         current  20.14   \n...       ...   ...           ...            ...             ...    ...   \n99995  Female  80.0             0              0         No Info  27.32   \n99996  Female   2.0             0              0         No Info  17.37   \n99997    Male  66.0             0              0          former  27.83   \n99998  Female  24.0             0              0           never  35.42   \n99999  Female  57.0             0              0         current  22.43   \n\n       HbA1c_level  blood_glucose_level  diabetes  \n0              6.6                  140         0  \n1              6.6                   80         0  \n2              5.7                  158         0  \n3              5.0                  155         0  \n4              4.8                  155         0  \n...            ...                  ...       ...  \n99995          6.2                   90         0  \n99996          6.5                  100         0  \n99997          5.7                  155         0  \n99998          4.0                  100         0  \n99999          6.6                   90         0  \n\n[100000 rows x 9 columns]",
      "text/html": "<div>\n<style scoped>\n    .dataframe tbody tr th:only-of-type {\n        vertical-align: middle;\n    }\n\n    .dataframe tbody tr th {\n        vertical-align: top;\n    }\n\n    .dataframe thead th {\n        text-align: right;\n    }\n</style>\n<table border=\"1\" class=\"dataframe\">\n  <thead>\n    <tr style=\"text-align: right;\">\n      <th></th>\n      <th>gender</th>\n      <th>age</th>\n      <th>hypertension</th>\n      <th>heart_disease</th>\n      <th>smoking_history</th>\n      <th>bmi</th>\n      <th>HbA1c_level</th>\n      <th>blood_glucose_level</th>\n      <th>diabetes</th>\n    </tr>\n  </thead>\n  <tbody>\n    <tr>\n      <th>0</th>\n      <td>Female</td>\n      <td>80.0</td>\n      <td>0</td>\n      <td>1</td>\n      <td>never</td>\n      <td>25.19</td>\n      <td>6.6</td>\n      <td>140</td>\n      <td>0</td>\n    </tr>\n    <tr>\n      <th>1</th>\n      <td>Female</td>\n      <td>54.0</td>\n      <td>0</td>\n      <td>0</td>\n      <td>No Info</td>\n      <td>27.32</td>\n      <td>6.6</td>\n      <td>80</td>\n      <td>0</td>\n    </tr>\n    <tr>\n      <th>2</th>\n      <td>Male</td>\n      <td>28.0</td>\n      <td>0</td>\n      <td>0</td>\n      <td>never</td>\n      <td>27.32</td>\n      <td>5.7</td>\n      <td>158</td>\n      <td>0</td>\n    </tr>\n    <tr>\n      <th>3</th>\n      <td>Female</td>\n      <td>36.0</td>\n      <td>0</td>\n      <td>0</td>\n      <td>current</td>\n      <td>23.45</td>\n      <td>5.0</td>\n      <td>155</td>\n      <td>0</td>\n    </tr>\n    <tr>\n      <th>4</th>\n      <td>Male</td>\n      <td>76.0</td>\n      <td>1</td>\n      <td>1</td>\n      <td>current</td>\n      <td>20.14</td>\n      <td>4.8</td>\n      <td>155</td>\n      <td>0</td>\n    </tr>\n    <tr>\n      <th>...</th>\n      <td>...</td>\n      <td>...</td>\n      <td>...</td>\n      <td>...</td>\n      <td>...</td>\n      <td>...</td>\n      <td>...</td>\n      <td>...</td>\n      <td>...</td>\n    </tr>\n    <tr>\n      <th>99995</th>\n      <td>Female</td>\n      <td>80.0</td>\n      <td>0</td>\n      <td>0</td>\n      <td>No Info</td>\n      <td>27.32</td>\n      <td>6.2</td>\n      <td>90</td>\n      <td>0</td>\n    </tr>\n    <tr>\n      <th>99996</th>\n      <td>Female</td>\n      <td>2.0</td>\n      <td>0</td>\n      <td>0</td>\n      <td>No Info</td>\n      <td>17.37</td>\n      <td>6.5</td>\n      <td>100</td>\n      <td>0</td>\n    </tr>\n    <tr>\n      <th>99997</th>\n      <td>Male</td>\n      <td>66.0</td>\n      <td>0</td>\n      <td>0</td>\n      <td>former</td>\n      <td>27.83</td>\n      <td>5.7</td>\n      <td>155</td>\n      <td>0</td>\n    </tr>\n    <tr>\n      <th>99998</th>\n      <td>Female</td>\n      <td>24.0</td>\n      <td>0</td>\n      <td>0</td>\n      <td>never</td>\n      <td>35.42</td>\n      <td>4.0</td>\n      <td>100</td>\n      <td>0</td>\n    </tr>\n    <tr>\n      <th>99999</th>\n      <td>Female</td>\n      <td>57.0</td>\n      <td>0</td>\n      <td>0</td>\n      <td>current</td>\n      <td>22.43</td>\n      <td>6.6</td>\n      <td>90</td>\n      <td>0</td>\n    </tr>\n  </tbody>\n</table>\n<p>100000 rows × 9 columns</p>\n</div>"
     },
     "execution_count": 85,
     "metadata": {},
     "output_type": "execute_result"
    }
   ],
   "source": [
    "df_diabetes = pd.read_csv('diabetes_prediction_dataset.csv')\n",
    "df_diabetes"
   ],
   "metadata": {
    "collapsed": false,
    "ExecuteTime": {
     "start_time": "2023-06-30T17:54:53.518983Z",
     "end_time": "2023-06-30T17:54:53.896803Z"
    }
   }
  },
  {
   "cell_type": "markdown",
   "source": [
    "#### Question 1"
   ],
   "metadata": {
    "collapsed": false
   }
  },
  {
   "cell_type": "markdown",
   "source": [
    "We chose the \"Diabetes prediction dataset\"."
   ],
   "metadata": {
    "collapsed": false
   }
  },
  {
   "cell_type": "markdown",
   "source": [
    "#### Question 2"
   ],
   "metadata": {
    "collapsed": false
   }
  },
  {
   "cell_type": "markdown",
   "source": [
    "The Diabetes prediction dataset is a comprehensive collection of medical data from patients,\n",
    "offering valuable insights into diabetes prediction.\n",
    "It encompasses factors like age, gender, BMI, hypertension, heart disease,\n",
    "smoking history, HbA1c level, and blood glucose level."
   ],
   "metadata": {
    "collapsed": false
   }
  },
  {
   "cell_type": "markdown",
   "source": [
    "#### Question 3"
   ],
   "metadata": {
    "collapsed": false
   }
  },
  {
   "cell_type": "markdown",
   "source": [
    "According to the data frame the List of features in the dataset and their types are:\n",
    "1. gender - Categorical('Female', 'Male', 'Other')\n",
    "2. age - Numeric continuous(float)\n",
    "3. hypertension - Boolean(binary)\n",
    "4. heart_disease - Boolean(binary)\n",
    "5. smoking_history - Categorical\n",
    "6. bmi - Numeric continuous(float)\n",
    "7. HbA1c_level - Numeric continuous(float)\n",
    "8. blood_glucose_level - Numeric discrete (integer) #Ask about the type\n",
    "9. diabetes - Boolean(binary)"
   ],
   "metadata": {
    "collapsed": false
   }
  },
  {
   "cell_type": "markdown",
   "source": [
    "#### Question 4"
   ],
   "metadata": {
    "collapsed": false
   }
  },
  {
   "cell_type": "code",
   "execution_count": 86,
   "outputs": [
    {
     "name": "stdout",
     "output_type": "stream",
     "text": [
      "the number of records in the dataset are: 100000\n"
     ]
    }
   ],
   "source": [
    "print(f'the number of records in the dataset are: {df_diabetes.shape[0]}')"
   ],
   "metadata": {
    "collapsed": false,
    "ExecuteTime": {
     "start_time": "2023-06-30T17:54:53.710254Z",
     "end_time": "2023-06-30T17:54:53.901822Z"
    }
   }
  },
  {
   "cell_type": "markdown",
   "source": [
    "### Part 2: Exploratory data analysis"
   ],
   "metadata": {
    "collapsed": false
   }
  },
  {
   "cell_type": "markdown",
   "source": [
    "In this part, you will do an initial exploration of the dataset you chose.\n",
    "This part should serve the next parts.\n",
    "That is, you should look at variables that can influence your analyses for parts (3) and (4).\n",
    "Of course, you can (and probably should) also explore further, and/or use this as a way to motivate questions for parts (3) and (4).\n",
    "You should explain why you are exploring the particular variables you\n",
    "chose."
   ],
   "metadata": {
    "collapsed": false
   }
  },
  {
   "cell_type": "markdown",
   "source": [
    "1. Show plots illustrating the distribution of at least 5 variables in your dataset.\n",
    "Comment on anything interesting you observe.\n",
    "2. Show plots illustrating bivariate relationships for at least 2 pairs of variables.\n",
    "Explain what you observe (e.g., positive/negative correlation, no correlation, etc.)."
   ],
   "metadata": {
    "collapsed": false
   }
  },
  {
   "cell_type": "code",
   "execution_count": 86,
   "outputs": [],
   "source": [],
   "metadata": {
    "collapsed": false,
    "ExecuteTime": {
     "start_time": "2023-06-30T17:54:53.786256Z",
     "end_time": "2023-06-30T17:54:53.919361Z"
    }
   }
  },
  {
   "cell_type": "code",
   "execution_count": 87,
   "outputs": [
    {
     "name": "stderr",
     "output_type": "stream",
     "text": [
      "C:\\Users\\liorb\\AppData\\Local\\Temp\\ipykernel_7540\\3346680314.py:4: SettingWithCopyWarning: \n",
      "A value is trying to be set on a copy of a slice from a DataFrame\n",
      "\n",
      "See the caveats in the documentation: https://pandas.pydata.org/pandas-docs/stable/user_guide/indexing.html#returning-a-view-versus-a-copy\n",
      "  df_diabetes.replace('No Info', np.nan, inplace=True)\n"
     ]
    },
    {
     "data": {
      "text/plain": "       gender   age  hypertension  heart_disease smoking_history    bmi   \n0      Female  80.0             0              1           never  25.19  \\\n1      Female  54.0             0              0             NaN  27.32   \n2        Male  28.0             0              0           never  27.32   \n3      Female  36.0             0              0         current  23.45   \n4        Male  76.0             1              1         current  20.14   \n...       ...   ...           ...            ...             ...    ...   \n99995  Female  80.0             0              0             NaN  27.32   \n99996  Female   2.0             0              0             NaN  17.37   \n99997    Male  66.0             0              0          former  27.83   \n99998  Female  24.0             0              0           never  35.42   \n99999  Female  57.0             0              0         current  22.43   \n\n       HbA1c_level  blood_glucose_level  diabetes  \n0              6.6                  140         0  \n1              6.6                   80         0  \n2              5.7                  158         0  \n3              5.0                  155         0  \n4              4.8                  155         0  \n...            ...                  ...       ...  \n99995          6.2                   90         0  \n99996          6.5                  100         0  \n99997          5.7                  155         0  \n99998          4.0                  100         0  \n99999          6.6                   90         0  \n\n[99982 rows x 9 columns]",
      "text/html": "<div>\n<style scoped>\n    .dataframe tbody tr th:only-of-type {\n        vertical-align: middle;\n    }\n\n    .dataframe tbody tr th {\n        vertical-align: top;\n    }\n\n    .dataframe thead th {\n        text-align: right;\n    }\n</style>\n<table border=\"1\" class=\"dataframe\">\n  <thead>\n    <tr style=\"text-align: right;\">\n      <th></th>\n      <th>gender</th>\n      <th>age</th>\n      <th>hypertension</th>\n      <th>heart_disease</th>\n      <th>smoking_history</th>\n      <th>bmi</th>\n      <th>HbA1c_level</th>\n      <th>blood_glucose_level</th>\n      <th>diabetes</th>\n    </tr>\n  </thead>\n  <tbody>\n    <tr>\n      <th>0</th>\n      <td>Female</td>\n      <td>80.0</td>\n      <td>0</td>\n      <td>1</td>\n      <td>never</td>\n      <td>25.19</td>\n      <td>6.6</td>\n      <td>140</td>\n      <td>0</td>\n    </tr>\n    <tr>\n      <th>1</th>\n      <td>Female</td>\n      <td>54.0</td>\n      <td>0</td>\n      <td>0</td>\n      <td>NaN</td>\n      <td>27.32</td>\n      <td>6.6</td>\n      <td>80</td>\n      <td>0</td>\n    </tr>\n    <tr>\n      <th>2</th>\n      <td>Male</td>\n      <td>28.0</td>\n      <td>0</td>\n      <td>0</td>\n      <td>never</td>\n      <td>27.32</td>\n      <td>5.7</td>\n      <td>158</td>\n      <td>0</td>\n    </tr>\n    <tr>\n      <th>3</th>\n      <td>Female</td>\n      <td>36.0</td>\n      <td>0</td>\n      <td>0</td>\n      <td>current</td>\n      <td>23.45</td>\n      <td>5.0</td>\n      <td>155</td>\n      <td>0</td>\n    </tr>\n    <tr>\n      <th>4</th>\n      <td>Male</td>\n      <td>76.0</td>\n      <td>1</td>\n      <td>1</td>\n      <td>current</td>\n      <td>20.14</td>\n      <td>4.8</td>\n      <td>155</td>\n      <td>0</td>\n    </tr>\n    <tr>\n      <th>...</th>\n      <td>...</td>\n      <td>...</td>\n      <td>...</td>\n      <td>...</td>\n      <td>...</td>\n      <td>...</td>\n      <td>...</td>\n      <td>...</td>\n      <td>...</td>\n    </tr>\n    <tr>\n      <th>99995</th>\n      <td>Female</td>\n      <td>80.0</td>\n      <td>0</td>\n      <td>0</td>\n      <td>NaN</td>\n      <td>27.32</td>\n      <td>6.2</td>\n      <td>90</td>\n      <td>0</td>\n    </tr>\n    <tr>\n      <th>99996</th>\n      <td>Female</td>\n      <td>2.0</td>\n      <td>0</td>\n      <td>0</td>\n      <td>NaN</td>\n      <td>17.37</td>\n      <td>6.5</td>\n      <td>100</td>\n      <td>0</td>\n    </tr>\n    <tr>\n      <th>99997</th>\n      <td>Male</td>\n      <td>66.0</td>\n      <td>0</td>\n      <td>0</td>\n      <td>former</td>\n      <td>27.83</td>\n      <td>5.7</td>\n      <td>155</td>\n      <td>0</td>\n    </tr>\n    <tr>\n      <th>99998</th>\n      <td>Female</td>\n      <td>24.0</td>\n      <td>0</td>\n      <td>0</td>\n      <td>never</td>\n      <td>35.42</td>\n      <td>4.0</td>\n      <td>100</td>\n      <td>0</td>\n    </tr>\n    <tr>\n      <th>99999</th>\n      <td>Female</td>\n      <td>57.0</td>\n      <td>0</td>\n      <td>0</td>\n      <td>current</td>\n      <td>22.43</td>\n      <td>6.6</td>\n      <td>90</td>\n      <td>0</td>\n    </tr>\n  </tbody>\n</table>\n<p>99982 rows × 9 columns</p>\n</div>"
     },
     "execution_count": 87,
     "metadata": {},
     "output_type": "execute_result"
    }
   ],
   "source": [
    "# We dropped the 18 records of unknown gender('Other')\n",
    "df_diabetes = df_diabetes[df_diabetes.gender != 'Other']\n",
    "# We replaced unknown information('No info') of 'smoking_history' with NAN values\n",
    "df_diabetes.replace('No Info', np.nan, inplace=True)\n",
    "df_diabetes"
   ],
   "metadata": {
    "collapsed": false,
    "ExecuteTime": {
     "start_time": "2023-06-30T17:54:53.810541Z",
     "end_time": "2023-06-30T17:54:53.920363Z"
    }
   }
  }
 ],
 "metadata": {
  "kernelspec": {
   "display_name": "Python 3",
   "language": "python",
   "name": "python3"
  },
  "language_info": {
   "codemirror_mode": {
    "name": "ipython",
    "version": 2
   },
   "file_extension": ".py",
   "mimetype": "text/x-python",
   "name": "python",
   "nbconvert_exporter": "python",
   "pygments_lexer": "ipython2",
   "version": "2.7.6"
  }
 },
 "nbformat": 4,
 "nbformat_minor": 0
}
