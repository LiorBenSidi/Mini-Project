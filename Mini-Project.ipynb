{
 "cells": [
  {
   "cell_type": "markdown",
   "source": [
    "# Introduction to data analysis - Spring 2023\n",
    "## Mini-Project"
   ],
   "metadata": {
    "collapsed": false
   }
  },
  {
   "cell_type": "markdown",
   "source": [
    "### Submission guidelines:\n",
    "● Submission deadline: 08/08/23 at 23:55.\n",
    "○ The submission box in Moodle will close 48 hours after this deadline. To avoid\n",
    "penalties for late submissions (as stated in the syllabus), submit by this deadline.\n",
    "● Submission in pairs only (unless special permission is given by the head TA)\n",
    "● Submission must include (at least) two files (not a single zip):\n",
    "○ One jupyter notebook with your answers to parts 1, 2, 3, and 4 with both markdown\n",
    "and code cells. Markdown cells should contain brief explanations of your analyses.\n",
    "No need to elaborate in this file - you will do that in the PDF - but it should be clear\n",
    "enough that we know which questions the code relates to and what it does. Code\n",
    "cells must enable complete reproduction of all your results. Your code should be\n",
    "clearly documented.\n",
    "○ One PDF of exported content of your jupyter notebook. The PDF has to contain your\n",
    "outputs, similar to homework submission.\n",
    "○ One PDF file with your answers to part 5.\n",
    "○ You should merge the exported PDF and the PDF for part 5. You may use online free\n",
    "tools to do that, like: https://tools.pdf24.org/en/merge-pdf\n",
    "○ As listed in the syllabus, if you use generative AI tools, you must also submit a (third)\n",
    "docx file with details on your usage. Refer to the syllabus for details.\n",
    "● File names must be in the following format: final_project_ID1_ID2.pdf,\n",
    "final_project_ID1_ID2.ipynb .\n",
    "● You must adhere to the syllabus when you prepare and submit your work. Any deviation from\n",
    "the syllabus and/or guidelines herein will result in point deduction.\n",
    "● You can write in either Hebrew or English, but it’s better to use the language you are more\n",
    "comfortable with."
   ],
   "metadata": {
    "collapsed": false
   }
  },
  {
   "cell_type": "markdown",
   "source": [
    "### Instructions\n",
    "For the course mini-project, you will work with a dataset of your choice (from a set of possible\n",
    "datasets) to answer questions you are curious about."
   ],
   "metadata": {
    "collapsed": false
   }
  },
  {
   "cell_type": "markdown",
   "source": [
    "### IMPORTANT NOTES, please read carefully:\n",
    "● In all of the following analyses, you will likely need to make some choices regarding what\n",
    "variables to include, whether to do some pre-processing (e.g., addressing missing values,\n",
    "generating new variables), what techniques to use in the analysis, etc. Clearly state each\n",
    "decision you made, explain why you made it and what might have been alternative choices.\n",
    "● You can earn up to 15 bonus points for your project (can reach a maximum of 115 points) if\n",
    "you do a particularly thoughtful analysis, involving either an additional (unprovided, but\n",
    "somewhat complimentary) dataset, or analysis of a complex data type (e.g., text). Note,\n",
    "simply using complex data or an additional data source does not guarantee a bonus. If you\n",
    "ask an interesting question and think of an original way to address it, that will get you the\n",
    "extra points."
   ],
   "metadata": {
    "collapsed": false
   }
  },
  {
   "cell_type": "markdown",
   "source": [
    "### Part 1: Choose a dataset"
   ],
   "metadata": {
    "collapsed": false
   }
  },
  {
   "cell_type": "markdown",
   "source": [
    "#### Choose one of the following datasets:\n",
    "● Adult Income dataset:\n",
    "https://www.kaggle.com/datasets/wenruliu/adult-income-dataset\n",
    "● US Estimated Crimes dataset:\n",
    "https://www.kaggle.com/datasets/tunguz/us-estimated-crimes\n",
    "● Diabetes Prediction dataset:\n",
    "https://www.kaggle.com/datasets/iammustafatz/diabetes-prediction-dataset\n",
    "● US Married Couples in 1976 dataset:\n",
    "https://www.kaggle.com/datasets/utkarshx27/labor-supply-data\n",
    "● World Air Quality Index dataset:\n",
    "https://www.kaggle.com/datasets/adityaramachandran27/world-air-quality-index-by-city-and-c\n",
    "oordinates\n",
    "● Mobile Phones dataset:\n",
    "https://www.kaggle.com/datasets/artempozdniakov/ukrainian-market-mobile-phones-data\n",
    "● Students Exam Scores dataset (Only use the version in the file named\n",
    "‘Expanded_data_with_more_features.csv’, not the version in the other file):\n",
    "https://www.kaggle.com/datasets/desalegngeb/students-exam-scores?select=Expanded_dat\n",
    "a_with_more_features.csv\n",
    "\n",
    "Once you have chosen your dataset:\n",
    "1) State which dataset you chose.\n",
    "2) Provide a brief (2-4 sentences) description of the dataset. What is this dataset about?\n",
    "3) List the features in the dataset and their types.\n",
    "4) List the number of records in the dataset."
   ],
   "metadata": {
    "collapsed": false
   }
  },
  {
   "cell_type": "code",
   "execution_count": null,
   "outputs": [],
   "source": [],
   "metadata": {
    "collapsed": false
   }
  },
  {
   "cell_type": "markdown",
   "source": [],
   "metadata": {
    "collapsed": false
   }
  }
 ],
 "metadata": {
  "kernelspec": {
   "display_name": "Python 3",
   "language": "python",
   "name": "python3"
  },
  "language_info": {
   "codemirror_mode": {
    "name": "ipython",
    "version": 2
   },
   "file_extension": ".py",
   "mimetype": "text/x-python",
   "name": "python",
   "nbconvert_exporter": "python",
   "pygments_lexer": "ipython2",
   "version": "2.7.6"
  }
 },
 "nbformat": 4,
 "nbformat_minor": 0
}
