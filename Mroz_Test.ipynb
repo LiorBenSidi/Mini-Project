{
 "cells": [
  {
   "cell_type": "code",
   "execution_count": null,
   "metadata": {
    "collapsed": true
   },
   "outputs": [],
   "source": [
    "#Import libraries:\n",
    "import numpy as np\n",
    "import pandas as pd\n",
    "import matplotlib.pyplot as plt\n",
    "import matplotlib.style as style\n",
    "style.use('tableau-colorblind10')\n",
    "import seaborn as sns\n",
    "sns.set_palette(\"viridis\")\n",
    "from tqdm import tqdm"
   ]
  },
  {
   "cell_type": "code",
   "execution_count": null,
   "outputs": [],
   "source": [
    "df_Mroz = pd.read_csv('Mroz.csv')\n",
    "df_Mroz"
   ],
   "metadata": {
    "collapsed": false
   }
  },
  {
   "cell_type": "code",
   "execution_count": null,
   "outputs": [],
   "source": [
    "print(f'the number of records in the dataset are: {df_Mroz.shape[0]}')"
   ],
   "metadata": {
    "collapsed": false
   }
  },
  {
   "cell_type": "code",
   "execution_count": null,
   "outputs": [],
   "source": [
    "print(df_Mroz['Unnamed: 0'])"
   ],
   "metadata": {
    "collapsed": false
   }
  },
  {
   "cell_type": "code",
   "execution_count": null,
   "outputs": [],
   "source": [
    "df_Mroz.info()"
   ],
   "metadata": {
    "collapsed": false
   }
  },
  {
   "cell_type": "code",
   "execution_count": null,
   "outputs": [],
   "source": [
    "df = df_Mroz.drop(columns=['Unnamed: 0'])\n",
    "\n",
    "for fut in tqdm(df.columns.unique()):\n",
    "    arr_of_fut = []\n",
    "    for i in tqdm(range(df[fut].shape[0])):\n",
    "        arr_of_fut.append(df[fut][i])\n",
    "\n",
    "    # Set the figure size\n",
    "    # plt.figure(figsize=(13, 13))\n",
    "\n",
    "    # Plot accidents for each type\n",
    "    sns.displot(arr_of_fut, stat='count')\n",
    "\n",
    "    plt.title(f'Distribution of {fut}')\n",
    "    plt.xlabel(fut)\n",
    "    plt.ylabel('count')\n",
    "\n",
    "    plt.show()"
   ],
   "metadata": {
    "collapsed": false
   }
  },
  {
   "cell_type": "code",
   "execution_count": null,
   "outputs": [],
   "source": [
    "for col in tqdm(df.columns.unique()):\n",
    "    if type(df[col] == 'object'):\n",
    "        df.replace({col: {'yes': 1, 'no': 0}}, inplace=True)\n",
    "        df[col] = df[col].astype(int)\n",
    "\n",
    "df.head(10)"
   ],
   "metadata": {
    "collapsed": false
   }
  },
  {
   "cell_type": "code",
   "execution_count": null,
   "outputs": [],
   "source": [
    "# compute correlation between each pair of variables in data frame\n",
    "correlations = df.corr()\n",
    "\n",
    "# plot heat map\n",
    "plt.figure(figsize=(10,10))\n",
    "g=sns.heatmap(correlations,annot=True)"
   ],
   "metadata": {
    "collapsed": false
   }
  },
  {
   "cell_type": "code",
   "execution_count": null,
   "outputs": [],
   "source": [],
   "metadata": {
    "collapsed": false
   }
  }
 ],
 "metadata": {
  "kernelspec": {
   "display_name": "Python 3",
   "language": "python",
   "name": "python3"
  },
  "language_info": {
   "codemirror_mode": {
    "name": "ipython",
    "version": 2
   },
   "file_extension": ".py",
   "mimetype": "text/x-python",
   "name": "python",
   "nbconvert_exporter": "python",
   "pygments_lexer": "ipython2",
   "version": "2.7.6"
  }
 },
 "nbformat": 4,
 "nbformat_minor": 0
}
