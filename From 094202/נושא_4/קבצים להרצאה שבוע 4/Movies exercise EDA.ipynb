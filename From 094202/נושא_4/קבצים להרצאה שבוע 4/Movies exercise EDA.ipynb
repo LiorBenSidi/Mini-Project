{
 "cells": [
  {
   "cell_type": "markdown",
   "metadata": {
    "colab_type": "text",
    "id": "a_IAuReWfZAT"
   },
   "source": [
    "# IMDB Movies Dataset\n",
    "In this exercise, we will explore data from IMDB (https://www.imdb.com/; https://www.kaggle.com/carolzhangdc/imdb-5000-movie-dataset#movie_metadata.csv), a movies website where people can rank movies, read and write reviews, etc.\n",
    "\n",
    "Below is some basic code for reading and visualizing the data. \n",
    "\n",
    "Data description:\n",
    "\n",
    "- color: is the movie in color or black and white\n",
    "- director_name: name of the director of the movie\n",
    "- duration: the duration of the movie in minutes\n",
    "- director_facebook_likes: how many likes does the movie director have on facebook\n",
    "- gross: the gross income of the movie\n",
    "- genres: the genre of the movie (e.g., action)\n",
    "- movie_title: the name of the movie\n",
    "- num_voted_users: number of IMDB users who rated the movie\n",
    "- cast_total_facebook_likes: how many likes do the cast (actors of the movie) have on facebook in total\n",
    "- budget: the budget of the movie\n",
    "- title_year: the year in which the movie came out\n",
    "- imdb_score: the average rating of the movie on imdb (scale of 1-10)\n",
    "- movie_facebook_likes: how many likes does the movie have on facebook"
   ]
  },
  {
   "cell_type": "code",
   "execution_count": null,
   "metadata": {
    "colab": {
     "base_uri": "https://localhost:8080/",
     "height": 999
    },
    "colab_type": "code",
    "executionInfo": {
     "elapsed": 35995,
     "status": "error",
     "timestamp": 1549971606084,
     "user": {
      "displayName": "Ofra Amir",
      "photoUrl": "https://lh5.googleusercontent.com/-Q9LpYVAusTc/AAAAAAAAAAI/AAAAAAAAOAw/m80On9EU9mk/s64/photo.jpg",
      "userId": "01381598933201577412"
     },
     "user_tz": -120
    },
    "id": "gH993VXffZAY",
    "outputId": "3cd8130f-c4d5-4e47-ce66-e03b09269154"
   },
   "outputs": [],
   "source": [
    "import pandas as pd  # pandas is a package we will use to work with data tables\n",
    "import matplotlib.pyplot as plt  # matplotlib is a package for plotting data\n",
    "import seaborn as sns  # seaborn is also a package for plotting data, built on top of matplotlib\n",
    "import numpy as np  # numpy is a package for working with numerical data\n",
    "\n",
    "sns.set_context(\"talk\") # seaborn theme that makes plots clearer when presenting\n",
    "sns.set_palette(\"viridis\") # change color pallette to the recommended Viridis\n",
    "\n",
    "movies_df = pd.read_csv('movie_metadata.csv')  # reads dataset to a dataframe \n",
    "display(movies_df.head())  # prints first 5 rows of dataframe\n",
    "movies_df.info()"
   ]
  },
  {
   "cell_type": "markdown",
   "metadata": {},
   "source": [
    "How many observations do we have? \n",
    "Do we have missing values? In which variables?"
   ]
  },
  {
   "cell_type": "code",
   "execution_count": null,
   "metadata": {},
   "outputs": [],
   "source": [
    "# let's describe the data (separately for numeric and categorical variables)\n",
    "display(movies_df.describe()) # describes only numeric variables\n",
    "movies_df.describe(include=[object]) # descirbe only cateogrical variables (actually \"object\" type variables)"
   ]
  },
  {
   "cell_type": "markdown",
   "metadata": {},
   "source": [
    "What is the average number of IMDB votes for a movie in this dataset? \n",
    "What is the median number?\n",
    "\n",
    "How many of Steven Spielberg's movies are in this dataset?"
   ]
  },
  {
   "cell_type": "markdown",
   "metadata": {
    "colab_type": "text",
    "id": "r0qmx1vAfZAh"
   },
   "source": [
    "## Explore distributions of variables\n",
    "\n",
    "### Numeric variables\n",
    "\n",
    "Run the code below to see the distribution of the budget of movies. \n",
    "\n",
    "Let's play with the parameter \"bins\", which controls the number of bins in the histogram. Can you make different observations as you change it?\n",
    "\n",
    "**Challenge for home:** Try to look at the distributions of other (numeric) variables that you are curious about. E.g., what does the distribution of movie ratings looks like? of movie durations?"
   ]
  },
  {
   "cell_type": "code",
   "execution_count": null,
   "metadata": {},
   "outputs": [],
   "source": [
    "ax=sns.displot(data=movies_df, x=\"budget\", bins=20)"
   ]
  },
  {
   "cell_type": "markdown",
   "metadata": {},
   "source": [
    "### categorical variables\n",
    "\n",
    "Run the code below to see the distribution of movie genres.\n",
    "\n",
    "Would it be wise to plot distributions of other categorical variables in this dataset? Hint: look at the summary statistics table above.\n",
    "\n",
    "**Challenge for home:** Try to flip the chart 90 degress counter-clockwise, and make sure the labeles are readable"
   ]
  },
  {
   "cell_type": "code",
   "execution_count": null,
   "metadata": {},
   "outputs": [],
   "source": [
    "sns.catplot(data=movies_df, y='genres', kind='count')"
   ]
  },
  {
   "cell_type": "markdown",
   "metadata": {},
   "source": [
    "Clearly, there are very few movies in several generes. Let's change their category to \"other\""
   ]
  },
  {
   "cell_type": "code",
   "execution_count": null,
   "metadata": {},
   "outputs": [],
   "source": [
    "# make a list of categories we want to change\n",
    "genres_to_remove = ['Sci-Fi','Romance','Family','Western','Musical','Thriller']\n",
    "# change the value in 'genres' of observations whose genre is in the list to 'other'\n",
    "movies_df.loc[movies_df['genres'].isin(genres_to_remove),'genres'] = 'Other'\n",
    "# replot the cell above\n",
    "sns.catplot(data=movies_df, y='genres', kind='count')"
   ]
  },
  {
   "cell_type": "markdown",
   "metadata": {
    "colab_type": "text",
    "id": "r0qmx1vAfZAh"
   },
   "source": [
    "## Explore relationship between variables\n",
    "\n",
    "Run the code below to see a scatter plot showing the relationship between the movie's budget and its income. Does there seem to be a clear pattern? Is there anything weird in the data?\n",
    "\n",
    "**Challenge for home:** Modify the code to explore other potential relationships between variables:\n",
    "\n",
    "- Do you think there is a strong correlation between the budget of a movie and its rating?\n",
    "- Do you think there is a strong correlation between the gross income of a movie and its rating?\n",
    "- Do you think there is a strong correlation between the facebook likes of a movie and its rating?\n",
    "- Do you think there is a strong correlation between the facebook likes of a movie and the facebook likes of its director?\n"
   ]
  },
  {
   "cell_type": "code",
   "execution_count": null,
   "metadata": {},
   "outputs": [],
   "source": [
    "sns.relplot(data=movies_df, x='budget', y='gross', kind='scatter')"
   ]
  },
  {
   "cell_type": "code",
   "execution_count": null,
   "metadata": {},
   "outputs": [],
   "source": [
    "# checking the correlation \n",
    "movies_df['budget'].corr(movies_df['gross'])"
   ]
  },
  {
   "cell_type": "markdown",
   "metadata": {},
   "source": [
    "### Outliers\n",
    "\n",
    "The budget of some movies in the data seems too high. Let's print out the names of these movies"
   ]
  },
  {
   "cell_type": "code",
   "execution_count": null,
   "metadata": {},
   "outputs": [],
   "source": [
    "outliers = movies_df.loc[movies_df['budget'] > 3e+08]\n",
    "outliers"
   ]
  },
  {
   "cell_type": "markdown",
   "metadata": {},
   "source": [
    "Let's remove these from the data"
   ]
  },
  {
   "cell_type": "code",
   "execution_count": null,
   "metadata": {},
   "outputs": [],
   "source": [
    "movies_df = movies_df.loc[movies_df['budget'] <= 3e+08]"
   ]
  },
  {
   "cell_type": "markdown",
   "metadata": {},
   "source": [
    "These outliers indicate that the data includes errors. <br>\n",
    "Let's try to find another variable with suspicious values and check if they make sense. For example, let's check the distribution of cast_total_facebook_likes"
   ]
  },
  {
   "cell_type": "code",
   "execution_count": null,
   "metadata": {},
   "outputs": [],
   "source": [
    "# the rug argument makes sure we can see outliers plotted.\n",
    "sns.displot(data=movies_df, x='cast_total_facebook_likes',kind='kde', rug=True) "
   ]
  },
  {
   "cell_type": "code",
   "execution_count": null,
   "metadata": {},
   "outputs": [],
   "source": [
    "outliers = movies_df.loc[movies_df['cast_total_facebook_likes'] >=200000]\n",
    "outliers"
   ]
  },
  {
   "cell_type": "markdown",
   "metadata": {},
   "source": [
    "These also seem unreasonable, but not as unreasonable as the *budget* outliers above. Normally, we'd investigate more, but for now let's remove them.\n",
    "\n",
    "**Challenge for home:** Check for other possible outliers, and remove them if necessary."
   ]
  },
  {
   "cell_type": "code",
   "execution_count": null,
   "metadata": {},
   "outputs": [],
   "source": [
    "movies_df = movies_df.loc[movies_df['cast_total_facebook_likes'] <= 200000]"
   ]
  },
  {
   "cell_type": "markdown",
   "metadata": {
    "colab_type": "text",
    "id": "r0qmx1vAfZAh"
   },
   "source": [
    "## Make comparisons between movie genres\n",
    "\n",
    "Run the code below to see the a bar chart showing the average income for movies of different genres. What do you observe? What does this mean for movie producers? Does this mean that if they want to make more money, they should focus on specific genres?\n",
    "\n",
    "**Challenge for home:** Modify the code to explore other comparisons between genres, e.g.:\n",
    "\n",
    "- Movies from which genres cost more to produce?\n",
    "- Movies from which genres have get higher ratings?\n",
    "\n"
   ]
  },
  {
   "cell_type": "code",
   "execution_count": null,
   "metadata": {
    "colab": {},
    "colab_type": "code",
    "id": "LZG3wy4afZAj"
   },
   "outputs": [],
   "source": [
    "p = sns.catplot(data=movies_df, x='genres', y='gross', kind='bar',height=7, aspect=2) # aspect controls the ratio of width to height of the plot\n",
    "p.set_xticklabels(size = 14) # make font size of tick lables on x axis smaller so they dont go over one another"
   ]
  },
  {
   "cell_type": "markdown",
   "metadata": {
    "colab_type": "text",
    "id": "r0qmx1vAfZAh"
   },
   "source": [
    "## Make comparisons between movie genres - part 2\n",
    "\n",
    "Run the code below to see the a boxplot showing the average ratings for movies of different genres. What can you infer that you could not see in the bar chart above?\n",
    "\n",
    "Modify the code to look at boxplots for other comparisons (as above).\n"
   ]
  },
  {
   "cell_type": "code",
   "execution_count": null,
   "metadata": {
    "colab": {},
    "colab_type": "code",
    "id": "LZG3wy4afZAj"
   },
   "outputs": [],
   "source": [
    "p = sns.catplot(data=movies_df, x='genres', y='imdb_score', kind='box', showmeans=True, height=7, aspect=2) # note the showmeans argument\n",
    "p.set_xticklabels(size = 14)"
   ]
  },
  {
   "cell_type": "markdown",
   "metadata": {},
   "source": [
    "## Trends over time\n",
    "\n",
    "We want to see how the average revenue of a movie changes over time. First, we need to find the average revenue of a movie for each year in the data. <br>\n",
    "Yet, there are years with very few movies, and the average will not be informaive. So we will also remove years that have fewer than 50 movies.\n",
    "\n",
    "Run the code below to create a new dataframe with the average revenue per year"
   ]
  },
  {
   "cell_type": "code",
   "execution_count": null,
   "metadata": {},
   "outputs": [],
   "source": [
    "grpby_year = movies_df.groupby(['title_year']) # first, we create a groupby object by year\n",
    "agg_types = {\n",
    "    'gross': ['mean','count']\n",
    "}\n",
    "\n",
    "df_year_gross = grpby_year.agg(agg_types)\n",
    "\n",
    "df_year_gross # checking to see we have what we want...\n"
   ]
  },
  {
   "cell_type": "code",
   "execution_count": null,
   "metadata": {},
   "outputs": [],
   "source": [
    "# the groupby object automatically uses year for indexing, so we will not be able to use it as a variable\n",
    "# reset_index allows us to use year again as a variable\n",
    "df_year_gross.reset_index(inplace=True) # inplace asks to do the resetting on the calling df\n",
    "df_year_gross\n",
    "\n",
    "# Alternatively, we could have set as_index=False when we created the groupby object"
   ]
  },
  {
   "cell_type": "code",
   "execution_count": null,
   "metadata": {},
   "outputs": [],
   "source": [
    "# let's rename the columns to make things easier\n",
    "display(df_year_gross.columns.values)\n",
    "df_year_gross.columns = ['title_year', 'mean_gross', 'count_gross']\n",
    "df_year_gross.columns.values\n",
    "\n",
    "# alternatively, we could have used \"named aggregations\" when creating the new dataframe"
   ]
  },
  {
   "cell_type": "code",
   "execution_count": null,
   "metadata": {},
   "outputs": [],
   "source": [
    "# now we can remove years with fewer than 50 movies\n",
    "df_year_gross = df_year_gross.loc[df_year_gross['count_gross'] > 50]\n",
    "df_year_gross"
   ]
  },
  {
   "cell_type": "markdown",
   "metadata": {},
   "source": [
    "Run the code below to plot a line chart of the trend in average revenue for the years we have left in the data\n",
    "\n",
    "Then, try to change the code above and below to llok at other interesting variables over time"
   ]
  },
  {
   "cell_type": "code",
   "execution_count": null,
   "metadata": {
    "scrolled": false
   },
   "outputs": [],
   "source": [
    "sns.relplot(data=df_year_gross, x='title_year', y='mean_gross', kind='line')"
   ]
  },
  {
   "cell_type": "markdown",
   "metadata": {},
   "source": [
    "## Feature engineering\n",
    "\n",
    "Creating new features very much depends on the questions we want to ask regarding the movies in this dataset. Let's say we're investigating the likes on Facebook for the movie, its cast, and its director. Here are a few examples of features we can engineer.\n",
    "\n",
    "- If we want to say something regarding the total Facebook exposure of the movie, we can sum the three Facebook-like variables\n",
    "- If we want to ask whether a movie is more or less popular than its director, we can compute the ratio of the movie Facebook likes to the director's Facebook likes. What is another feature you'd design for such question?\n",
    "- If we believe the number of likes is strongly related to the popularity of Facebook in the year in which the movie came out, we can design an indicator variable for years>2010 (when Facebook had over 500,000,000 users). What would be another feature you may use here?\n",
    "- It is possible the movie or director has no fan page on Facebook, so the number of likes would be 0. Perhaps we need an indicator for 0 likes for each such variable.\n",
    "\n",
    "Try to create these, and other possibly interesting, features."
   ]
  },
  {
   "cell_type": "code",
   "execution_count": null,
   "metadata": {},
   "outputs": [],
   "source": []
  }
 ],
 "metadata": {
  "colab": {
   "name": "world happiness.ipynb",
   "provenance": [],
   "version": "0.3.2"
  },
  "kernelspec": {
   "display_name": "Python 3 (ipykernel)",
   "language": "python",
   "name": "python3"
  },
  "language_info": {
   "codemirror_mode": {
    "name": "ipython",
    "version": 3
   },
   "file_extension": ".py",
   "mimetype": "text/x-python",
   "name": "python",
   "nbconvert_exporter": "python",
   "pygments_lexer": "ipython3",
   "version": "3.9.16"
  }
 },
 "nbformat": 4,
 "nbformat_minor": 1
}
