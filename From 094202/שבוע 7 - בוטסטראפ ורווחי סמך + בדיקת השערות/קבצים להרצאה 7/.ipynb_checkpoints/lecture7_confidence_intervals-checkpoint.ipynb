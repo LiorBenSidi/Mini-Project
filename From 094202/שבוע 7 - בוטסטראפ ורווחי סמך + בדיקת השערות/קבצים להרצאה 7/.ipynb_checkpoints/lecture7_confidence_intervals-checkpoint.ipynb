{
 "cells": [
  {
   "cell_type": "markdown",
   "metadata": {},
   "source": [
    "# Estimation, Bootstrapping, and Confidence Intervals"
   ]
  },
  {
   "cell_type": "code",
   "execution_count": 1,
   "metadata": {},
   "outputs": [],
   "source": [
    "import pandas as pd\n",
    "import seaborn as sns\n",
    "import numpy as np\n",
    "import matplotlib.pyplot as plt\n",
    "\n",
    "custom_palette = sns.color_palette('viridis', 2)\n",
    "sns.set_palette(custom_palette)"
   ]
  },
  {
   "cell_type": "markdown",
   "metadata": {},
   "source": [
    "## Estimation\n",
    "How can we estimate an unknown parameter?\n",
    "Remember that a parameter is a numerical value associated with a population. To figure out the value of a parameter, we need data. If we have the relevant data for the entire population, we can simply calculate the parameter. But usually, we only have access to a sample of the population. \n",
    "\n",
    "This leads to a question of inference: How to make justifiable conclusions about the unknown parameter, based on the data in the random sample? \n",
    "\n",
    "#### Percentiles\n",
    "In the following methods, we will use percentiles. \n",
    "\n",
    "Numerical data can be sorted in increasing or decreasing order. Thus the values of a numerical data set have a rank order. A percentile is the value at a particular rank.\n",
    "\n",
    "For example, if your score on a test is on the 95th percentile, a common interpretation is that only 5% of the scores were higher than yours. The median is the 50th percentile; it is commonly assumed that 50% the values in a data set are above the median.\n",
    "\n",
    "We can compute percentiles using numpy percentile method or the pandas quantile method. \n",
    "\n",
    "Note that we need to accurately define percentiles to account for ties (equal values) in the data. \n",
    "We can define this using the \"interpolation\" parameter of the percentile/quantile methods. \n",
    "\n",
    "In this course, we will use the following definition:\n",
    "\n",
    "Let  $p$   be a number between 0 and 100. The $p$th percentile of a collection is the smallest value in the collection that is at least as large as $p$% of all the values. \n",
    "\n",
    "To do this, use \"method='higher'\" in numpy or \"interpolation='higher'\" in pandas. Note that these are *not* the default options."
   ]
  },
  {
   "cell_type": "code",
   "execution_count": 2,
   "metadata": {},
   "outputs": [
    {
     "name": "stdout",
     "output_type": "stream",
     "text": [
      "92\n",
      "92.0\n",
      "96.0\n",
      "97\n"
     ]
    }
   ],
   "source": [
    "test_scores = np.array([100, 92, 97, 83, 67])\n",
    "print(np.percentile(test_scores, 50, method='higher'))\n",
    "\n",
    "df = pd.DataFrame({'test_scores': test_scores})\n",
    "print(df.test_scores.quantile(0.5))\n",
    "\n",
    "print(np.percentile(test_scores, 70)) # default interpolation\n",
    "print(np.percentile(test_scores, 70, method='higher')) # our interpolation\n",
    "\n",
    "# print(df.test_scores.quantile(0.7)) # default interpolation\n",
    "# print(df.test_scores.quantile(0.7, interpolation='higher')) # our interpolation"
   ]
  },
  {
   "cell_type": "markdown",
   "metadata": {},
   "source": [
    "### The bootstrap method\n",
    "Assume we have a random sample from a population and we want to estimate an unknown parameter. We could use the sample to calculate the value of a statistic and use that as our estimate. \n",
    "\n",
    "However, we know that our random sample is just one of many possible random samples, and thus our estimate is just one of many plausible estimates.\n",
    "\n",
    "By how much could those estimates vary? To answer this, it appears we need to draw another sample from the population, and compute a new estimate based on the new sample. But what if we don't have the resources to get another sample?\n",
    "\n",
    "To address this problem, we will use a clever idea called the bootstrap, which is a clever way to generate new random samples by a method called resampling: the new samples are drawn at random from the original sample.\n"
   ]
  },
  {
   "cell_type": "markdown",
   "metadata": {},
   "source": [
    "#### Example: disabilities expanditures\n",
    "We will use data on disabilities expenditures in California. \n",
    "\n",
    "We would like to estimate the median expenditure on people with disabilities. "
   ]
  },
  {
   "cell_type": "code",
   "execution_count": 3,
   "metadata": {},
   "outputs": [
    {
     "data": {
      "text/html": [
       "<div>\n",
       "<style scoped>\n",
       "    .dataframe tbody tr th:only-of-type {\n",
       "        vertical-align: middle;\n",
       "    }\n",
       "\n",
       "    .dataframe tbody tr th {\n",
       "        vertical-align: top;\n",
       "    }\n",
       "\n",
       "    .dataframe thead th {\n",
       "        text-align: right;\n",
       "    }\n",
       "</style>\n",
       "<table border=\"1\" class=\"dataframe\">\n",
       "  <thead>\n",
       "    <tr style=\"text-align: right;\">\n",
       "      <th></th>\n",
       "      <th>Id</th>\n",
       "      <th>Age Cohort</th>\n",
       "      <th>Age</th>\n",
       "      <th>Gender</th>\n",
       "      <th>Expenditures</th>\n",
       "      <th>Ethnicity</th>\n",
       "    </tr>\n",
       "  </thead>\n",
       "  <tbody>\n",
       "    <tr>\n",
       "      <th>0</th>\n",
       "      <td>10210</td>\n",
       "      <td>13--17</td>\n",
       "      <td>17</td>\n",
       "      <td>Female</td>\n",
       "      <td>2113</td>\n",
       "      <td>White not Hispanic</td>\n",
       "    </tr>\n",
       "    <tr>\n",
       "      <th>1</th>\n",
       "      <td>10409</td>\n",
       "      <td>22--50</td>\n",
       "      <td>37</td>\n",
       "      <td>Male</td>\n",
       "      <td>41924</td>\n",
       "      <td>White not Hispanic</td>\n",
       "    </tr>\n",
       "    <tr>\n",
       "      <th>2</th>\n",
       "      <td>10486</td>\n",
       "      <td>0--5</td>\n",
       "      <td>3</td>\n",
       "      <td>Male</td>\n",
       "      <td>1454</td>\n",
       "      <td>Hispanic</td>\n",
       "    </tr>\n",
       "    <tr>\n",
       "      <th>3</th>\n",
       "      <td>10538</td>\n",
       "      <td>18--21</td>\n",
       "      <td>19</td>\n",
       "      <td>Female</td>\n",
       "      <td>6400</td>\n",
       "      <td>Hispanic</td>\n",
       "    </tr>\n",
       "    <tr>\n",
       "      <th>4</th>\n",
       "      <td>10568</td>\n",
       "      <td>13--17</td>\n",
       "      <td>13</td>\n",
       "      <td>Male</td>\n",
       "      <td>4412</td>\n",
       "      <td>White not Hispanic</td>\n",
       "    </tr>\n",
       "    <tr>\n",
       "      <th>...</th>\n",
       "      <td>...</td>\n",
       "      <td>...</td>\n",
       "      <td>...</td>\n",
       "      <td>...</td>\n",
       "      <td>...</td>\n",
       "      <td>...</td>\n",
       "    </tr>\n",
       "    <tr>\n",
       "      <th>995</th>\n",
       "      <td>99622</td>\n",
       "      <td>51 +</td>\n",
       "      <td>86</td>\n",
       "      <td>Female</td>\n",
       "      <td>57055</td>\n",
       "      <td>White not Hispanic</td>\n",
       "    </tr>\n",
       "    <tr>\n",
       "      <th>996</th>\n",
       "      <td>99715</td>\n",
       "      <td>18--21</td>\n",
       "      <td>20</td>\n",
       "      <td>Male</td>\n",
       "      <td>7494</td>\n",
       "      <td>Hispanic</td>\n",
       "    </tr>\n",
       "    <tr>\n",
       "      <th>997</th>\n",
       "      <td>99718</td>\n",
       "      <td>13--17</td>\n",
       "      <td>17</td>\n",
       "      <td>Female</td>\n",
       "      <td>3673</td>\n",
       "      <td>Multi Race</td>\n",
       "    </tr>\n",
       "    <tr>\n",
       "      <th>998</th>\n",
       "      <td>99791</td>\n",
       "      <td>6--12</td>\n",
       "      <td>10</td>\n",
       "      <td>Male</td>\n",
       "      <td>3638</td>\n",
       "      <td>Hispanic</td>\n",
       "    </tr>\n",
       "    <tr>\n",
       "      <th>999</th>\n",
       "      <td>99898</td>\n",
       "      <td>22--50</td>\n",
       "      <td>23</td>\n",
       "      <td>Male</td>\n",
       "      <td>26702</td>\n",
       "      <td>White not Hispanic</td>\n",
       "    </tr>\n",
       "  </tbody>\n",
       "</table>\n",
       "<p>1000 rows × 6 columns</p>\n",
       "</div>"
      ],
      "text/plain": [
       "        Id Age Cohort  Age  Gender  Expenditures           Ethnicity\n",
       "0    10210     13--17   17  Female          2113  White not Hispanic\n",
       "1    10409     22--50   37    Male         41924  White not Hispanic\n",
       "2    10486       0--5    3    Male          1454            Hispanic\n",
       "3    10538     18--21   19  Female          6400            Hispanic\n",
       "4    10568     13--17   13    Male          4412  White not Hispanic\n",
       "..     ...        ...  ...     ...           ...                 ...\n",
       "995  99622       51 +   86  Female         57055  White not Hispanic\n",
       "996  99715     18--21   20    Male          7494            Hispanic\n",
       "997  99718     13--17   17  Female          3673          Multi Race\n",
       "998  99791      6--12   10    Male          3638            Hispanic\n",
       "999  99898     22--50   23    Male         26702  White not Hispanic\n",
       "\n",
       "[1000 rows x 6 columns]"
      ]
     },
     "metadata": {},
     "output_type": "display_data"
    },
    {
     "data": {
      "text/html": [
       "<div>\n",
       "<style scoped>\n",
       "    .dataframe tbody tr th:only-of-type {\n",
       "        vertical-align: middle;\n",
       "    }\n",
       "\n",
       "    .dataframe tbody tr th {\n",
       "        vertical-align: top;\n",
       "    }\n",
       "\n",
       "    .dataframe thead th {\n",
       "        text-align: right;\n",
       "    }\n",
       "</style>\n",
       "<table border=\"1\" class=\"dataframe\">\n",
       "  <thead>\n",
       "    <tr style=\"text-align: right;\">\n",
       "      <th></th>\n",
       "      <th>Id</th>\n",
       "      <th>Age</th>\n",
       "      <th>Expenditures</th>\n",
       "    </tr>\n",
       "  </thead>\n",
       "  <tbody>\n",
       "    <tr>\n",
       "      <th>count</th>\n",
       "      <td>1000.000000</td>\n",
       "      <td>1000.000000</td>\n",
       "      <td>1000.000000</td>\n",
       "    </tr>\n",
       "    <tr>\n",
       "      <th>mean</th>\n",
       "      <td>54662.846000</td>\n",
       "      <td>22.800000</td>\n",
       "      <td>18065.786000</td>\n",
       "    </tr>\n",
       "    <tr>\n",
       "      <th>std</th>\n",
       "      <td>25643.673401</td>\n",
       "      <td>18.462038</td>\n",
       "      <td>19542.830884</td>\n",
       "    </tr>\n",
       "    <tr>\n",
       "      <th>min</th>\n",
       "      <td>10210.000000</td>\n",
       "      <td>0.000000</td>\n",
       "      <td>222.000000</td>\n",
       "    </tr>\n",
       "    <tr>\n",
       "      <th>25%</th>\n",
       "      <td>31808.750000</td>\n",
       "      <td>12.000000</td>\n",
       "      <td>2898.750000</td>\n",
       "    </tr>\n",
       "    <tr>\n",
       "      <th>50%</th>\n",
       "      <td>55384.500000</td>\n",
       "      <td>18.000000</td>\n",
       "      <td>7026.000000</td>\n",
       "    </tr>\n",
       "    <tr>\n",
       "      <th>75%</th>\n",
       "      <td>76134.750000</td>\n",
       "      <td>26.000000</td>\n",
       "      <td>37712.750000</td>\n",
       "    </tr>\n",
       "    <tr>\n",
       "      <th>max</th>\n",
       "      <td>99898.000000</td>\n",
       "      <td>95.000000</td>\n",
       "      <td>75098.000000</td>\n",
       "    </tr>\n",
       "  </tbody>\n",
       "</table>\n",
       "</div>"
      ],
      "text/plain": [
       "                 Id          Age  Expenditures\n",
       "count   1000.000000  1000.000000   1000.000000\n",
       "mean   54662.846000    22.800000  18065.786000\n",
       "std    25643.673401    18.462038  19542.830884\n",
       "min    10210.000000     0.000000    222.000000\n",
       "25%    31808.750000    12.000000   2898.750000\n",
       "50%    55384.500000    18.000000   7026.000000\n",
       "75%    76134.750000    26.000000  37712.750000\n",
       "max    99898.000000    95.000000  75098.000000"
      ]
     },
     "execution_count": 3,
     "metadata": {},
     "output_type": "execute_result"
    }
   ],
   "source": [
    "disabilities_df = pd.read_csv('disabilities-expenditures-ca.csv')\n",
    "display(disabilities_df)\n",
    "disabilities_df.describe()"
   ]
  },
  {
   "cell_type": "markdown",
   "metadata": {},
   "source": [
    "This is the data on the population. Therefore, we can simply compute the median (and plot the histogram):"
   ]
  },
  {
   "cell_type": "code",
   "execution_count": 4,
   "metadata": {},
   "outputs": [
    {
     "name": "stdout",
     "output_type": "stream",
     "text": [
      "population median = 7061\n"
     ]
    },
    {
     "data": {
      "image/png": "[encoded data removed]",
      "text/plain": [
       "<Figure size 825x550 with 1 Axes>"
      ]
     },
     "metadata": {},
     "output_type": "display_data"
    }
   ],
   "source": [
    "population_median = disabilities_df['Expenditures'].quantile(0.5, interpolation='higher') \n",
    "print('population median =', population_median)\n",
    "ax=sns.displot(disabilities_df, x='Expenditures', bins=np.arange(0, 78000, 2000), height=5.5, aspect=1.5, stat='density')"
   ]
  },
  {
   "cell_type": "markdown",
   "metadata": {},
   "source": [
    "Now, let's pretend we do not have the population, but only a sample from it, size 180. Let's see how it looks like:"
   ]
  },
  {
   "cell_type": "code",
   "execution_count": 5,
   "metadata": {},
   "outputs": [
    {
     "name": "stdout",
     "output_type": "stream",
     "text": [
      "sample median =  5021\n"
     ]
    },
    {
     "data": {
      "text/plain": [
       "<seaborn.axisgrid.FacetGrid at 0x188b195e250>"
      ]
     },
     "execution_count": 5,
     "metadata": {},
     "output_type": "execute_result"
    },
    {
     "data": {
      "image/png": "[encoded data removed]",
      "text/plain": [
       "<Figure size 825x550 with 1 Axes>"
      ]
     },
     "metadata": {},
     "output_type": "display_data"
    }
   ],
   "source": [
    "disabilities_sample = disabilities_df.sample(180)\n",
    "sample_median = disabilities_sample['Expenditures'].quantile(0.5, interpolation='higher')\n",
    "print('sample median = ', sample_median)\n",
    "sns.displot(disabilities_sample, x='Expenditures', bins=np.arange(0, 78000, 2000), height=5.5, aspect=1.5, stat='density')"
   ]
  },
  {
   "cell_type": "markdown",
   "metadata": {},
   "source": [
    "So now we have one estimate of the parameter. But had the sample come out differently, the estimate would have had a different value. We would like to be able to quantify the amount by which the estimate could vary across samples. That measure of variability will help us measure how accurately we can estimate the parameter.\n",
    "\n",
    "To see how different the estimate would be if the sample had come out differently, we could just draw another sample from the population, but that would be cheating. We are trying to mimic real life, in which we won’t have all the population data at hand."
   ]
  },
  {
   "cell_type": "markdown",
   "metadata": {},
   "source": [
    "### The Bootstrap: Resampling from the sample\n",
    "\n",
    "What we have (and often have in real life) is a **large random sample** from the population. As we know, a large random sample is likely to resemble the population from which it is drawn (you can confirm this in the plots above). This observation allows us to replicate the sampling procedure by **sampling from the sample**.\n",
    "\n",
    "Here are the steps of the bootstrap method for generating another random sample that resembles the population:\n",
    "\n",
    "- Treat the original sample _as if_ it were the population.\n",
    "- Draw from the sample, at random *with replacement*, the same number of times as the original sample size.\n",
    "\n",
    "It is important to resample the same number of times as the original sample size. The reason is that the variability of an estimate depends on the size of the sample. Since our original sample consisted of 180 people, our sample median was based on 180 values. To see how different the sample could have been, we have to compare it to the median of other samples of size 180.\n",
    "\n",
    "If we drew 180 times at random _without_ replacement from our sample of size 180, we would just get the same sample back. By drawing with replacement, we create the possibility for the new samples to be different from the original, because some observations might be drawn more than once and others not at all.\n",
    "\n",
    "Why is this a good idea? By the law of averages, the distribution of the original sample is likely to resemble the population, and the distributions of all the “resamples” are likely to resemble the original sample. So the distributions of all the resamples are likely to resemble the population as well.\n",
    "\n",
    "Let's look at the distribution we get when resampling from our sample, and the median of this resampled sample:"
   ]
  },
  {
   "cell_type": "code",
   "execution_count": 6,
   "metadata": {
    "scrolled": false
   },
   "outputs": [
    {
     "name": "stdout",
     "output_type": "stream",
     "text": [
      "bootstrapped sample median = 5583\n"
     ]
    },
    {
     "data": {
      "text/plain": [
       "<seaborn.axisgrid.FacetGrid at 0x188b1842520>"
      ]
     },
     "execution_count": 6,
     "metadata": {},
     "output_type": "execute_result"
    },
    {
     "data": {
      "image/png": "[encoded data removed]",
      "text/plain": [
       "<Figure size 825x550 with 1 Axes>"
      ]
     },
     "metadata": {},
     "output_type": "display_data"
    }
   ],
   "source": [
    "bootstrap_sample = disabilities_sample.sample(180, replace=True) # notice replace = True!\n",
    "bootstrapped_median = bootstrap_sample['Expenditures'].quantile(0.5, interpolation='higher')\n",
    "print('bootstrapped sample median =', bootstrapped_median)\n",
    "sns.displot(bootstrap_sample, x='Expenditures', bins=np.arange(0, 78000, 2000), height=5.5, aspect=1.5, stat='density')"
   ]
  },
  {
   "cell_type": "code",
   "execution_count": null,
   "metadata": {},
   "outputs": [],
   "source": []
  },
  {
   "cell_type": "markdown",
   "metadata": {},
   "source": [
    "#### Bootstrap an empirical distribution of the sample median\n",
    "We can do the same exercise, resampling from our one original sample many times, and each time compute the median of this \"bootstrapped\" sample.\n",
    "\n",
    "Let us define a function bootstrap_median that takes our original sample, the name of the column containing the variable of interest, and the number of bootstrap samples we want to take, and returns an array of the corresponding resampled medians.\n",
    "\n",
    "Each time we resample and find the median, we replicate the bootstrap process. So the number of bootstrap samples will be called the number of replications."
   ]
  },
  {
   "cell_type": "code",
   "execution_count": 7,
   "metadata": {},
   "outputs": [],
   "source": [
    "def bootstrap_median(original_sample, column_name, num_replications):\n",
    "    '''This function returns an array of bootstrapped sample medians:\n",
    "    original_sample: df containing the original sample\n",
    "    column_name: name of column containing the variable of interest\n",
    "    num_replications: number of bootstrap samples to draw '''  \n",
    "    original_sample_size = original_sample.shape[0] # we need to replicate with the same sample size\n",
    "    original_sample_var_of_interest = original_sample[[column_name]] # the use of [[]] will return a df rather than series\n",
    "    bstrap_medians = np.empty(num_replications) # collection array for our estimates\n",
    "    for i in range(num_replications):\n",
    "        bootstrap_sample = original_sample_var_of_interest.sample(n=original_sample_size, replace=True) # note WITH REPLACEMENT!\n",
    "        resampled_median = bootstrap_sample.quantile(0.5, interpolation='higher')\n",
    "        bstrap_medians[i] = resampled_median\n",
    "    \n",
    "    return bstrap_medians\n",
    "\n",
    "# run the bootstrap procedure\n",
    "medians_bootstrapped = bootstrap_median(disabilities_sample, 'Expenditures', 5000)"
   ]
  },
  {
   "cell_type": "code",
   "execution_count": 8,
   "metadata": {},
   "outputs": [
    {
     "data": {
      "text/plain": [
       "<matplotlib.legend.Legend at 0x188b20dd610>"
      ]
     },
     "execution_count": 8,
     "metadata": {},
     "output_type": "execute_result"
    },
    {
     "data": {
      "image/png": "[encoded data removed]",
      "text/plain": [
       "<Figure size 825x550 with 1 Axes>"
      ]
     },
     "metadata": {},
     "output_type": "display_data"
    }
   ],
   "source": [
    "# visualize results\n",
    "ax = sns.displot(medians_bootstrapped, bins=np.arange(3500, 13000, 250),height=5.5, aspect=1.5)\n",
    "ax.set(xlabel='median in a bootstrapped sample')\n",
    "plt.scatter(population_median, 0, color='red', s=80, clip_on=False) # the true value of the parameter (unknowable)\n",
    "plt.scatter(sample_median, 0, color='green', s=80, clip_on=False) # the original value of the single estimate from the sample\n",
    "plt.legend(['True paramter value','Original estimate'])"
   ]
  },
  {
   "cell_type": "markdown",
   "metadata": {},
   "source": [
    "Do the estimates really capture the value of the parameter?\n",
    "\n",
    "#### Confidence Intervals\n",
    "\n",
    "We can use the distribution generated by this process of bootstrapping (random sampling from the sample) to give an estimate for the true value of a parameter. By generating many possible samples, we can account for chance variability in the random sample. By providing an interval of estimates instead of just one estimate, we give ourselves some wiggle room.\n",
    "\n",
    "What interval should we take from this distribution?\n",
    "One possibility is to take the entire range of the distribution, then we can be fairly confident that the true value of the parameter falls within this interval. "
   ]
  },
  {
   "cell_type": "code",
   "execution_count": 9,
   "metadata": {
    "scrolled": true
   },
   "outputs": [
    {
     "name": "stdout",
     "output_type": "stream",
     "text": [
      "min value:  3203.0\n",
      "max value:  11629.0\n"
     ]
    }
   ],
   "source": [
    "# estimate the value of the parameter by considering the range of our bootstrap distribution\n",
    "print('min value: ', np.min(medians_bootstrapped))\n",
    "print('max value: ', np.max(medians_bootstrapped))"
   ]
  },
  {
   "cell_type": "markdown",
   "metadata": {},
   "source": [
    "But maybe we want to narrow down the possible values of the parameter further? To do this, we can limit ourselves to different values of percentiles from the distribution we generated, e.g., consider the range between the first and third quartiles. "
   ]
  },
  {
   "cell_type": "code",
   "execution_count": 10,
   "metadata": {},
   "outputs": [
    {
     "name": "stdout",
     "output_type": "stream",
     "text": [
      "lower value:  4710.0\n",
      "upper value:  6669.0\n"
     ]
    }
   ],
   "source": [
    "# estimate the value of the parameter by considering the 1st and 3rd quartiles\n",
    "print('lower value: ', np.percentile(medians_bootstrapped, 25, method='higher'))\n",
    "print('upper value: ', np.percentile(medians_bootstrapped, 75, method='higher'))"
   ]
  },
  {
   "cell_type": "markdown",
   "metadata": {},
   "source": [
    "This narrowed down our estimation of the parameter further. But how confident can we be in our estimation? That is, how confident can we be that our estimated interval indeed covers the **true** value of the parameter (recall this value is unknowable)?"
   ]
  },
  {
   "cell_type": "markdown",
   "metadata": {},
   "source": [
    "#### Confidence levels\n",
    "\n",
    "There is a theoretical result (which you can learn in advances statistic classes) that shows that: if our sample is large and random, and we take a confidence interval which includes the middle $p$% of the statistic estimates from our bootstrapped distribution, then there is a probability $p$ that the confidence interval covers the **true** value of the parameter. \n",
    "\n",
    "For example, if we take the interval between the 2.5 percentile and the 97.5 percentile, that is, the middle 95% of the distribution, the probability that our estimated interval covers the true value of the parameter is 0.95. This is called a  **95% confidence interval for the parameter**, and this is the interval most commonly used. "
   ]
  },
  {
   "cell_type": "code",
   "execution_count": 11,
   "metadata": {},
   "outputs": [
    {
     "name": "stdout",
     "output_type": "stream",
     "text": [
      "lower value:  3702.0\n",
      "upper value:  10008.0\n"
     ]
    }
   ],
   "source": [
    "# 95% confidence interval for the expenditures based on our sample\n",
    "left_end = np.percentile(medians_bootstrapped, 0.5, method='higher')\n",
    "right_end =  np.percentile(medians_bootstrapped, 99.5, method='higher')\n",
    "print('lower value: ', left_end)\n",
    "print('upper value: ', right_end)"
   ]
  },
  {
   "cell_type": "markdown",
   "metadata": {},
   "source": [
    "Let's visualize the confidence interval"
   ]
  },
  {
   "cell_type": "code",
   "execution_count": 12,
   "metadata": {},
   "outputs": [
    {
     "data": {
      "text/plain": [
       "<matplotlib.legend.Legend at 0x188b22bec10>"
      ]
     },
     "execution_count": 12,
     "metadata": {},
     "output_type": "execute_result"
    },
    {
     "data": {
      "image/png": "[encoded data removed]",
      "text/plain": [
       "<Figure size 825x550 with 1 Axes>"
      ]
     },
     "metadata": {},
     "output_type": "display_data"
    }
   ],
   "source": [
    "# visualize results\n",
    "ax = sns.displot(medians_bootstrapped, bins=np.arange(3500, 13000, 250),height=5.5, aspect=1.5)\n",
    "ax.set(xlabel='median in a bootstrapped sample')\n",
    "plt.scatter(population_median, 0, color='red', s=120, clip_on=False) # the true value of the parameter (unknowable)\n",
    "plt.scatter(sample_median, 0, color='green', s=120, clip_on=False) # the original value of the single estimate from the sample\n",
    "plt.hlines(y=0, xmin=left_end, xmax=right_end, colors='orange', linestyles='solid', lw=7, clip_on=False)  # show line of values between 2.5 and 97.5 percentiles\n",
    "plt.legend(['True paramter value','Original estimate','95% CI'])\n"
   ]
  },
  {
   "cell_type": "markdown",
   "metadata": {},
   "source": [
    "Thought exercise:\n",
    "If we take a 90% confidence interval, will we get a wider or narrower estimation range compared to a 95% confidence interval? \n",
    "\n",
    "Check you answer by modifying the code above."
   ]
  },
  {
   "cell_type": "markdown",
   "metadata": {},
   "source": [
    "#### Does the true value of the parameter fall within our confidence intervals?\n",
    "\n",
    "The “middle 95%” interval of estimates captured the parameter in our example. But were we just lucky?\n",
    "\n",
    "To see how frequently the interval contains the parameter, we have to run the entire process over and over again. Specifically, we will repeat the following process 100 times:\n",
    "1. Draw an original sample of size 180 from the population.\n",
    "2. Carry out 5,000 replications of the bootstrap process and generate the “middle 95%” interval of resampled medians.\n",
    "\n",
    "We will end up with 100 intervals, and count how many of them contain the population median (which we know only because we just pretend not to know it).\n",
    "\n",
    "Spoiler alert: The statistical theory of the bootstrap says that the number should be around 95. It may be in the low 90s or high 90s, but not much farther off 95 than that."
   ]
  },
  {
   "cell_type": "code",
   "execution_count": 13,
   "metadata": {},
   "outputs": [
    {
     "name": "stdout",
     "output_type": "stream",
     "text": [
      "in 97 of 100 runs of the bootstrap process, the population median was inside the interval\n"
     ]
    }
   ],
   "source": [
    "# BIG simulation, may take a few minutes\n",
    "\n",
    "left_ends = []\n",
    "right_ends = []\n",
    "median_in_interval = []\n",
    "for i in range(100):\n",
    "    disabilities_sample = disabilities_df.sample(180, replace=False) # note: here, sampling from the population\n",
    "    medians = bootstrap_median(disabilities_sample, 'Expenditures', 5000) # then using the bootstrap method to get confidence interval\n",
    "    left = np.percentile(medians, 2.5, method='higher')\n",
    "    left_ends.append(left)\n",
    "    right = np.percentile(medians, 97.5, method='higher')\n",
    "    right_ends.append(right)\n",
    "    median_in_interval.append((population_median < right) and (population_median > left))\n",
    "    \n",
    "print('in', np.count_nonzero(median_in_interval), 'of 100 runs of the bootstrap process, the population median was inside the interval')"
   ]
  },
  {
   "cell_type": "code",
   "execution_count": 14,
   "metadata": {
    "scrolled": false
   },
   "outputs": [
    {
     "data": {
      "image/png": "[encoded data removed]",
      "text/plain": [
       "<Figure size 700x1000 with 1 Axes>"
      ]
     },
     "metadata": {},
     "output_type": "display_data"
    }
   ],
   "source": [
    "# visualize\n",
    "\n",
    "fig = plt.figure(figsize=(7,10))\n",
    "ax = plt.axes()\n",
    "for i in np.arange(100):\n",
    "    plt.hlines(i+1, left_ends[i], right_ends[i], colors='orange', linestyles='solid')\n",
    "\n",
    "plt.vlines(population_median, ymin=0, ymax=i+1, colors='red') # marks the population median\n",
    "ax.set(xlabel='median', ylabel='replication', title='Intervals of estimates');"
   ]
  },
  {
   "cell_type": "markdown",
   "metadata": {},
   "source": [
    "In the previous example we saw that our process of estimation produced a good interval about 95% of the time, a “good” interval being one that contains the parameter. We say that we are 95% confident that the process results in a good interval. Our interval of estimates is called a *95% confidence interval for the parameter*, and 95% is called the *confidence level* of the interval.\n",
    "\n",
    "The situation in the previous example was a bit unusual. Because we happened to know value of the parameter, we were able to check whether an interval was good or a dud, and this in turn helped us to see that our process of estimation captured the parameter about 95 out of every 100 times we used it.\n",
    "\n",
    "But usually, data scientists don’t know the value of the parameter. That is the reason they want to estimate it in the first place. In such situations, they provide an interval of estimates for the unknown parameter by using methods like the one we have developed. Because of statistical theory and demonstrations like the one we have seen, data scientists can be confident that their process of generating the interval results in a good interval a known percent of the time."
   ]
  },
  {
   "cell_type": "markdown",
   "metadata": {},
   "source": [
    "### Confidence interval for a population mean\n",
    "\n",
    "In this example, we will use the movie dataset from previous lectures. Note that this dataset only contains a **sample** of movies.\n",
    "\n",
    "We would like to estimate the mean gross income of movies."
   ]
  },
  {
   "cell_type": "code",
   "execution_count": 15,
   "metadata": {},
   "outputs": [
    {
     "data": {
      "text/html": [
       "<div>\n",
       "<style scoped>\n",
       "    .dataframe tbody tr th:only-of-type {\n",
       "        vertical-align: middle;\n",
       "    }\n",
       "\n",
       "    .dataframe tbody tr th {\n",
       "        vertical-align: top;\n",
       "    }\n",
       "\n",
       "    .dataframe thead th {\n",
       "        text-align: right;\n",
       "    }\n",
       "</style>\n",
       "<table border=\"1\" class=\"dataframe\">\n",
       "  <thead>\n",
       "    <tr style=\"text-align: right;\">\n",
       "      <th></th>\n",
       "      <th>duration</th>\n",
       "      <th>director_facebook_likes</th>\n",
       "      <th>gross</th>\n",
       "      <th>num_voted_users</th>\n",
       "      <th>cast_total_facebook_likes</th>\n",
       "      <th>budget</th>\n",
       "      <th>title_year</th>\n",
       "      <th>imdb_score</th>\n",
       "      <th>movie_facebook_likes</th>\n",
       "    </tr>\n",
       "  </thead>\n",
       "  <tbody>\n",
       "    <tr>\n",
       "      <th>count</th>\n",
       "      <td>3881.000000</td>\n",
       "      <td>3882.000000</td>\n",
       "      <td>3.882000e+03</td>\n",
       "      <td>3.882000e+03</td>\n",
       "      <td>3882.000000</td>\n",
       "      <td>3.882000e+03</td>\n",
       "      <td>3882.000000</td>\n",
       "      <td>3882.000000</td>\n",
       "      <td>3882.000000</td>\n",
       "    </tr>\n",
       "    <tr>\n",
       "      <th>mean</th>\n",
       "      <td>109.886369</td>\n",
       "      <td>781.218444</td>\n",
       "      <td>5.114833e+07</td>\n",
       "      <td>1.026713e+05</td>\n",
       "      <td>11281.888717</td>\n",
       "      <td>3.872725e+07</td>\n",
       "      <td>2003.082174</td>\n",
       "      <td>6.462107</td>\n",
       "      <td>9149.570582</td>\n",
       "    </tr>\n",
       "    <tr>\n",
       "      <th>std</th>\n",
       "      <td>22.724192</td>\n",
       "      <td>3019.868885</td>\n",
       "      <td>6.984633e+07</td>\n",
       "      <td>1.508444e+05</td>\n",
       "      <td>18941.023800</td>\n",
       "      <td>4.792372e+07</td>\n",
       "      <td>10.007686</td>\n",
       "      <td>1.056180</td>\n",
       "      <td>21324.775147</td>\n",
       "    </tr>\n",
       "    <tr>\n",
       "      <th>min</th>\n",
       "      <td>34.000000</td>\n",
       "      <td>0.000000</td>\n",
       "      <td>1.620000e+02</td>\n",
       "      <td>5.000000e+00</td>\n",
       "      <td>0.000000</td>\n",
       "      <td>2.180000e+02</td>\n",
       "      <td>1920.000000</td>\n",
       "      <td>1.600000</td>\n",
       "      <td>0.000000</td>\n",
       "    </tr>\n",
       "    <tr>\n",
       "      <th>25%</th>\n",
       "      <td>95.000000</td>\n",
       "      <td>10.000000</td>\n",
       "      <td>6.855627e+06</td>\n",
       "      <td>1.732350e+04</td>\n",
       "      <td>1825.500000</td>\n",
       "      <td>1.000000e+07</td>\n",
       "      <td>1999.000000</td>\n",
       "      <td>5.900000</td>\n",
       "      <td>0.000000</td>\n",
       "    </tr>\n",
       "    <tr>\n",
       "      <th>50%</th>\n",
       "      <td>106.000000</td>\n",
       "      <td>58.000000</td>\n",
       "      <td>2.805488e+07</td>\n",
       "      <td>5.040200e+04</td>\n",
       "      <td>3896.500000</td>\n",
       "      <td>2.400000e+07</td>\n",
       "      <td>2005.000000</td>\n",
       "      <td>6.600000</td>\n",
       "      <td>207.500000</td>\n",
       "    </tr>\n",
       "    <tr>\n",
       "      <th>75%</th>\n",
       "      <td>120.000000</td>\n",
       "      <td>225.000000</td>\n",
       "      <td>6.548808e+07</td>\n",
       "      <td>1.242370e+05</td>\n",
       "      <td>16006.250000</td>\n",
       "      <td>5.000000e+07</td>\n",
       "      <td>2010.000000</td>\n",
       "      <td>7.200000</td>\n",
       "      <td>11000.000000</td>\n",
       "    </tr>\n",
       "    <tr>\n",
       "      <th>max</th>\n",
       "      <td>330.000000</td>\n",
       "      <td>23000.000000</td>\n",
       "      <td>7.605058e+08</td>\n",
       "      <td>1.689764e+06</td>\n",
       "      <td>656730.000000</td>\n",
       "      <td>7.000000e+08</td>\n",
       "      <td>2016.000000</td>\n",
       "      <td>9.300000</td>\n",
       "      <td>349000.000000</td>\n",
       "    </tr>\n",
       "  </tbody>\n",
       "</table>\n",
       "</div>"
      ],
      "text/plain": [
       "          duration  director_facebook_likes         gross  num_voted_users  \\\n",
       "count  3881.000000              3882.000000  3.882000e+03     3.882000e+03   \n",
       "mean    109.886369               781.218444  5.114833e+07     1.026713e+05   \n",
       "std      22.724192              3019.868885  6.984633e+07     1.508444e+05   \n",
       "min      34.000000                 0.000000  1.620000e+02     5.000000e+00   \n",
       "25%      95.000000                10.000000  6.855627e+06     1.732350e+04   \n",
       "50%     106.000000                58.000000  2.805488e+07     5.040200e+04   \n",
       "75%     120.000000               225.000000  6.548808e+07     1.242370e+05   \n",
       "max     330.000000             23000.000000  7.605058e+08     1.689764e+06   \n",
       "\n",
       "       cast_total_facebook_likes        budget   title_year   imdb_score  \\\n",
       "count                3882.000000  3.882000e+03  3882.000000  3882.000000   \n",
       "mean                11281.888717  3.872725e+07  2003.082174     6.462107   \n",
       "std                 18941.023800  4.792372e+07    10.007686     1.056180   \n",
       "min                     0.000000  2.180000e+02  1920.000000     1.600000   \n",
       "25%                  1825.500000  1.000000e+07  1999.000000     5.900000   \n",
       "50%                  3896.500000  2.400000e+07  2005.000000     6.600000   \n",
       "75%                 16006.250000  5.000000e+07  2010.000000     7.200000   \n",
       "max                656730.000000  7.000000e+08  2016.000000     9.300000   \n",
       "\n",
       "       movie_facebook_likes  \n",
       "count           3882.000000  \n",
       "mean            9149.570582  \n",
       "std            21324.775147  \n",
       "min                0.000000  \n",
       "25%                0.000000  \n",
       "50%              207.500000  \n",
       "75%            11000.000000  \n",
       "max           349000.000000  "
      ]
     },
     "metadata": {},
     "output_type": "display_data"
    },
    {
     "name": "stdout",
     "output_type": "stream",
     "text": [
      "3882\n"
     ]
    }
   ],
   "source": [
    "movies_df = pd.read_csv('movie_metadata.csv')\n",
    "display(movies_df.describe())\n",
    "print(movies_df.shape[0])"
   ]
  },
  {
   "cell_type": "markdown",
   "metadata": {},
   "source": [
    "Let's see what is our one single estimate for the mean gross income of movies"
   ]
  },
  {
   "cell_type": "code",
   "execution_count": 16,
   "metadata": {},
   "outputs": [
    {
     "name": "stdout",
     "output_type": "stream",
     "text": [
      "51148333.60329727\n"
     ]
    }
   ],
   "source": [
    "print(movies_df.gross.mean())"
   ]
  },
  {
   "cell_type": "markdown",
   "metadata": {},
   "source": [
    "Now, we want to compute a 95% confidence interval for the population mean, based on this one sample we have. We will again use the bootstrap. Notice that this time, we do not have access to the actual population mean and therefore we can only hope that our confidence interval will indeed cover the actual unknown value of the parameter (as we saw, this will happen in ~95% of the times)\n",
    "\n",
    "#### Exercise: \n",
    "write a bootstrap_mean method. You can reuse code from the bootstrap_median method.\n",
    "\n",
    "Use it to estimate the mean gross income from the movies data."
   ]
  },
  {
   "cell_type": "code",
   "execution_count": 17,
   "metadata": {},
   "outputs": [],
   "source": [
    "def bootstrap_mean(original_sample, column_name, num_replications):\n",
    "    '''This function returns an array of bootstrapped sample averages:\n",
    "    original_sample: df containing the original sample\n",
    "    column_name: name of column containing the variable of interest\n",
    "    num_replications: number of bootstrap samples'''\n"
   ]
  },
  {
   "cell_type": "markdown",
   "metadata": {},
   "source": [
    "Now, let's say that instead of a 95% confidence interval, we want to get the 80% confidence interval for the mean. \n",
    "- Will the interval be wider or narrower?\n",
    "- Do we need to run the bootstrap process again?\n",
    "- Do it yourself!"
   ]
  },
  {
   "cell_type": "code",
   "execution_count": 20,
   "metadata": {},
   "outputs": [
    {
     "name": "stdout",
     "output_type": "stream",
     "text": [
      "The 80% boostsrap confidence interval for population mean is [49663075.07882535, 52574454.11695003]\n"
     ]
    },
    {
     "data": {
      "image/png": "[encoded data removed]",
      "text/plain": [
       "<Figure size 500x500 with 1 Axes>"
      ]
     },
     "metadata": {},
     "output_type": "display_data"
    }
   ],
   "source": [
    "# compute and visualize a 80% confidence interval for the population mean\n",
    "\n",
    "\n",
    "\n"
   ]
  },
  {
   "cell_type": "markdown",
   "metadata": {},
   "source": [
    "#### Testing hypotheses using confidence intervals\n",
    "Confidence intervals give **an estimate to an unknown parameter** based on data in a random sample. \n",
    "\n",
    "For example, our approximate 95% confidence interval for the mean gross income of movies goes from (approx.) 49 million dollars to (approx.) 53 million dollars (the exact numbers depend of course on the stochastic bootstrap process). This means that, by our estimate, the mean gross income of movies is somewhere between 49M and 53M, and this estimation process is correct in 95% of the time (assuming our sample is large and random and thus resembles the distribution of the population of movies).\n",
    "\n",
    "Suppose someone wants to test the following hypotheses:\n",
    "\n",
    "$H_{0}$: The mean gross income of movies is 55 million dollars.<br>\n",
    "$H_{1}$: The median gross income of movies is not 55 million dollars.\n",
    "\n",
    "Then, if you were using the 5% cutoff for the _p_-value, you would reject the null hypothesis. This is because 55M is not in the 95% confidence interval for the population mean. At the 5% level of significance, 55M is not a plausible value for the population mean.\n",
    "\n",
    "This use of confidence intervals is the result of a duality between confidence intervals and tests: if you are testing whether or not the population mean is a particular value x, and you use the 5% cutoff for the *p*-value, then you will reject the null hypothesis if x is **not** in your 95% confidence interval for the mean.\n",
    "\n",
    "This can be established by statistical theory. In practice, it just boils down to checking whether or not the value specified in the null hypothesis lies inside the confidence interval.\n",
    "\n",
    "If you were using the 1% cutoff for the P-value, you would have to check if the value specified in the null hypothesis lies in a 99% confidence interval for the population mean."
   ]
  },
  {
   "cell_type": "markdown",
   "metadata": {},
   "source": [
    "### Comparison of groups\n",
    "\n",
    "So far we only tested hypotheses regarding a single random sample. Often, we would like to compare two random samples to one another. Specifically, we may be interested in knowing if a certain value associated with each of two random samples is the same or are the samples different with respect to that value (this is also sometimes called A/B testing).\n",
    "\n",
    "As an example, let's check whether there is a difference in the gross income of drama and comedy movies. \n"
   ]
  },
  {
   "cell_type": "code",
   "execution_count": 21,
   "metadata": {},
   "outputs": [
    {
     "data": {
      "text/html": [
       "<div>\n",
       "<style scoped>\n",
       "    .dataframe tbody tr th:only-of-type {\n",
       "        vertical-align: middle;\n",
       "    }\n",
       "\n",
       "    .dataframe tbody tr th {\n",
       "        vertical-align: top;\n",
       "    }\n",
       "\n",
       "    .dataframe thead th {\n",
       "        text-align: right;\n",
       "    }\n",
       "</style>\n",
       "<table border=\"1\" class=\"dataframe\">\n",
       "  <thead>\n",
       "    <tr style=\"text-align: right;\">\n",
       "      <th></th>\n",
       "      <th>color</th>\n",
       "      <th>director_name</th>\n",
       "      <th>duration</th>\n",
       "      <th>director_facebook_likes</th>\n",
       "      <th>gross</th>\n",
       "      <th>genres</th>\n",
       "      <th>movie_title</th>\n",
       "      <th>num_voted_users</th>\n",
       "      <th>cast_total_facebook_likes</th>\n",
       "      <th>budget</th>\n",
       "      <th>title_year</th>\n",
       "      <th>imdb_score</th>\n",
       "      <th>movie_facebook_likes</th>\n",
       "    </tr>\n",
       "  </thead>\n",
       "  <tbody>\n",
       "    <tr>\n",
       "      <th>25</th>\n",
       "      <td>Color</td>\n",
       "      <td>James Cameron</td>\n",
       "      <td>194.0</td>\n",
       "      <td>0</td>\n",
       "      <td>658672302</td>\n",
       "      <td>Drama</td>\n",
       "      <td>Titanic</td>\n",
       "      <td>793059</td>\n",
       "      <td>45223</td>\n",
       "      <td>200000000</td>\n",
       "      <td>1997</td>\n",
       "      <td>7.7</td>\n",
       "      <td>26000</td>\n",
       "    </tr>\n",
       "    <tr>\n",
       "      <th>49</th>\n",
       "      <td>Color</td>\n",
       "      <td>Baz Luhrmann</td>\n",
       "      <td>143.0</td>\n",
       "      <td>1000</td>\n",
       "      <td>144812796</td>\n",
       "      <td>Drama</td>\n",
       "      <td>The Great Gatsby</td>\n",
       "      <td>362912</td>\n",
       "      <td>29770</td>\n",
       "      <td>105000000</td>\n",
       "      <td>2013</td>\n",
       "      <td>7.3</td>\n",
       "      <td>115000</td>\n",
       "    </tr>\n",
       "    <tr>\n",
       "      <th>72</th>\n",
       "      <td>Color</td>\n",
       "      <td>Tom Shadyac</td>\n",
       "      <td>96.0</td>\n",
       "      <td>293</td>\n",
       "      <td>100289690</td>\n",
       "      <td>Comedy</td>\n",
       "      <td>Evan Almighty</td>\n",
       "      <td>115099</td>\n",
       "      <td>108016</td>\n",
       "      <td>175000000</td>\n",
       "      <td>2007</td>\n",
       "      <td>5.4</td>\n",
       "      <td>2000</td>\n",
       "    </tr>\n",
       "    <tr>\n",
       "      <th>97</th>\n",
       "      <td>Color</td>\n",
       "      <td>David Fincher</td>\n",
       "      <td>166.0</td>\n",
       "      <td>21000</td>\n",
       "      <td>127490802</td>\n",
       "      <td>Drama</td>\n",
       "      <td>The Curious Case of Benjamin Button</td>\n",
       "      <td>459346</td>\n",
       "      <td>13333</td>\n",
       "      <td>150000000</td>\n",
       "      <td>2008</td>\n",
       "      <td>7.8</td>\n",
       "      <td>23000</td>\n",
       "    </tr>\n",
       "    <tr>\n",
       "      <th>113</th>\n",
       "      <td>Color</td>\n",
       "      <td>Francis Lawrence</td>\n",
       "      <td>104.0</td>\n",
       "      <td>508</td>\n",
       "      <td>256386216</td>\n",
       "      <td>Drama</td>\n",
       "      <td>I Am Legend</td>\n",
       "      <td>530870</td>\n",
       "      <td>13076</td>\n",
       "      <td>150000000</td>\n",
       "      <td>2007</td>\n",
       "      <td>7.2</td>\n",
       "      <td>11000</td>\n",
       "    </tr>\n",
       "  </tbody>\n",
       "</table>\n",
       "</div>"
      ],
      "text/plain": [
       "     color     director_name  duration  director_facebook_likes      gross  \\\n",
       "25   Color     James Cameron     194.0                        0  658672302   \n",
       "49   Color      Baz Luhrmann     143.0                     1000  144812796   \n",
       "72   Color       Tom Shadyac      96.0                      293  100289690   \n",
       "97   Color     David Fincher     166.0                    21000  127490802   \n",
       "113  Color  Francis Lawrence     104.0                      508  256386216   \n",
       "\n",
       "     genres                           movie_title  num_voted_users  \\\n",
       "25    Drama                              Titanic            793059   \n",
       "49    Drama                     The Great Gatsby            362912   \n",
       "72   Comedy                        Evan Almighty            115099   \n",
       "97    Drama  The Curious Case of Benjamin Button            459346   \n",
       "113   Drama                          I Am Legend            530870   \n",
       "\n",
       "     cast_total_facebook_likes     budget  title_year  imdb_score  \\\n",
       "25                       45223  200000000        1997         7.7   \n",
       "49                       29770  105000000        2013         7.3   \n",
       "72                      108016  175000000        2007         5.4   \n",
       "97                       13333  150000000        2008         7.8   \n",
       "113                      13076  150000000        2007         7.2   \n",
       "\n",
       "     movie_facebook_likes  \n",
       "25                  26000  \n",
       "49                 115000  \n",
       "72                   2000  \n",
       "97                  23000  \n",
       "113                 11000  "
      ]
     },
     "execution_count": 21,
     "metadata": {},
     "output_type": "execute_result"
    }
   ],
   "source": [
    "# create a dataframe of comedy and drama movies\n",
    "drama_comedy_df = movies_df[(movies_df['genres'] == 'Drama') | (movies_df['genres'] == 'Comedy')]\n",
    "drama_comedy_df.head()"
   ]
  },
  {
   "cell_type": "markdown",
   "metadata": {},
   "source": [
    "First, let's visualize the means of these two groups:"
   ]
  },
  {
   "cell_type": "code",
   "execution_count": 22,
   "metadata": {},
   "outputs": [
    {
     "data": {
      "text/plain": [
       "<seaborn.axisgrid.FacetGrid at 0x188b2d76280>"
      ]
     },
     "execution_count": 22,
     "metadata": {},
     "output_type": "execute_result"
    },
    {
     "data": {
      "image/png": "[encoded data removed]",
      "text/plain": [
       "<Figure size 500x500 with 1 Axes>"
      ]
     },
     "metadata": {},
     "output_type": "display_data"
    }
   ],
   "source": [
    "sns.catplot(data=drama_comedy_df, x='genres', y='gross', kind='bar')"
   ]
  },
  {
   "cell_type": "markdown",
   "metadata": {},
   "source": [
    "So, there is a difference in the averages between the two genres in the sample, but is this difference just due to chance, or is it evidence of a more systamatic difference in the means of the population?\n",
    "\n",
    "First, let's formulate our hypotheses:\n",
    "\n",
    "$H_{0}$: The mean gross income of drama movies is equal to the mean gross income of comedy movies<br>\n",
    "$H_{1}$: The mean gross income of drama movies is **not** equal to the mean gross income of comedy movies\n",
    "\n",
    "(question: why did we formulate the hypotheses this way and not the other way around?)\n",
    "\n",
    "We can use the same process of hypothesis testing through confidence intervals to do this. \n",
    "\n",
    "To test the hypothesis, we can construct a confidence interval for the **difference between the means** of gross income of drama and comedy movies. That is, the parameter we are interested is the **difference between the means** of drama and comedy movies in the entire population. <br>\n",
    "We only have a sample of movies, from which we can construct a confidence interval to estimate the difference in means, with high probability. \n",
    "\n",
    "*Thought exercise:* What values of the confidence interval will cause us to reject the null hypothesis?"
   ]
  },
  {
   "cell_type": "code",
   "execution_count": 23,
   "metadata": {},
   "outputs": [],
   "source": [
    "# function that returns the difference in averages\n",
    "def diff_of_avgs(df, column_name, grouping_var):\n",
    "    grpby_var = df.groupby(grouping_var)\n",
    "    avgs = grpby_var[column_name].mean()\n",
    "#     return avgs.loc['Drama'] - avgs.loc['Comedy']  \n",
    "    return avgs[1] - avgs[0]\n",
    "\n",
    "def bootstrap_mean_difference(original_sample, column_name, grouping_var, num_replications):\n",
    "    '''This function returns an array of bootstrapped differences between two sample averages:\n",
    "      original_sample: df containing the original sample\n",
    "      column_name: name of column containing the variable to average\n",
    "      grouping_var: name of variable according to which to group\n",
    "      num_replications: number of bootstrap samples'''\n",
    "    original_sample_size = original_sample.shape[0] # we need to replicate with the same sample size\n",
    "    original_sample_cols_of_interest = original_sample[[column_name, grouping_var]]\n",
    "    bstrap_mean_diffs = np.empty(num_replications)\n",
    "    for i in range(num_replications):\n",
    "        bootstrap_sample = original_sample_cols_of_interest.sample(original_sample_size, replace=True) # note WITH REPLACEMENT!\n",
    "        resampled_mean_diff = diff_of_avgs(bootstrap_sample, column_name, grouping_var)\n",
    "        bstrap_mean_diffs[i] = resampled_mean_diff\n",
    "    \n",
    "    return bstrap_mean_diffs"
   ]
  },
  {
   "cell_type": "code",
   "execution_count": 24,
   "metadata": {},
   "outputs": [
    {
     "name": "stdout",
     "output_type": "stream",
     "text": [
      "The 95% boostsrap confidence interval for difference between population means [-11113552.90284403, -2374865.042495597]\n"
     ]
    },
    {
     "data": {
      "image/png": "[encoded data removed]",
      "text/plain": [
       "<Figure size 500x500 with 1 Axes>"
      ]
     },
     "metadata": {},
     "output_type": "display_data"
    }
   ],
   "source": [
    "# run the bootstrap procedure\n",
    "bstrap_diffs = bootstrap_mean_difference(drama_comedy_df, 'gross', 'genres',  5000)\n",
    "\n",
    "# Get the endpoints of the 95% confidence interval\n",
    "left_end = np.percentile(bstrap_diffs, 2.5, method='higher')\n",
    "right_end = np.percentile(bstrap_diffs, 97.5, method='higher')\n",
    "print('The 95% boostsrap confidence interval for difference between population means', [left_end,right_end])\n",
    "\n",
    "# visualize results\n",
    "ax = sns.displot(bstrap_diffs)\n",
    "plt.hlines(y=0, xmin=left_end, xmax=right_end, colors='orange', linestyles='solid', lw=7, clip_on=False);  # show line of values between 2.5 and 97.5 percentiles"
   ]
  },
  {
   "cell_type": "markdown",
   "metadata": {},
   "source": [
    "Zero is not included in the 95% CI for the difference between the means, and therefore we reject the null hypothesis and conclude at the 95% confidence level that the there is a difference between the mean gross income of comedy movies and drama movies.\n",
    "\n",
    "Note that we actually got a more useful result than just saying \"the difference is not zero\": We have an **estimate of what this difference is**.\n",
    "\n",
    "#### Another example\n",
    "We can now compare other features of the two groups we defined. For example, let's compare director_facebook_likes. \n",
    "First, visualize the difference:"
   ]
  },
  {
   "cell_type": "code",
   "execution_count": 25,
   "metadata": {},
   "outputs": [
    {
     "data": {
      "text/plain": [
       "<seaborn.axisgrid.FacetGrid at 0x188b4096f70>"
      ]
     },
     "execution_count": 25,
     "metadata": {},
     "output_type": "execute_result"
    },
    {
     "data": {
      "image/png": "[encoded data removed]",
      "text/plain": [
       "<Figure size 500x500 with 1 Axes>"
      ]
     },
     "metadata": {},
     "output_type": "display_data"
    }
   ],
   "source": [
    "sns.catplot(data=drama_comedy_df, x='genres', y='director_facebook_likes', kind=\"bar\")"
   ]
  },
  {
   "cell_type": "markdown",
   "metadata": {},
   "source": [
    "##### Exercise\n",
    "Test the hypothesis that the average number of director Facebook likes for drama movies is different than the average number of director Facebook likes for comedy movies. **Use 0.01 as significance level.**"
   ]
  }
 ],
 "metadata": {
  "kernelspec": {
   "display_name": "Python 3 (ipykernel)",
   "language": "python",
   "name": "python3"
  },
  "language_info": {
   "codemirror_mode": {
    "name": "ipython",
    "version": 3
   },
   "file_extension": ".py",
   "mimetype": "text/x-python",
   "name": "python",
   "nbconvert_exporter": "python",
   "pygments_lexer": "ipython3",
   "version": "3.9.16"
  }
 },
 "nbformat": 4,
 "nbformat_minor": 2
}
