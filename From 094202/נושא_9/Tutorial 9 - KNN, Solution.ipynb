{
 "cells": [
  {
   "cell_type": "markdown",
   "metadata": {
    "id": "49NkayX72Wpn"
   },
   "source": [
    "# <font color=red>Tutorial 10 - Classification - kNN</font>"
   ]
  },
  {
   "cell_type": "code",
   "execution_count": 1,
   "metadata": {
    "id": "celo448eH1CZ"
   },
   "outputs": [],
   "source": [
    "import numpy as np\n",
    "import pandas as pd\n",
    "import matplotlib.pyplot as plt\n",
    "import seaborn as sns\n",
    "import matplotlib.style as style\n",
    "import warnings\n",
    "warnings.filterwarnings(\"ignore\")\n",
    "custom_palette = sns.color_palette('viridis', 3)\n",
    "sns.set_palette(custom_palette)"
   ]
  },
  {
   "cell_type": "markdown",
   "metadata": {},
   "source": [
    "## The Scikit-learn Library"
   ]
  },
  {
   "cell_type": "markdown",
   "metadata": {},
   "source": [
    "Scikit-learn is a machine learning library for the Python programming language. It features various classification, regression and clustering algorithms. In this tutorial, we focus on the k Nearest Neighbors (kNN) classification algorithm."
   ]
  },
  {
   "cell_type": "markdown",
   "metadata": {
    "id": "na1bPmOFH1CZ"
   },
   "source": [
    "## The k Nearest Neighbors (kNN) Algorithm"
   ]
  },
  {
   "cell_type": "markdown",
   "metadata": {
    "id": "mfYGeELv2Wpp"
   },
   "source": [
    "The kNN algorithm is a non-parametric supervised learning method. We are given a labeled dataset consisting of training observations (x,y) and would like to capture the relationship between x and y, then use this 'knowledge' to classify a new observetion x'."
   ]
  },
  {
   "cell_type": "markdown",
   "metadata": {
    "id": "W4wZc1v6H1Ca"
   },
   "source": [
    "<img src='kNN-concept.png' width=\"500\" height=\"500\">"
   ]
  },
  {
   "cell_type": "markdown",
   "metadata": {
    "id": "UeKGYDo0H1Ca"
   },
   "source": [
    "In this tutorial we will work with the Iris dataset available in the scikit-learn library. we will train a kNN model to predict the type of iris, and then evaluate it. We will acheive this using the following steps:"
   ]
  },
  {
   "cell_type": "markdown",
   "metadata": {
    "id": "c36Ma9hjH1Cb"
   },
   "source": [
    "1. Load the Iris dataset from the Scikit-learn library\n",
    "2. Randomly split the labeled data to train and test sets.\n",
    "3. Train the model on the train set.\n",
    "4. Based on the trained model – predict the label of the test set. \n",
    "5. Evaluate our model by Comparing the prediction results with the original labeled data"
   ]
  },
  {
   "cell_type": "markdown",
   "metadata": {
    "id": "tzO_kd3YH1Cb"
   },
   "source": [
    "<img src='splitting-data.png' width=\"500\" height=\"300\">"
   ]
  },
  {
   "cell_type": "markdown",
   "metadata": {
    "id": "qNncvSWE2Wpy"
   },
   "source": [
    "### 1. Load the Iris dataset from the Scikit-learn library into Pandas Dataframe"
   ]
  },
  {
   "cell_type": "markdown",
   "metadata": {
    "id": "LVZZUksn2Wpz"
   },
   "source": [
    "The result of the following `load_iris()` method is a map-like object with four components:\n",
    "* target - 1D numpy array of target attribute value (the labels)\n",
    "* data - 2D numpy array containing the data\n",
    "* feature_names - 1D numpy array containing the feautures' names\n",
    "* DESCR - text description of the dataset<br>\n",
    "So it is easy to convert it to a pandas DataFrame:"
   ]
  },
  {
   "cell_type": "code",
   "execution_count": 2,
   "metadata": {
    "id": "W0vR3zqx2Wp1",
    "scrolled": true
   },
   "outputs": [],
   "source": [
    "from sklearn import datasets\n",
    "iris_data = datasets.load_iris()\n",
    "# print(iris_data['DESCR'])"
   ]
  },
  {
   "cell_type": "code",
   "execution_count": 3,
   "metadata": {
    "id": "rsMBr6xx2Wp_"
   },
   "outputs": [
    {
     "data": {
      "text/html": [
       "<div>\n",
       "<style scoped>\n",
       "    .dataframe tbody tr th:only-of-type {\n",
       "        vertical-align: middle;\n",
       "    }\n",
       "\n",
       "    .dataframe tbody tr th {\n",
       "        vertical-align: top;\n",
       "    }\n",
       "\n",
       "    .dataframe thead th {\n",
       "        text-align: right;\n",
       "    }\n",
       "</style>\n",
       "<table border=\"1\" class=\"dataframe\">\n",
       "  <thead>\n",
       "    <tr style=\"text-align: right;\">\n",
       "      <th></th>\n",
       "      <th>sepal length (cm)</th>\n",
       "      <th>sepal width (cm)</th>\n",
       "      <th>petal length (cm)</th>\n",
       "      <th>petal width (cm)</th>\n",
       "      <th>class</th>\n",
       "    </tr>\n",
       "  </thead>\n",
       "  <tbody>\n",
       "    <tr>\n",
       "      <th>0</th>\n",
       "      <td>5.1</td>\n",
       "      <td>3.5</td>\n",
       "      <td>1.4</td>\n",
       "      <td>0.2</td>\n",
       "      <td>0</td>\n",
       "    </tr>\n",
       "    <tr>\n",
       "      <th>1</th>\n",
       "      <td>4.9</td>\n",
       "      <td>3.0</td>\n",
       "      <td>1.4</td>\n",
       "      <td>0.2</td>\n",
       "      <td>0</td>\n",
       "    </tr>\n",
       "    <tr>\n",
       "      <th>2</th>\n",
       "      <td>4.7</td>\n",
       "      <td>3.2</td>\n",
       "      <td>1.3</td>\n",
       "      <td>0.2</td>\n",
       "      <td>0</td>\n",
       "    </tr>\n",
       "    <tr>\n",
       "      <th>3</th>\n",
       "      <td>4.6</td>\n",
       "      <td>3.1</td>\n",
       "      <td>1.5</td>\n",
       "      <td>0.2</td>\n",
       "      <td>0</td>\n",
       "    </tr>\n",
       "    <tr>\n",
       "      <th>4</th>\n",
       "      <td>5.0</td>\n",
       "      <td>3.6</td>\n",
       "      <td>1.4</td>\n",
       "      <td>0.2</td>\n",
       "      <td>0</td>\n",
       "    </tr>\n",
       "  </tbody>\n",
       "</table>\n",
       "</div>"
      ],
      "text/plain": [
       "   sepal length (cm)  sepal width (cm)  petal length (cm)  petal width (cm)  \\\n",
       "0                5.1               3.5                1.4               0.2   \n",
       "1                4.9               3.0                1.4               0.2   \n",
       "2                4.7               3.2                1.3               0.2   \n",
       "3                4.6               3.1                1.5               0.2   \n",
       "4                5.0               3.6                1.4               0.2   \n",
       "\n",
       "   class  \n",
       "0      0  \n",
       "1      0  \n",
       "2      0  \n",
       "3      0  \n",
       "4      0  "
      ]
     },
     "execution_count": 3,
     "metadata": {},
     "output_type": "execute_result"
    }
   ],
   "source": [
    "iris_df = pd.DataFrame(iris_data.data, columns=iris_data.feature_names)\n",
    "iris_df['class'] = iris_data.target\n",
    "iris_df.head()"
   ]
  },
  {
   "cell_type": "markdown",
   "metadata": {
    "id": "GmniZoR3H1Cc"
   },
   "source": [
    "<img src='iris_sepal_petal.jpg' width=\"500\" height=\"500\">"
   ]
  },
  {
   "cell_type": "markdown",
   "metadata": {
    "id": "hOotrJVNH1Cd"
   },
   "source": [
    "### Visualize the data"
   ]
  },
  {
   "cell_type": "code",
   "execution_count": 4,
   "metadata": {
    "id": "ylsRfECIH1Cd",
    "tags": []
   },
   "outputs": [
    {
     "data": {
      "image/png": "[encoded data removed]",
      "text/plain": [
       "<Figure size 1152x576 with 2 Axes>"
      ]
     },
     "metadata": {
      "needs_background": "light"
     },
     "output_type": "display_data"
    }
   ],
   "source": [
    "fig, axs = plt.subplots(1, 2)\n",
    "colors = ['red', 'orange', 'blue'] # create color map, color for each iris type\n",
    "sns.scatterplot(data=iris_df, x='sepal length (cm)', y='sepal width (cm)', hue='class', ax=axs[0])\n",
    "sns.scatterplot(data=iris_df, x='petal length (cm)', y='petal width (cm)', hue='class', ax=axs[1])\n",
    "axs[0].set_title('Sepal Length vs Sepal Width')\n",
    "axs[1].set_title('Petal Length vs Petal Width')\n",
    "fig.set_size_inches(16, 8)"
   ]
  },
  {
   "cell_type": "markdown",
   "metadata": {
    "id": "sl5qTFlB2WqO"
   },
   "source": [
    "### 2. Train Test Split"
   ]
  },
  {
   "cell_type": "markdown",
   "metadata": {
    "id": "l9qsMa3g2WqI"
   },
   "source": [
    "The next step is to split our dataset into its features and labels. The X variable contains the first four columns of the dataset (i.e. features) while y contains the labels."
   ]
  },
  {
   "cell_type": "code",
   "execution_count": 5,
   "metadata": {},
   "outputs": [
    {
     "data": {
      "text/html": [
       "<div>\n",
       "<style scoped>\n",
       "    .dataframe tbody tr th:only-of-type {\n",
       "        vertical-align: middle;\n",
       "    }\n",
       "\n",
       "    .dataframe tbody tr th {\n",
       "        vertical-align: top;\n",
       "    }\n",
       "\n",
       "    .dataframe thead th {\n",
       "        text-align: right;\n",
       "    }\n",
       "</style>\n",
       "<table border=\"1\" class=\"dataframe\">\n",
       "  <thead>\n",
       "    <tr style=\"text-align: right;\">\n",
       "      <th></th>\n",
       "      <th>sepal length (cm)</th>\n",
       "      <th>sepal width (cm)</th>\n",
       "      <th>petal length (cm)</th>\n",
       "      <th>petal width (cm)</th>\n",
       "      <th>class</th>\n",
       "    </tr>\n",
       "  </thead>\n",
       "  <tbody>\n",
       "    <tr>\n",
       "      <th>0</th>\n",
       "      <td>5.1</td>\n",
       "      <td>3.5</td>\n",
       "      <td>1.4</td>\n",
       "      <td>0.2</td>\n",
       "      <td>0</td>\n",
       "    </tr>\n",
       "    <tr>\n",
       "      <th>1</th>\n",
       "      <td>4.9</td>\n",
       "      <td>3.0</td>\n",
       "      <td>1.4</td>\n",
       "      <td>0.2</td>\n",
       "      <td>0</td>\n",
       "    </tr>\n",
       "    <tr>\n",
       "      <th>2</th>\n",
       "      <td>4.7</td>\n",
       "      <td>3.2</td>\n",
       "      <td>1.3</td>\n",
       "      <td>0.2</td>\n",
       "      <td>0</td>\n",
       "    </tr>\n",
       "    <tr>\n",
       "      <th>3</th>\n",
       "      <td>4.6</td>\n",
       "      <td>3.1</td>\n",
       "      <td>1.5</td>\n",
       "      <td>0.2</td>\n",
       "      <td>0</td>\n",
       "    </tr>\n",
       "    <tr>\n",
       "      <th>4</th>\n",
       "      <td>5.0</td>\n",
       "      <td>3.6</td>\n",
       "      <td>1.4</td>\n",
       "      <td>0.2</td>\n",
       "      <td>0</td>\n",
       "    </tr>\n",
       "  </tbody>\n",
       "</table>\n",
       "</div>"
      ],
      "text/plain": [
       "   sepal length (cm)  sepal width (cm)  petal length (cm)  petal width (cm)  \\\n",
       "0                5.1               3.5                1.4               0.2   \n",
       "1                4.9               3.0                1.4               0.2   \n",
       "2                4.7               3.2                1.3               0.2   \n",
       "3                4.6               3.1                1.5               0.2   \n",
       "4                5.0               3.6                1.4               0.2   \n",
       "\n",
       "   class  \n",
       "0      0  \n",
       "1      0  \n",
       "2      0  \n",
       "3      0  \n",
       "4      0  "
      ]
     },
     "execution_count": 5,
     "metadata": {},
     "output_type": "execute_result"
    }
   ],
   "source": [
    "iris_df.head()"
   ]
  },
  {
   "cell_type": "code",
   "execution_count": 6,
   "metadata": {
    "id": "Ep-nxfS32WqJ"
   },
   "outputs": [],
   "source": [
    "X = iris_df.iloc[:, :-1].values # features\n",
    "Y = iris_df.iloc[:, -1].values # labels"
   ]
  },
  {
   "cell_type": "markdown",
   "metadata": {
    "id": "4FwsBFTd2WqP"
   },
   "source": [
    "We will divide our dataset into train set and test set. \n",
    "\n",
    "The model will learn using the train set and will be evaluated by predicting the test set.\n",
    "\n",
    "we will use the `train_test_split()` method to split the data into train and test:"
   ]
  },
  {
   "cell_type": "code",
   "execution_count": 7,
   "metadata": {
    "id": "eGB8txZt2WqR"
   },
   "outputs": [],
   "source": [
    "from sklearn.model_selection import train_test_split\n",
    "# train_test_split?"
   ]
  },
  {
   "cell_type": "markdown",
   "metadata": {
    "id": "Y0X44MWi2WqW"
   },
   "source": [
    "The following code splits the dataset into 80% train data and 20% test data. \n",
    "\n",
    "This means that out of total 150 records, the training set will contain 120 records and the test set contains 30 of those records:"
   ]
  },
  {
   "cell_type": "code",
   "execution_count": 8,
   "metadata": {
    "id": "YymUWkAK2WqX"
   },
   "outputs": [
    {
     "name": "stdout",
     "output_type": "stream",
     "text": [
      "X train set size: (120, 4)\n",
      "X_test set size: (30, 4)\n",
      "Y_train set size: (120,)\n",
      "Y_test set size: (30,)\n"
     ]
    }
   ],
   "source": [
    "X_train, X_test, Y_train, Y_test = train_test_split(X, Y, test_size=0.20)  \n",
    "print('X train set size: ' + str(X_train.shape))\n",
    "print('X_test set size: ' + str(X_test.shape))\n",
    "print('Y_train set size: ' + str(Y_train.shape))\n",
    "print('Y_test set size: ' + str(Y_test.shape))"
   ]
  },
  {
   "cell_type": "markdown",
   "metadata": {
    "id": "cr6TSz1K2Wqf"
   },
   "source": [
    "- The train set contains 120 observations:\n",
    "    - The are 4 featues in the 'X_train' parameter.\n",
    "    - The label are in the 'Y_train' parameter. There is one column of label.\n",
    "- The test set contains 30 observations with 1 label.\n",
    "    - The are 4 featues in the 'X_test' parameter.\n",
    "    - The label are in the 'Y_test' parameter. There is one column of label."
   ]
  },
  {
   "cell_type": "markdown",
   "metadata": {
    "id": "OyfMwT9g2Wqg"
   },
   "source": [
    "### 3. Train a kNN Model"
   ]
  },
  {
   "cell_type": "markdown",
   "metadata": {
    "id": "zBlaKZHP2Wqi"
   },
   "source": [
    "* The first step is to import the KNeighborsClassifier class from the sklearn.neighbors library. \n",
    "* In the second line, this class is initialized with one parameter, i.e. n_neigbours. This is basically the value for the K. \n",
    "* There is no ideal value forkand it is selected after testing and evaluation, however to start out, 5 seems to be the most commonly used value for kNN algorithm."
   ]
  },
  {
   "cell_type": "code",
   "execution_count": 9,
   "metadata": {
    "id": "i5eubhg-2Wqj"
   },
   "outputs": [],
   "source": [
    "from sklearn.neighbors import KNeighborsClassifier\n",
    "kNN = KNeighborsClassifier(n_neighbors=5) # K=5"
   ]
  },
  {
   "cell_type": "markdown",
   "metadata": {
    "id": "3cjdSxz52Wqo"
   },
   "source": [
    "To train our model, we will use the fit() method:"
   ]
  },
  {
   "cell_type": "code",
   "execution_count": 10,
   "metadata": {
    "id": "pq0_kqQP2Wqp"
   },
   "outputs": [
    {
     "data": {
      "text/plain": [
       "KNeighborsClassifier()"
      ]
     },
     "execution_count": 10,
     "metadata": {},
     "output_type": "execute_result"
    }
   ],
   "source": [
    "kNN.fit(X_train, Y_train)"
   ]
  },
  {
   "cell_type": "markdown",
   "metadata": {},
   "source": [
    "### 4. Predict Using Our Trained kNN Model"
   ]
  },
  {
   "cell_type": "markdown",
   "metadata": {
    "id": "t4TCT3as2Wqv"
   },
   "source": [
    "The final step is to make predictions on our test data (X_test):"
   ]
  },
  {
   "cell_type": "code",
   "execution_count": 11,
   "metadata": {
    "id": "Dz5uydgO2Wqx"
   },
   "outputs": [],
   "source": [
    "Y_pred = kNN.predict(X_test)"
   ]
  },
  {
   "cell_type": "markdown",
   "metadata": {
    "id": "9QkNBQb32Wq2"
   },
   "source": [
    "For each observation in the test set the classifier predict a label. (0 or 1 or 2) \n",
    "\n",
    "So, in total there are 30 predicted values:"
   ]
  },
  {
   "cell_type": "code",
   "execution_count": 12,
   "metadata": {
    "id": "rQ41_hL82Wq4"
   },
   "outputs": [
    {
     "data": {
      "text/plain": [
       "array([1, 1, 1, 1, 0, 2, 0, 2, 1, 1, 2, 1, 1, 1, 0, 2, 2, 0, 1, 0, 2, 2,\n",
       "       2, 1, 1, 0, 1, 2, 2, 0])"
      ]
     },
     "execution_count": 12,
     "metadata": {},
     "output_type": "execute_result"
    }
   ],
   "source": [
    "Y_pred"
   ]
  },
  {
   "cell_type": "code",
   "execution_count": 13,
   "metadata": {},
   "outputs": [
    {
     "data": {
      "text/plain": [
       "array([1, 1, 1, 1, 0, 2, 0, 2, 1, 1, 1, 1, 1, 1, 0, 2, 2, 0, 1, 0, 1, 2,\n",
       "       2, 1, 1, 0, 1, 2, 2, 0])"
      ]
     },
     "execution_count": 13,
     "metadata": {},
     "output_type": "execute_result"
    }
   ],
   "source": [
    "Y_test"
   ]
  },
  {
   "cell_type": "markdown",
   "metadata": {
    "id": "8hczjpMo2Wq_"
   },
   "source": [
    "### 5. Evaluate Our kNN Model"
   ]
  },
  {
   "cell_type": "markdown",
   "metadata": {
    "id": "aByw1Y222WrA"
   },
   "source": [
    "We will evaluate our model by calculating its accuracy: dividing the number of correct predictions by the total number of samples."
   ]
  },
  {
   "cell_type": "code",
   "execution_count": 14,
   "metadata": {
    "id": "bMq2joBF2Wrf"
   },
   "outputs": [
    {
     "name": "stdout",
     "output_type": "stream",
     "text": [
      "The accuracy of the classifier is: 0.9333333333333333\n"
     ]
    }
   ],
   "source": [
    "total_observations = len(Y_test)\n",
    "total_matches = 0\n",
    "for pred_value, real_value in zip(Y_pred, Y_test):\n",
    "    if pred_value == real_value:\n",
    "        total_matches += 1\n",
    "        \n",
    "print (f\"The accuracy of the classifier is: {total_matches/total_observations}\")"
   ]
  },
  {
   "cell_type": "markdown",
   "metadata": {
    "id": "F3qAVrfz2Wsj"
   },
   "source": [
    "The built-in `score(X,Y)` method returns the **accuracy** of a classifier. It runs predict(X) and then returns the accuracy by comparing the result to the given Y."
   ]
  },
  {
   "cell_type": "code",
   "execution_count": 15,
   "metadata": {
    "id": "x1Puy-eZ2Wsn"
   },
   "outputs": [
    {
     "data": {
      "text/plain": [
       "0.9333333333333333"
      ]
     },
     "execution_count": 15,
     "metadata": {},
     "output_type": "execute_result"
    }
   ],
   "source": [
    "kNN.score(X_test, Y_test)"
   ]
  },
  {
   "cell_type": "markdown",
   "metadata": {
    "id": "_kcU6DFe2WtG"
   },
   "source": [
    "## <font color=blue>**Exercise\\FAQ**</font>"
   ]
  },
  {
   "cell_type": "markdown",
   "metadata": {
    "id": "hiSY0eRHH1Cj"
   },
   "source": [
    "1. What will happen when the kNN algorithm has to choose between two neighbors which have identical distances from the test point but different labels? <br>\n",
    "\n",
    "**Notice**: Sklearn expects to receive the features as a 2D array."
   ]
  },
  {
   "cell_type": "code",
   "execution_count": 16,
   "metadata": {
    "id": "l5cdm8JzH1Cj"
   },
   "outputs": [],
   "source": [
    "# We start defining 2 points in a 1D space: x1=10, x2=12\n",
    "X = np.array([10,12]).reshape(-1,1)  # reshape is needed to create a 2D array. \n",
    "# When providing -1 to the reshape function, the value is inferred from the length of the array and remaining dimensions.\n",
    "\n",
    "# We assign different classes to the points\n",
    "Y = np.array([0,1])"
   ]
  },
  {
   "cell_type": "code",
   "execution_count": 17,
   "metadata": {},
   "outputs": [
    {
     "name": "stdout",
     "output_type": "stream",
     "text": [
      "[0]\n"
     ]
    }
   ],
   "source": [
    "# we fit a 1-NN classifier\n",
    "kNN = KNeighborsClassifier(n_neighbors=1)\n",
    "kNN.fit(X, Y)\n",
    "\n",
    "# We try to predict a target with a value of 11 \n",
    "X_test=np.array([11]).reshape(-1,1)\n",
    "pred = kNN.predict(X_test)\n",
    "print(pred)"
   ]
  },
  {
   "cell_type": "markdown",
   "metadata": {
    "id": "56DBgzvNH1Ck"
   },
   "source": [
    "The results will depend on the ordering of the training data."
   ]
  },
  {
   "cell_type": "markdown",
   "metadata": {
    "id": "zwgpAmCkH1Ck"
   },
   "source": [
    "2. What will happen when the kNN algorithm faces a tie (i.e., there is no majority)? <br>"
   ]
  },
  {
   "cell_type": "code",
   "execution_count": 18,
   "metadata": {
    "id": "ZfjSy2d0H1Ck"
   },
   "outputs": [
    {
     "name": "stdout",
     "output_type": "stream",
     "text": [
      "[0 0]\n"
     ]
    }
   ],
   "source": [
    "# We start defining 3 points in a 1D space: x1=10, x2=11, x3=12\n",
    "X = np.array([10,11,12]).reshape(-1,1)  \n",
    "\n",
    "# We assign different classes to the points\n",
    "Y = np.array([1,0,2])\n",
    "\n",
    "# we fit a 2-NN classifier\n",
    "kNN = KNeighborsClassifier(n_neighbors=2)\n",
    "kNN.fit(X, Y)\n",
    "\n",
    "# We try to predict samples with 5 and 15 values (it will be a tie in both cases) \n",
    "X_test=np.array([5,15]).reshape(-1,1)\n",
    "pred = kNN.predict(X_test)\n",
    "print(pred)"
   ]
  },
  {
   "cell_type": "markdown",
   "metadata": {
    "id": "vcTxuYIzH1Cl"
   },
   "source": [
    "The results will depend on the lowest class' value."
   ]
  },
  {
   "cell_type": "markdown",
   "metadata": {
    "id": "Vj4tHb2LH1Cl"
   },
   "source": [
    "3. In the following example we have an 'easy' classification task. We got the following dataset in which each animal who has wings is also a bird, but it contains only 2 animals who have wings.\n",
    "- Train a kNN model on the given data with K=5\n",
    "- Test your trained model on the given 'test_sample' - it contains one animal without wings ('0'), and one with wings ('1').\n",
    "\n",
    "Is the classifier working properly? if not, explain why and suggest adjusments to make it work properly"
   ]
  },
  {
   "cell_type": "code",
   "execution_count": 19,
   "metadata": {
    "id": "o8N8pToEH1Cm"
   },
   "outputs": [
    {
     "data": {
      "text/html": [
       "<div>\n",
       "<style scoped>\n",
       "    .dataframe tbody tr th:only-of-type {\n",
       "        vertical-align: middle;\n",
       "    }\n",
       "\n",
       "    .dataframe tbody tr th {\n",
       "        vertical-align: top;\n",
       "    }\n",
       "\n",
       "    .dataframe thead th {\n",
       "        text-align: right;\n",
       "    }\n",
       "</style>\n",
       "<table border=\"1\" class=\"dataframe\">\n",
       "  <thead>\n",
       "    <tr style=\"text-align: right;\">\n",
       "      <th></th>\n",
       "      <th>has_wings</th>\n",
       "      <th>is_bird</th>\n",
       "    </tr>\n",
       "  </thead>\n",
       "  <tbody>\n",
       "    <tr>\n",
       "      <th>0</th>\n",
       "      <td>1</td>\n",
       "      <td>1</td>\n",
       "    </tr>\n",
       "    <tr>\n",
       "      <th>1</th>\n",
       "      <td>1</td>\n",
       "      <td>1</td>\n",
       "    </tr>\n",
       "    <tr>\n",
       "      <th>2</th>\n",
       "      <td>0</td>\n",
       "      <td>0</td>\n",
       "    </tr>\n",
       "    <tr>\n",
       "      <th>3</th>\n",
       "      <td>0</td>\n",
       "      <td>0</td>\n",
       "    </tr>\n",
       "    <tr>\n",
       "      <th>4</th>\n",
       "      <td>0</td>\n",
       "      <td>0</td>\n",
       "    </tr>\n",
       "  </tbody>\n",
       "</table>\n",
       "</div>"
      ],
      "text/plain": [
       "   has_wings  is_bird\n",
       "0          1        1\n",
       "1          1        1\n",
       "2          0        0\n",
       "3          0        0\n",
       "4          0        0"
      ]
     },
     "execution_count": 19,
     "metadata": {},
     "output_type": "execute_result"
    }
   ],
   "source": [
    "arr = [0] * 100\n",
    "arr[0:2] = [1, 1]\n",
    "\n",
    "df = pd.DataFrame({'has_wings': arr, 'is_bird': arr})\n",
    "df.head()"
   ]
  },
  {
   "cell_type": "code",
   "execution_count": 20,
   "metadata": {},
   "outputs": [],
   "source": [
    "X = df.loc[:, 'has_wings'].values.reshape(-1,1) # features \n",
    "Y = df.loc[:, 'is_bird'].values # label\n",
    "test_sample = np.array([0, 1]).reshape(-1, 1)"
   ]
  },
  {
   "cell_type": "code",
   "execution_count": 21,
   "metadata": {},
   "outputs": [
    {
     "data": {
      "text/plain": [
       "array([[0],\n",
       "       [1]])"
      ]
     },
     "execution_count": 21,
     "metadata": {},
     "output_type": "execute_result"
    }
   ],
   "source": [
    "test_sample"
   ]
  },
  {
   "cell_type": "code",
   "execution_count": 22,
   "metadata": {
    "id": "f-3KEHpQH1Cm"
   },
   "outputs": [
    {
     "data": {
      "text/plain": [
       "array([0, 0], dtype=int64)"
      ]
     },
     "execution_count": 22,
     "metadata": {},
     "output_type": "execute_result"
    }
   ],
   "source": [
    "kNN = KNeighborsClassifier(n_neighbors=5)\n",
    "kNN.fit(X, Y)\n",
    "kNN.predict(test_sample)"
   ]
  },
  {
   "cell_type": "markdown",
   "metadata": {
    "id": "fqEYtBwpH1Cm"
   },
   "source": [
    "Since we chose `n_neighbors=5`, zero is always the majority class (as there are only 2 ones). Therfore, it is important to choose appropriate k according to the situation."
   ]
  }
 ],
 "metadata": {
  "colab": {
   "collapsed_sections": [],
   "name": "10_KNN.ipynb",
   "provenance": []
  },
  "kernelspec": {
   "display_name": "Python 3 (ipykernel)",
   "language": "python",
   "name": "python3"
  },
  "language_info": {
   "codemirror_mode": {
    "name": "ipython",
    "version": 3
   },
   "file_extension": ".py",
   "mimetype": "text/x-python",
   "name": "python",
   "nbconvert_exporter": "python",
   "pygments_lexer": "ipython3",
   "version": "3.9.16"
  }
 },
 "nbformat": 4,
 "nbformat_minor": 4
}
