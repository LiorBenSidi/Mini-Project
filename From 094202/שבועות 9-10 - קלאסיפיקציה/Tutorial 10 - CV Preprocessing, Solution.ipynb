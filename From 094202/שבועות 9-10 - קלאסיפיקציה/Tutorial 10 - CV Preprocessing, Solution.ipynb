{
 "cells": [
  {
   "cell_type": "markdown",
   "metadata": {
    "id": "KgQi9MdUPsOm"
   },
   "source": [
    "# <font color=red>Tutorial 10 - Classification - Cross Validation and Pre-Processing </font>"
   ]
  },
  {
   "cell_type": "code",
   "execution_count": null,
   "metadata": {
    "id": "8XzgELTNPsOp"
   },
   "outputs": [],
   "source": [
    "import numpy as np\n",
    "import pandas as pd\n",
    "import matplotlib.pyplot as plt\n",
    "import seaborn as sns\n",
    "import matplotlib.style as style\n",
    "style.use('tableau-colorblind10')\n",
    "sns.set_palette(\"viridis\")"
   ]
  },
  {
   "cell_type": "markdown",
   "metadata": {
    "id": "n9n-KsTHPsOq"
   },
   "source": [
    "## K-fold Cross-validation"
   ]
  },
  {
   "cell_type": "markdown",
   "metadata": {
    "id": "yb1jFFvgPsOq"
   },
   "source": [
    "The train-test-split method we used in the last tutorial for evaluating our model is dependent on how the data is split into train and test sets. <br>\n",
    "The cross-validation method is used to overcome this problem.<br>\n",
    "The K-fold cross-validation method works as follows:\n",
    "* Randomly split the training set into k groups (folds).\n",
    "* One of the groups is used as a validation set (blue) and the rest (red) are used as a training set.\n",
    "* The process is repeated until each group was used as a validation set."
   ]
  },
  {
   "cell_type": "markdown",
   "metadata": {
    "id": "TWD0l9ocPsOr"
   },
   "source": [
    "<img src=\"cross-validation.png\" width=750 height=750>"
   ]
  },
  {
   "cell_type": "markdown",
   "metadata": {
    "id": "emBgulm9PsOr"
   },
   "source": [
    "Lets try the K-fold cross validation method using 5 folds (K=5) on our model from the last tutorial"
   ]
  },
  {
   "cell_type": "markdown",
   "metadata": {
    "id": "ER4uVoj2PsOr"
   },
   "source": [
    "### Loading iris data"
   ]
  },
  {
   "cell_type": "code",
   "execution_count": null,
   "metadata": {
    "id": "JiM5hhxNPsOr"
   },
   "outputs": [],
   "source": [
    "from sklearn import datasets\n",
    "\n",
    "iris_data = datasets.load_iris()\n",
    "X = iris_data.data\n",
    "Y = iris_data.target"
   ]
  },
  {
   "cell_type": "markdown",
   "metadata": {
    "id": "1D6WNgliPsOs"
   },
   "source": [
    "### Using cross-validation for evaluation"
   ]
  },
  {
   "cell_type": "code",
   "execution_count": null,
   "metadata": {
    "id": "PqtHbl5fPsOs",
    "outputId": "3f82910b-e0d0-4180-ec39-854fda8ecb54"
   },
   "outputs": [
    {
     "data": {
      "text/plain": [
       "array([1.        , 0.91666667, 0.91666667, 0.95833333, 1.        ])"
      ]
     },
     "execution_count": 19,
     "metadata": {},
     "output_type": "execute_result"
    }
   ],
   "source": [
    "from sklearn.neighbors import KNeighborsClassifier\n",
    "from sklearn.model_selection import train_test_split\n",
    "from sklearn.model_selection import cross_val_score\n",
    "\n",
    "# split to train and test sets\n",
    "X_train, X_test, Y_train, Y_test = train_test_split(X, Y, test_size=0.20)\n",
    "\n",
    "# Create a new kNN model\n",
    "knn_cv = KNeighborsClassifier(n_neighbors=5)\n",
    "\n",
    "# Train model using the cross-validation method using 5 groups (cv=5)\n",
    "cv_scores = cross_val_score(knn_cv, X_train, Y_train, cv=5) # (model, features, labels, k)\n",
    "cv_scores"
   ]
  },
  {
   "cell_type": "code",
   "execution_count": null,
   "metadata": {
    "id": "J0YkMJ2UPsOs",
    "outputId": "728d2b90-fad1-4032-f6c2-45fc8fb2d9ad"
   },
   "outputs": [
    {
     "name": "stdout",
     "output_type": "stream",
     "text": [
      "Mean : 0.9583333333333333, STD: 0.03726779962499651\n"
     ]
    }
   ],
   "source": [
    "print('Mean : ' + str(np.mean(cv_scores)) + ', STD: ' + str(np.std(cv_scores)))"
   ]
  },
  {
   "cell_type": "markdown",
   "metadata": {
    "id": "EPBe1eDbPsOt"
   },
   "source": [
    "## **Case Study - Titanic**"
   ]
  },
  {
   "cell_type": "markdown",
   "metadata": {
    "id": "yt1jLtWgPsOt"
   },
   "source": [
    "In the following classification task, we will use Titanic data from Seaborn. We will try to build a KNN model that predicts if a passenger survived based on the provided features."
   ]
  },
  {
   "cell_type": "code",
   "execution_count": null,
   "metadata": {
    "id": "wVd9G7sLPsOt",
    "outputId": "df25f2b6-7d2b-4758-845b-c10584c14b6d"
   },
   "outputs": [
    {
     "data": {
      "text/html": [
       "<div>\n",
       "<style scoped>\n",
       "    .dataframe tbody tr th:only-of-type {\n",
       "        vertical-align: middle;\n",
       "    }\n",
       "\n",
       "    .dataframe tbody tr th {\n",
       "        vertical-align: top;\n",
       "    }\n",
       "\n",
       "    .dataframe thead th {\n",
       "        text-align: right;\n",
       "    }\n",
       "</style>\n",
       "<table border=\"1\" class=\"dataframe\">\n",
       "  <thead>\n",
       "    <tr style=\"text-align: right;\">\n",
       "      <th></th>\n",
       "      <th>survived</th>\n",
       "      <th>pclass</th>\n",
       "      <th>sex</th>\n",
       "      <th>age</th>\n",
       "      <th>sibsp</th>\n",
       "      <th>parch</th>\n",
       "      <th>fare</th>\n",
       "      <th>embarked</th>\n",
       "      <th>class</th>\n",
       "      <th>who</th>\n",
       "      <th>adult_male</th>\n",
       "      <th>deck</th>\n",
       "      <th>embark_town</th>\n",
       "      <th>alive</th>\n",
       "      <th>alone</th>\n",
       "    </tr>\n",
       "  </thead>\n",
       "  <tbody>\n",
       "    <tr>\n",
       "      <th>0</th>\n",
       "      <td>0</td>\n",
       "      <td>3</td>\n",
       "      <td>male</td>\n",
       "      <td>22.0</td>\n",
       "      <td>1</td>\n",
       "      <td>0</td>\n",
       "      <td>7.2500</td>\n",
       "      <td>S</td>\n",
       "      <td>Third</td>\n",
       "      <td>man</td>\n",
       "      <td>True</td>\n",
       "      <td>NaN</td>\n",
       "      <td>Southampton</td>\n",
       "      <td>no</td>\n",
       "      <td>False</td>\n",
       "    </tr>\n",
       "    <tr>\n",
       "      <th>1</th>\n",
       "      <td>1</td>\n",
       "      <td>1</td>\n",
       "      <td>female</td>\n",
       "      <td>38.0</td>\n",
       "      <td>1</td>\n",
       "      <td>0</td>\n",
       "      <td>71.2833</td>\n",
       "      <td>C</td>\n",
       "      <td>First</td>\n",
       "      <td>woman</td>\n",
       "      <td>False</td>\n",
       "      <td>C</td>\n",
       "      <td>Cherbourg</td>\n",
       "      <td>yes</td>\n",
       "      <td>False</td>\n",
       "    </tr>\n",
       "    <tr>\n",
       "      <th>2</th>\n",
       "      <td>1</td>\n",
       "      <td>3</td>\n",
       "      <td>female</td>\n",
       "      <td>26.0</td>\n",
       "      <td>0</td>\n",
       "      <td>0</td>\n",
       "      <td>7.9250</td>\n",
       "      <td>S</td>\n",
       "      <td>Third</td>\n",
       "      <td>woman</td>\n",
       "      <td>False</td>\n",
       "      <td>NaN</td>\n",
       "      <td>Southampton</td>\n",
       "      <td>yes</td>\n",
       "      <td>True</td>\n",
       "    </tr>\n",
       "    <tr>\n",
       "      <th>3</th>\n",
       "      <td>1</td>\n",
       "      <td>1</td>\n",
       "      <td>female</td>\n",
       "      <td>35.0</td>\n",
       "      <td>1</td>\n",
       "      <td>0</td>\n",
       "      <td>53.1000</td>\n",
       "      <td>S</td>\n",
       "      <td>First</td>\n",
       "      <td>woman</td>\n",
       "      <td>False</td>\n",
       "      <td>C</td>\n",
       "      <td>Southampton</td>\n",
       "      <td>yes</td>\n",
       "      <td>False</td>\n",
       "    </tr>\n",
       "    <tr>\n",
       "      <th>4</th>\n",
       "      <td>0</td>\n",
       "      <td>3</td>\n",
       "      <td>male</td>\n",
       "      <td>35.0</td>\n",
       "      <td>0</td>\n",
       "      <td>0</td>\n",
       "      <td>8.0500</td>\n",
       "      <td>S</td>\n",
       "      <td>Third</td>\n",
       "      <td>man</td>\n",
       "      <td>True</td>\n",
       "      <td>NaN</td>\n",
       "      <td>Southampton</td>\n",
       "      <td>no</td>\n",
       "      <td>True</td>\n",
       "    </tr>\n",
       "  </tbody>\n",
       "</table>\n",
       "</div>"
      ],
      "text/plain": [
       "   survived  pclass     sex   age  sibsp  parch     fare embarked  class  \\\n",
       "0         0       3    male  22.0      1      0   7.2500        S  Third   \n",
       "1         1       1  female  38.0      1      0  71.2833        C  First   \n",
       "2         1       3  female  26.0      0      0   7.9250        S  Third   \n",
       "3         1       1  female  35.0      1      0  53.1000        S  First   \n",
       "4         0       3    male  35.0      0      0   8.0500        S  Third   \n",
       "\n",
       "     who  adult_male deck  embark_town alive  alone  \n",
       "0    man        True  NaN  Southampton    no  False  \n",
       "1  woman       False    C    Cherbourg   yes  False  \n",
       "2  woman       False  NaN  Southampton   yes   True  \n",
       "3  woman       False    C  Southampton   yes  False  \n",
       "4    man        True  NaN  Southampton    no   True  "
      ]
     },
     "execution_count": 21,
     "metadata": {},
     "output_type": "execute_result"
    }
   ],
   "source": [
    "original_df = sns.load_dataset(\"titanic\")\n",
    "original_df.head()"
   ]
  },
  {
   "cell_type": "markdown",
   "metadata": {
    "id": "4jvBBKilPsOt"
   },
   "source": [
    "We will use a subset of the original data:"
   ]
  },
  {
   "cell_type": "code",
   "execution_count": null,
   "metadata": {
    "id": "pfi5KkANPsOt",
    "outputId": "5a40bbc5-bf46-4fb0-dec3-3a5708ff38de"
   },
   "outputs": [
    {
     "data": {
      "text/html": [
       "<div>\n",
       "<style scoped>\n",
       "    .dataframe tbody tr th:only-of-type {\n",
       "        vertical-align: middle;\n",
       "    }\n",
       "\n",
       "    .dataframe tbody tr th {\n",
       "        vertical-align: top;\n",
       "    }\n",
       "\n",
       "    .dataframe thead th {\n",
       "        text-align: right;\n",
       "    }\n",
       "</style>\n",
       "<table border=\"1\" class=\"dataframe\">\n",
       "  <thead>\n",
       "    <tr style=\"text-align: right;\">\n",
       "      <th></th>\n",
       "      <th>survived</th>\n",
       "      <th>sex</th>\n",
       "      <th>age</th>\n",
       "      <th>sibsp</th>\n",
       "      <th>parch</th>\n",
       "      <th>fare</th>\n",
       "      <th>embarked</th>\n",
       "      <th>class</th>\n",
       "    </tr>\n",
       "  </thead>\n",
       "  <tbody>\n",
       "    <tr>\n",
       "      <th>0</th>\n",
       "      <td>0</td>\n",
       "      <td>male</td>\n",
       "      <td>22.0</td>\n",
       "      <td>1</td>\n",
       "      <td>0</td>\n",
       "      <td>7.2500</td>\n",
       "      <td>S</td>\n",
       "      <td>Third</td>\n",
       "    </tr>\n",
       "    <tr>\n",
       "      <th>1</th>\n",
       "      <td>1</td>\n",
       "      <td>female</td>\n",
       "      <td>38.0</td>\n",
       "      <td>1</td>\n",
       "      <td>0</td>\n",
       "      <td>71.2833</td>\n",
       "      <td>C</td>\n",
       "      <td>First</td>\n",
       "    </tr>\n",
       "    <tr>\n",
       "      <th>2</th>\n",
       "      <td>1</td>\n",
       "      <td>female</td>\n",
       "      <td>26.0</td>\n",
       "      <td>0</td>\n",
       "      <td>0</td>\n",
       "      <td>7.9250</td>\n",
       "      <td>S</td>\n",
       "      <td>Third</td>\n",
       "    </tr>\n",
       "    <tr>\n",
       "      <th>3</th>\n",
       "      <td>1</td>\n",
       "      <td>female</td>\n",
       "      <td>35.0</td>\n",
       "      <td>1</td>\n",
       "      <td>0</td>\n",
       "      <td>53.1000</td>\n",
       "      <td>S</td>\n",
       "      <td>First</td>\n",
       "    </tr>\n",
       "    <tr>\n",
       "      <th>4</th>\n",
       "      <td>0</td>\n",
       "      <td>male</td>\n",
       "      <td>35.0</td>\n",
       "      <td>0</td>\n",
       "      <td>0</td>\n",
       "      <td>8.0500</td>\n",
       "      <td>S</td>\n",
       "      <td>Third</td>\n",
       "    </tr>\n",
       "  </tbody>\n",
       "</table>\n",
       "</div>"
      ],
      "text/plain": [
       "   survived     sex   age  sibsp  parch     fare embarked  class\n",
       "0         0    male  22.0      1      0   7.2500        S  Third\n",
       "1         1  female  38.0      1      0  71.2833        C  First\n",
       "2         1  female  26.0      0      0   7.9250        S  Third\n",
       "3         1  female  35.0      1      0  53.1000        S  First\n",
       "4         0    male  35.0      0      0   8.0500        S  Third"
      ]
     },
     "execution_count": 22,
     "metadata": {},
     "output_type": "execute_result"
    }
   ],
   "source": [
    "df = original_df.iloc[:,:9].drop(columns='pclass')\n",
    "df.head()"
   ]
  },
  {
   "cell_type": "markdown",
   "metadata": {
    "id": "rr6LK1hqPsOu"
   },
   "source": [
    "* **sibsp** - Number of siblings / spouses aboard the Titanic\n",
    "* **parch** - Number of parents / children aboard the Titanic\n",
    "* **fare** - Passenger fare\n",
    "* **embarked** - Port of embarkation: C = Cherbourg, Q = Queenstown,S = Southampton\n",
    "* **class** - A proxy for socio-economic status (SES)\n",
    "    * First = Upper\n",
    "    * Second = Middle\n",
    "    * Third = Lower"
   ]
  },
  {
   "cell_type": "code",
   "execution_count": null,
   "metadata": {
    "id": "reVhs1IvPsOu",
    "outputId": "c5e8fc98-8b77-447b-bf7d-0fbcd9e89061"
   },
   "outputs": [
    {
     "data": {
      "text/plain": [
       "(891, 8)"
      ]
     },
     "execution_count": 23,
     "metadata": {},
     "output_type": "execute_result"
    }
   ],
   "source": [
    "df.shape"
   ]
  },
  {
   "cell_type": "code",
   "execution_count": null,
   "metadata": {
    "id": "_Hy6gceVPsOu",
    "outputId": "31362dbf-f4bc-4640-ac9b-01f1240d378e"
   },
   "outputs": [
    {
     "name": "stdout",
     "output_type": "stream",
     "text": [
      "<class 'pandas.core.frame.DataFrame'>\n",
      "RangeIndex: 891 entries, 0 to 890\n",
      "Data columns (total 8 columns):\n",
      " #   Column    Non-Null Count  Dtype   \n",
      "---  ------    --------------  -----   \n",
      " 0   survived  891 non-null    int64   \n",
      " 1   sex       891 non-null    object  \n",
      " 2   age       714 non-null    float64 \n",
      " 3   sibsp     891 non-null    int64   \n",
      " 4   parch     891 non-null    int64   \n",
      " 5   fare      891 non-null    float64 \n",
      " 6   embarked  889 non-null    object  \n",
      " 7   class     891 non-null    category\n",
      "dtypes: category(1), float64(2), int64(3), object(2)\n",
      "memory usage: 49.9+ KB\n"
     ]
    }
   ],
   "source": [
    "df.info()"
   ]
  },
  {
   "cell_type": "markdown",
   "metadata": {
    "id": "ro93JFHtPsOu"
   },
   "source": [
    "There are some missing values, it is critical to remove them since our model will not be able to deal with missing data (cannot calculate distance from NaN)"
   ]
  },
  {
   "cell_type": "code",
   "execution_count": null,
   "metadata": {
    "id": "KRxMiMKTPsOu",
    "outputId": "441c2261-c839-4595-cf73-770c5f606e8b"
   },
   "outputs": [
    {
     "name": "stdout",
     "output_type": "stream",
     "text": [
      "<class 'pandas.core.frame.DataFrame'>\n",
      "Int64Index: 712 entries, 0 to 890\n",
      "Data columns (total 8 columns):\n",
      " #   Column    Non-Null Count  Dtype   \n",
      "---  ------    --------------  -----   \n",
      " 0   survived  712 non-null    int64   \n",
      " 1   sex       712 non-null    object  \n",
      " 2   age       712 non-null    float64 \n",
      " 3   sibsp     712 non-null    int64   \n",
      " 4   parch     712 non-null    int64   \n",
      " 5   fare      712 non-null    float64 \n",
      " 6   embarked  712 non-null    object  \n",
      " 7   class     712 non-null    category\n",
      "dtypes: category(1), float64(2), int64(3), object(2)\n",
      "memory usage: 45.3+ KB\n"
     ]
    }
   ],
   "source": [
    "df.dropna(inplace=True)\n",
    "df.info()"
   ]
  },
  {
   "cell_type": "code",
   "execution_count": null,
   "metadata": {
    "id": "PvVSkJ5FPsOv",
    "outputId": "0a29813b-9f7c-47a9-e3d0-bed4e0e698bd"
   },
   "outputs": [
    {
     "data": {
      "text/html": [
       "<div>\n",
       "<style scoped>\n",
       "    .dataframe tbody tr th:only-of-type {\n",
       "        vertical-align: middle;\n",
       "    }\n",
       "\n",
       "    .dataframe tbody tr th {\n",
       "        vertical-align: top;\n",
       "    }\n",
       "\n",
       "    .dataframe thead th {\n",
       "        text-align: right;\n",
       "    }\n",
       "</style>\n",
       "<table border=\"1\" class=\"dataframe\">\n",
       "  <thead>\n",
       "    <tr style=\"text-align: right;\">\n",
       "      <th></th>\n",
       "      <th>survived</th>\n",
       "      <th>sex</th>\n",
       "      <th>age</th>\n",
       "      <th>sibsp</th>\n",
       "      <th>parch</th>\n",
       "      <th>fare</th>\n",
       "      <th>embarked</th>\n",
       "      <th>class</th>\n",
       "    </tr>\n",
       "  </thead>\n",
       "  <tbody>\n",
       "    <tr>\n",
       "      <th>0</th>\n",
       "      <td>0</td>\n",
       "      <td>male</td>\n",
       "      <td>22.0</td>\n",
       "      <td>1</td>\n",
       "      <td>0</td>\n",
       "      <td>7.2500</td>\n",
       "      <td>S</td>\n",
       "      <td>Third</td>\n",
       "    </tr>\n",
       "    <tr>\n",
       "      <th>1</th>\n",
       "      <td>1</td>\n",
       "      <td>female</td>\n",
       "      <td>38.0</td>\n",
       "      <td>1</td>\n",
       "      <td>0</td>\n",
       "      <td>71.2833</td>\n",
       "      <td>C</td>\n",
       "      <td>First</td>\n",
       "    </tr>\n",
       "    <tr>\n",
       "      <th>2</th>\n",
       "      <td>1</td>\n",
       "      <td>female</td>\n",
       "      <td>26.0</td>\n",
       "      <td>0</td>\n",
       "      <td>0</td>\n",
       "      <td>7.9250</td>\n",
       "      <td>S</td>\n",
       "      <td>Third</td>\n",
       "    </tr>\n",
       "    <tr>\n",
       "      <th>3</th>\n",
       "      <td>1</td>\n",
       "      <td>female</td>\n",
       "      <td>35.0</td>\n",
       "      <td>1</td>\n",
       "      <td>0</td>\n",
       "      <td>53.1000</td>\n",
       "      <td>S</td>\n",
       "      <td>First</td>\n",
       "    </tr>\n",
       "    <tr>\n",
       "      <th>4</th>\n",
       "      <td>0</td>\n",
       "      <td>male</td>\n",
       "      <td>35.0</td>\n",
       "      <td>0</td>\n",
       "      <td>0</td>\n",
       "      <td>8.0500</td>\n",
       "      <td>S</td>\n",
       "      <td>Third</td>\n",
       "    </tr>\n",
       "  </tbody>\n",
       "</table>\n",
       "</div>"
      ],
      "text/plain": [
       "   survived     sex   age  sibsp  parch     fare embarked  class\n",
       "0         0    male  22.0      1      0   7.2500        S  Third\n",
       "1         1  female  38.0      1      0  71.2833        C  First\n",
       "2         1  female  26.0      0      0   7.9250        S  Third\n",
       "3         1  female  35.0      1      0  53.1000        S  First\n",
       "4         0    male  35.0      0      0   8.0500        S  Third"
      ]
     },
     "execution_count": 26,
     "metadata": {},
     "output_type": "execute_result"
    }
   ],
   "source": [
    "df.head()"
   ]
  },
  {
   "cell_type": "markdown",
   "metadata": {
    "id": "DPF4Cp3oPsOv"
   },
   "source": [
    "### Pre-Processing"
   ]
  },
  {
   "cell_type": "markdown",
   "metadata": {
    "id": "Fe9ICq-xPsOv"
   },
   "source": [
    "For our kNN model to perform better it is critical to pre-process the data. Pre-processing includes the following steps:\n",
    "1. Set non-numerical (categorical) data ready for kNN model - our kNN model does not know how to handle strings (it does not know the distance between 'male' and 'female'). Therefore, we will have to convert categorical features to a numeric scale.\n",
    "2. Since kNN is based on a distance metric, it is important to use a scaling method on the features, so that each feature will have a similar impact on the model."
   ]
  },
  {
   "cell_type": "markdown",
   "metadata": {
    "id": "ZZvndpf9PsOv"
   },
   "source": [
    "#### 1. Convert categorical features to a numeric scale"
   ]
  },
  {
   "cell_type": "markdown",
   "metadata": {
    "id": "odSL4QfEPsOv"
   },
   "source": [
    "There are two main types of categorical features:\n",
    "1. **Nominal Categories** - Nominal categories are unordered e.g. colours, gender, nationality.\n",
    "2. **Ordinal Categories** - Ordinal categories are ordered, e.g. school grades, price ranges, salary bands."
   ]
  },
  {
   "cell_type": "code",
   "execution_count": null,
   "metadata": {
    "id": "xMvmUWWSPsOv",
    "outputId": "46a8b382-5c1c-402c-fed2-726bd20aee3a"
   },
   "outputs": [
    {
     "data": {
      "text/html": [
       "<div>\n",
       "<style scoped>\n",
       "    .dataframe tbody tr th:only-of-type {\n",
       "        vertical-align: middle;\n",
       "    }\n",
       "\n",
       "    .dataframe tbody tr th {\n",
       "        vertical-align: top;\n",
       "    }\n",
       "\n",
       "    .dataframe thead th {\n",
       "        text-align: right;\n",
       "    }\n",
       "</style>\n",
       "<table border=\"1\" class=\"dataframe\">\n",
       "  <thead>\n",
       "    <tr style=\"text-align: right;\">\n",
       "      <th></th>\n",
       "      <th>survived</th>\n",
       "      <th>sex</th>\n",
       "      <th>age</th>\n",
       "      <th>sibsp</th>\n",
       "      <th>parch</th>\n",
       "      <th>fare</th>\n",
       "      <th>embarked</th>\n",
       "      <th>class</th>\n",
       "    </tr>\n",
       "  </thead>\n",
       "  <tbody>\n",
       "    <tr>\n",
       "      <th>0</th>\n",
       "      <td>0</td>\n",
       "      <td>male</td>\n",
       "      <td>22.0</td>\n",
       "      <td>1</td>\n",
       "      <td>0</td>\n",
       "      <td>7.2500</td>\n",
       "      <td>S</td>\n",
       "      <td>Third</td>\n",
       "    </tr>\n",
       "    <tr>\n",
       "      <th>1</th>\n",
       "      <td>1</td>\n",
       "      <td>female</td>\n",
       "      <td>38.0</td>\n",
       "      <td>1</td>\n",
       "      <td>0</td>\n",
       "      <td>71.2833</td>\n",
       "      <td>C</td>\n",
       "      <td>First</td>\n",
       "    </tr>\n",
       "    <tr>\n",
       "      <th>2</th>\n",
       "      <td>1</td>\n",
       "      <td>female</td>\n",
       "      <td>26.0</td>\n",
       "      <td>0</td>\n",
       "      <td>0</td>\n",
       "      <td>7.9250</td>\n",
       "      <td>S</td>\n",
       "      <td>Third</td>\n",
       "    </tr>\n",
       "    <tr>\n",
       "      <th>3</th>\n",
       "      <td>1</td>\n",
       "      <td>female</td>\n",
       "      <td>35.0</td>\n",
       "      <td>1</td>\n",
       "      <td>0</td>\n",
       "      <td>53.1000</td>\n",
       "      <td>S</td>\n",
       "      <td>First</td>\n",
       "    </tr>\n",
       "    <tr>\n",
       "      <th>4</th>\n",
       "      <td>0</td>\n",
       "      <td>male</td>\n",
       "      <td>35.0</td>\n",
       "      <td>0</td>\n",
       "      <td>0</td>\n",
       "      <td>8.0500</td>\n",
       "      <td>S</td>\n",
       "      <td>Third</td>\n",
       "    </tr>\n",
       "  </tbody>\n",
       "</table>\n",
       "</div>"
      ],
      "text/plain": [
       "   survived     sex   age  sibsp  parch     fare embarked  class\n",
       "0         0    male  22.0      1      0   7.2500        S  Third\n",
       "1         1  female  38.0      1      0  71.2833        C  First\n",
       "2         1  female  26.0      0      0   7.9250        S  Third\n",
       "3         1  female  35.0      1      0  53.1000        S  First\n",
       "4         0    male  35.0      0      0   8.0500        S  Third"
      ]
     },
     "execution_count": 27,
     "metadata": {},
     "output_type": "execute_result"
    }
   ],
   "source": [
    "df.head()"
   ]
  },
  {
   "cell_type": "markdown",
   "metadata": {
    "id": "LQidiYMkPsOw"
   },
   "source": [
    "We have three categorical features: 'sex', 'embarked' and 'class'. 'sex' and 'embarked' are nominal categorical features (unordered), while the 'class' feature is ordinal (First > Second > Third). We will use `pandas.get_dummies()` on nominal categorical features, and `pandas.replace()` for ordinal categorical features."
   ]
  },
  {
   "cell_type": "code",
   "execution_count": null,
   "outputs": [],
   "source": [],
   "metadata": {
    "collapsed": false
   }
  },
  {
   "cell_type": "markdown",
   "metadata": {
    "id": "dUjrktcVPsOw"
   },
   "source": [
    "`pandas.get_dummies()` method takes categorical feature as an argument. Then it creates a dummy variable for every label in the feature, such that each dummy variable holds data as 1 or 0. 1 indicates the presence of a particular label and 0 indicates the absence of a particular label. We will use it to encode the nominal categorical features  - 'sex' and 'embarked'."
   ]
  },
  {
   "cell_type": "code",
   "execution_count": null,
   "metadata": {
    "id": "9kSE8eY5PsOw",
    "outputId": "97f0dfe8-bcfa-4d9e-f252-cc9c4e9ecd9b"
   },
   "outputs": [
    {
     "data": {
      "text/plain": [
       "male      453\n",
       "female    259\n",
       "Name: sex, dtype: int64"
      ]
     },
     "execution_count": 28,
     "metadata": {},
     "output_type": "execute_result"
    }
   ],
   "source": [
    "df['sex'].value_counts()"
   ]
  },
  {
   "cell_type": "code",
   "execution_count": null,
   "metadata": {
    "id": "LDeKuio_PsOw",
    "outputId": "01547091-234e-41e5-bd0a-d3d491848688"
   },
   "outputs": [
    {
     "data": {
      "text/plain": [
       "S    554\n",
       "C    130\n",
       "Q     28\n",
       "Name: embarked, dtype: int64"
      ]
     },
     "execution_count": 29,
     "metadata": {},
     "output_type": "execute_result"
    }
   ],
   "source": [
    "df['embarked'].value_counts()"
   ]
  },
  {
   "cell_type": "code",
   "execution_count": null,
   "metadata": {
    "id": "cqRdw-kNPsOw",
    "outputId": "b71941ce-aeb2-41b5-8111-627999b40491"
   },
   "outputs": [
    {
     "data": {
      "text/html": [
       "<div>\n",
       "<style scoped>\n",
       "    .dataframe tbody tr th:only-of-type {\n",
       "        vertical-align: middle;\n",
       "    }\n",
       "\n",
       "    .dataframe tbody tr th {\n",
       "        vertical-align: top;\n",
       "    }\n",
       "\n",
       "    .dataframe thead th {\n",
       "        text-align: right;\n",
       "    }\n",
       "</style>\n",
       "<table border=\"1\" class=\"dataframe\">\n",
       "  <thead>\n",
       "    <tr style=\"text-align: right;\">\n",
       "      <th></th>\n",
       "      <th>survived</th>\n",
       "      <th>age</th>\n",
       "      <th>sibsp</th>\n",
       "      <th>parch</th>\n",
       "      <th>fare</th>\n",
       "      <th>class</th>\n",
       "      <th>sex_male</th>\n",
       "      <th>embarked_Q</th>\n",
       "      <th>embarked_S</th>\n",
       "    </tr>\n",
       "  </thead>\n",
       "  <tbody>\n",
       "    <tr>\n",
       "      <th>164</th>\n",
       "      <td>0</td>\n",
       "      <td>1.0</td>\n",
       "      <td>4</td>\n",
       "      <td>1</td>\n",
       "      <td>39.6875</td>\n",
       "      <td>Third</td>\n",
       "      <td>1</td>\n",
       "      <td>0</td>\n",
       "      <td>1</td>\n",
       "    </tr>\n",
       "    <tr>\n",
       "      <th>449</th>\n",
       "      <td>1</td>\n",
       "      <td>52.0</td>\n",
       "      <td>0</td>\n",
       "      <td>0</td>\n",
       "      <td>30.5000</td>\n",
       "      <td>First</td>\n",
       "      <td>1</td>\n",
       "      <td>0</td>\n",
       "      <td>1</td>\n",
       "    </tr>\n",
       "    <tr>\n",
       "      <th>554</th>\n",
       "      <td>1</td>\n",
       "      <td>22.0</td>\n",
       "      <td>0</td>\n",
       "      <td>0</td>\n",
       "      <td>7.7750</td>\n",
       "      <td>Third</td>\n",
       "      <td>0</td>\n",
       "      <td>0</td>\n",
       "      <td>1</td>\n",
       "    </tr>\n",
       "    <tr>\n",
       "      <th>526</th>\n",
       "      <td>1</td>\n",
       "      <td>50.0</td>\n",
       "      <td>0</td>\n",
       "      <td>0</td>\n",
       "      <td>10.5000</td>\n",
       "      <td>Second</td>\n",
       "      <td>0</td>\n",
       "      <td>0</td>\n",
       "      <td>1</td>\n",
       "    </tr>\n",
       "    <tr>\n",
       "      <th>443</th>\n",
       "      <td>1</td>\n",
       "      <td>28.0</td>\n",
       "      <td>0</td>\n",
       "      <td>0</td>\n",
       "      <td>13.0000</td>\n",
       "      <td>Second</td>\n",
       "      <td>0</td>\n",
       "      <td>0</td>\n",
       "      <td>1</td>\n",
       "    </tr>\n",
       "    <tr>\n",
       "      <th>338</th>\n",
       "      <td>1</td>\n",
       "      <td>45.0</td>\n",
       "      <td>0</td>\n",
       "      <td>0</td>\n",
       "      <td>8.0500</td>\n",
       "      <td>Third</td>\n",
       "      <td>1</td>\n",
       "      <td>0</td>\n",
       "      <td>1</td>\n",
       "    </tr>\n",
       "    <tr>\n",
       "      <th>655</th>\n",
       "      <td>0</td>\n",
       "      <td>24.0</td>\n",
       "      <td>2</td>\n",
       "      <td>0</td>\n",
       "      <td>73.5000</td>\n",
       "      <td>Second</td>\n",
       "      <td>1</td>\n",
       "      <td>0</td>\n",
       "      <td>1</td>\n",
       "    </tr>\n",
       "    <tr>\n",
       "      <th>51</th>\n",
       "      <td>0</td>\n",
       "      <td>21.0</td>\n",
       "      <td>0</td>\n",
       "      <td>0</td>\n",
       "      <td>7.8000</td>\n",
       "      <td>Third</td>\n",
       "      <td>1</td>\n",
       "      <td>0</td>\n",
       "      <td>1</td>\n",
       "    </tr>\n",
       "    <tr>\n",
       "      <th>211</th>\n",
       "      <td>1</td>\n",
       "      <td>35.0</td>\n",
       "      <td>0</td>\n",
       "      <td>0</td>\n",
       "      <td>21.0000</td>\n",
       "      <td>Second</td>\n",
       "      <td>0</td>\n",
       "      <td>0</td>\n",
       "      <td>1</td>\n",
       "    </tr>\n",
       "    <tr>\n",
       "      <th>10</th>\n",
       "      <td>1</td>\n",
       "      <td>4.0</td>\n",
       "      <td>1</td>\n",
       "      <td>1</td>\n",
       "      <td>16.7000</td>\n",
       "      <td>Third</td>\n",
       "      <td>0</td>\n",
       "      <td>0</td>\n",
       "      <td>1</td>\n",
       "    </tr>\n",
       "  </tbody>\n",
       "</table>\n",
       "</div>"
      ],
      "text/plain": [
       "     survived   age  sibsp  parch     fare   class  sex_male  embarked_Q  \\\n",
       "164         0   1.0      4      1  39.6875   Third         1           0   \n",
       "449         1  52.0      0      0  30.5000   First         1           0   \n",
       "554         1  22.0      0      0   7.7750   Third         0           0   \n",
       "526         1  50.0      0      0  10.5000  Second         0           0   \n",
       "443         1  28.0      0      0  13.0000  Second         0           0   \n",
       "338         1  45.0      0      0   8.0500   Third         1           0   \n",
       "655         0  24.0      2      0  73.5000  Second         1           0   \n",
       "51          0  21.0      0      0   7.8000   Third         1           0   \n",
       "211         1  35.0      0      0  21.0000  Second         0           0   \n",
       "10          1   4.0      1      1  16.7000   Third         0           0   \n",
       "\n",
       "     embarked_S  \n",
       "164           1  \n",
       "449           1  \n",
       "554           1  \n",
       "526           1  \n",
       "443           1  \n",
       "338           1  \n",
       "655           1  \n",
       "51            1  \n",
       "211           1  \n",
       "10            1  "
      ]
     },
     "execution_count": 30,
     "metadata": {},
     "output_type": "execute_result"
    }
   ],
   "source": [
    "encoded_df = pd.get_dummies(df, columns=['sex', 'embarked'], drop_first=True)\n",
    "encoded_df.sample(10)"
   ]
  },
  {
   "cell_type": "markdown",
   "metadata": {
    "id": "Ra59v6K5PsOw"
   },
   "source": [
    "In the above code, we passed an argument `drop_first=True`, this indicates it drops one dummy variable from all the dummy variables created for a feature."
   ]
  },
  {
   "cell_type": "markdown",
   "metadata": {
    "id": "9g7YYBZiPsOx"
   },
   "source": [
    "To handle the ordinal categorical feature ('class'), we will use `pandas.replace()` to find and replace the value for each label in the feature, in order to satisfy the intrinsic ordering among them."
   ]
  },
  {
   "cell_type": "code",
   "execution_count": null,
   "metadata": {
    "id": "9D8RpsY2PsOx",
    "outputId": "2693122c-9a25-4967-f99e-247c2174e774"
   },
   "outputs": [
    {
     "data": {
      "text/plain": [
       "Third     355\n",
       "First     184\n",
       "Second    173\n",
       "Name: class, dtype: int64"
      ]
     },
     "execution_count": 31,
     "metadata": {},
     "output_type": "execute_result"
    }
   ],
   "source": [
    "encoded_df['class'].value_counts()"
   ]
  },
  {
   "cell_type": "code",
   "execution_count": null,
   "metadata": {
    "id": "BCxmNTTBPsOx",
    "outputId": "487b352f-611e-4cc4-de20-dc5d862f1e1f"
   },
   "outputs": [
    {
     "data": {
      "text/html": [
       "<div>\n",
       "<style scoped>\n",
       "    .dataframe tbody tr th:only-of-type {\n",
       "        vertical-align: middle;\n",
       "    }\n",
       "\n",
       "    .dataframe tbody tr th {\n",
       "        vertical-align: top;\n",
       "    }\n",
       "\n",
       "    .dataframe thead th {\n",
       "        text-align: right;\n",
       "    }\n",
       "</style>\n",
       "<table border=\"1\" class=\"dataframe\">\n",
       "  <thead>\n",
       "    <tr style=\"text-align: right;\">\n",
       "      <th></th>\n",
       "      <th>survived</th>\n",
       "      <th>age</th>\n",
       "      <th>sibsp</th>\n",
       "      <th>parch</th>\n",
       "      <th>fare</th>\n",
       "      <th>class</th>\n",
       "      <th>sex_male</th>\n",
       "      <th>embarked_Q</th>\n",
       "      <th>embarked_S</th>\n",
       "    </tr>\n",
       "  </thead>\n",
       "  <tbody>\n",
       "    <tr>\n",
       "      <th>698</th>\n",
       "      <td>0</td>\n",
       "      <td>49.0</td>\n",
       "      <td>1</td>\n",
       "      <td>1</td>\n",
       "      <td>110.8833</td>\n",
       "      <td>3</td>\n",
       "      <td>1</td>\n",
       "      <td>0</td>\n",
       "      <td>0</td>\n",
       "    </tr>\n",
       "    <tr>\n",
       "      <th>83</th>\n",
       "      <td>0</td>\n",
       "      <td>28.0</td>\n",
       "      <td>0</td>\n",
       "      <td>0</td>\n",
       "      <td>47.1000</td>\n",
       "      <td>3</td>\n",
       "      <td>1</td>\n",
       "      <td>0</td>\n",
       "      <td>1</td>\n",
       "    </tr>\n",
       "    <tr>\n",
       "      <th>43</th>\n",
       "      <td>1</td>\n",
       "      <td>3.0</td>\n",
       "      <td>1</td>\n",
       "      <td>2</td>\n",
       "      <td>41.5792</td>\n",
       "      <td>2</td>\n",
       "      <td>0</td>\n",
       "      <td>0</td>\n",
       "      <td>0</td>\n",
       "    </tr>\n",
       "    <tr>\n",
       "      <th>857</th>\n",
       "      <td>1</td>\n",
       "      <td>51.0</td>\n",
       "      <td>0</td>\n",
       "      <td>0</td>\n",
       "      <td>26.5500</td>\n",
       "      <td>3</td>\n",
       "      <td>1</td>\n",
       "      <td>0</td>\n",
       "      <td>1</td>\n",
       "    </tr>\n",
       "    <tr>\n",
       "      <th>737</th>\n",
       "      <td>1</td>\n",
       "      <td>35.0</td>\n",
       "      <td>0</td>\n",
       "      <td>0</td>\n",
       "      <td>512.3292</td>\n",
       "      <td>3</td>\n",
       "      <td>1</td>\n",
       "      <td>0</td>\n",
       "      <td>0</td>\n",
       "    </tr>\n",
       "    <tr>\n",
       "      <th>93</th>\n",
       "      <td>0</td>\n",
       "      <td>26.0</td>\n",
       "      <td>1</td>\n",
       "      <td>2</td>\n",
       "      <td>20.5750</td>\n",
       "      <td>1</td>\n",
       "      <td>1</td>\n",
       "      <td>0</td>\n",
       "      <td>1</td>\n",
       "    </tr>\n",
       "    <tr>\n",
       "      <th>378</th>\n",
       "      <td>0</td>\n",
       "      <td>20.0</td>\n",
       "      <td>0</td>\n",
       "      <td>0</td>\n",
       "      <td>4.0125</td>\n",
       "      <td>1</td>\n",
       "      <td>1</td>\n",
       "      <td>0</td>\n",
       "      <td>0</td>\n",
       "    </tr>\n",
       "    <tr>\n",
       "      <th>715</th>\n",
       "      <td>0</td>\n",
       "      <td>19.0</td>\n",
       "      <td>0</td>\n",
       "      <td>0</td>\n",
       "      <td>7.6500</td>\n",
       "      <td>1</td>\n",
       "      <td>1</td>\n",
       "      <td>0</td>\n",
       "      <td>1</td>\n",
       "    </tr>\n",
       "    <tr>\n",
       "      <th>197</th>\n",
       "      <td>0</td>\n",
       "      <td>42.0</td>\n",
       "      <td>0</td>\n",
       "      <td>1</td>\n",
       "      <td>8.4042</td>\n",
       "      <td>1</td>\n",
       "      <td>1</td>\n",
       "      <td>0</td>\n",
       "      <td>1</td>\n",
       "    </tr>\n",
       "    <tr>\n",
       "      <th>594</th>\n",
       "      <td>0</td>\n",
       "      <td>37.0</td>\n",
       "      <td>1</td>\n",
       "      <td>0</td>\n",
       "      <td>26.0000</td>\n",
       "      <td>2</td>\n",
       "      <td>1</td>\n",
       "      <td>0</td>\n",
       "      <td>1</td>\n",
       "    </tr>\n",
       "  </tbody>\n",
       "</table>\n",
       "</div>"
      ],
      "text/plain": [
       "     survived   age  sibsp  parch      fare  class  sex_male  embarked_Q  \\\n",
       "698         0  49.0      1      1  110.8833      3         1           0   \n",
       "83          0  28.0      0      0   47.1000      3         1           0   \n",
       "43          1   3.0      1      2   41.5792      2         0           0   \n",
       "857         1  51.0      0      0   26.5500      3         1           0   \n",
       "737         1  35.0      0      0  512.3292      3         1           0   \n",
       "93          0  26.0      1      2   20.5750      1         1           0   \n",
       "378         0  20.0      0      0    4.0125      1         1           0   \n",
       "715         0  19.0      0      0    7.6500      1         1           0   \n",
       "197         0  42.0      0      1    8.4042      1         1           0   \n",
       "594         0  37.0      1      0   26.0000      2         1           0   \n",
       "\n",
       "     embarked_S  \n",
       "698           0  \n",
       "83            1  \n",
       "43            0  \n",
       "857           1  \n",
       "737           0  \n",
       "93            1  \n",
       "378           0  \n",
       "715           1  \n",
       "197           1  \n",
       "594           1  "
      ]
     },
     "execution_count": 97,
     "metadata": {},
     "output_type": "execute_result"
    }
   ],
   "source": [
    "encoded_df.replace({'class': {'Third': 1, 'Second': 2, 'First': 3}}, inplace=True)\n",
    "encoded_df[\"class\"] = encoded_df[\"class\"].astype(int)\n",
    "encoded_df.sample(10)"
   ]
  },
  {
   "cell_type": "markdown",
   "metadata": {
    "id": "sfxjy1aZPsOx"
   },
   "source": [
    "#### 2. Scaling features"
   ]
  },
  {
   "cell_type": "markdown",
   "metadata": {
    "id": "aa77RSw8PsOx"
   },
   "source": [
    "Min-max scaling is a common feature pre-processing technique which results in scaled data values that fall in the range [0,1]:\n",
    "\n",
    "$\\dfrac{x_i - min(X)}{max(X) - min(X)}$"
   ]
  },
  {
   "cell_type": "markdown",
   "metadata": {
    "id": "4clRFORpUUsF"
   },
   "source": [
    "The right way to test our model is to fit our scaler based on the features on the training set, and then apply this scaling (in our case - find the min and max) to the test set. We should provide a model that is trained only on the training set."
   ]
  },
  {
   "cell_type": "code",
   "execution_count": null,
   "metadata": {
    "id": "wfgmMnA0UUsF"
   },
   "outputs": [],
   "source": [
    "X = encoded_df.iloc[:, 1:]  # features\n",
    "Y = encoded_df.iloc[:, 0]  # labels\n",
    "\n",
    "X_train, X_test, Y_train, Y_test = train_test_split(X, Y, test_size=0.20)"
   ]
  },
  {
   "cell_type": "code",
   "execution_count": null,
   "metadata": {
    "id": "uK6YUhhkPsOx"
   },
   "outputs": [],
   "source": [
    "from sklearn.preprocessing import MinMaxScaler\n",
    "\n",
    "scaler = MinMaxScaler()\n",
    "scaled_X_train = scaler.fit_transform(X_train)\n",
    "scaled_X_test = scaler.transform(X_test)"
   ]
  },
  {
   "cell_type": "markdown",
   "metadata": {
    "id": "xNv8b9UJUUsF"
   },
   "source": [
    "Notice that we use only transform without fit for the test set, since we want our scaler to be fitted (setting the min and max) only according to the training set.\n",
    "\n",
    "We will use these scaled features soon in the exercise section for running our KNN model."
   ]
  },
  {
   "cell_type": "markdown",
   "metadata": {
    "id": "LZTfTr5WPsOy"
   },
   "source": [
    "#### Feature selection"
   ]
  },
  {
   "cell_type": "markdown",
   "metadata": {
    "id": "ui6cYu34PsOy"
   },
   "source": [
    "Not all features are good predictors for a given classification problem. We would like to use the features that are useful for distinguishing between the classes, because if we include features that aren't we might add noise to our classifier.\n",
    "\n",
    "One simple way to find useful features is examining the correlation of features with our target variable (the class). Features that correlate strongly with the class, whether negatively or positively, can help distinguish between the classes.\n",
    "\n",
    "We can visualize correlations using a heatmap."
   ]
  },
  {
   "cell_type": "code",
   "execution_count": null,
   "metadata": {
    "id": "je4TSgS7UUsG",
    "outputId": "ba66776f-ee97-4c47-e4fe-9c2368a63058"
   },
   "outputs": [
    {
     "data": {
      "text/html": [
       "<div>\n",
       "<style scoped>\n",
       "    .dataframe tbody tr th:only-of-type {\n",
       "        vertical-align: middle;\n",
       "    }\n",
       "\n",
       "    .dataframe tbody tr th {\n",
       "        vertical-align: top;\n",
       "    }\n",
       "\n",
       "    .dataframe thead th {\n",
       "        text-align: right;\n",
       "    }\n",
       "</style>\n",
       "<table border=\"1\" class=\"dataframe\">\n",
       "  <thead>\n",
       "    <tr style=\"text-align: right;\">\n",
       "      <th></th>\n",
       "      <th>survived</th>\n",
       "      <th>age</th>\n",
       "      <th>sibsp</th>\n",
       "      <th>parch</th>\n",
       "      <th>fare</th>\n",
       "      <th>class</th>\n",
       "      <th>sex_male</th>\n",
       "      <th>embarked_Q</th>\n",
       "      <th>embarked_S</th>\n",
       "    </tr>\n",
       "  </thead>\n",
       "  <tbody>\n",
       "    <tr>\n",
       "      <th>survived</th>\n",
       "      <td>1.000000</td>\n",
       "      <td>-0.082446</td>\n",
       "      <td>-0.015523</td>\n",
       "      <td>0.095265</td>\n",
       "      <td>0.266100</td>\n",
       "      <td>0.356462</td>\n",
       "      <td>-0.536762</td>\n",
       "      <td>-0.048966</td>\n",
       "      <td>-0.159015</td>\n",
       "    </tr>\n",
       "    <tr>\n",
       "      <th>age</th>\n",
       "      <td>-0.082446</td>\n",
       "      <td>1.000000</td>\n",
       "      <td>-0.307351</td>\n",
       "      <td>-0.187896</td>\n",
       "      <td>0.093143</td>\n",
       "      <td>0.365902</td>\n",
       "      <td>0.099037</td>\n",
       "      <td>-0.021693</td>\n",
       "      <td>-0.025431</td>\n",
       "    </tr>\n",
       "    <tr>\n",
       "      <th>sibsp</th>\n",
       "      <td>-0.015523</td>\n",
       "      <td>-0.307351</td>\n",
       "      <td>1.000000</td>\n",
       "      <td>0.383338</td>\n",
       "      <td>0.139860</td>\n",
       "      <td>-0.065187</td>\n",
       "      <td>-0.106296</td>\n",
       "      <td>0.051331</td>\n",
       "      <td>0.018968</td>\n",
       "    </tr>\n",
       "    <tr>\n",
       "      <th>parch</th>\n",
       "      <td>0.095265</td>\n",
       "      <td>-0.187896</td>\n",
       "      <td>0.383338</td>\n",
       "      <td>1.000000</td>\n",
       "      <td>0.206624</td>\n",
       "      <td>-0.023666</td>\n",
       "      <td>-0.249543</td>\n",
       "      <td>-0.009417</td>\n",
       "      <td>0.013259</td>\n",
       "    </tr>\n",
       "    <tr>\n",
       "      <th>fare</th>\n",
       "      <td>0.266100</td>\n",
       "      <td>0.093143</td>\n",
       "      <td>0.139860</td>\n",
       "      <td>0.206624</td>\n",
       "      <td>1.000000</td>\n",
       "      <td>0.552893</td>\n",
       "      <td>-0.182457</td>\n",
       "      <td>-0.062346</td>\n",
       "      <td>-0.250994</td>\n",
       "    </tr>\n",
       "    <tr>\n",
       "      <th>class</th>\n",
       "      <td>0.356462</td>\n",
       "      <td>0.365902</td>\n",
       "      <td>-0.065187</td>\n",
       "      <td>-0.023666</td>\n",
       "      <td>0.552893</td>\n",
       "      <td>1.000000</td>\n",
       "      <td>-0.150826</td>\n",
       "      <td>-0.131989</td>\n",
       "      <td>-0.197831</td>\n",
       "    </tr>\n",
       "    <tr>\n",
       "      <th>sex_male</th>\n",
       "      <td>-0.536762</td>\n",
       "      <td>0.099037</td>\n",
       "      <td>-0.106296</td>\n",
       "      <td>-0.249543</td>\n",
       "      <td>-0.182457</td>\n",
       "      <td>-0.150826</td>\n",
       "      <td>1.000000</td>\n",
       "      <td>-0.027256</td>\n",
       "      <td>0.109078</td>\n",
       "    </tr>\n",
       "    <tr>\n",
       "      <th>embarked_Q</th>\n",
       "      <td>-0.048966</td>\n",
       "      <td>-0.021693</td>\n",
       "      <td>0.051331</td>\n",
       "      <td>-0.009417</td>\n",
       "      <td>-0.062346</td>\n",
       "      <td>-0.131989</td>\n",
       "      <td>-0.027256</td>\n",
       "      <td>1.000000</td>\n",
       "      <td>-0.378859</td>\n",
       "    </tr>\n",
       "    <tr>\n",
       "      <th>embarked_S</th>\n",
       "      <td>-0.159015</td>\n",
       "      <td>-0.025431</td>\n",
       "      <td>0.018968</td>\n",
       "      <td>0.013259</td>\n",
       "      <td>-0.250994</td>\n",
       "      <td>-0.197831</td>\n",
       "      <td>0.109078</td>\n",
       "      <td>-0.378859</td>\n",
       "      <td>1.000000</td>\n",
       "    </tr>\n",
       "  </tbody>\n",
       "</table>\n",
       "</div>"
      ],
      "text/plain": [
       "            survived       age     sibsp     parch      fare     class  \\\n",
       "survived    1.000000 -0.082446 -0.015523  0.095265  0.266100  0.356462   \n",
       "age        -0.082446  1.000000 -0.307351 -0.187896  0.093143  0.365902   \n",
       "sibsp      -0.015523 -0.307351  1.000000  0.383338  0.139860 -0.065187   \n",
       "parch       0.095265 -0.187896  0.383338  1.000000  0.206624 -0.023666   \n",
       "fare        0.266100  0.093143  0.139860  0.206624  1.000000  0.552893   \n",
       "class       0.356462  0.365902 -0.065187 -0.023666  0.552893  1.000000   \n",
       "sex_male   -0.536762  0.099037 -0.106296 -0.249543 -0.182457 -0.150826   \n",
       "embarked_Q -0.048966 -0.021693  0.051331 -0.009417 -0.062346 -0.131989   \n",
       "embarked_S -0.159015 -0.025431  0.018968  0.013259 -0.250994 -0.197831   \n",
       "\n",
       "            sex_male  embarked_Q  embarked_S  \n",
       "survived   -0.536762   -0.048966   -0.159015  \n",
       "age         0.099037   -0.021693   -0.025431  \n",
       "sibsp      -0.106296    0.051331    0.018968  \n",
       "parch      -0.249543   -0.009417    0.013259  \n",
       "fare       -0.182457   -0.062346   -0.250994  \n",
       "class      -0.150826   -0.131989   -0.197831  \n",
       "sex_male    1.000000   -0.027256    0.109078  \n",
       "embarked_Q -0.027256    1.000000   -0.378859  \n",
       "embarked_S  0.109078   -0.378859    1.000000  "
      ]
     },
     "execution_count": 100,
     "metadata": {},
     "output_type": "execute_result"
    }
   ],
   "source": [
    "encoded_df.corr()"
   ]
  },
  {
   "cell_type": "code",
   "execution_count": null,
   "metadata": {
    "id": "eBQCxvVtPsOy",
    "outputId": "c7cceba9-3750-4c17-decc-7299313e3fa9"
   },
   "outputs": [
    {
     "data": {
      "image/png": "[encoded data removed]",
      "text/plain": [
       "<Figure size 720x720 with 2 Axes>"
      ]
     },
     "metadata": {
      "needs_background": "light"
     },
     "output_type": "display_data"
    }
   ],
   "source": [
    "# compute correlation between each pair of variables in data frame\n",
    "correlations = encoded_df.corr()\n",
    "\n",
    "# plot heat map\n",
    "plt.figure(figsize=(10,10))\n",
    "g=sns.heatmap(correlations,annot=True)"
   ]
  },
  {
   "cell_type": "code",
   "execution_count": null,
   "metadata": {
    "id": "bvKwRcsTUUsG",
    "outputId": "e50c52b0-963c-4bed-9655-a89604e742fd"
   },
   "outputs": [
    {
     "data": {
      "text/plain": [
       "sibsp        -0.015523\n",
       "embarked_Q   -0.048966\n",
       "age          -0.082446\n",
       "parch         0.095265\n",
       "embarked_S   -0.159015\n",
       "fare          0.266100\n",
       "class         0.356462\n",
       "sex_male     -0.536762\n",
       "survived      1.000000\n",
       "Name: survived, dtype: float64"
      ]
     },
     "execution_count": 102,
     "metadata": {},
     "output_type": "execute_result"
    }
   ],
   "source": [
    "correlations.reindex(correlations[\"survived\"].abs().sort_values().index)[\"survived\"] # ordered by absolute value"
   ]
  },
  {
   "cell_type": "markdown",
   "metadata": {
    "id": "uZrmVTPDPsOz"
   },
   "source": [
    "## <font color=blue>**Exercise**</font>"
   ]
  },
  {
   "cell_type": "markdown",
   "metadata": {
    "id": "3RN2XbBOPsOz"
   },
   "source": [
    "Now that we have a processed data we are ready to run our model:\n",
    "\n",
    "1. Run a kNN model to predict if a passenger survived. Use the k-fold cross validation (K=5) method to pick the optimal K.\n",
    "2. Use the optimal K to train and test your model (train on the entire training set). What is accuracy of the model on test set?\n",
    "3. Did the normalization improve the model? compare the model performance after and before normalization.\n",
    "4. Does feature selection improve the model? choose the top 3 features that correlate with the label."
   ]
  },
  {
   "cell_type": "code",
   "execution_count": null,
   "metadata": {
    "id": "YgpEsZ03PsOz"
   },
   "outputs": [],
   "source": [
    "# Write yor code here\n"
   ]
  },
  {
   "cell_type": "markdown",
   "metadata": {
    "id": "uZmrRNIaPsO0"
   },
   "source": [
    "## <font color=blue>**Solution**</font>"
   ]
  },
  {
   "cell_type": "code",
   "execution_count": null,
   "metadata": {
    "id": "OL1S6637PsO0"
   },
   "outputs": [],
   "source": [
    "# 1\n",
    "k_avg_score = np.zeros(21)\n",
    "for k in range(1, 21):\n",
    "    knn_model = KNeighborsClassifier(n_neighbors=k)\n",
    "    cv_scores = cross_val_score(knn_model, scaled_X_train, Y_train, cv=5)\n",
    "    k_avg_score[k] = cv_scores.mean()"
   ]
  },
  {
   "cell_type": "code",
   "execution_count": null,
   "metadata": {
    "id": "iKpvWN8KPsO0",
    "outputId": "7e2114df-d082-4896-fca2-cda0f58675b9"
   },
   "outputs": [
    {
     "data": {
      "image/png": "[encoded data removed]",
      "text/plain": [
       "<Figure size 576x432 with 1 Axes>"
      ]
     },
     "metadata": {
      "needs_background": "light"
     },
     "output_type": "display_data"
    }
   ],
   "source": [
    "fig, ax = plt.subplots()\n",
    "ax.plot(k_avg_score)\n",
    "ax.set_xticks(np.arange(0, 21));\n",
    "ax.set_ylim(0, 1)\n",
    "ax.scatter(np.argmax(k_avg_score), np.max(k_avg_score)) # argmax returns the index of the maximum value\n",
    "fig.set_size_inches(8, 6)\n",
    "fig.suptitle('Average scores of 5-fold cross validation vs. number of neighbors (k) in kNN')\n",
    "ax.set_xlabel('number of neighbors (k) in kNN model')\n",
    "ax.set_ylabel('Average accuracy of 5-fold cross validation')\n",
    "plt.grid()"
   ]
  },
  {
   "cell_type": "code",
   "execution_count": null,
   "metadata": {
    "id": "270aSeRIPsO0",
    "outputId": "4ce85f5c-137b-4946-e128-357b04e03ad6"
   },
   "outputs": [
    {
     "name": "stdout",
     "output_type": "stream",
     "text": [
      "best average accuracy cv score is: 0.807, for number of neighbors(K) = 10\n"
     ]
    }
   ],
   "source": [
    "print(f\"best average accuracy cv score is: {round(np.max(k_avg_score),3)}, for number of neighbors(k) = {np.argmax(k_avg_score)}\")"
   ]
  },
  {
   "cell_type": "code",
   "execution_count": null,
   "metadata": {
    "id": "SeYQWoPyPsO0",
    "outputId": "32d7a6ba-4728-43d6-a1a5-702fcd5b7407"
   },
   "outputs": [
    {
     "name": "stdout",
     "output_type": "stream",
     "text": [
      "Test accuracy score is: 0.79\n"
     ]
    }
   ],
   "source": [
    "# 2\n",
    "# fit the model on the entire train set\n",
    "knn = KNeighborsClassifier(n_neighbors=np.argmax(k_avg_score))\n",
    "knn.fit(scaled_X_train, Y_train)\n",
    "\n",
    "# test the model on the test set\n",
    "test_score = knn.score(scaled_X_test, Y_test)\n",
    "print(f\"Test accuracy score is: {round(test_score,3)}\")"
   ]
  },
  {
   "cell_type": "code",
   "execution_count": null,
   "metadata": {
    "id": "2F1PIifEPsO1"
   },
   "outputs": [],
   "source": [
    "# 3\n",
    "X = encoded_df.iloc[:, 1:]  # features\n",
    "Y = encoded_df.iloc[:, 0]  # labels\n",
    "\n",
    "X_train, X_test, Y_train, Y_test = train_test_split(X, Y, test_size=0.20)\n",
    "\n",
    "k_avg_score = np.zeros(21)\n",
    "for k in range(1, 21):\n",
    "    knn_model = KNeighborsClassifier(n_neighbors=k)\n",
    "    cv_scores = cross_val_score(knn_model, X_train, Y_train, cv=5)\n",
    "    k_avg_score[k] = cv_scores.mean()"
   ]
  },
  {
   "cell_type": "code",
   "execution_count": null,
   "metadata": {
    "id": "1QxfGgNUPsO1",
    "outputId": "2526ca41-83dd-4818-ef8e-fcada85c4874"
   },
   "outputs": [
    {
     "data": {
      "image/png": "[encoded data removed]",
      "text/plain": [
       "<Figure size 576x432 with 1 Axes>"
      ]
     },
     "metadata": {
      "needs_background": "light"
     },
     "output_type": "display_data"
    }
   ],
   "source": [
    "fig, ax = plt.subplots()\n",
    "ax.plot(k_avg_score)\n",
    "ax.set_xticks(np.arange(0, 21));\n",
    "ax.set_ylim(0, 1)\n",
    "ax.scatter(np.argmax(k_avg_score), np.max(k_avg_score))\n",
    "fig.set_size_inches(8, 6)\n",
    "fig.suptitle('Average scores of 5-fold cross validation vs. number of neighbors (K) in kNN')\n",
    "ax.set_xlabel('number of neighbors (k) in kNN model')\n",
    "ax.set_ylabel('Average accuracy of 5-fold cross validation')\n",
    "plt.grid()"
   ]
  },
  {
   "cell_type": "code",
   "execution_count": null,
   "metadata": {
    "id": "U-3_IdOePsO1",
    "outputId": "1eb28aa4-ad3b-4040-b9d2-4259f480fe20"
   },
   "outputs": [
    {
     "name": "stdout",
     "output_type": "stream",
     "text": [
      "best average accuracy score is: 0.722, for number of neighbors(K) = 16\n"
     ]
    }
   ],
   "source": [
    "print(f\"best average accuracy score is: {round(np.max(k_avg_score),3)}, for number of neighbors(k) = {np.argmax(k_avg_score)}\")"
   ]
  },
  {
   "cell_type": "code",
   "execution_count": null,
   "metadata": {
    "id": "d_VpHnhLPsO1",
    "outputId": "b16158e8-eed9-464c-b3b3-0d0327c070cd"
   },
   "outputs": [
    {
     "name": "stdout",
     "output_type": "stream",
     "text": [
      "Test accuracy score is: 0.636\n"
     ]
    }
   ],
   "source": [
    "# fit the model on the entire train set\n",
    "knn = KNeighborsClassifier(n_neighbors=np.argmax(k_avg_score))\n",
    "knn.fit(X_train, Y_train)\n",
    "\n",
    "# test the model on the test set\n",
    "test_score = knn.score(X_test, Y_test)\n",
    "print(f\"Test accuracy score is: {round(test_score,3)}\")"
   ]
  },
  {
   "cell_type": "code",
   "execution_count": null,
   "metadata": {
    "id": "AYYa0CH6UUsJ",
    "outputId": "2ca10944-b635-4ffb-cc2f-fdb4fc63dc42"
   },
   "outputs": [
    {
     "data": {
      "text/plain": [
       "survived    1.000000\n",
       "sex_male   -0.536762\n",
       "class       0.356462\n",
       "fare        0.266100\n",
       "Name: survived, dtype: float64"
      ]
     },
     "execution_count": 115,
     "metadata": {},
     "output_type": "execute_result"
    }
   ],
   "source": [
    "# 4\n",
    "# top 3 features correlated with the label\n",
    "correlations.reindex(correlations[\"survived\"].abs().sort_values(ascending=False).index)[\"survived\"].iloc[:4]"
   ]
  },
  {
   "cell_type": "code",
   "execution_count": null,
   "metadata": {
    "id": "EcMdVMAcPsO2"
   },
   "outputs": [],
   "source": [
    "scaler = MinMaxScaler()\n",
    "scaled_X_train = scaler.fit_transform(X_train)\n",
    "scaled_X_test = scaler.transform(X_test)\n",
    "\n",
    "k_avg_score = np.zeros(21)\n",
    "for k in range(1, 21):\n",
    "    knn_model = KNeighborsClassifier(n_neighbors=k)\n",
    "    cv_scores = cross_val_score(knn_model, scaled_X_train[:, 3:6], Y_train, cv=5)  # features -- only fare, class and sex\n",
    "    k_avg_score[k] = cv_scores.mean()"
   ]
  },
  {
   "cell_type": "code",
   "execution_count": null,
   "metadata": {
    "id": "A4h48vKePsO2",
    "outputId": "5df31d6f-2c9b-490f-8030-dbce0a49c6eb"
   },
   "outputs": [
    {
     "data": {
      "image/png": "[encoded data removed]",
      "text/plain": [
       "<Figure size 576x432 with 1 Axes>"
      ]
     },
     "metadata": {
      "needs_background": "light"
     },
     "output_type": "display_data"
    }
   ],
   "source": [
    "fig, ax = plt.subplots()\n",
    "ax.plot(k_avg_score)\n",
    "ax.set_xticks(np.arange(0, 21));\n",
    "ax.set_ylim(0, 1)\n",
    "ax.scatter(np.argmax(k_avg_score), np.max(k_avg_score))\n",
    "fig.set_size_inches(8, 6)\n",
    "fig.suptitle('Average scores of 5-fold cross validation vs. number of neighbors (k) in kNN')\n",
    "ax.set_xlabel('number of neighbors (k) in kNN model')\n",
    "ax.set_ylabel('Average accuracy of 5-fold cross validation')\n",
    "plt.grid()"
   ]
  },
  {
   "cell_type": "code",
   "execution_count": null,
   "metadata": {
    "id": "ZR4Df0a6PsO2",
    "outputId": "485b9ff8-aea1-4771-d853-31ca821e008d"
   },
   "outputs": [
    {
     "name": "stdout",
     "output_type": "stream",
     "text": [
      "best average accuracy score is: 0.798, for number of neighbors(K) = 12\n"
     ]
    }
   ],
   "source": [
    "print(f\"best average accuracy score is: {round(np.max(k_avg_score),3)}, for number of neighbors(k) = {np.argmax(k_avg_score)}\")"
   ]
  },
  {
   "cell_type": "code",
   "execution_count": null,
   "metadata": {
    "id": "43lYu-7cPsO2",
    "outputId": "db6ba73f-949d-4dca-fd9c-fc95c8b9060a"
   },
   "outputs": [
    {
     "name": "stdout",
     "output_type": "stream",
     "text": [
      "Test accuracy score is: 0.769\n"
     ]
    }
   ],
   "source": [
    "# fit the model on the entire train set\n",
    "knn = KNeighborsClassifier(n_neighbors=np.argmax(k_avg_score))\n",
    "knn.fit(scaled_X_train, Y_train)\n",
    "\n",
    "# test the model on the test set\n",
    "test_score = knn.score(scaled_X_test, Y_test)\n",
    "print(f\"Test accuracy score is: {round(test_score,3)}\")"
   ]
  }
 ],
 "metadata": {
  "colab": {
   "collapsed_sections": [
    "ZZvndpf9PsOv",
    "sfxjy1aZPsOx",
    "LZTfTr5WPsOy"
   ],
   "provenance": []
  },
  "kernelspec": {
   "display_name": "Python 3 (ipykernel)",
   "language": "python",
   "name": "python3"
  },
  "language_info": {
   "codemirror_mode": {
    "name": "ipython",
    "version": 3
   },
   "file_extension": ".py",
   "mimetype": "text/x-python",
   "name": "python",
   "nbconvert_exporter": "python",
   "pygments_lexer": "ipython3",
   "version": "3.9.12"
  }
 },
 "nbformat": 4,
 "nbformat_minor": 0
}
