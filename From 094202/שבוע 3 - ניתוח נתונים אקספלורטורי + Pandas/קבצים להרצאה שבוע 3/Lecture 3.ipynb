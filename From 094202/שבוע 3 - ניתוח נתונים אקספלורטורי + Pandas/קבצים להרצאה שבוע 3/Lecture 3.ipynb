{
 "cells": [
  {
   "cell_type": "code",
   "execution_count": 2,
   "metadata": {},
   "outputs": [],
   "source": [
    "import numpy as np\n",
    "import matplotlib.pyplot as plt\n",
    "import pandas as pd\n",
    "import seaborn as sns\n",
    "sns.set_palette(\"viridis\")\n",
    "sns.set_context(\"talk\")"
   ]
  },
  {
   "cell_type": "markdown",
   "metadata": {},
   "source": [
    "## Summary measures of variables\n",
    "Assume you got offers to join three different companies - A, B or C - as a data scientist. Before you make your decision, you gathered data about the salaries of data scientists in the three companies"
   ]
  },
  {
   "cell_type": "markdown",
   "metadata": {},
   "source": [
    "## The data\n",
    "Let's load the data"
   ]
  },
  {
   "cell_type": "code",
   "execution_count": 4,
   "metadata": {},
   "outputs": [
    {
     "data": {
      "text/html": [
       "<div>\n",
       "<style scoped>\n",
       "    .dataframe tbody tr th:only-of-type {\n",
       "        vertical-align: middle;\n",
       "    }\n",
       "\n",
       "    .dataframe tbody tr th {\n",
       "        vertical-align: top;\n",
       "    }\n",
       "\n",
       "    .dataframe thead th {\n",
       "        text-align: right;\n",
       "    }\n",
       "</style>\n",
       "<table border=\"1\" class=\"dataframe\">\n",
       "  <thead>\n",
       "    <tr style=\"text-align: right;\">\n",
       "      <th></th>\n",
       "      <th>Company</th>\n",
       "      <th>Salary</th>\n",
       "      <th>EmployeeID</th>\n",
       "    </tr>\n",
       "  </thead>\n",
       "  <tbody>\n",
       "    <tr>\n",
       "      <th>0</th>\n",
       "      <td>A</td>\n",
       "      <td>15500</td>\n",
       "      <td>1</td>\n",
       "    </tr>\n",
       "    <tr>\n",
       "      <th>1</th>\n",
       "      <td>A</td>\n",
       "      <td>23500</td>\n",
       "      <td>2</td>\n",
       "    </tr>\n",
       "    <tr>\n",
       "      <th>2</th>\n",
       "      <td>A</td>\n",
       "      <td>18000</td>\n",
       "      <td>3</td>\n",
       "    </tr>\n",
       "    <tr>\n",
       "      <th>3</th>\n",
       "      <td>A</td>\n",
       "      <td>19000</td>\n",
       "      <td>4</td>\n",
       "    </tr>\n",
       "    <tr>\n",
       "      <th>4</th>\n",
       "      <td>A</td>\n",
       "      <td>21500</td>\n",
       "      <td>5</td>\n",
       "    </tr>\n",
       "    <tr>\n",
       "      <th>5</th>\n",
       "      <td>B</td>\n",
       "      <td>19500</td>\n",
       "      <td>1</td>\n",
       "    </tr>\n",
       "    <tr>\n",
       "      <th>6</th>\n",
       "      <td>B</td>\n",
       "      <td>20500</td>\n",
       "      <td>2</td>\n",
       "    </tr>\n",
       "    <tr>\n",
       "      <th>7</th>\n",
       "      <td>B</td>\n",
       "      <td>19500</td>\n",
       "      <td>3</td>\n",
       "    </tr>\n",
       "    <tr>\n",
       "      <th>8</th>\n",
       "      <td>B</td>\n",
       "      <td>19500</td>\n",
       "      <td>4</td>\n",
       "    </tr>\n",
       "    <tr>\n",
       "      <th>9</th>\n",
       "      <td>B</td>\n",
       "      <td>18500</td>\n",
       "      <td>5</td>\n",
       "    </tr>\n",
       "    <tr>\n",
       "      <th>10</th>\n",
       "      <td>C</td>\n",
       "      <td>14500</td>\n",
       "      <td>1</td>\n",
       "    </tr>\n",
       "    <tr>\n",
       "      <th>11</th>\n",
       "      <td>C</td>\n",
       "      <td>15000</td>\n",
       "      <td>2</td>\n",
       "    </tr>\n",
       "    <tr>\n",
       "      <th>12</th>\n",
       "      <td>C</td>\n",
       "      <td>15000</td>\n",
       "      <td>3</td>\n",
       "    </tr>\n",
       "    <tr>\n",
       "      <th>13</th>\n",
       "      <td>C</td>\n",
       "      <td>15000</td>\n",
       "      <td>4</td>\n",
       "    </tr>\n",
       "    <tr>\n",
       "      <th>14</th>\n",
       "      <td>C</td>\n",
       "      <td>38000</td>\n",
       "      <td>5</td>\n",
       "    </tr>\n",
       "  </tbody>\n",
       "</table>\n",
       "</div>"
      ],
      "text/plain": [
       "   Company  Salary  EmployeeID\n",
       "0        A   15500           1\n",
       "1        A   23500           2\n",
       "2        A   18000           3\n",
       "3        A   19000           4\n",
       "4        A   21500           5\n",
       "5        B   19500           1\n",
       "6        B   20500           2\n",
       "7        B   19500           3\n",
       "8        B   19500           4\n",
       "9        B   18500           5\n",
       "10       C   14500           1\n",
       "11       C   15000           2\n",
       "12       C   15000           3\n",
       "13       C   15000           4\n",
       "14       C   38000           5"
      ]
     },
     "execution_count": 4,
     "metadata": {},
     "output_type": "execute_result"
    }
   ],
   "source": [
    "salaries_df = pd.read_csv('salaries.csv') # read the data into dataframe\n",
    "salaries_df"
   ]
  },
  {
   "cell_type": "markdown",
   "metadata": {},
   "source": [
    "## Summary measures of the dataset\n",
    "Now, let's assess different measures for the salaries in each of the companies\n",
    "\n",
    "That is, we would like to get summaries of the measures (mean, median etc.) for each *company*.\n",
    "To do this, we will use the *groupby* method and then summarize each resulting group with the *agg* method.\n",
    "\n",
    "Note that we do not have missing values here, but some summary measures would ignore these if there were any."
   ]
  },
  {
   "cell_type": "code",
   "execution_count": null,
   "metadata": {},
   "outputs": [],
   "source": [
    "grpby_company = salaries_df.groupby('Company', as_index=False) # create a groupby object, grouping by Company\n",
    "agg_types = {  # the measures we want to include\n",
    "    'Salary': ['mean']\n",
    "}\n",
    "# agg_types = {  # the measures we want to include\n",
    "#     'Salary': ['mean', 'median', 'min', 'max', 'count']\n",
    "# }\n",
    "salaries_agg_df = grpby_company.agg(agg_types)  # create the aggregations\n",
    "salaries_agg_df"
   ]
  },
  {
   "cell_type": "markdown",
   "metadata": {},
   "source": [
    "## Visualizing the data\n",
    "Let's visualize the data, to get another perspective"
   ]
  },
  {
   "cell_type": "code",
   "execution_count": null,
   "metadata": {},
   "outputs": [],
   "source": [
    "bins = np.arange(14000,38001,500)  # bins for the histogram (covers min to max values)\n",
    "ax=sns.displot(salaries_df, x=\"Salary\", col=\"Company\", bins=bins) # plot histograms (how many observations in each bin)\n",
    "ax.set_axis_labels(\"Salary\",\"Number of Employees\")"
   ]
  },
  {
   "cell_type": "markdown",
   "metadata": {},
   "source": [
    "# DataSaurus\n",
    "\n",
    "This notebook demonstrates why visualizing data can be critical."
   ]
  },
  {
   "cell_type": "markdown",
   "metadata": {},
   "source": [
    "The data we use here includes 3 variables: *x*, *y*, and *type*. <br>\n",
    "We can think of *x* as units of some input (e.g. resources invested), of *y* as units of some output (e.g. units produced), and of *type* as the source of the data (e.g. department). <br>\n",
    "We are interested in the relationship between the input and the output for different sources. \n",
    "\n",
    "Let's first read the data into a dataframe"
   ]
  },
  {
   "cell_type": "code",
   "execution_count": null,
   "metadata": {},
   "outputs": [],
   "source": [
    "df = pd.read_csv('Datasaurus.csv') # read the data\n",
    "df"
   ]
  },
  {
   "cell_type": "markdown",
   "metadata": {},
   "source": [
    "How many observations do we have?\n",
    "***\n",
    "We would like to examine the properties of the *x* and *y* variables for each *type*.\n",
    "To do this, we will use the *groupby* method and then summarize each resulting group with the *agg* method. \n",
    "\n",
    "We can do this as we did it above (for company), see commented-out segment below. Here, I will use another method called \"named aggregations\". This method allows direct naming of the variables created in the aggregation step:\n"
   ]
  },
  {
   "cell_type": "code",
   "execution_count": null,
   "metadata": {},
   "outputs": [],
   "source": [
    "grpby_type = df.groupby('type', as_index=False) # create a groupby object, grouping by type\n",
    "\n",
    "# agg_types = {  # the measures we want to include\n",
    "#     'x': ['mean', 'std'],\n",
    "#     'y': ['mean', 'std']\n",
    "# }\n",
    "# summary_stats = grpby_type.agg(agg_types)  # create the aggregations\n",
    "\n",
    "# compute summary statistics (mean, sd) for x and y in each dataset, and name them (pandas' \"named aggregations\")\n",
    "summary_stats = grpby_type.agg(\n",
    "    mean_x=('x','mean'),\n",
    "    mean_y=('y','mean'),\n",
    "    std_x=('x','std'),\n",
    "    std_y=('y','std')\n",
    ")\n",
    "summary_stats"
   ]
  },
  {
   "cell_type": "markdown",
   "metadata": {},
   "source": [
    "What do you see? <br>\n",
    "How do the \"inputs\" and \"outputs\" differ across types?\n",
    "\n",
    "Do you think the relationship between *x* and *y* is the same across *types*? <br>\n",
    "Let's check the **correlation** between *x* and *y* in each type:"
   ]
  },
  {
   "cell_type": "code",
   "execution_count": null,
   "metadata": {},
   "outputs": [],
   "source": [
    "grpby_type.corr() # prints a correlation matrix of the variables within each group"
   ]
  },
  {
   "cell_type": "markdown",
   "metadata": {},
   "source": [
    "What did we get? <br>\n",
    "Why all the 1s? Do the correlations differ across types?\n",
    "\n",
    "Let's now **plot** the relations between *x* and *y* in each type"
   ]
  },
  {
   "cell_type": "code",
   "execution_count": null,
   "metadata": {},
   "outputs": [],
   "source": [
    "# we want to plot all x-y pairs one next to the other. \n",
    "# Seaborn's FacetGrid sets the various plots\n",
    "g = sns.FacetGrid(data=df, col=\"type\", col_wrap=4, hue='type') # hue controls colors of the plotted data\n",
    "# Seaborn's map creates the different plots\n",
    "g.map(plt.scatter, \"x\", \"y\", alpha=.7, s=30) # alpha controls transparency of the plotted data; s controls size of points"
   ]
  },
  {
   "cell_type": "markdown",
   "metadata": {},
   "source": [
    "What do you say? Are the relations of the inputs and outputs the same in each source? \n",
    "\n",
    "This demonstrates how we can sometimes be fooled by summary statistics. Plotting makes life easier."
   ]
  }
 ],
 "metadata": {
  "kernelspec": {
   "display_name": "Python 3 (ipykernel)",
   "language": "python",
   "name": "python3"
  },
  "language_info": {
   "codemirror_mode": {
    "name": "ipython",
    "version": 3
   },
   "file_extension": ".py",
   "mimetype": "text/x-python",
   "name": "python",
   "nbconvert_exporter": "python",
   "pygments_lexer": "ipython3",
   "version": "3.9.16"
  }
 },
 "nbformat": 4,
 "nbformat_minor": 2
}
