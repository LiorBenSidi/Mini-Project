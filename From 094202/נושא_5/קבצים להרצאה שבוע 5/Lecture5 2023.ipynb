{
 "cells": [
  {
   "cell_type": "markdown",
   "metadata": {},
   "source": [
    "# Probailities, simualtions, sampling, and distributions\n"
   ]
  },
  {
   "cell_type": "code",
   "execution_count": null,
   "metadata": {},
   "outputs": [],
   "source": [
    "import pandas as pd\n",
    "import seaborn as sns\n",
    "import numpy as np\n",
    "import matplotlib.pyplot as plt\n",
    "\n",
    "custom_palette = sns.color_palette(\"viridis\", 2)\n",
    "sns.set_palette(custom_palette) "
   ]
  },
  {
   "cell_type": "markdown",
   "metadata": {},
   "source": [
    "## Randomness and chance\n"
   ]
  },
  {
   "cell_type": "code",
   "execution_count": null,
   "metadata": {},
   "outputs": [],
   "source": [
    "# A coin toss\n",
    "\n",
    "# Create a coin and define the possible events: \n",
    "coin = ['heads', 'tails']\n",
    "# tell Python to toss the coin and return an outcome: \n",
    "coin_toss_result = np.random.choice(coin) # Picks one item at random from an array, with equal chances for each element\n",
    "coin_toss_result"
   ]
  },
  {
   "cell_type": "markdown",
   "metadata": {},
   "source": [
    "When we have code that includes random elements, it is important to run it repeatedly to get a sense of the different possible results.\n",
    "\n",
    "- What are the chances of this outcome to occur? \n",
    "- If we run the cell again, will we get the same result?\n",
    "- How many times will we get this outcome if we run the cell 100 times?"
   ]
  },
  {
   "cell_type": "code",
   "execution_count": null,
   "metadata": {},
   "outputs": [],
   "source": [
    "num_tosses = 100 # number of coin tosses\n",
    "\n",
    "many_tosses = np.random.choice(coin, size=num_tosses) # the size argument of random.choice sets the number of random choices from the array\n",
    "\n",
    "# Count the number of heads in these 100 tosses and print it:\n",
    "num_heads = np.count_nonzero(many_tosses == 'heads') # counts the number of non-zero elements in an array. The arrary here includes True and False values, and only True are non-zero\n",
    "print('number of heads out of', num_tosses, 'tosses is', num_heads)"
   ]
  },
  {
   "cell_type": "markdown",
   "metadata": {},
   "source": [
    "- Are you surprised by this result?\n",
    "- If we run the cell again, will we get the same result?\n",
    "- If we repeat this experiment (tossing the coin 100 times) and count the number of *heads* each time, how often will we get this result? \n",
    "- What is the minimal outcome such an experiment can return? The maximal? How often will these happen?\n",
    "\n",
    "**To answer the \"how often\" questions, we need to quantify the chances of something to happen**\n",
    "(back to the slides)"
   ]
  },
  {
   "cell_type": "markdown",
   "metadata": {},
   "source": [
    "##  <span>Probabilities</span>\n",
    "\n",
    "Probability is the chance that an event will occur.<br/>\n",
    "Probability 0 means we are certain the event *will not* occur. Probability of 1 means that we are certain the event *will* occur.\n"
   ]
  },
  {
   "cell_type": "markdown",
   "metadata": {},
   "source": [
    "## Computing probability of events\n",
    "\n",
    "Probability theory is a mathematical branch and there are clear precise ways to compute probabilities using notions from probability theory. Here, we use Python as a calculator and visualizor of results computed mathematically\n",
    "\n",
    "### At least one success\n",
    "Data scientists often work with random samples from populations. A question that sometimes arises is about the likelihood that a particular individual in the population is selected to be in the sample. To work out the chance, that individual is called a “success,” and the problem is to find the chance that the sample contains a success.\n",
    "\n",
    "Let's use Python as a calculator, and compute the (exact) probability for at least one \"six\" in N rolls of a die:"
   ]
  },
  {
   "cell_type": "code",
   "execution_count": null,
   "metadata": {},
   "outputs": [],
   "source": [
    "# computing probability mathematically\n",
    "\n",
    "max_num_rolls = 100 # we will calculate the probabilities for N = 1,...,max_num_rolls\n",
    "chance_for_6 = [] # will hold the answers we'll calculate\n",
    "\n",
    "for roll in range(1, max_num_rolls+1):\n",
    "    current_chance_for_6 = 1-(5/6)**roll\n",
    "    chance_for_6.append(current_chance_for_6)\n",
    "    \n",
    "tmp_dict = {'roll number': range(1, max_num_rolls+1), 'chance of at least one 6': chance_for_6} # a way to store it all in a pandas df\n",
    "df = pd.DataFrame(tmp_dict)\n",
    "display(df)\n",
    "\n",
    "sns.relplot(data=df, x='roll number', y='chance of at least one 6')    "
   ]
  },
  {
   "cell_type": "markdown",
   "metadata": {},
   "source": [
    "## Simulation\n",
    "Simulation is the process of using a computer to mimic a physical experiment. \n",
    "We will need the following steps:\n",
    "1. What to simulate: Specify the quantity you want to simulate. For example, you might decide that you want to simulate the number of *heads* in 100 tosses of a fair coin.\n",
    "2. Simulating one value: Figure out how to simulate one value of the quantity you specified in Step 1. In our example, you have to figure out how to simulate counting the number of *heads* in 100 tosses of a fair coin.\n",
    "3. Number of repetitions: decide how many times you want to simulate the quantity. \n",
    "4. Coding the simulation: putting it all together:\n",
    "    - Create an empty array in which to collect all the simulated values. We will call this the collection array.\n",
    "    - Create a for loop with as many iterations as you defined in Step 3. \n",
    "    - In each iteration simulate one value based on the code you developed in Step 2, and append the simulated value to the collection array"
   ]
  },
  {
   "cell_type": "markdown",
   "metadata": {},
   "source": [
    "### Simulating number of heads\n",
    "\n",
    "Above, we asked \"how often\" we get the results we did when we counted the number of Heads in 100 coin tosses. Let's now simulate the number of Heads in 100 coin tosses\n",
    "\n",
    "#### step 1: What to simulate\n",
    "Number of heads in 100 fair coin tosses\n",
    "\n",
    "#### step 2: Simulate one value"
   ]
  },
  {
   "cell_type": "code",
   "execution_count": null,
   "metadata": {},
   "outputs": [],
   "source": [
    "num_tosses = 100 # number of coin tosses\n",
    "\n",
    "many_tosses = np.random.choice(coin, size=num_tosses) # the size argument of random.choice sets the number of random choices from the array\n",
    "\n",
    "# Count the number of heads in these 100 tosses and print it:\n",
    "num_heads = np.count_nonzero(many_tosses == 'heads') # counts the number of non-zero elements in an array\n",
    "print('number of heads out of', num_tosses, 'tosses is', num_heads)"
   ]
  },
  {
   "cell_type": "markdown",
   "metadata": {},
   "source": [
    "#### step 3: number of repetitions\n",
    "Let's repeat this process 1000 times.\n",
    "\n",
    "(How many tosses of a coin will the computer simualte for us?)\n",
    "\n",
    "#### step 4: put it all together"
   ]
  },
  {
   "cell_type": "code",
   "execution_count": null,
   "metadata": {},
   "outputs": [],
   "source": [
    "# In case we'd want to change the number of simulations later, it's better to define it first thing\n",
    "num_sims = 1000\n",
    "\n",
    "# Create the collection array in which outputs of each simulation will be stored\n",
    "heads_counts = []\n",
    "\n",
    "# Put in any code from step 2 that is independent of iteration number\n",
    "num_tosses = 100\n",
    "\n",
    "# Create a for loop, put the code block from step 2 inside, and store the output in the collection array\n",
    "for i in range(num_sims):\n",
    "    many_tosses = np.random.choice(coin, size=num_tosses) # toss 100 coins\n",
    "    num_heads = np.count_nonzero(many_tosses == 'heads') # Count the number of heads in these 100 tosses\n",
    "    heads_counts.append(num_heads)"
   ]
  },
  {
   "cell_type": "code",
   "execution_count": null,
   "metadata": {
    "scrolled": true
   },
   "outputs": [],
   "source": [
    "# Let's see what we got\n",
    "heads_counts"
   ]
  },
  {
   "cell_type": "markdown",
   "metadata": {},
   "source": [
    "It is better to store everything in dataframes so we can manipulate it more easily"
   ]
  },
  {
   "cell_type": "code",
   "execution_count": null,
   "metadata": {},
   "outputs": [],
   "source": [
    "tmp_dict = {'iteration': range(1,num_sims+1), 'number of heads': heads_counts}\n",
    "df = pd.DataFrame(tmp_dict)\n",
    "df"
   ]
  },
  {
   "cell_type": "markdown",
   "metadata": {},
   "source": [
    "Let's plot the results"
   ]
  },
  {
   "cell_type": "code",
   "execution_count": null,
   "metadata": {},
   "outputs": [],
   "source": [
    "hist_bins = np.arange(29.5,70.6,1) # create an array of bins between 30 and 70\n",
    "ax = sns.displot(df, x='number of heads', bins=hist_bins) # plot a histogram"
   ]
  },
  {
   "cell_type": "markdown",
   "metadata": {},
   "source": [
    "What are the answers to the \"how often\" questions from above (approximately)\n"
   ]
  },
  {
   "cell_type": "markdown",
   "metadata": {},
   "source": [
    "### Simulating roll of two dices - try it youself\n",
    "Now we will simulate the outcome of a roll of two dice, i.e., their sum (like in Monopoly or Backgammon or Settlers of Catan). This sum is our Step 1 of the simulation.\n",
    "\n",
    "For step 2, write code for simulating a single roll of two dice. \n",
    "Hint: you can define one die (similar to the coin we defined), \"roll\" it twice, and compute the sum."
   ]
  },
  {
   "cell_type": "code",
   "execution_count": null,
   "metadata": {},
   "outputs": [],
   "source": [
    "# Write code for simulating one roll of two dice\n",
    "\n"
   ]
  },
  {
   "cell_type": "markdown",
   "metadata": {},
   "source": [
    "Let's decide to run the simulations 10000 times (step 3).\n",
    "\n",
    "Now, for step 4, write code for running 10000 repetitions of two dice rolls.\n",
    "Hint: you can re-use code from the simulation of the coin."
   ]
  },
  {
   "cell_type": "code",
   "execution_count": null,
   "metadata": {
    "scrolled": true
   },
   "outputs": [],
   "source": [
    "# Write code for running repetitions of your simulation\n",
    "\n"
   ]
  },
  {
   "cell_type": "markdown",
   "metadata": {},
   "source": [
    "What values do you expect to be most frequent?\n",
    "\n",
    "Plot the results and see if your predictions were correct"
   ]
  },
  {
   "cell_type": "code",
   "execution_count": null,
   "metadata": {},
   "outputs": [],
   "source": [
    "# plot the results\n",
    "hist_bins = np.arange(1.5, 13, 1)  # create bins between 2 and 12\n",
    "ax = sns.displot(dice_sums, bins=hist_bins)\n",
    "ax.set(ylabel='# of times sum was simulated', xlabel='sum of 2 dice rolls')"
   ]
  },
  {
   "cell_type": "markdown",
   "metadata": {},
   "source": [
    "### Another example (challenge for home)\n",
    "\n",
    "Let's say we are offered a bet based on the sum of two dice rolls: \n",
    "1. If the sum is (stricltly) smaller than 7, we lose 5 NIS. \n",
    "2. If the sum is 7, 8, or 9, we get 10 NIS.\n",
    "3. If the sum is (strictly) greater than 9, we get nothing and lose nothing.\n",
    "\n",
    "Code a simulation that will help us decide if this bet is \"worth it\": on average, we will get more than 0."
   ]
  },
  {
   "cell_type": "code",
   "execution_count": null,
   "metadata": {},
   "outputs": [],
   "source": [
    "# your code here"
   ]
  },
  {
   "cell_type": "markdown",
   "metadata": {},
   "source": [
    "What do you say? Is it worth it to take this bet?"
   ]
  },
  {
   "cell_type": "markdown",
   "metadata": {},
   "source": [
    "### Simulating the probability of at least one 6 in four dice rolls\n",
    "\n",
    "Above, we computed mathematically the probability to get at least one 6 in *n* dice rolls. Let us now verify that we can get similar results with a simulation. We will do this for *n*=4 "
   ]
  },
  {
   "cell_type": "code",
   "execution_count": null,
   "metadata": {},
   "outputs": [],
   "source": [
    "# Step 1: \n",
    "# We want to simualte whether a 6 appeared at least once in 4 dice rolls\n",
    "\n",
    "# step 2:\n",
    "die = np.arange(1, 7)\n",
    "four_dice_rolls = np.random.choice(die, 4)\n",
    "print(four_dice_rolls)\n",
    "is_there_6 = np.any(four_dice_rolls==6)\n",
    "is_there_6\n",
    "# four_dice_rolls==6"
   ]
  },
  {
   "cell_type": "code",
   "execution_count": null,
   "metadata": {},
   "outputs": [],
   "source": [
    "# step 3:\n",
    "num_sims = 10000\n",
    "\n",
    "# step 4:\n",
    "are_there_6s = []\n",
    "\n",
    "for i in range(num_sims):\n",
    "    four_dice_rolls = np.random.choice(die, 4)\n",
    "    is_there_6 = np.any(four_dice_rolls==6)\n",
    "    are_there_6s.append(is_there_6)\n",
    "    \n",
    "np.sum(are_there_6s)/num_sims"
   ]
  },
  {
   "cell_type": "markdown",
   "metadata": {},
   "source": [
    "Check that the probability we simulated is close to the one we calculated explicitly"
   ]
  },
  {
   "cell_type": "markdown",
   "metadata": {},
   "source": [
    "## Monty Hall Problem\n",
    "This problem has flummoxed many people over the years, mathematicians included. Let’s see if we can work it out by simulation.\n",
    "\n",
    "The setting is derived from a television game show called “Let’s Make a Deal”. Monty Hall hosted this show in the 1960’s, and it has since led to a number of spin-offs. An exciting part of the show was that while the contestants had the chance to win great prizes, they might instead end up with “zonks” that were less desirable. This is the basis for what is now known as the Monty Hall problem.\n",
    "\n",
    "The setting is a game show in which the contestant is faced with three closed doors. Behind one of the doors is a fancy car, and behind each of the other two there is a goat. The contestant doesn’t know where the car is, and has to attempt to find it under the following rules.\n",
    "\n",
    "- The contestant makes an initial choice, but that door isn’t opened.\n",
    "- At least one of the other two doors must have a goat behind it. Monty opens one of these doors to reveal a goat.\n",
    "- There are two doors left, one of which was the contestant’s original choice. One of the doors has the car behind it, and the other one has a goat. The contestant now gets to choose which of the two doors to open.\n",
    "\n",
    "The contestant has a decision to make. Which door should she choose to open, if she wants the car? Should she stick with her initial choice, or switch to the other door? That is the Monty Hall problem.\n",
    "\n",
    "#### Let's simulate to see the solution.\n",
    "\n",
    "step 1: We need to simualte 3 things:\n",
    "- Whatever is behind the door that the contestant picks first\n",
    "- Whatever is behind the door that Monty opens\n",
    "- Whatever is behind the remaining door\n",
    "\n",
    "So, we will have a list with 3 elements as our simulated quantity\n",
    "\n",
    "step 2: Let's simualte one game show:"
   ]
  },
  {
   "cell_type": "code",
   "execution_count": null,
   "metadata": {},
   "outputs": [],
   "source": [
    "# THE GAME\n",
    "\n",
    "behind_doors = ['goat1', 'goat2', 'car']\n",
    "goats = ['goat1', 'goat2']\n",
    "\n",
    "# This function gets the goat selected and returns the other goat\n",
    "def other_goat(goat):\n",
    "    if goat == 'goat1':\n",
    "        return 'goat2'\n",
    "    elif goat == 'goat2': # we could have also used else, but this is more robust to mistakes\n",
    "        return 'goat1'\n",
    "\n",
    "#  This function simualtes the game:\n",
    "# It returns a list where the 1st element is whatever is behind the door first picked by the contestant\n",
    "# the 2nd element is whatever is behind the door Monty opens\n",
    "# the 3rd element is whatever is behind the remaining door\n",
    "def monty_hall_game():\n",
    "    contestant_guess = np.random.choice(behind_doors)  # assuming that people's choices are random (no preference for middle etc.)\n",
    "    \n",
    "    if contestant_guess == 'goat1': \n",
    "        return [contestant_guess, 'goat2', 'car']\n",
    "    elif contestant_guess == 'goat2':\n",
    "        return [contestant_guess, 'goat1', 'car']\n",
    "    elif contestant_guess == 'car':\n",
    "        revealed = np.random.choice(goats) # here, we assume that Monty randomly chooses a door to open from those with goats\n",
    "        return [contestant_guess, revealed, other_goat(revealed)]    \n",
    "\n",
    "monty_hall_game()\n"
   ]
  },
  {
   "cell_type": "markdown",
   "metadata": {},
   "source": [
    "Step 3: let's play the game 10000 times\n",
    "\n",
    "Step 4: Here we are appending a list with 3 elements, not a single number, so it is more convinient to work on a dictionary, which we can also turn to dataframe easily"
   ]
  },
  {
   "cell_type": "code",
   "execution_count": null,
   "metadata": {},
   "outputs": [],
   "source": [
    "# simulating many games\n",
    "num_sims = 10000\n",
    "\n",
    "results_dict = {'contestant_guess': [], 'revealed': [], 'remaining': [] }\n",
    "\n",
    "for i in range(num_sims):\n",
    "    one_game_outcome = monty_hall_game()\n",
    "    results_dict['contestant_guess'].append(one_game_outcome[0])\n",
    "    results_dict['revealed'].append(one_game_outcome[1])\n",
    "    results_dict['remaining'].append(one_game_outcome[2])\n",
    "    \n",
    "monty_hall_results_df = pd.DataFrame(results_dict)\n",
    "monty_hall_results_df.head(10)\n"
   ]
  },
  {
   "cell_type": "code",
   "execution_count": null,
   "metadata": {},
   "outputs": [],
   "source": [
    "# what participants guessed (should be random)\n",
    "grpby_guess = monty_hall_results_df.groupby('contestant_guess')\n",
    "guesses_counts = grpby_guess.agg({'contestant_guess': 'count'})\n",
    "display(guesses_counts)\n",
    "\n",
    "# what was behind the remaining door (after one door was revealed)\n",
    "grpby_remain = monty_hall_results_df.groupby('remaining')\n",
    "remaining_counts = grpby_remain.agg({'remaining':'count'})\n",
    "display(remaining_counts)\n",
    "\n",
    "# Combine the results togehter to one dataframe\n",
    "results_df = pd.concat([guesses_counts, remaining_counts], axis=1).reset_index() # note the concatenated dfs have the same ind\n",
    "results_df.columns.values[0] = 'outcome'\n",
    "display(results_df)\n",
    "\n",
    "# plot\n",
    "results_df.plot(x=\"outcome\", y=[\"contestant_guess\", \"remaining\"], kind='bar') # another way to plot - pandas syntax"
   ]
  },
  {
   "cell_type": "markdown",
   "metadata": {},
   "source": [
    "Another option:"
   ]
  },
  {
   "cell_type": "code",
   "execution_count": null,
   "metadata": {},
   "outputs": [],
   "source": [
    "# Here's a more compact way to run this simulation. \n",
    "# Note we do not really need to collect which door was opened, nor which door the contestant guessed (it is random)\n",
    "# all we need is the proportion of simulations in which a car was behind the remaining door\n",
    "# Also, we do not care about \"which goat\" Monty or the contestant choose. We only care if the door is or is not a car\n",
    "# This can help in your hw\n",
    "\n",
    "def short_monty_hall_game(doors):\n",
    "    # This function gets a vector of strings (awards behind doors), chooses an element (door) at random, \n",
    "    # and returns 0 if the chosen string is 'car', and 1 if it is not 'car'\n",
    "    # That is, it returns the proportion of times in which switching to the remaining door would lead to a car\n",
    "    contestant_guess = np.random.choice(doors) \n",
    "    if contestant_guess == 'car': \n",
    "        return 0\n",
    "    elif contestant_guess != 'car':\n",
    "        return 1\n",
    "    \n",
    "behind_the_doors = ['goat', 'lemon', 'car'] # define what's behind the doors\n",
    "num_sims = 10000\n",
    "\n",
    "is_car = np.empty(num_sims) # the collection array, initialized to be empty\n",
    "\n",
    "for i in range(num_sims):\n",
    "    is_car[i] = short_monty_hall_game(behind_the_doors)\n",
    "    \n",
    "prop_win_car = np.count_nonzero(is_car)/num_sims\n",
    "print('proportion of simulations in which a car is won if the contestant switches to the remaining door', prop_win_car)"
   ]
  },
  {
   "cell_type": "markdown",
   "metadata": {},
   "source": [
    "![xkcd monty hall](https://imgs.xkcd.com/comics/monty_hall.png)"
   ]
  },
  {
   "cell_type": "markdown",
   "metadata": {},
   "source": [
    "## Sampling\n",
    "\n",
    "In some cases, we would like to sample from a population"
   ]
  },
  {
   "cell_type": "code",
   "execution_count": null,
   "metadata": {},
   "outputs": [],
   "source": [
    "movies_df = pd.read_csv('top_movies.csv')\n",
    "movies_df"
   ]
  },
  {
   "cell_type": "markdown",
   "metadata": {},
   "source": [
    "### Deterministic sample\n",
    "Sampling scheme doesn’t involve chance"
   ]
  },
  {
   "cell_type": "code",
   "execution_count": null,
   "metadata": {},
   "outputs": [],
   "source": [
    "# deterministic sample based on indices\n",
    "sampled_movies = movies_df.iloc[[0,3,10]]\n",
    "sampled_movies"
   ]
  },
  {
   "cell_type": "code",
   "execution_count": null,
   "metadata": {},
   "outputs": [],
   "source": [
    "# determinsitic sample based on condition\n",
    "sampled_movies = movies_df.loc[movies_df['Gross'] > 5e+08]\n",
    "sampled_movies"
   ]
  },
  {
   "cell_type": "markdown",
   "metadata": {},
   "source": [
    "### Probability sample\n",
    "- Before the sample is drawn, you have to know the selection probability of every group of people in the population\n",
    "- Not all individuals have to have equal chance of being selected"
   ]
  },
  {
   "cell_type": "code",
   "execution_count": null,
   "metadata": {},
   "outputs": [],
   "source": [
    "# simple random sample\n",
    "random_movies = movies_df.sample(20)\n",
    "display(random_movies)\n",
    "\n",
    "# non-simple probabilty sample\n",
    "start = np.random.choice(np.arange(10))\n",
    "sampled_movies = movies_df.iloc[np.arange(start, movies_df.shape[0], 10)]\n",
    "sampled_movies"
   ]
  },
  {
   "cell_type": "markdown",
   "metadata": {},
   "source": [
    "#### Questions:\n",
    "- What is the probability to get the sample we got in the last case?\n",
    "- Would selecting all the movies directed by Spielberg be a deterministic sample or a probability sample?\n",
    "- You decide to sample movies of an actor in proportion to the number of movies the actor appeared on. Is that a probability sample or a deterministic sample?\n"
   ]
  },
  {
   "cell_type": "markdown",
   "metadata": {},
   "source": [
    "## Distributions\n",
    "\n",
    "### Probability distribution\n",
    "- All the possible values of the quantity\n",
    "- The probability of each of those values\n",
    "- In some cases, the probability distribution can be worked out mathematically without ever generating (or simulating) the random quantity\n"
   ]
  },
  {
   "cell_type": "code",
   "execution_count": null,
   "metadata": {},
   "outputs": [],
   "source": [
    "die = np.arange(1, 7)\n",
    "die_df = pd.DataFrame({'face': die}) # creating a dataframe (actually a series) directly from a dictionary\n",
    "die_bins = np.arange(0.5, 6.6, 1)\n",
    "\n",
    "sns.displot(die_df, x='face', bins=die_bins, stat='density') "
   ]
  },
  {
   "cell_type": "markdown",
   "metadata": {},
   "source": [
    "### Empirical distribution\n",
    "Based on observations, where observations can be from repetitions of an experiment\n",
    "\n",
    "Empirical Distribution:\n",
    "- All observed values\n",
    "- The proportion of counts of each value\n"
   ]
  },
  {
   "cell_type": "code",
   "execution_count": null,
   "metadata": {
    "scrolled": false
   },
   "outputs": [],
   "source": [
    "# empirical distribution of roll of a die\n",
    "def empirical_hist_die(num_rolls):\n",
    "    die_df = pd.DataFrame({'result': np.random.choice(die, num_rolls)})\n",
    "    sns.displot(die_df, x='result', bins=die_bins, stat='density')\n",
    "    return die_df\n",
    "\n",
    "die_simulation_results = empirical_hist_die(1000)"
   ]
  },
  {
   "cell_type": "code",
   "execution_count": null,
   "metadata": {},
   "outputs": [],
   "source": [
    "die_simulation_results"
   ]
  },
  {
   "cell_type": "markdown",
   "metadata": {},
   "source": [
    "### Exercise\n",
    "\n",
    "Let's look at the distribution of the gross income of movies from the movies dataframe (column Gross)\n",
    "\n",
    "First, we will plot a histogram of the Gross income for all movies"
   ]
  },
  {
   "cell_type": "code",
   "execution_count": null,
   "metadata": {},
   "outputs": [],
   "source": [
    "bins = np.arange(0, np.power(10,9), np.power(10,8))  # bins are between 0 and 10^9)\n",
    "sns.displot(movies_df, x='Gross', bins=bins, stat='density')"
   ]
  },
  {
   "cell_type": "markdown",
   "metadata": {},
   "source": [
    "Now, sample 20 movies at random (recall the sample function from the \"sampling\" part of the notebook). \n",
    "Plot their Gross income. \n",
    "\n",
    "Questions:\n",
    "- Do you expect your sample to include a movie with Gross income 1*10^8 (approximately)? \n",
    "- Do you expect your sample to include a movie with Gross income 8*10^8 (approaximately)? \n",
    "- Which of the above is more likely to be included in your sample? Why?\n",
    "- Increase the sample size to 100 movies. What do you expect would happen to the shape of the distribution?\n",
    "- Bonus: if you used a sample of movies from the last decade (from 2010 or later), how do you expect the distribution of Gross income to look like compared to the distribution of income for all movies? Try to write code to test your prediction\n",
    "\n",
    "You can run the code several time and see if your predictions were correct. \n",
    "\n",
    "Hint: use the same bins as used above, so the plots will be comparable.\n"
   ]
  },
  {
   "cell_type": "code",
   "execution_count": null,
   "metadata": {},
   "outputs": [],
   "source": [
    "# Write code for plotting the Gross income of a random sample of 20 movies\n",
    "\n",
    "\n"
   ]
  },
  {
   "cell_type": "markdown",
   "metadata": {},
   "source": [
    "### Flight delays data\n",
    "Data on delays of __all__ United flights out of SFO in 2015"
   ]
  },
  {
   "cell_type": "code",
   "execution_count": null,
   "metadata": {
    "scrolled": false
   },
   "outputs": [],
   "source": [
    "# read data\n",
    "united_df = pd.read_csv('united.csv')\n",
    "display(united_df.head())\n",
    "united_df.shape[0]"
   ]
  },
  {
   "cell_type": "code",
   "execution_count": null,
   "metadata": {
    "scrolled": true
   },
   "outputs": [],
   "source": [
    "print('minimal delay in data:', united_df.Delay.min())\n",
    "print('maximal delay in data:', united_df.Delay.max())\n"
   ]
  },
  {
   "cell_type": "markdown",
   "metadata": {},
   "source": [
    "We have data on the entire population, so we can look at a histogram for the probability distribution:"
   ]
  },
  {
   "cell_type": "code",
   "execution_count": null,
   "metadata": {
    "scrolled": false
   },
   "outputs": [],
   "source": [
    "# plot probability distribution of delays based on the entire population\n",
    "delay_bins = np.arange(-20, 301, 10)\n",
    "ax = sns.displot(united_df, x='Delay', bins=delay_bins)\n",
    "ax.set(ylabel='number of flights')"
   ]
  },
  {
   "cell_type": "markdown",
   "metadata": {},
   "source": [
    "Let's take a simple random sample from the population, and look at the resulting emprircal distribution"
   ]
  },
  {
   "cell_type": "code",
   "execution_count": null,
   "metadata": {},
   "outputs": [],
   "source": [
    "# sample flights and examine the empirical distribution of the delays\n",
    "def empirical_hist_delay(n):\n",
    "    sampled_flights = united_df.sample(n)\n",
    "    ax = sns.displot(sampled_flights, x='Delay', bins=delay_bins)\n",
    "    \n",
    "empirical_hist_delay(100)    "
   ]
  }
 ],
 "metadata": {
  "kernelspec": {
   "display_name": "Python 3 (ipykernel)",
   "language": "python",
   "name": "python3"
  },
  "language_info": {
   "codemirror_mode": {
    "name": "ipython",
    "version": 3
   },
   "file_extension": ".py",
   "mimetype": "text/x-python",
   "name": "python",
   "nbconvert_exporter": "python",
   "pygments_lexer": "ipython3",
   "version": "3.9.16"
  }
 },
 "nbformat": 4,
 "nbformat_minor": 2
}
