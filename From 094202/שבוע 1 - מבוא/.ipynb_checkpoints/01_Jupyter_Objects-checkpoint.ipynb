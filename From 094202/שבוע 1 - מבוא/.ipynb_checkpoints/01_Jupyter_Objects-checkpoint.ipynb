{
 "cells": [
  {
   "cell_type": "markdown",
   "metadata": {
    "id": "uEXyxl6NJca9",
    "slideshow": {
     "slide_type": "slide"
    }
   },
   "source": [
    "# <font color='red'>Tutorial 1 - Jupyter Notebook & Python Objects</font>"
   ]
  },
  {
   "cell_type": "markdown",
   "metadata": {
    "id": "pqMJ4owgJcbA",
    "slideshow": {
     "slide_type": "slide"
    }
   },
   "source": [
    "## Jupyter Notebook"
   ]
  },
  {
   "cell_type": "markdown",
   "metadata": {
    "id": "f0rSGan9JcbB",
    "slideshow": {
     "slide_type": "subslide"
    }
   },
   "source": [
    "### Why Jupyter Notebook?"
   ]
  },
  {
   "cell_type": "markdown",
   "metadata": {
    "id": "sxuuMkJSJcbB",
    "slideshow": {
     "slide_type": "fragment"
    }
   },
   "source": [
    "Jupyter notebook allows us to create and share documents that contain live code, equations, visualizations, and text. It is very useful for Data Science."
   ]
  },
  {
   "cell_type": "markdown",
   "metadata": {
    "id": "WzFYkYM0JcbB",
    "slideshow": {
     "slide_type": "subslide"
    }
   },
   "source": [
    "### Jupyter Notebook Installation"
   ]
  },
  {
   "cell_type": "markdown",
   "metadata": {
    "id": "ya2i2g3HJcbC",
    "slideshow": {
     "slide_type": "fragment"
    }
   },
   "source": [
    "We can create links within our notebooks using HTML markdown text: <a href='https://jupyter.org/install'><b>Click Me</b> "
   ]
  },
  {
   "cell_type": "markdown",
   "metadata": {
    "id": "jwQxzUqXJcbC",
    "slideshow": {
     "slide_type": "fragment"
    }
   },
   "source": [
    "In general it is strongly recommended to use the <a href='https://www.anaconda.com/distribution/'>Anaconda Distribution</a> to install both Python and Jupyter notebook. Anaconda is popular because it brings many of the tools used in data science with just one install, so it's great for having short and simple setup."
   ]
  },
  {
   "cell_type": "markdown",
   "metadata": {
    "id": "yDlVf4AhzxwM",
    "slideshow": {
     "slide_type": "fragment"
    }
   },
   "source": [
    "We have created a guide for installing the necessary packages with the correct versions using Anaconda to enable you to complete your homework assignments and follow the tutorials smoothly: [**Guide Link**](https://moodle2223.technion.ac.il/mod/folder/view.php?id=234875)"
   ]
  },
  {
   "cell_type": "markdown",
   "metadata": {
    "id": "Hk3ErOnRJcbC",
    "slideshow": {
     "slide_type": "subslide"
    }
   },
   "source": [
    "### Command Palette"
   ]
  },
  {
   "cell_type": "markdown",
   "metadata": {
    "id": "VRe4ZmEZJcbD",
    "slideshow": {
     "slide_type": "fragment"
    }
   },
   "source": [
    "The command palette offers many possible commands to explore, and also presents their keyboard shortcuts. Since occasionally jupyter starts in right-to-left mode, we can use the command palette search bar to look for 'rtl' and choose the 'toggle rtl layout' command to switch to the standard left-to-right mode. <br>\n",
    "The keyboard shortcut Ctrl+Shift+F opens the command palette."
   ]
  },
  {
   "cell_type": "markdown",
   "metadata": {
    "id": "kPNDbReqJcbD",
    "slideshow": {
     "slide_type": "subslide"
    }
   },
   "source": [
    "### Code Cells vs. Markdown Cells"
   ]
  },
  {
   "cell_type": "markdown",
   "metadata": {
    "id": "w2czqa5JJcbD",
    "slideshow": {
     "slide_type": "fragment"
    }
   },
   "source": [
    "# Code cells are used to run python code, while markdown cells are translated to Hypertext Markup Language (HTML) to provide rich text presentation."
   ]
  },
  {
   "cell_type": "markdown",
   "metadata": {
    "id": "Si-rMTK2JcbE",
    "slideshow": {
     "slide_type": "subslide"
    }
   },
   "source": [
    "### Edit mode vs. Command mode"
   ]
  },
  {
   "cell_type": "markdown",
   "metadata": {
    "id": "1hq9HvTsJcbE",
    "slideshow": {
     "slide_type": "fragment"
    }
   },
   "source": [
    "Edit mode enables us to edit the cell's content, action mode enables us to perform various cell actions, such as delete and add cells - D,D to delete a cell, A to add cell above, B to add cell below. We can switch between markdown mode and code mode by entering 'M' or 'Y' respectively while in command mode."
   ]
  },
  {
   "cell_type": "markdown",
   "metadata": {
    "id": "yrOxeJugJcbE",
    "slideshow": {
     "slide_type": "subslide"
    }
   },
   "source": [
    "### Run Code"
   ]
  },
  {
   "cell_type": "markdown",
   "metadata": {
    "id": "f78JGOAtJcbE",
    "slideshow": {
     "slide_type": "fragment"
    }
   },
   "source": [
    "We can use the run button at the top bar or press Shift+Enter to run and advance to next cell or Shift+CTRL to run selected cells, or use the 'cell' tab for more options."
   ]
  },
  {
   "cell_type": "code",
   "execution_count": 1,
   "metadata": {
    "id": "2bo3Zf8QJcbF",
    "outputId": "79244803-01de-4669-edc5-50ca255becad",
    "slideshow": {
     "slide_type": "fragment"
    }
   },
   "outputs": [
    {
     "name": "stdout",
     "output_type": "stream",
     "text": [
      "Hello to Introduction to Data Analysis class!\n"
     ]
    }
   ],
   "source": [
    "print('Hello to Introduction to Data Analysis class!')"
   ]
  },
  {
   "cell_type": "code",
   "execution_count": 2,
   "metadata": {
    "id": "vpG7TfdOJcbF",
    "outputId": "cd9fa106-a943-48c9-8afc-3d73c783ceeb",
    "scrolled": true,
    "slideshow": {
     "slide_type": "fragment"
    }
   },
   "outputs": [
    {
     "data": {
      "text/plain": [
       "8"
      ]
     },
     "execution_count": 2,
     "metadata": {},
     "output_type": "execute_result"
    }
   ],
   "source": [
    "x = 5 \n",
    "y = 3 \n",
    "x+y # No need for print method, Jupyter always visualizes the last cell's line output. to avoid the automatic visualization we can end the line with ';' (Try it!)"
   ]
  },
  {
   "cell_type": "markdown",
   "metadata": {
    "id": "_cmSyWOTJcbG",
    "slideshow": {
     "slide_type": "subslide"
    }
   },
   "source": [
    "### Terminate, Restart and Clear Outputs"
   ]
  },
  {
   "cell_type": "markdown",
   "metadata": {
    "id": "ehQ4kduFJcbG",
    "slideshow": {
     "slide_type": "fragment"
    }
   },
   "source": [
    "We can use the stop button at the top bar to stop a running process, or use the 'kernel' tab for more options."
   ]
  },
  {
   "cell_type": "markdown",
   "metadata": {
    "id": "tdQ8Wy-MJcbG",
    "slideshow": {
     "slide_type": "subslide"
    }
   },
   "source": [
    "### What Are the Numbers Beside the Cell?"
   ]
  },
  {
   "cell_type": "markdown",
   "metadata": {
    "id": "9ed5AqwiJcbG",
    "slideshow": {
     "slide_type": "fragment"
    }
   },
   "source": [
    "The numbers show the order in which cells were executed:"
   ]
  },
  {
   "cell_type": "code",
   "execution_count": 3,
   "metadata": {
    "id": "lE3-eneHJcbH",
    "slideshow": {
     "slide_type": "fragment"
    }
   },
   "outputs": [],
   "source": [
    "number = 5"
   ]
  },
  {
   "cell_type": "code",
   "execution_count": 4,
   "metadata": {
    "id": "ul_gGLVAJcbH",
    "slideshow": {
     "slide_type": "fragment"
    }
   },
   "outputs": [],
   "source": [
    "number = 3"
   ]
  },
  {
   "cell_type": "code",
   "execution_count": 5,
   "metadata": {
    "id": "bmTTWmHeJcbH",
    "outputId": "7cac3680-eb08-40e1-fbc5-c9bc642fa37f",
    "slideshow": {
     "slide_type": "fragment"
    }
   },
   "outputs": [
    {
     "data": {
      "text/plain": [
       "3"
      ]
     },
     "execution_count": 5,
     "metadata": {},
     "output_type": "execute_result"
    }
   ],
   "source": [
    "number"
   ]
  },
  {
   "cell_type": "markdown",
   "metadata": {
    "id": "KPs7p9lZq_ae",
    "slideshow": {
     "slide_type": "subslide"
    }
   },
   "source": [
    "### Visualization in Jupyter Notebook"
   ]
  },
  {
   "cell_type": "code",
   "execution_count": 6,
   "metadata": {
    "id": "29KswriTq_af",
    "slideshow": {
     "slide_type": "fragment"
    }
   },
   "outputs": [],
   "source": [
    "# we will learn how to use these packages throughout the course\n",
    "import matplotlib.pyplot as plt \n",
    "import numpy as np"
   ]
  },
  {
   "cell_type": "code",
   "execution_count": 7,
   "metadata": {
    "id": "GOxHkSSmq_ah",
    "outputId": "072d1343-0958-43e1-ba56-56495d82c854",
    "slideshow": {
     "slide_type": "fragment"
    }
   },
   "outputs": [
    {
     "data": {
      "text/plain": [
       "[<matplotlib.lines.Line2D at 0x1a332ffca60>]"
      ]
     },
     "execution_count": 7,
     "metadata": {},
     "output_type": "execute_result"
    },
    {
     "data": {
      "image/png": "[encoded data removed]",
      "text/plain": [
       "<Figure size 640x480 with 1 Axes>"
      ]
     },
     "metadata": {},
     "output_type": "display_data"
    }
   ],
   "source": [
    "x = np.linspace(0, 10, 100) # create linear space of 100 points between 0 and 10\n",
    "plt.plot(x, np.sin(x))\n",
    "plt.plot(x, np.cos(x))"
   ]
  },
  {
   "cell_type": "code",
   "execution_count": 8,
   "metadata": {
    "id": "IZkRL7WKq_ai",
    "outputId": "c02b0fb5-73f9-454e-a06d-d83354d661be",
    "slideshow": {
     "slide_type": "fragment"
    }
   },
   "outputs": [
    {
     "data": {
      "text/latex": [
       "$\\displaystyle R^2=x^2+y^2$"
      ],
      "text/plain": [
       "<IPython.core.display.Math object>"
      ]
     },
     "execution_count": 8,
     "metadata": {},
     "output_type": "execute_result"
    }
   ],
   "source": [
    "from IPython.display import Math\n",
    "Math('R^2=x^2+y^2')"
   ]
  },
  {
   "cell_type": "markdown",
   "metadata": {
    "id": "39r5NY3_JcbI",
    "slideshow": {
     "slide_type": "slide"
    }
   },
   "source": [
    "## Python Objects"
   ]
  },
  {
   "cell_type": "markdown",
   "metadata": {
    "id": "UY8hiiJLJcbI",
    "slideshow": {
     "slide_type": "subslide"
    }
   },
   "source": [
    "### Python Modules and Packages"
   ]
  },
  {
   "cell_type": "markdown",
   "metadata": {
    "id": "M2KZFos8JcbI",
    "slideshow": {
     "slide_type": "fragment"
    }
   },
   "source": [
    "Throughout the course we will use various Python modules and packages. A module is a file consisting of Python code, it can define functions, classes and variables. A package is a collection of Python modules: while a module is a single Python file, a package is a directory of Python modules."
   ]
  },
  {
   "cell_type": "markdown",
   "metadata": {
    "id": "ZLlQK-FqJcbI",
    "slideshow": {
     "slide_type": "subslide"
    }
   },
   "source": [
    "### Python Objects & Classes"
   ]
  },
  {
   "cell_type": "markdown",
   "metadata": {
    "id": "oFeO440CJcbI",
    "slideshow": {
     "slide_type": "fragment"
    }
   },
   "source": [
    "Python is an object oriented programming language - it focuses on objects. An object is simply a collection of data (variables) and methods (functions) that act on those data. Similarly, a class is a blueprint for that object. We can think of class as a sketch (prototype) of a house. It contains all the details about the floors, doors, windows etc. Based on these descriptions we build the house. House is the object. As many houses can be made from a house's blueprint, we can create many objects from a class. \n",
    "\n",
    "An object is also called an instance of a class, and the process of creating this object is called instantiation."
   ]
  },
  {
   "cell_type": "markdown",
   "metadata": {
    "id": "Tg-f8MeQJcbI",
    "slideshow": {
     "slide_type": "subslide"
    }
   },
   "source": [
    "In the following example we define a Human class that contains the data (or attributes) height and weight, and provides the functionality to calculate BMI (Body Mass Index) using its attributes:"
   ]
  },
  {
   "cell_type": "code",
   "execution_count": 9,
   "metadata": {
    "id": "OKVNERtpJcbJ",
    "slideshow": {
     "slide_type": "fragment"
    }
   },
   "outputs": [],
   "source": [
    "class Human:\n",
    "    def __init__(self, height, weight): # Executed when the class is beign instantiated\n",
    "        self.height = height\n",
    "        self.weight = weight\n",
    "        \n",
    "    def calculate_bmi(self):\n",
    "        return self.weight / self.height**2"
   ]
  },
  {
   "cell_type": "markdown",
   "metadata": {
    "id": "VMkMVPtJJcbJ",
    "slideshow": {
     "slide_type": "subslide"
    }
   },
   "source": [
    "Now we can instantiate Human objects using the Human class:"
   ]
  },
  {
   "cell_type": "code",
   "execution_count": 10,
   "metadata": {
    "id": "Fbz0TRX-JcbJ",
    "slideshow": {
     "slide_type": "fragment"
    }
   },
   "outputs": [],
   "source": [
    "human_1 = Human(1.95, 90)\n",
    "human_2 = Human(1.86, 73)"
   ]
  },
  {
   "cell_type": "markdown",
   "metadata": {
    "id": "J5w1mXhlJcbJ",
    "slideshow": {
     "slide_type": "fragment"
    }
   },
   "source": [
    "We can use the auto-complete option (TAB) to explore the object's attributes and functionality:"
   ]
  },
  {
   "cell_type": "code",
   "execution_count": 11,
   "metadata": {
    "id": "2Idm5eA3JcbJ",
    "outputId": "680874de-e801-4bab-921f-926501914294",
    "slideshow": {
     "slide_type": "fragment"
    }
   },
   "outputs": [
    {
     "data": {
      "text/plain": [
       "21.10070528384784"
      ]
     },
     "execution_count": 11,
     "metadata": {},
     "output_type": "execute_result"
    }
   ],
   "source": [
    "human_2.calculate_bmi()"
   ]
  },
  {
   "cell_type": "markdown",
   "metadata": {
    "id": "B8DtalulpkU-",
    "slideshow": {
     "slide_type": "slide"
    }
   },
   "source": [
    "## Generative AI"
   ]
  },
  {
   "cell_type": "markdown",
   "metadata": {
    "id": "MljBzY-jpwcF",
    "slideshow": {
     "slide_type": "fragment"
    }
   },
   "source": [
    "As you might have seen in the course syllabus, using generative AI tools such as ChatGPT is not forbidden. If you want to use it, **you will have to document the full conversation with the chatbot and submit it** as part of your homework submission. In addition, **you have to declare in your homework that you have been assisted by a Generative AI tool**."
   ]
  },
  {
   "cell_type": "markdown",
   "metadata": {
    "id": "VkdlKf-SgNyL",
    "slideshow": {
     "slide_type": "subslide"
    }
   },
   "source": [
    "### What is Generative AI?"
   ]
  },
  {
   "cell_type": "markdown",
   "metadata": {
    "id": "QQ4KSrcphPft",
    "slideshow": {
     "slide_type": "fragment"
    }
   },
   "source": [
    "Generative AI is a branch of artificial intelligence that involves creating machines that can generate data or content. In the context of our course, generative AI tools like ChatGPT can be used to help with certain tasks, such as generating code or providing insights into different tasks and questions."
   ]
  },
  {
   "cell_type": "markdown",
   "metadata": {
    "id": "tQ_r3edftnI1",
    "slideshow": {
     "slide_type": "subslide"
    }
   },
   "source": [
    "### Should I use generative tool to help me in my homework?"
   ]
  },
  {
   "cell_type": "markdown",
   "metadata": {
    "id": "KgF1sKqxtw94",
    "slideshow": {
     "slide_type": "fragment"
    }
   },
   "source": [
    "There are pros and cons.<br>\n",
    "\n",
    "Pros:\n",
    "\n",
    "- Can help generate code quickly.\n",
    "- Can provide insights into syntax and bugs and introduce new functions and abilities of Python and the packages used in the course.\n",
    "- Can help develop \"prompting\" skills which will probably be important in the future.\n",
    "\n",
    "\n",
    "Cons:\n",
    "\n",
    "- May provide inaccurate or incomplete information (hallucinations).\n",
    "- Can be over-relied on, undermining learning and understanding.\n",
    "- May provide answers that are superficially convincing but incorrect, which could result in lower grades if not checked thoroughly.\n"
   ]
  },
  {
   "cell_type": "markdown",
   "metadata": {
    "id": "S5yWW8_xtbvR",
    "slideshow": {
     "slide_type": "subslide"
    }
   },
   "source": [
    "### How to proparly use ChatGPT?"
   ]
  },
  {
   "cell_type": "markdown",
   "metadata": {
    "id": "XPwKtm-z05g9",
    "slideshow": {
     "slide_type": "fragment"
    }
   },
   "source": [
    "Follow these general tips:\n",
    "\n",
    "- Consider whether or not you really need to use ChatGPT for the task at hand.\n",
    "- Use proper English, as ChatGPT may struggle with other languages (especially Hebrew) and provide inaccurate information.\n",
    "- Define clear prompts or questions to help guide ChatGPT's responses.\n",
    "- Check the information provided by ChatGPT for accuracy and validity before relying on it.\n",
    "- Document your use of ChatGPT and declare it in your homework submission."
   ]
  },
  {
   "cell_type": "markdown",
   "metadata": {
    "id": "hcm7yeELkW6q",
    "slideshow": {
     "slide_type": "subslide"
    }
   },
   "source": [
    "**Good use case:**\n",
    "\n",
    "Let's say you are working on a project that involves cleaning a large dataset of customer reviews for a product. You have a general idea of how to use Python to preprocess the data, but you're not entirely sure how to remove all the stop words and punctuation marks from the text.\n",
    "\n",
    "In this scenario, using ChatGPT to ask for help with the specific Python commands you need to clean the data could be a good use of the tool. You could ask ChatGPT to generate code snippets for removing stop words and punctuation, and use these snippets as a starting point for your own code.\n",
    "\n",
    "**Bad use case:**\n",
    "\n",
    "On the other hand, let's say you are working on a homework assignment that involves analyzing a dataset and answering a series of questions related to the data. You haven't fully understood the concepts or techniques needed to solve the problems, so you turn to ChatGPT for help.\n",
    "\n",
    "In this scenario, using ChatGPT to provide the answers to the questions without actually understanding the underlying concepts or techniques would be a bad use of the tool. While ChatGPT may provide some guidance or hints, relying too heavily on the tool without developing your own understanding could lead to incomplete or incorrect answers and hinder your learning progress."
   ]
  }
 ],
 "metadata": {
  "colab": {
   "provenance": []
  },
  "kernelspec": {
   "display_name": "Python 3 (ipykernel)",
   "language": "python",
   "name": "python3"
  },
  "language_info": {
   "codemirror_mode": {
    "name": "ipython",
    "version": 3
   },
   "file_extension": ".py",
   "mimetype": "text/x-python",
   "name": "python",
   "nbconvert_exporter": "python",
   "pygments_lexer": "ipython3",
   "version": "3.9.16"
  }
 },
 "nbformat": 4,
 "nbformat_minor": 1
}
