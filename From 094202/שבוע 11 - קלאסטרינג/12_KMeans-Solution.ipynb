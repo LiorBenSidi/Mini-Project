{
 "cells": [
  {
   "cell_type": "markdown",
   "metadata": {
    "id": "Fo8umw4ctqD-",
    "tags": []
   },
   "source": [
    "# <font color=red>Tutorial 11 - Classification Evaluation and Clustering (K-Means)</font>"
   ]
  },
  {
   "cell_type": "code",
   "execution_count": 1,
   "metadata": {
    "executionInfo": {
     "elapsed": 15,
     "status": "ok",
     "timestamp": 1655268905752,
     "user": {
      "displayName": "Alex Tuisov",
      "userId": "04882083328890138876"
     },
     "user_tz": -180
    },
    "id": "wm4R5z1mtqEC"
   },
   "outputs": [],
   "source": [
    "import numpy as np\n",
    "import pandas as pd\n",
    "import matplotlib.pyplot as plt\n",
    "import seaborn as sns\n",
    "import matplotlib.style as style\n",
    "style.use('tableau-colorblind10')\n",
    "sns.set_palette(\"viridis\")"
   ]
  },
  {
   "cell_type": "markdown",
   "metadata": {
    "id": "603XCY2DtqED"
   },
   "source": [
    "## Classification Evaluation Metrics"
   ]
  },
  {
   "cell_type": "markdown",
   "metadata": {
    "id": "skkQW1antqED"
   },
   "source": [
    "There are many classification metrics in the scikit-learn metrics package, let's examine some of them:"
   ]
  },
  {
   "cell_type": "code",
   "execution_count": 2,
   "metadata": {
    "executionInfo": {
     "elapsed": 833,
     "status": "ok",
     "timestamp": 1655268906574,
     "user": {
      "displayName": "Alex Tuisov",
      "userId": "04882083328890138876"
     },
     "user_tz": -180
    },
    "id": "ZztK1TfntqEE"
   },
   "outputs": [],
   "source": [
    "from sklearn.metrics import accuracy_score, precision_score, recall_score, f1_score, confusion_matrix\n",
    "\n",
    "real_data    = np.array([0, 0, 0, 0, 0, 0, 0, 0, 0, 0, 0, 0, 0, 0, 0, 0, 0, 0, 1, 1])\n",
    "classifier_1 = np.array([0, 0, 0, 0, 0, 0, 0, 0, 0, 0, 0, 0, 0, 0, 0, 0, 1, 1, 0, 1])\n",
    "classifier_2 = np.array([0, 0, 0, 0, 0, 0, 0, 0, 0, 0, 0, 0, 0, 0, 0, 1, 1, 1, 1, 1])"
   ]
  },
  {
   "cell_type": "markdown",
   "metadata": {
    "id": "bxR_VazttqEE"
   },
   "source": [
    "We can use the `confusion_matrix()` method to create a confusion matrix:"
   ]
  },
  {
   "cell_type": "code",
   "execution_count": 3,
   "metadata": {
    "colab": {
     "base_uri": "https://localhost:8080/"
    },
    "executionInfo": {
     "elapsed": 18,
     "status": "ok",
     "timestamp": 1655268906574,
     "user": {
      "displayName": "Alex Tuisov",
      "userId": "04882083328890138876"
     },
     "user_tz": -180
    },
    "id": "_l-6G4K8tqEE",
    "outputId": "3e4bffff-b458-43b5-f370-e3ecb71e8b2a"
   },
   "outputs": [
    {
     "data": {
      "text/html": [
       "<div>\n",
       "<style scoped>\n",
       "    .dataframe tbody tr th:only-of-type {\n",
       "        vertical-align: middle;\n",
       "    }\n",
       "\n",
       "    .dataframe tbody tr th {\n",
       "        vertical-align: top;\n",
       "    }\n",
       "\n",
       "    .dataframe thead th {\n",
       "        text-align: right;\n",
       "    }\n",
       "</style>\n",
       "<table border=\"1\" class=\"dataframe\">\n",
       "  <thead>\n",
       "    <tr style=\"text-align: right;\">\n",
       "      <th></th>\n",
       "      <th>pred: 0</th>\n",
       "      <th>pred: 1</th>\n",
       "    </tr>\n",
       "  </thead>\n",
       "  <tbody>\n",
       "    <tr>\n",
       "      <th>real: 0</th>\n",
       "      <td>16</td>\n",
       "      <td>2</td>\n",
       "    </tr>\n",
       "    <tr>\n",
       "      <th>real: 1</th>\n",
       "      <td>1</td>\n",
       "      <td>1</td>\n",
       "    </tr>\n",
       "  </tbody>\n",
       "</table>\n",
       "</div>"
      ],
      "text/plain": [
       "         pred: 0  pred: 1\n",
       "real: 0       16        2\n",
       "real: 1        1        1"
      ]
     },
     "execution_count": 3,
     "metadata": {},
     "output_type": "execute_result"
    }
   ],
   "source": [
    "cmtx = pd.DataFrame(\n",
    "    confusion_matrix(real_data, classifier_1, labels=[0, 1]), \n",
    "    index=['real: 0', 'real: 1'], columns=['pred: 0', 'pred: 1']\n",
    ")\n",
    "cmtx"
   ]
  },
  {
   "cell_type": "code",
   "execution_count": 4,
   "metadata": {
    "colab": {
     "base_uri": "https://localhost:8080/"
    },
    "executionInfo": {
     "elapsed": 17,
     "status": "ok",
     "timestamp": 1655268906575,
     "user": {
      "displayName": "Alex Tuisov",
      "userId": "04882083328890138876"
     },
     "user_tz": -180
    },
    "id": "_KWDxHNdtqEG",
    "outputId": "689ccd9b-117f-4112-fd97-8a59a1bf4f66"
   },
   "outputs": [
    {
     "data": {
      "text/html": [
       "<div>\n",
       "<style scoped>\n",
       "    .dataframe tbody tr th:only-of-type {\n",
       "        vertical-align: middle;\n",
       "    }\n",
       "\n",
       "    .dataframe tbody tr th {\n",
       "        vertical-align: top;\n",
       "    }\n",
       "\n",
       "    .dataframe thead th {\n",
       "        text-align: right;\n",
       "    }\n",
       "</style>\n",
       "<table border=\"1\" class=\"dataframe\">\n",
       "  <thead>\n",
       "    <tr style=\"text-align: right;\">\n",
       "      <th></th>\n",
       "      <th>pred: 0</th>\n",
       "      <th>pred: 1</th>\n",
       "    </tr>\n",
       "  </thead>\n",
       "  <tbody>\n",
       "    <tr>\n",
       "      <th>real: 0</th>\n",
       "      <td>15</td>\n",
       "      <td>3</td>\n",
       "    </tr>\n",
       "    <tr>\n",
       "      <th>real: 1</th>\n",
       "      <td>0</td>\n",
       "      <td>2</td>\n",
       "    </tr>\n",
       "  </tbody>\n",
       "</table>\n",
       "</div>"
      ],
      "text/plain": [
       "         pred: 0  pred: 1\n",
       "real: 0       15        3\n",
       "real: 1        0        2"
      ]
     },
     "execution_count": 4,
     "metadata": {},
     "output_type": "execute_result"
    }
   ],
   "source": [
    "cmtx = pd.DataFrame(\n",
    "    confusion_matrix(real_data, classifier_2, labels=[0, 1]), \n",
    "    index=['real: 0', 'real: 1'], \n",
    "    columns=['pred: 0', 'pred: 1']\n",
    ")\n",
    "cmtx"
   ]
  },
  {
   "cell_type": "markdown",
   "metadata": {
    "id": "ENisfwMitqEG"
   },
   "source": [
    "We can also get the accuracy, precision, and recall scores:"
   ]
  },
  {
   "cell_type": "markdown",
   "metadata": {
    "id": "eR_ac3rYtqEH"
   },
   "source": [
    "Accuracy - How many of my predictions are correct?"
   ]
  },
  {
   "cell_type": "code",
   "execution_count": 5,
   "metadata": {
    "colab": {
     "base_uri": "https://localhost:8080/"
    },
    "executionInfo": {
     "elapsed": 16,
     "status": "ok",
     "timestamp": 1655268906575,
     "user": {
      "displayName": "Alex Tuisov",
      "userId": "04882083328890138876"
     },
     "user_tz": -180
    },
    "id": "GFJ7KZ2MtqEH",
    "outputId": "8536b870-11f6-43c1-a7bb-da2a50b10a10"
   },
   "outputs": [
    {
     "data": {
      "text/plain": [
       "0.85"
      ]
     },
     "execution_count": 5,
     "metadata": {},
     "output_type": "execute_result"
    }
   ],
   "source": [
    "accuracy_score(real_data, classifier_1)"
   ]
  },
  {
   "cell_type": "code",
   "execution_count": 6,
   "metadata": {
    "colab": {
     "base_uri": "https://localhost:8080/"
    },
    "executionInfo": {
     "elapsed": 15,
     "status": "ok",
     "timestamp": 1655268906575,
     "user": {
      "displayName": "Alex Tuisov",
      "userId": "04882083328890138876"
     },
     "user_tz": -180
    },
    "id": "2ivSynJttqEH",
    "outputId": "75651507-d7ff-4eea-e44b-a2a75da476d2"
   },
   "outputs": [
    {
     "data": {
      "text/plain": [
       "0.85"
      ]
     },
     "execution_count": 6,
     "metadata": {},
     "output_type": "execute_result"
    }
   ],
   "source": [
    "accuracy_score(real_data, classifier_2)"
   ]
  },
  {
   "cell_type": "markdown",
   "metadata": {
    "id": "POtNGcZ4tqEI"
   },
   "source": [
    "<img src=\"https://upload.wikimedia.org/wikipedia/commons/2/26/Precisionrecall.svg\"></img>"
   ]
  },
  {
   "cell_type": "markdown",
   "metadata": {
    "id": "mUkIh8pNtqEI"
   },
   "source": [
    "Precision - How many retrieved items are relevant?"
   ]
  },
  {
   "cell_type": "code",
   "execution_count": 7,
   "metadata": {
    "colab": {
     "base_uri": "https://localhost:8080/"
    },
    "executionInfo": {
     "elapsed": 14,
     "status": "ok",
     "timestamp": 1655268906576,
     "user": {
      "displayName": "Alex Tuisov",
      "userId": "04882083328890138876"
     },
     "user_tz": -180
    },
    "id": "2lxA6VnytqEI",
    "outputId": "2b914aac-0d64-4ad3-bd8f-38803735cf63"
   },
   "outputs": [
    {
     "data": {
      "text/plain": [
       "0.3333333333333333"
      ]
     },
     "execution_count": 7,
     "metadata": {},
     "output_type": "execute_result"
    }
   ],
   "source": [
    "precision_score(real_data, classifier_1)"
   ]
  },
  {
   "cell_type": "code",
   "execution_count": 8,
   "metadata": {
    "colab": {
     "base_uri": "https://localhost:8080/"
    },
    "executionInfo": {
     "elapsed": 13,
     "status": "ok",
     "timestamp": 1655268906576,
     "user": {
      "displayName": "Alex Tuisov",
      "userId": "04882083328890138876"
     },
     "user_tz": -180
    },
    "id": "WPujE5FitqEJ",
    "outputId": "8cecfec5-bb71-4d9f-e0ba-7a2cd3694925"
   },
   "outputs": [
    {
     "data": {
      "text/plain": [
       "0.4"
      ]
     },
     "execution_count": 8,
     "metadata": {},
     "output_type": "execute_result"
    }
   ],
   "source": [
    "precision_score(real_data, classifier_2)"
   ]
  },
  {
   "cell_type": "markdown",
   "metadata": {
    "id": "Uqv45Ug7tqEJ"
   },
   "source": [
    "Recall - How many relevant items are retreived?"
   ]
  },
  {
   "cell_type": "code",
   "execution_count": 9,
   "metadata": {
    "colab": {
     "base_uri": "https://localhost:8080/"
    },
    "executionInfo": {
     "elapsed": 12,
     "status": "ok",
     "timestamp": 1655268906576,
     "user": {
      "displayName": "Alex Tuisov",
      "userId": "04882083328890138876"
     },
     "user_tz": -180
    },
    "id": "FovZK55KtqEJ",
    "outputId": "2c64ae20-5d78-451f-8e45-a58ee3fc46bb"
   },
   "outputs": [
    {
     "data": {
      "text/plain": [
       "0.5"
      ]
     },
     "execution_count": 9,
     "metadata": {},
     "output_type": "execute_result"
    }
   ],
   "source": [
    "recall_score(real_data, classifier_1)"
   ]
  },
  {
   "cell_type": "code",
   "execution_count": 10,
   "metadata": {
    "colab": {
     "base_uri": "https://localhost:8080/"
    },
    "executionInfo": {
     "elapsed": 12,
     "status": "ok",
     "timestamp": 1655268906577,
     "user": {
      "displayName": "Alex Tuisov",
      "userId": "04882083328890138876"
     },
     "user_tz": -180
    },
    "id": "ISD1kT8GtqEJ",
    "outputId": "00b4176d-1da6-414c-a077-2c2f96ebe715"
   },
   "outputs": [
    {
     "data": {
      "text/plain": [
       "1.0"
      ]
     },
     "execution_count": 10,
     "metadata": {},
     "output_type": "execute_result"
    }
   ],
   "source": [
    "recall_score(real_data, classifier_2)"
   ]
  },
  {
   "cell_type": "markdown",
   "metadata": {
    "id": "KfJ-adNctqEK"
   },
   "source": [
    "F1 score is harmonic average of precision and recall"
   ]
  },
  {
   "cell_type": "markdown",
   "metadata": {
    "id": "JzNj0XI-tqEK"
   },
   "source": [
    "F1 score = $\\dfrac{2*percision*recall}{percision + recall}$"
   ]
  },
  {
   "cell_type": "code",
   "execution_count": 11,
   "metadata": {
    "colab": {
     "base_uri": "https://localhost:8080/"
    },
    "executionInfo": {
     "elapsed": 11,
     "status": "ok",
     "timestamp": 1655268906577,
     "user": {
      "displayName": "Alex Tuisov",
      "userId": "04882083328890138876"
     },
     "user_tz": -180
    },
    "id": "ESiB3JfEtqEK",
    "outputId": "07b48060-c4fa-4271-9b68-8a6b28b45d66"
   },
   "outputs": [
    {
     "data": {
      "text/plain": [
       "0.4"
      ]
     },
     "execution_count": 11,
     "metadata": {},
     "output_type": "execute_result"
    }
   ],
   "source": [
    "f1_score(real_data, classifier_1)"
   ]
  },
  {
   "cell_type": "code",
   "execution_count": 12,
   "metadata": {
    "colab": {
     "base_uri": "https://localhost:8080/"
    },
    "executionInfo": {
     "elapsed": 11,
     "status": "ok",
     "timestamp": 1655268906578,
     "user": {
      "displayName": "Alex Tuisov",
      "userId": "04882083328890138876"
     },
     "user_tz": -180
    },
    "id": "R9xBunVRtqEK",
    "outputId": "15f904c0-18a6-4708-8987-3cf21eaf68ce"
   },
   "outputs": [
    {
     "data": {
      "text/plain": [
       "0.5714285714285715"
      ]
     },
     "execution_count": 12,
     "metadata": {},
     "output_type": "execute_result"
    }
   ],
   "source": [
    "f1_score(real_data, classifier_2)"
   ]
  },
  {
   "cell_type": "markdown",
   "metadata": {
    "id": "L5TIvZ56tqEL"
   },
   "source": [
    "## The K-Means Algorithm"
   ]
  },
  {
   "cell_type": "markdown",
   "metadata": {
    "id": "I6Xjzu3ctqEL"
   },
   "source": [
    "- K-means clustering is a type of unsupervised learning, which is used when you have unlabeled data (i.e., data without defined categories or groups).\n",
    "- The goal of this algorithm is to find groups in the data, with the number of groups represented by the variable K.\n",
    "- The algorithm works iteratively to assign each data point to one of K groups based on the features that are provided. \n",
    "\n",
    "K-means works through the following iterative process:\n",
    "1. Pick a value for K (the number of clusters to create).\n",
    "2. Initialize K 'centroids' in your data.\n",
    "3. Create the clusters - assign each point to the nearest centroid.\n",
    "4. Make the clusters better - move each centroid to the center or its cluster.\n",
    "5. Repeat steps 3-4 until the centroids converge."
   ]
  },
  {
   "cell_type": "markdown",
   "metadata": {
    "id": "sl_UELtDtqEL"
   },
   "source": [
    "We are going to use the Iris data-set. This data consists of 50 samples from each of three species of Iris (Iris setosa, Iris virginica and Iris versicolor). It has four features from each sample: length and width of sepals and petals."
   ]
  },
  {
   "cell_type": "markdown",
   "metadata": {
    "id": "4LtT9lYbtqEL"
   },
   "source": [
    "### Load Iris Data into Dataframe"
   ]
  },
  {
   "cell_type": "code",
   "execution_count": 13,
   "metadata": {
    "colab": {
     "base_uri": "https://localhost:8080/",
     "height": 0
    },
    "executionInfo": {
     "elapsed": 10,
     "status": "ok",
     "timestamp": 1655268906578,
     "user": {
      "displayName": "Alex Tuisov",
      "userId": "04882083328890138876"
     },
     "user_tz": -180
    },
    "id": "dzW-zOYWtqEL",
    "outputId": "7b8069c2-377e-45b3-d4f7-8d170c8fc1a0"
   },
   "outputs": [
    {
     "data": {
      "text/html": [
       "<div>\n",
       "<style scoped>\n",
       "    .dataframe tbody tr th:only-of-type {\n",
       "        vertical-align: middle;\n",
       "    }\n",
       "\n",
       "    .dataframe tbody tr th {\n",
       "        vertical-align: top;\n",
       "    }\n",
       "\n",
       "    .dataframe thead th {\n",
       "        text-align: right;\n",
       "    }\n",
       "</style>\n",
       "<table border=\"1\" class=\"dataframe\">\n",
       "  <thead>\n",
       "    <tr style=\"text-align: right;\">\n",
       "      <th></th>\n",
       "      <th>sepal length (cm)</th>\n",
       "      <th>sepal width (cm)</th>\n",
       "      <th>petal length (cm)</th>\n",
       "      <th>petal width (cm)</th>\n",
       "      <th>class</th>\n",
       "    </tr>\n",
       "  </thead>\n",
       "  <tbody>\n",
       "    <tr>\n",
       "      <th>0</th>\n",
       "      <td>5.1</td>\n",
       "      <td>3.5</td>\n",
       "      <td>1.4</td>\n",
       "      <td>0.2</td>\n",
       "      <td>0</td>\n",
       "    </tr>\n",
       "    <tr>\n",
       "      <th>1</th>\n",
       "      <td>4.9</td>\n",
       "      <td>3.0</td>\n",
       "      <td>1.4</td>\n",
       "      <td>0.2</td>\n",
       "      <td>0</td>\n",
       "    </tr>\n",
       "    <tr>\n",
       "      <th>2</th>\n",
       "      <td>4.7</td>\n",
       "      <td>3.2</td>\n",
       "      <td>1.3</td>\n",
       "      <td>0.2</td>\n",
       "      <td>0</td>\n",
       "    </tr>\n",
       "    <tr>\n",
       "      <th>3</th>\n",
       "      <td>4.6</td>\n",
       "      <td>3.1</td>\n",
       "      <td>1.5</td>\n",
       "      <td>0.2</td>\n",
       "      <td>0</td>\n",
       "    </tr>\n",
       "    <tr>\n",
       "      <th>4</th>\n",
       "      <td>5.0</td>\n",
       "      <td>3.6</td>\n",
       "      <td>1.4</td>\n",
       "      <td>0.2</td>\n",
       "      <td>0</td>\n",
       "    </tr>\n",
       "  </tbody>\n",
       "</table>\n",
       "</div>"
      ],
      "text/plain": [
       "   sepal length (cm)  sepal width (cm)  petal length (cm)  petal width (cm)  \\\n",
       "0                5.1               3.5                1.4               0.2   \n",
       "1                4.9               3.0                1.4               0.2   \n",
       "2                4.7               3.2                1.3               0.2   \n",
       "3                4.6               3.1                1.5               0.2   \n",
       "4                5.0               3.6                1.4               0.2   \n",
       "\n",
       "   class  \n",
       "0      0  \n",
       "1      0  \n",
       "2      0  \n",
       "3      0  \n",
       "4      0  "
      ]
     },
     "execution_count": 13,
     "metadata": {},
     "output_type": "execute_result"
    }
   ],
   "source": [
    "from sklearn import datasets\n",
    "\n",
    "iris_data = datasets.load_iris()\n",
    "# print(iris_data['DESCR'])\n",
    "\n",
    "# Create dataframe containing only the features\n",
    "iris_df = pd.DataFrame(iris_data.data, columns=iris_data.feature_names)\n",
    "iris_df['class'] = iris_data.target\n",
    "iris_df.head()"
   ]
  },
  {
   "cell_type": "markdown",
   "metadata": {
    "id": "L4LjCWE6tqEM"
   },
   "source": [
    "### Visualize the data"
   ]
  },
  {
   "cell_type": "code",
   "execution_count": 14,
   "metadata": {
    "colab": {
     "base_uri": "https://localhost:8080/",
     "height": 0
    },
    "executionInfo": {
     "elapsed": 882,
     "status": "ok",
     "timestamp": 1655268907451,
     "user": {
      "displayName": "Alex Tuisov",
      "userId": "04882083328890138876"
     },
     "user_tz": -180
    },
    "id": "ylsRfECIH1Cd",
    "outputId": "04aff35c-8688-4637-ea4a-144ff1b34b78"
   },
   "outputs": [
    {
     "data": {
      "image/png": "[encoded data removed]",
      "text/plain": [
       "<Figure size 1152x576 with 2 Axes>"
      ]
     },
     "metadata": {
      "needs_background": "light"
     },
     "output_type": "display_data"
    }
   ],
   "source": [
    "fig, axs = plt.subplots(1, 2)\n",
    "colors = ['red', 'orange', 'blue'] # create color map, color for each iris type\n",
    "sns.scatterplot(data=iris_df, x='sepal length (cm)', y='sepal width (cm)', hue='class', palette=colors, ax=axs[0])\n",
    "sns.scatterplot(data=iris_df, x='petal length (cm)', y='petal width (cm)', hue='class', palette=colors, ax=axs[1])\n",
    "axs[0].set_title('Sepal Length vs Sepal Width')\n",
    "axs[1].set_title('Petal Length vs Petal Width')\n",
    "fig.set_size_inches(16, 8)"
   ]
  },
  {
   "cell_type": "markdown",
   "metadata": {
    "id": "I-XziNIvtqEM"
   },
   "source": [
    "We can clearly see the grouping in the plots with the red dots, which correspond to species Setosa. The orange and blue dots are not so clearly separable."
   ]
  },
  {
   "cell_type": "markdown",
   "metadata": {
    "id": "BkCNJTNxtqEM"
   },
   "source": [
    "## K-Means"
   ]
  },
  {
   "cell_type": "markdown",
   "metadata": {
    "id": "ZjYViCu2tqEM"
   },
   "source": [
    "We know that there are 3 labels, but in the next section we will ignore it and pretend we have a real clustering problem where we don't know the number of clusters. We'll use only the petal information for the clustering task to stay in 2D and to be able to visualize the results."
   ]
  },
  {
   "cell_type": "code",
   "execution_count": 15,
   "metadata": {
    "colab": {
     "base_uri": "https://localhost:8080/",
     "height": 206
    },
    "executionInfo": {
     "elapsed": 31,
     "status": "ok",
     "timestamp": 1655268907452,
     "user": {
      "displayName": "Alex Tuisov",
      "userId": "04882083328890138876"
     },
     "user_tz": -180
    },
    "id": "rHURo8LPtqEN",
    "outputId": "47ca5a13-9777-462e-9e65-2f3a5bec264b"
   },
   "outputs": [
    {
     "data": {
      "text/html": [
       "<div>\n",
       "<style scoped>\n",
       "    .dataframe tbody tr th:only-of-type {\n",
       "        vertical-align: middle;\n",
       "    }\n",
       "\n",
       "    .dataframe tbody tr th {\n",
       "        vertical-align: top;\n",
       "    }\n",
       "\n",
       "    .dataframe thead th {\n",
       "        text-align: right;\n",
       "    }\n",
       "</style>\n",
       "<table border=\"1\" class=\"dataframe\">\n",
       "  <thead>\n",
       "    <tr style=\"text-align: right;\">\n",
       "      <th></th>\n",
       "      <th>petal length (cm)</th>\n",
       "      <th>petal width (cm)</th>\n",
       "    </tr>\n",
       "  </thead>\n",
       "  <tbody>\n",
       "    <tr>\n",
       "      <th>0</th>\n",
       "      <td>1.4</td>\n",
       "      <td>0.2</td>\n",
       "    </tr>\n",
       "    <tr>\n",
       "      <th>1</th>\n",
       "      <td>1.4</td>\n",
       "      <td>0.2</td>\n",
       "    </tr>\n",
       "    <tr>\n",
       "      <th>2</th>\n",
       "      <td>1.3</td>\n",
       "      <td>0.2</td>\n",
       "    </tr>\n",
       "    <tr>\n",
       "      <th>3</th>\n",
       "      <td>1.5</td>\n",
       "      <td>0.2</td>\n",
       "    </tr>\n",
       "    <tr>\n",
       "      <th>4</th>\n",
       "      <td>1.4</td>\n",
       "      <td>0.2</td>\n",
       "    </tr>\n",
       "  </tbody>\n",
       "</table>\n",
       "</div>"
      ],
      "text/plain": [
       "   petal length (cm)  petal width (cm)\n",
       "0                1.4               0.2\n",
       "1                1.4               0.2\n",
       "2                1.3               0.2\n",
       "3                1.5               0.2\n",
       "4                1.4               0.2"
      ]
     },
     "execution_count": 15,
     "metadata": {},
     "output_type": "execute_result"
    }
   ],
   "source": [
    "df_km = iris_df[['petal length (cm)', 'petal width (cm)']]\n",
    "df_km.head()"
   ]
  },
  {
   "cell_type": "markdown",
   "metadata": {
    "id": "QKEVRyditqEN"
   },
   "source": [
    "### Normalization"
   ]
  },
  {
   "cell_type": "markdown",
   "metadata": {
    "id": "aa77RSw8PsOx"
   },
   "source": [
    "Min-max scaling is a common feature pre-processing technique which results in scaled data values that fall in the range [0,1]:\n",
    "\n",
    "$\\dfrac{x_i - min(X)}{max(X) - min(X)}$"
   ]
  },
  {
   "cell_type": "code",
   "execution_count": 16,
   "metadata": {
    "colab": {
     "base_uri": "https://localhost:8080/",
     "height": 0
    },
    "executionInfo": {
     "elapsed": 27,
     "status": "ok",
     "timestamp": 1655268907453,
     "user": {
      "displayName": "Alex Tuisov",
      "userId": "04882083328890138876"
     },
     "user_tz": -180
    },
    "id": "uK6YUhhkPsOx",
    "outputId": "27d923d0-d707-4624-9d9c-5830e04a2e44"
   },
   "outputs": [
    {
     "data": {
      "text/html": [
       "<div>\n",
       "<style scoped>\n",
       "    .dataframe tbody tr th:only-of-type {\n",
       "        vertical-align: middle;\n",
       "    }\n",
       "\n",
       "    .dataframe tbody tr th {\n",
       "        vertical-align: top;\n",
       "    }\n",
       "\n",
       "    .dataframe thead th {\n",
       "        text-align: right;\n",
       "    }\n",
       "</style>\n",
       "<table border=\"1\" class=\"dataframe\">\n",
       "  <thead>\n",
       "    <tr style=\"text-align: right;\">\n",
       "      <th></th>\n",
       "      <th>petal length (cm)</th>\n",
       "      <th>petal width (cm)</th>\n",
       "    </tr>\n",
       "  </thead>\n",
       "  <tbody>\n",
       "    <tr>\n",
       "      <th>0</th>\n",
       "      <td>0.067797</td>\n",
       "      <td>0.041667</td>\n",
       "    </tr>\n",
       "    <tr>\n",
       "      <th>1</th>\n",
       "      <td>0.067797</td>\n",
       "      <td>0.041667</td>\n",
       "    </tr>\n",
       "    <tr>\n",
       "      <th>2</th>\n",
       "      <td>0.050847</td>\n",
       "      <td>0.041667</td>\n",
       "    </tr>\n",
       "    <tr>\n",
       "      <th>3</th>\n",
       "      <td>0.084746</td>\n",
       "      <td>0.041667</td>\n",
       "    </tr>\n",
       "    <tr>\n",
       "      <th>4</th>\n",
       "      <td>0.067797</td>\n",
       "      <td>0.041667</td>\n",
       "    </tr>\n",
       "  </tbody>\n",
       "</table>\n",
       "</div>"
      ],
      "text/plain": [
       "   petal length (cm)  petal width (cm)\n",
       "0           0.067797          0.041667\n",
       "1           0.067797          0.041667\n",
       "2           0.050847          0.041667\n",
       "3           0.084746          0.041667\n",
       "4           0.067797          0.041667"
      ]
     },
     "execution_count": 16,
     "metadata": {},
     "output_type": "execute_result"
    }
   ],
   "source": [
    "from sklearn.preprocessing import MinMaxScaler\n",
    "\n",
    "df_columns = df_km.columns\n",
    "scaler = MinMaxScaler()\n",
    "scaled_np_matrix = scaler.fit_transform(df_km)\n",
    "\n",
    "km_scaled_df = pd.DataFrame(scaled_np_matrix, columns=df_columns)\n",
    "km_scaled_df.head()"
   ]
  },
  {
   "cell_type": "markdown",
   "metadata": {
    "id": "WgqoTrYztqEN"
   },
   "source": [
    "### The Elbow method"
   ]
  },
  {
   "cell_type": "markdown",
   "metadata": {
    "id": "6wQrYDCKtqEN"
   },
   "source": [
    "- The Elbow method gives us an idea on what a good number of clusters would be, based on the Sum of Squared Errors (SSE) - the sum of distances between data points and their assigned clusters’ centroids. \n",
    "- According to the elbow method we should pick the K at the spot where the SSE starts to flatten out and forming an elbow - from this point adding more clusters won't decrease the SSE significantly."
   ]
  },
  {
   "cell_type": "code",
   "execution_count": 17,
   "metadata": {
    "colab": {
     "base_uri": "https://localhost:8080/",
     "height": 0
    },
    "executionInfo": {
     "elapsed": 464,
     "status": "ok",
     "timestamp": 1655268907893,
     "user": {
      "displayName": "Alex Tuisov",
      "userId": "04882083328890138876"
     },
     "user_tz": -180
    },
    "id": "izx6gTuktqEO",
    "outputId": "e36e58d3-4beb-495e-890a-d44bb1829d74"
   },
   "outputs": [
    {
     "data": {
      "image/png": "[encoded data removed]",
      "text/plain": [
       "<Figure size 432x432 with 1 Axes>"
      ]
     },
     "metadata": {
      "needs_background": "light"
     },
     "output_type": "display_data"
    }
   ],
   "source": [
    "from sklearn.cluster import KMeans\n",
    "\n",
    "sse = []\n",
    "for k in range(2, 11):\n",
    "    km = KMeans(n_clusters=k) # Initialize K-Means model with k centroids\n",
    "    km.fit(km_scaled_df) # Run algorithm and create clusters\n",
    "    sse.append(km.inertia_) # SSE calculated is provided in the KMeans object, it calculates SSE automatically, \n",
    "                            # and given in the inertia_ attribute    \n",
    "plt.figure(figsize=(6,6))\n",
    "plt.plot(range(2, 11), sse, '-o')\n",
    "plt.xlabel('Number of clusters')\n",
    "plt.ylabel('Sum of Squared Errors (SSE)')\n",
    "plt.title('Elbow method results');"
   ]
  },
  {
   "cell_type": "markdown",
   "metadata": {
    "id": "0CfAz8_TtqEO"
   },
   "source": [
    "We can notice that from the point of k=3 the SSE starts to flatten and form an elbow, so that will be our number of clusters input for the K-means algorithm"
   ]
  },
  {
   "cell_type": "markdown",
   "metadata": {
    "id": "YhVX4tSmtqEO"
   },
   "source": [
    "### Run & Evaluate K-Means"
   ]
  },
  {
   "cell_type": "markdown",
   "metadata": {
    "id": "-EPt495WtqEO"
   },
   "source": [
    "Initialize the KMeans object:"
   ]
  },
  {
   "cell_type": "code",
   "execution_count": 18,
   "metadata": {
    "executionInfo": {
     "elapsed": 23,
     "status": "ok",
     "timestamp": 1655268907894,
     "user": {
      "displayName": "Alex Tuisov",
      "userId": "04882083328890138876"
     },
     "user_tz": -180
    },
    "id": "XlZr-D0vtqEO"
   },
   "outputs": [],
   "source": [
    "km = KMeans(n_clusters=3)"
   ]
  },
  {
   "cell_type": "markdown",
   "metadata": {
    "id": "Im5xKPqBtqEO"
   },
   "source": [
    "Run KMeans algorithm on the `df_km` data:"
   ]
  },
  {
   "cell_type": "code",
   "execution_count": 19,
   "metadata": {
    "colab": {
     "base_uri": "https://localhost:8080/"
    },
    "executionInfo": {
     "elapsed": 22,
     "status": "ok",
     "timestamp": 1655268907895,
     "user": {
      "displayName": "Alex Tuisov",
      "userId": "04882083328890138876"
     },
     "user_tz": -180
    },
    "id": "WL0bU0HhtqEO",
    "outputId": "ea52a2d3-3f9f-44c5-8041-0af9a4168f48"
   },
   "outputs": [
    {
     "data": {
      "text/plain": [
       "KMeans(n_clusters=3)"
      ]
     },
     "execution_count": 19,
     "metadata": {},
     "output_type": "execute_result"
    }
   ],
   "source": [
    "km.fit(km_scaled_df)"
   ]
  },
  {
   "cell_type": "markdown",
   "metadata": {
    "id": "bLaOSKH1tqEP"
   },
   "source": [
    "We can access the clusters centers using the `cluster_centers_` attribute:"
   ]
  },
  {
   "cell_type": "code",
   "execution_count": 20,
   "metadata": {
    "colab": {
     "base_uri": "https://localhost:8080/"
    },
    "executionInfo": {
     "elapsed": 19,
     "status": "ok",
     "timestamp": 1655268907896,
     "user": {
      "displayName": "Alex Tuisov",
      "userId": "04882083328890138876"
     },
     "user_tz": -180
    },
    "id": "L_mK5dv7tqEP",
    "outputId": "479e68e4-b9d8-4d20-8937-dcc4dbe541ba"
   },
   "outputs": [
    {
     "data": {
      "text/plain": [
       "array([[0.7740113 , 0.81510417],\n",
       "       [0.07830508, 0.06083333],\n",
       "       [0.55867014, 0.51041667]])"
      ]
     },
     "execution_count": 20,
     "metadata": {},
     "output_type": "execute_result"
    }
   ],
   "source": [
    "km.cluster_centers_"
   ]
  },
  {
   "cell_type": "markdown",
   "metadata": {
    "id": "FsUyen1ktqEP"
   },
   "source": [
    "We can access the predicted labels using the `labels_` attribute:"
   ]
  },
  {
   "cell_type": "code",
   "execution_count": 21,
   "metadata": {
    "colab": {
     "base_uri": "https://localhost:8080/"
    },
    "executionInfo": {
     "elapsed": 18,
     "status": "ok",
     "timestamp": 1655268907897,
     "user": {
      "displayName": "Alex Tuisov",
      "userId": "04882083328890138876"
     },
     "user_tz": -180
    },
    "id": "ivJVUNyftqEP",
    "outputId": "c84d5b38-c49d-4d89-9df4-875531b73970"
   },
   "outputs": [
    {
     "data": {
      "text/plain": [
       "array([1, 1, 1, 1, 1, 1, 1, 1, 1, 1, 1, 1, 1, 1, 1, 1, 1, 1, 1, 1, 1, 1,\n",
       "       1, 1, 1, 1, 1, 1, 1, 1, 1, 1, 1, 1, 1, 1, 1, 1, 1, 1, 1, 1, 1, 1,\n",
       "       1, 1, 1, 1, 1, 1, 2, 2, 2, 2, 2, 2, 2, 2, 2, 2, 2, 2, 2, 2, 2, 2,\n",
       "       2, 2, 2, 2, 0, 2, 2, 2, 2, 2, 2, 0, 2, 2, 2, 2, 2, 2, 2, 2, 2, 2,\n",
       "       2, 2, 2, 2, 2, 2, 2, 2, 2, 2, 2, 2, 0, 0, 0, 0, 0, 0, 2, 0, 0, 0,\n",
       "       0, 0, 0, 0, 0, 0, 0, 0, 0, 2, 0, 0, 0, 0, 0, 0, 0, 0, 0, 0, 0, 0,\n",
       "       0, 2, 2, 0, 0, 0, 0, 0, 0, 0, 0, 0, 0, 0, 0, 0, 0, 0])"
      ]
     },
     "execution_count": 21,
     "metadata": {},
     "output_type": "execute_result"
    }
   ],
   "source": [
    "km.labels_"
   ]
  },
  {
   "cell_type": "markdown",
   "metadata": {
    "id": "WhpSECMYtqEP"
   },
   "source": [
    "### Visualize the results"
   ]
  },
  {
   "cell_type": "code",
   "execution_count": 36,
   "metadata": {
    "colab": {
     "base_uri": "https://localhost:8080/",
     "height": 0
    },
    "executionInfo": {
     "elapsed": 546,
     "status": "ok",
     "timestamp": 1655268908427,
     "user": {
      "displayName": "Alex Tuisov",
      "userId": "04882083328890138876"
     },
     "user_tz": -180
    },
    "id": "LeCxnUjBtqEP",
    "outputId": "1623a684-e3b9-4bf9-b09b-ec42aa8a686f"
   },
   "outputs": [
    {
     "data": {
      "text/plain": [
       "[Text(0.5, 0, 'Length (cm)'),\n",
       " Text(0, 0.5, 'Width (cm)'),\n",
       " Text(0.5, 1.0, 'Original labels')]"
      ]
     },
     "execution_count": 36,
     "metadata": {},
     "output_type": "execute_result"
    },
    {
     "data": {
      "image/png": "[encoded data removed]",
      "text/plain": [
       "<Figure size 1080x504 with 2 Axes>"
      ]
     },
     "metadata": {
      "needs_background": "light"
     },
     "output_type": "display_data"
    }
   ],
   "source": [
    "colors = np.array(['red', 'blue', 'orange'])\n",
    "\n",
    "# technical change to match the colors below\n",
    "map_dict = {0:2,1:0,2:1} \n",
    "labels = np.array([map_dict[l] for l in km.labels_])\n",
    "\n",
    "fig, axs = plt.subplots(1, 2)\n",
    "fig.set_size_inches(15, 7)\n",
    "fig.suptitle('Petal Length vs Petal Width')\n",
    "axs[0].scatter(km_scaled_df['petal length (cm)'], km_scaled_df['petal width (cm)'], c= colors[labels])\n",
    "axs[0].scatter(km.cluster_centers_[:,0],km.cluster_centers_[:,1], color='purple', marker='*',s=250, label='centroid')\n",
    "axs[0].set(xlabel='Length (cm)', ylabel='Width (cm)', title='K-Means clustering results')\n",
    "axs[0].legend()\n",
    "axs[1].scatter(df_km['petal length (cm)'], df_km['petal width (cm)'], c= colors[iris_data.target])\n",
    "axs[1].set(xlabel='Length (cm)', ylabel='Width (cm)', title='Original labels')"
   ]
  },
  {
   "cell_type": "markdown",
   "metadata": {},
   "source": [
    "Can you drae lines that separate between the clusters?"
   ]
  },
  {
   "cell_type": "markdown",
   "metadata": {
    "id": "uZrmVTPDPsOz"
   },
   "source": [
    "## <font color=blue>**Exercise**</font>"
   ]
  },
  {
   "cell_type": "markdown",
   "metadata": {
    "id": "ys3sRjuHtqEQ"
   },
   "source": [
    "Run the K-means algorithm on the sepal data (length and width). Use the elbow method to choose the number of clusters (K). Present visualization of the K-means clustering results and compare it to the ground true"
   ]
  },
  {
   "cell_type": "code",
   "execution_count": null,
   "metadata": {
    "executionInfo": {
     "elapsed": 18,
     "status": "ok",
     "timestamp": 1655268908427,
     "user": {
      "displayName": "Alex Tuisov",
      "userId": "04882083328890138876"
     },
     "user_tz": -180
    },
    "id": "PIU_-p1BtqEQ"
   },
   "outputs": [],
   "source": [
    "# write your code here\n"
   ]
  },
  {
   "cell_type": "markdown",
   "metadata": {
    "id": "E-cUepcXtqEQ"
   },
   "source": [
    "## <font color=blue>**Solution**</font>"
   ]
  },
  {
   "cell_type": "code",
   "execution_count": 37,
   "metadata": {
    "colab": {
     "base_uri": "https://localhost:8080/",
     "height": 206
    },
    "executionInfo": {
     "elapsed": 17,
     "status": "ok",
     "timestamp": 1655268908428,
     "user": {
      "displayName": "Alex Tuisov",
      "userId": "04882083328890138876"
     },
     "user_tz": -180
    },
    "id": "k5yyE1m0tqEQ",
    "outputId": "9806b6c0-2015-44d2-c5e4-34a99e731bbc"
   },
   "outputs": [
    {
     "data": {
      "text/html": [
       "<div>\n",
       "<style scoped>\n",
       "    .dataframe tbody tr th:only-of-type {\n",
       "        vertical-align: middle;\n",
       "    }\n",
       "\n",
       "    .dataframe tbody tr th {\n",
       "        vertical-align: top;\n",
       "    }\n",
       "\n",
       "    .dataframe thead th {\n",
       "        text-align: right;\n",
       "    }\n",
       "</style>\n",
       "<table border=\"1\" class=\"dataframe\">\n",
       "  <thead>\n",
       "    <tr style=\"text-align: right;\">\n",
       "      <th></th>\n",
       "      <th>sepal length (cm)</th>\n",
       "      <th>sepal width (cm)</th>\n",
       "    </tr>\n",
       "  </thead>\n",
       "  <tbody>\n",
       "    <tr>\n",
       "      <th>0</th>\n",
       "      <td>5.1</td>\n",
       "      <td>3.5</td>\n",
       "    </tr>\n",
       "    <tr>\n",
       "      <th>1</th>\n",
       "      <td>4.9</td>\n",
       "      <td>3.0</td>\n",
       "    </tr>\n",
       "    <tr>\n",
       "      <th>2</th>\n",
       "      <td>4.7</td>\n",
       "      <td>3.2</td>\n",
       "    </tr>\n",
       "    <tr>\n",
       "      <th>3</th>\n",
       "      <td>4.6</td>\n",
       "      <td>3.1</td>\n",
       "    </tr>\n",
       "    <tr>\n",
       "      <th>4</th>\n",
       "      <td>5.0</td>\n",
       "      <td>3.6</td>\n",
       "    </tr>\n",
       "  </tbody>\n",
       "</table>\n",
       "</div>"
      ],
      "text/plain": [
       "   sepal length (cm)  sepal width (cm)\n",
       "0                5.1               3.5\n",
       "1                4.9               3.0\n",
       "2                4.7               3.2\n",
       "3                4.6               3.1\n",
       "4                5.0               3.6"
      ]
     },
     "execution_count": 37,
     "metadata": {},
     "output_type": "execute_result"
    }
   ],
   "source": [
    "df_km = iris_df[['sepal length (cm)', 'sepal width (cm)']]\n",
    "df_km.head()"
   ]
  },
  {
   "cell_type": "markdown",
   "metadata": {
    "id": "LMGcyocetqEQ"
   },
   "source": [
    "### Normalization"
   ]
  },
  {
   "cell_type": "code",
   "execution_count": 38,
   "metadata": {
    "colab": {
     "base_uri": "https://localhost:8080/",
     "height": 0
    },
    "executionInfo": {
     "elapsed": 357,
     "status": "ok",
     "timestamp": 1655268908771,
     "user": {
      "displayName": "Alex Tuisov",
      "userId": "04882083328890138876"
     },
     "user_tz": -180
    },
    "id": "ATzmXgJatqEQ",
    "outputId": "135b222e-8a68-42e7-89d1-6191ac1424b0"
   },
   "outputs": [
    {
     "data": {
      "text/html": [
       "<div>\n",
       "<style scoped>\n",
       "    .dataframe tbody tr th:only-of-type {\n",
       "        vertical-align: middle;\n",
       "    }\n",
       "\n",
       "    .dataframe tbody tr th {\n",
       "        vertical-align: top;\n",
       "    }\n",
       "\n",
       "    .dataframe thead th {\n",
       "        text-align: right;\n",
       "    }\n",
       "</style>\n",
       "<table border=\"1\" class=\"dataframe\">\n",
       "  <thead>\n",
       "    <tr style=\"text-align: right;\">\n",
       "      <th></th>\n",
       "      <th>sepal length (cm)</th>\n",
       "      <th>sepal width (cm)</th>\n",
       "    </tr>\n",
       "  </thead>\n",
       "  <tbody>\n",
       "    <tr>\n",
       "      <th>0</th>\n",
       "      <td>0.222222</td>\n",
       "      <td>0.625000</td>\n",
       "    </tr>\n",
       "    <tr>\n",
       "      <th>1</th>\n",
       "      <td>0.166667</td>\n",
       "      <td>0.416667</td>\n",
       "    </tr>\n",
       "    <tr>\n",
       "      <th>2</th>\n",
       "      <td>0.111111</td>\n",
       "      <td>0.500000</td>\n",
       "    </tr>\n",
       "    <tr>\n",
       "      <th>3</th>\n",
       "      <td>0.083333</td>\n",
       "      <td>0.458333</td>\n",
       "    </tr>\n",
       "    <tr>\n",
       "      <th>4</th>\n",
       "      <td>0.194444</td>\n",
       "      <td>0.666667</td>\n",
       "    </tr>\n",
       "  </tbody>\n",
       "</table>\n",
       "</div>"
      ],
      "text/plain": [
       "   sepal length (cm)  sepal width (cm)\n",
       "0           0.222222          0.625000\n",
       "1           0.166667          0.416667\n",
       "2           0.111111          0.500000\n",
       "3           0.083333          0.458333\n",
       "4           0.194444          0.666667"
      ]
     },
     "execution_count": 38,
     "metadata": {},
     "output_type": "execute_result"
    }
   ],
   "source": [
    "df_columns = df_km.columns\n",
    "scaler = MinMaxScaler()\n",
    "scaled_np_matrix = scaler.fit_transform(df_km)\n",
    "\n",
    "km_scaled_df = pd.DataFrame(scaled_np_matrix, columns=df_columns)\n",
    "km_scaled_df.head()"
   ]
  },
  {
   "cell_type": "markdown",
   "metadata": {
    "id": "duHSqjUEtqER"
   },
   "source": [
    "### Find K using the Elbow method"
   ]
  },
  {
   "cell_type": "code",
   "execution_count": 39,
   "metadata": {
    "colab": {
     "base_uri": "https://localhost:8080/",
     "height": 0
    },
    "executionInfo": {
     "elapsed": 383,
     "status": "ok",
     "timestamp": 1655268909146,
     "user": {
      "displayName": "Alex Tuisov",
      "userId": "04882083328890138876"
     },
     "user_tz": -180
    },
    "id": "WtzuDhMutqER",
    "outputId": "475c9369-a1dc-4366-e860-5e2da2b9b707"
   },
   "outputs": [
    {
     "data": {
      "image/png": "[encoded data removed]",
      "text/plain": [
       "<Figure size 432x432 with 1 Axes>"
      ]
     },
     "metadata": {
      "needs_background": "light"
     },
     "output_type": "display_data"
    }
   ],
   "source": [
    "from sklearn.cluster import KMeans\n",
    "\n",
    "sse = []\n",
    "for k in range(2, 11):\n",
    "    km = KMeans(n_clusters=k) # Initialize K-Means model with k centroids\n",
    "    km.fit(km_scaled_df) # Run algorithm and create clusters\n",
    "    sse.append(km.inertia_) # SSE calculated is provided in the KMeans object, it calculates SSE automatically, \n",
    "                            # and given in the inertia_ attribute    \n",
    "plt.figure(figsize=(6,6))\n",
    "plt.plot(range(2, 11), sse, '-o')\n",
    "plt.xlabel('Number of clusters')\n",
    "plt.ylabel('Sum of Squared Errors (SSE)')\n",
    "plt.title('Elbow method results');"
   ]
  },
  {
   "cell_type": "markdown",
   "metadata": {
    "id": "WqamUJxotqER"
   },
   "source": [
    "### Run & Evaluate K-Means"
   ]
  },
  {
   "cell_type": "code",
   "execution_count": 44,
   "metadata": {
    "colab": {
     "base_uri": "https://localhost:8080/"
    },
    "executionInfo": {
     "elapsed": 7,
     "status": "ok",
     "timestamp": 1655268909147,
     "user": {
      "displayName": "Alex Tuisov",
      "userId": "04882083328890138876"
     },
     "user_tz": -180
    },
    "id": "Q8wNfZHqtqER",
    "outputId": "ee38e7d5-34c8-494a-c1c9-9c8edeb83dc0"
   },
   "outputs": [
    {
     "data": {
      "text/plain": [
       "KMeans(n_clusters=3)"
      ]
     },
     "execution_count": 44,
     "metadata": {},
     "output_type": "execute_result"
    }
   ],
   "source": [
    "km = KMeans(n_clusters=3)\n",
    "km.fit(km_scaled_df)"
   ]
  },
  {
   "cell_type": "code",
   "execution_count": 45,
   "metadata": {
    "colab": {
     "base_uri": "https://localhost:8080/"
    },
    "executionInfo": {
     "elapsed": 6,
     "status": "ok",
     "timestamp": 1655268909147,
     "user": {
      "displayName": "Alex Tuisov",
      "userId": "04882083328890138876"
     },
     "user_tz": -180
    },
    "id": "1LEQ9zbGtqER",
    "outputId": "f300eebd-115c-4ea1-8835-05f8dc0a3eb3"
   },
   "outputs": [
    {
     "data": {
      "text/plain": [
       "array([[0.40483539, 0.28009259],\n",
       "       [0.19897959, 0.60459184],\n",
       "       [0.69562648, 0.45390071]])"
      ]
     },
     "execution_count": 45,
     "metadata": {},
     "output_type": "execute_result"
    }
   ],
   "source": [
    "km.cluster_centers_"
   ]
  },
  {
   "cell_type": "code",
   "execution_count": 46,
   "metadata": {
    "colab": {
     "base_uri": "https://localhost:8080/"
    },
    "executionInfo": {
     "elapsed": 7,
     "status": "ok",
     "timestamp": 1655268909148,
     "user": {
      "displayName": "Alex Tuisov",
      "userId": "04882083328890138876"
     },
     "user_tz": -180
    },
    "id": "77fTGidwtqER",
    "outputId": "fa8d1a5d-b1f9-468e-ab6e-ad258625224c"
   },
   "outputs": [
    {
     "data": {
      "text/plain": [
       "array([1, 1, 1, 1, 1, 1, 1, 1, 1, 1, 1, 1, 1, 1, 1, 1, 1, 1, 1, 1, 1, 1,\n",
       "       1, 1, 1, 1, 1, 1, 1, 1, 1, 1, 1, 1, 1, 1, 1, 1, 1, 1, 1, 0, 1, 1,\n",
       "       1, 1, 1, 1, 1, 1, 2, 2, 2, 0, 2, 0, 2, 0, 2, 0, 0, 0, 0, 0, 0, 2,\n",
       "       0, 0, 0, 0, 0, 0, 0, 0, 2, 2, 2, 2, 0, 0, 0, 0, 0, 0, 0, 2, 2, 0,\n",
       "       0, 0, 0, 0, 0, 0, 0, 0, 0, 0, 0, 0, 2, 0, 2, 2, 2, 2, 0, 2, 2, 2,\n",
       "       2, 0, 2, 0, 0, 2, 2, 2, 2, 0, 2, 0, 2, 0, 2, 2, 0, 0, 2, 2, 2, 2,\n",
       "       2, 0, 0, 2, 2, 2, 0, 2, 2, 2, 0, 2, 2, 2, 0, 2, 2, 0])"
      ]
     },
     "execution_count": 46,
     "metadata": {},
     "output_type": "execute_result"
    }
   ],
   "source": [
    "km.labels_"
   ]
  },
  {
   "cell_type": "markdown",
   "metadata": {
    "id": "Nnt7Tz6etqES"
   },
   "source": [
    "### Visualize the results"
   ]
  },
  {
   "cell_type": "code",
   "execution_count": 51,
   "metadata": {},
   "outputs": [
    {
     "data": {
      "text/plain": [
       "(array([1, 1, 1]), array([0, 0, 0]))"
      ]
     },
     "execution_count": 51,
     "metadata": {},
     "output_type": "execute_result"
    }
   ],
   "source": [
    "km.labels_[:3],iris_data.target[:3]"
   ]
  },
  {
   "cell_type": "code",
   "execution_count": 56,
   "metadata": {
    "colab": {
     "base_uri": "https://localhost:8080/",
     "height": 0
    },
    "executionInfo": {
     "elapsed": 435,
     "status": "ok",
     "timestamp": 1655268909577,
     "user": {
      "displayName": "Alex Tuisov",
      "userId": "04882083328890138876"
     },
     "user_tz": -180
    },
    "id": "4QmmtgdbtqES",
    "outputId": "4d360be7-ceb2-491d-c0d5-7458ea353ad8"
   },
   "outputs": [
    {
     "data": {
      "text/plain": [
       "[Text(0.5, 0, 'Length (cm)'),\n",
       " Text(0, 0.5, 'Width (cm)'),\n",
       " Text(0.5, 1.0, 'Original labels')]"
      ]
     },
     "execution_count": 56,
     "metadata": {},
     "output_type": "execute_result"
    },
    {
     "data": {
      "image/png": "[encoded data removed]",
      "text/plain": [
       "<Figure size 1080x504 with 2 Axes>"
      ]
     },
     "metadata": {
      "needs_background": "light"
     },
     "output_type": "display_data"
    }
   ],
   "source": [
    "colors = np.array(['red', 'blue', 'orange'])\n",
    "\n",
    "# technical change to match the colors below\n",
    "map_dict = {0:1,1:0,2:2} \n",
    "labels = np.array([map_dict[l] for l in km.labels_])\n",
    "\n",
    "fig, axs = plt.subplots(1, 2)\n",
    "fig.set_size_inches(15, 7)\n",
    "fig.suptitle('Sepal Length vs Sepal Width')\n",
    "axs[0].scatter(km_scaled_df['sepal length (cm)'], km_scaled_df['sepal width (cm)'], c= colors[labels])\n",
    "axs[0].scatter(km.cluster_centers_[:,0],km.cluster_centers_[:,1], color='purple', marker='*',s=250, label='centroid')\n",
    "axs[0].set(xlabel='Length (cm)', ylabel='Width (cm)', title='K-Means clustering results')\n",
    "axs[0].legend()\n",
    "axs[1].scatter(df_km['sepal length (cm)'], df_km['sepal width (cm)'], c= colors[iris_data.target])\n",
    "axs[1].set(xlabel='Length (cm)', ylabel='Width (cm)', title='Original labels')"
   ]
  },
  {
   "cell_type": "code",
   "execution_count": null,
   "metadata": {},
   "outputs": [],
   "source": []
  }
 ],
 "metadata": {
  "colab": {
   "name": "11_KMeans.ipynb",
   "provenance": []
  },
  "kernelspec": {
   "display_name": "Python 3 (ipykernel)",
   "language": "python",
   "name": "python3"
  },
  "language_info": {
   "codemirror_mode": {
    "name": "ipython",
    "version": 3
   },
   "file_extension": ".py",
   "mimetype": "text/x-python",
   "name": "python",
   "nbconvert_exporter": "python",
   "pygments_lexer": "ipython3",
   "version": "3.9.12"
  }
 },
 "nbformat": 4,
 "nbformat_minor": 4
}
