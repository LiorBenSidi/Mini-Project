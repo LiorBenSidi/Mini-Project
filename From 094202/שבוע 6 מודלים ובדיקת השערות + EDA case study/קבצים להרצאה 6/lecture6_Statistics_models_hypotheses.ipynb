{
 "cells": [
  {
   "cell_type": "markdown",
   "metadata": {},
   "source": [
    "# Inference: Statistics, Models, Hypotheses\n"
   ]
  },
  {
   "cell_type": "code",
   "execution_count": null,
   "metadata": {},
   "outputs": [],
   "source": [
    "import pandas as pd\n",
    "import seaborn as sns\n",
    "import numpy as np\n",
    "import matplotlib.pyplot as plt\n",
    "\n",
    "custom_palette = sns.color_palette('viridis', 2)\n",
    "sns.set_palette(custom_palette)"
   ]
  },
  {
   "cell_type": "markdown",
   "metadata": {},
   "source": [
    "### Flight delays data\n",
    "Data on delays of __all__ United flights out of SFO in 2015"
   ]
  },
  {
   "cell_type": "code",
   "execution_count": null,
   "metadata": {
    "scrolled": false
   },
   "outputs": [],
   "source": [
    "# read data\n",
    "united_df = pd.read_csv('united.csv')\n",
    "display(united_df.head())\n",
    "united_df.shape[0]"
   ]
  },
  {
   "cell_type": "markdown",
   "metadata": {},
   "source": [
    "We have data on the entire population, so we can look at a histogram for the probability distribution:"
   ]
  },
  {
   "cell_type": "code",
   "execution_count": null,
   "metadata": {
    "scrolled": false
   },
   "outputs": [],
   "source": [
    "# plot probability distribution of delays based on the entire population\n",
    "delay_bins = np.arange(-20, 301, 10)\n",
    "ax = sns.displot(united_df, x='Delay', bins=delay_bins)\n",
    "ax.set(ylabel='number of flights')"
   ]
  },
  {
   "cell_type": "markdown",
   "metadata": {},
   "source": [
    "Let's take a simple random sample from the population, and look at the resulting emprircal distribution"
   ]
  },
  {
   "cell_type": "code",
   "execution_count": null,
   "metadata": {
    "scrolled": false
   },
   "outputs": [],
   "source": [
    "# sample flights and examine the empirical distribution of the delays\n",
    "def empirical_hist_delay(n):\n",
    "    sampled_flights = united_df.sample(n)\n",
    "    ax = sns.displot(sampled_flights, x='Delay', bins=delay_bins)\n",
    "    \n",
    "empirical_hist_delay(100)    "
   ]
  },
  {
   "cell_type": "markdown",
   "metadata": {},
   "source": [
    "## Statistics\n",
    "__A statistic__ is a quanitity that is a function of the sample (not the population) that we can caluclate and use as an estimate for a parameter in the population.\n",
    "\n",
    "For example, say our parameter is the median delay in United flights out of SFO in 2015. Since we have data on the entire population, we know the value of this parameter:"
   ]
  },
  {
   "cell_type": "code",
   "execution_count": null,
   "metadata": {},
   "outputs": [],
   "source": [
    "# median delay: PARAMETER OF THE POPULATION\n",
    "united_df['Delay'].median()"
   ]
  },
  {
   "cell_type": "markdown",
   "metadata": {},
   "source": [
    "But, let's say we only have a sample. We can look at the median delay in the sample:"
   ]
  },
  {
   "cell_type": "code",
   "execution_count": null,
   "metadata": {},
   "outputs": [],
   "source": [
    "# statistic based on one sample of median delay\n",
    "sample_flights = united_df.sample(100)\n",
    "print(sample_flights['Delay'].median())"
   ]
  },
  {
   "cell_type": "markdown",
   "metadata": {},
   "source": [
    "With different samples, we get a different value for the statistic (remember the value of the parameter in the population remains fixed). \n",
    "\n",
    "### Simulating a statistic\n",
    "\n",
    "Because with each sample we take, we will get a different value for the statistic, the statistic itself has a distribution! We can therefore simulate taking a sample many times, calculating the statistic in each time, and plot the **empirical** distribution of the statistic.\n",
    "\n",
    "We already saw how to simulate a random trial and summarize the findings.\n",
    "\n",
    "Let's simulate the median delay in a random sample of 100 flights:"
   ]
  },
  {
   "cell_type": "code",
   "execution_count": null,
   "metadata": {
    "scrolled": false
   },
   "outputs": [],
   "source": [
    "# value from one sample\n",
    "def random_sample_median(n):\n",
    "    sample_flight = united_df.sample(n)\n",
    "    return sample_flight['Delay'].median()\n",
    "\n",
    "\n",
    "# run many simulations\n",
    "num_sims = 3000 # the number of simulations we run\n",
    "median_values = []\n",
    "sample_size = 100 # the number of samples drawn in each simulation: MUST be fixed within each simulation!\n",
    "for i in range(num_sims):\n",
    "    median_values.append(random_sample_median(sample_size))\n",
    "    \n",
    "ax = sns.displot(median_values, bins=np.arange(-2.125,11.1,0.25))\n",
    "ax.set(xlabel='median delay in a sample of '+str(sample_size)+' flights', xticks=np.arange(-2, 11, 2))"
   ]
  },
  {
   "cell_type": "markdown",
   "metadata": {},
   "source": [
    "## Jury selection example: First inference problem\n",
    "\n",
    "In the early 1960’s, in Talladega County in Alabama, a black man called Robert Swain was convicted of raping a white woman and was sentenced to death. He appealed his sentence, citing among other factors the all-white jury. At the time, only men aged 21 or older were allowed to serve on juries in Talladega County. In the county, 26% of the eligible jurors were black, but there were only 8 black men among the 100 selected for the jury panel in Swain’s trial. No black man was selected for the trial jury.\n",
    "\n",
    "In 1965, the Supreme Court of the United States denied Swain’s appeal. In its ruling, the Court wrote “… the overall percentage disparity has been small and reflects no studied attempt to include or exclude a specified number of Negroes.”\n",
    "\n",
    "Jury panels are supposed to be selected at random from the eligible population. Because 26% of the eligible population was black, 8 black men on a panel of 100 might seem low. **But is it too low?**\n",
    "\n",
    "### A Model\n",
    "One view of the way the real world generated the data – a model, in other words – is that the panel was selected at random and ended up with a small number of black men just due to chance. This model is consistent with what the Supreme Court wrote in its ruling.\n",
    "\n",
    "The model specifies the details of a chance process. It says the data are like a random sample from a population in which 26% of the people are black. We are in a good position to assess this model, because:\n",
    "\n",
    "- We can simulate data based on the model. That is, we can simulate drawing at random from a population of whom 26% are black.\n",
    "- Our simulation will show what a panel *would* look like *if* it were selected at random.\n",
    "- We can then compare the results of the simulation with the composition of Robert Swain’s panel.\n",
    "- If the results of our simulation are not consistent with the composition of Swain’s panel, that will be evidence against the model of random selection.\n",
    "\n",
    "Steps:\n",
    "1. What is the statistic that we want to simulate?\n",
    "2. Code generating one value of that statistic\n",
    "3. Run the code many times and store the output in a collection array"
   ]
  },
  {
   "cell_type": "code",
   "execution_count": null,
   "metadata": {},
   "outputs": [],
   "source": [
    "population = ['black', 'other']\n",
    "prob_population = [0.26, 0.74] # probabilities of selection GIVEN THE MODEL IS TRUE\n",
    "panel_size = 100 \n",
    "\n",
    "# sample one value\n",
    "def sample_jury_panel():\n",
    "    sample_panel = np.random.choice(population, p=prob_population, size=panel_size)\n",
    "    num_blacks = np.count_nonzero(sample_panel == 'black')\n",
    "    return num_blacks\n",
    "\n",
    "# run multiple simulations\n",
    "num_repetitions = 10000\n",
    "samples = np.empty(num_repetitions) # collection array\n",
    "for i in range(num_repetitions):\n",
    "    samples[i] = sample_jury_panel()\n",
    "    \n",
    "samples"
   ]
  },
  {
   "cell_type": "markdown",
   "metadata": {},
   "source": [
    "Now, let's see the empirical distribution of the statsitic, under the assumptions of the model:"
   ]
  },
  {
   "cell_type": "code",
   "execution_count": null,
   "metadata": {},
   "outputs": [],
   "source": [
    "# plot the empirical distribution of the statistic\n",
    "ax = sns.displot(samples, stat=\"density\", bins=np.arange(0,50,1))\n",
    "ax.set(xlabel='number of blacks out of '+ str(panel_size)+' jurors', ylabel='proportion in samples', xticks=np.arange(0, 51, 10));"
   ]
  },
  {
   "cell_type": "markdown",
   "metadata": {},
   "source": [
    "This is the output of the simulation of the statistic: What we would expect the empirical disrtibution of the statistic to look like if the model is true\n",
    "\n",
    "We also have data. Let's plot them together."
   ]
  },
  {
   "cell_type": "code",
   "execution_count": null,
   "metadata": {},
   "outputs": [],
   "source": [
    "# plot the empirical distribution of the statistic\n",
    "ax = sns.displot(samples, stat=\"density\", bins=np.arange(0,50,1))\n",
    "ax.set(xlabel='number of blacks out of '+ str(panel_size)+' jurors', ylabel='proportion in samples', xticks=np.arange(0, 51, 10));\n",
    "\n",
    "# Add a red point on the plot marking our data\n",
    "plt.scatter(8, 0, marker='.', s=200, color='red', clip_on=False)  # draw observed value on the x-axis (at (8,0))\n",
    "plt.show()"
   ]
  },
  {
   "cell_type": "markdown",
   "metadata": {},
   "source": [
    "What do you think? Is the model __consistent__ with the data? <br>\n",
    "Does it look like the Supreme Court was right? "
   ]
  },
  {
   "cell_type": "markdown",
   "metadata": {},
   "source": [
    "### *P*-values\n",
    "\n",
    "The P-value is the probability, under the null hypothesis, that the test statistic is equal to the value that was observed in the data or is even further in the direction of the alternative.\n",
    "\n",
    "Let's compute the p-value for the jury case"
   ]
  },
  {
   "cell_type": "code",
   "execution_count": null,
   "metadata": {},
   "outputs": [],
   "source": [
    "count_eight_or_fewer = np.count_nonzero(samples <= 8)\n",
    "print ('The p-value is', count_eight_or_fewer/len(samples))"
   ]
  },
  {
   "cell_type": "markdown",
   "metadata": {},
   "source": [
    "Let's say that the jury panel in Swain had had 20 black men in it, rather then only 8 as it really did. This is still less than 26% of the sample, although the population has 26% black men. But is it sufficiently unlikely so that it provides us with evidence against a model stating the jury panel was selected at random from the population?\n",
    "Compute the p-value."
   ]
  },
  {
   "cell_type": "code",
   "execution_count": null,
   "metadata": {},
   "outputs": [],
   "source": []
  }
 ],
 "metadata": {
  "kernelspec": {
   "display_name": "Python 3 (ipykernel)",
   "language": "python",
   "name": "python3"
  },
  "language_info": {
   "codemirror_mode": {
    "name": "ipython",
    "version": 3
   },
   "file_extension": ".py",
   "mimetype": "text/x-python",
   "name": "python",
   "nbconvert_exporter": "python",
   "pygments_lexer": "ipython3",
   "version": "3.9.16"
  }
 },
 "nbformat": 4,
 "nbformat_minor": 2
}
