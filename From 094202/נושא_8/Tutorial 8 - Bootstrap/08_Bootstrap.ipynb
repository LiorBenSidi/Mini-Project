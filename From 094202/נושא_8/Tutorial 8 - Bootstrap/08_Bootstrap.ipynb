{
 "cells": [
  {
   "cell_type": "markdown",
   "metadata": {
    "id": "YPLQc4gNKKll"
   },
   "source": [
    "# <font color=red>Tutorial 8 - Hypotheses testing - Bootstrap</font>"
   ]
  },
  {
   "cell_type": "markdown",
   "metadata": {
    "id": "y1hOoHDda0Vo"
   },
   "source": [
    "## Introduction to Bootstrap"
   ]
  },
  {
   "cell_type": "markdown",
   "metadata": {
    "id": "xLznB3IYa0Vo"
   },
   "source": [
    "The bootstrap method is a resampling technique widely used in statistics to estimate the properties of a population based on a sample. It is particularly useful when it is difficult or impossible to obtain analytical solutions or when assumptions underlying traditional statistical methods are violated. This tutorial will provide you with an overview of the bootstrap method, its steps, and its applications."
   ]
  },
  {
   "cell_type": "markdown",
   "metadata": {
    "id": "n-uK4rkja0Vp"
   },
   "source": [
    "#### What is the Bootstrap Method?\n",
    "The bootstrap method is a resampling technique that involves repeatedly sampling from the original dataset to create multiple \"bootstrap samples.\" These bootstrap samples are used to estimate the sampling distribution of a statistic or to make inferences about population parameters."
   ]
  },
  {
   "cell_type": "markdown",
   "metadata": {
    "id": "MV_d4heLa0Vq"
   },
   "source": [
    "#### Steps of the Bootstrap Method:\n",
    "1. Sample Generation. Start by obtaining a random sample (with replacement) from the original dataset. The size of the bootstrap sample should be the same as the original dataset so that it will preserve the distributional properties of the sample. <br>\n",
    "2. Statistic Calculation. Calculate the desired statistic of interest (e.g., mean, median, standard deviation) on each bootstrap sample. This statistic represents an estimate of the population parameter.<br>\n",
    "3. Replication. Repeat steps (1) and (2) multiple times, typically several thousand iterations, to create a large number of bootstrap samples and corresponding estimates of the statistic. <br>\n",
    "4. Analysis of Estimates. Analyze the distribution of the statistic estimates obtained from the bootstrap samples to derive measures of uncertainty, such as confidence intervals or standard errors. <br>"
   ]
  },
  {
   "cell_type": "code",
   "execution_count": 1,
   "metadata": {
    "id": "wC_1T-PEKKlm"
   },
   "outputs": [],
   "source": [
    "import pandas as pd\n",
    "import numpy as np\n",
    "import matplotlib.pyplot as plt\n",
    "import seaborn as sns"
   ]
  },
  {
   "cell_type": "markdown",
   "metadata": {
    "id": "mfIpIpECKKl6"
   },
   "source": [
    "## Sri Lanka population height sample"
   ]
  },
  {
   "cell_type": "markdown",
   "metadata": {
    "id": "ElZbA8IvKKl7"
   },
   "source": [
    "We would like to estimate the mean height of Sri Lanka's population based on a sample provided in the attached CSV file. We assume that the sample distribution is a good representation of the entire population's distribution. We will use the bootstrap method to estimate the mean height with confidence of 95%."
   ]
  },
  {
   "cell_type": "markdown",
   "metadata": {
    "id": "bQ8YfubIKKl7"
   },
   "source": [
    "### Read CSV file"
   ]
  },
  {
   "cell_type": "code",
   "execution_count": 2,
   "metadata": {
    "id": "B4Eoy2ZPKKl7",
    "outputId": "2cbff37c-0a12-4938-b47d-435f7e90ea59"
   },
   "outputs": [
    {
     "data": {
      "text/html": [
       "<div>\n",
       "<style scoped>\n",
       "    .dataframe tbody tr th:only-of-type {\n",
       "        vertical-align: middle;\n",
       "    }\n",
       "\n",
       "    .dataframe tbody tr th {\n",
       "        vertical-align: top;\n",
       "    }\n",
       "\n",
       "    .dataframe thead th {\n",
       "        text-align: right;\n",
       "    }\n",
       "</style>\n",
       "<table border=\"1\" class=\"dataframe\">\n",
       "  <thead>\n",
       "    <tr style=\"text-align: right;\">\n",
       "      <th></th>\n",
       "      <th>Height(cm)</th>\n",
       "      <th>Gender</th>\n",
       "      <th>Age</th>\n",
       "    </tr>\n",
       "  </thead>\n",
       "  <tbody>\n",
       "    <tr>\n",
       "      <th>0</th>\n",
       "      <td>173</td>\n",
       "      <td>Male</td>\n",
       "      <td>26</td>\n",
       "    </tr>\n",
       "    <tr>\n",
       "      <th>1</th>\n",
       "      <td>164</td>\n",
       "      <td>Male</td>\n",
       "      <td>56</td>\n",
       "    </tr>\n",
       "    <tr>\n",
       "      <th>2</th>\n",
       "      <td>163</td>\n",
       "      <td>Male</td>\n",
       "      <td>26</td>\n",
       "    </tr>\n",
       "    <tr>\n",
       "      <th>3</th>\n",
       "      <td>171</td>\n",
       "      <td>Male</td>\n",
       "      <td>64</td>\n",
       "    </tr>\n",
       "    <tr>\n",
       "      <th>4</th>\n",
       "      <td>160</td>\n",
       "      <td>Male</td>\n",
       "      <td>78</td>\n",
       "    </tr>\n",
       "  </tbody>\n",
       "</table>\n",
       "</div>"
      ],
      "text/plain": [
       "   Height(cm) Gender  Age\n",
       "0         173   Male   26\n",
       "1         164   Male   56\n",
       "2         163   Male   26\n",
       "3         171   Male   64\n",
       "4         160   Male   78"
      ]
     },
     "execution_count": 2,
     "metadata": {},
     "output_type": "execute_result"
    }
   ],
   "source": [
    "sri_lanka_sample_df = pd.read_csv('Tutorial_8_data.csv')\n",
    "sri_lanka_sample_df.head()"
   ]
  },
  {
   "cell_type": "code",
   "execution_count": 3,
   "metadata": {
    "id": "XHXxV4yaKKl9",
    "outputId": "218dbbbd-806c-4ccd-acbc-3e54ea7bb122"
   },
   "outputs": [
    {
     "data": {
      "text/plain": [
       "(4477, 3)"
      ]
     },
     "execution_count": 3,
     "metadata": {},
     "output_type": "execute_result"
    }
   ],
   "source": [
    "sri_lanka_sample_df.shape"
   ]
  },
  {
   "cell_type": "code",
   "execution_count": 4,
   "metadata": {
    "id": "81yDEAv-a0V0",
    "outputId": "daa986c4-7d6c-4e32-f78e-4c3412e9cda7"
   },
   "outputs": [
    {
     "name": "stdout",
     "output_type": "stream",
     "text": [
      "<class 'pandas.core.frame.DataFrame'>\n",
      "RangeIndex: 4477 entries, 0 to 4476\n",
      "Data columns (total 3 columns):\n",
      " #   Column      Non-Null Count  Dtype \n",
      "---  ------      --------------  ----- \n",
      " 0   Height(cm)  4477 non-null   int64 \n",
      " 1   Gender      4477 non-null   object\n",
      " 2   Age         4477 non-null   int64 \n",
      "dtypes: int64(2), object(1)\n",
      "memory usage: 105.1+ KB\n"
     ]
    }
   ],
   "source": [
    "sri_lanka_sample_df.info()"
   ]
  },
  {
   "cell_type": "code",
   "execution_count": 5,
   "metadata": {
    "id": "qpLyZMzta0V0",
    "outputId": "38a07f45-8f0a-4f30-e46b-1c3e7b8404f8"
   },
   "outputs": [
    {
     "data": {
      "text/html": [
       "<div>\n",
       "<style scoped>\n",
       "    .dataframe tbody tr th:only-of-type {\n",
       "        vertical-align: middle;\n",
       "    }\n",
       "\n",
       "    .dataframe tbody tr th {\n",
       "        vertical-align: top;\n",
       "    }\n",
       "\n",
       "    .dataframe thead th {\n",
       "        text-align: right;\n",
       "    }\n",
       "</style>\n",
       "<table border=\"1\" class=\"dataframe\">\n",
       "  <thead>\n",
       "    <tr style=\"text-align: right;\">\n",
       "      <th></th>\n",
       "      <th>Height(cm)</th>\n",
       "      <th>Gender</th>\n",
       "      <th>Age</th>\n",
       "    </tr>\n",
       "  </thead>\n",
       "  <tbody>\n",
       "    <tr>\n",
       "      <th>count</th>\n",
       "      <td>4477.000000</td>\n",
       "      <td>4477</td>\n",
       "      <td>4477.000000</td>\n",
       "    </tr>\n",
       "    <tr>\n",
       "      <th>unique</th>\n",
       "      <td>NaN</td>\n",
       "      <td>2</td>\n",
       "      <td>NaN</td>\n",
       "    </tr>\n",
       "    <tr>\n",
       "      <th>top</th>\n",
       "      <td>NaN</td>\n",
       "      <td>Female</td>\n",
       "      <td>NaN</td>\n",
       "    </tr>\n",
       "    <tr>\n",
       "      <th>freq</th>\n",
       "      <td>NaN</td>\n",
       "      <td>2709</td>\n",
       "      <td>NaN</td>\n",
       "    </tr>\n",
       "    <tr>\n",
       "      <th>mean</th>\n",
       "      <td>155.500112</td>\n",
       "      <td>NaN</td>\n",
       "      <td>48.455216</td>\n",
       "    </tr>\n",
       "    <tr>\n",
       "      <th>std</th>\n",
       "      <td>9.314619</td>\n",
       "      <td>NaN</td>\n",
       "      <td>17.543870</td>\n",
       "    </tr>\n",
       "    <tr>\n",
       "      <th>min</th>\n",
       "      <td>127.000000</td>\n",
       "      <td>NaN</td>\n",
       "      <td>18.000000</td>\n",
       "    </tr>\n",
       "    <tr>\n",
       "      <th>25%</th>\n",
       "      <td>149.000000</td>\n",
       "      <td>NaN</td>\n",
       "      <td>34.000000</td>\n",
       "    </tr>\n",
       "    <tr>\n",
       "      <th>50%</th>\n",
       "      <td>155.000000</td>\n",
       "      <td>NaN</td>\n",
       "      <td>48.000000</td>\n",
       "    </tr>\n",
       "    <tr>\n",
       "      <th>75%</th>\n",
       "      <td>162.000000</td>\n",
       "      <td>NaN</td>\n",
       "      <td>64.000000</td>\n",
       "    </tr>\n",
       "    <tr>\n",
       "      <th>max</th>\n",
       "      <td>184.000000</td>\n",
       "      <td>NaN</td>\n",
       "      <td>78.000000</td>\n",
       "    </tr>\n",
       "  </tbody>\n",
       "</table>\n",
       "</div>"
      ],
      "text/plain": [
       "         Height(cm)  Gender          Age\n",
       "count   4477.000000    4477  4477.000000\n",
       "unique          NaN       2          NaN\n",
       "top             NaN  Female          NaN\n",
       "freq            NaN    2709          NaN\n",
       "mean     155.500112     NaN    48.455216\n",
       "std        9.314619     NaN    17.543870\n",
       "min      127.000000     NaN    18.000000\n",
       "25%      149.000000     NaN    34.000000\n",
       "50%      155.000000     NaN    48.000000\n",
       "75%      162.000000     NaN    64.000000\n",
       "max      184.000000     NaN    78.000000"
      ]
     },
     "execution_count": 5,
     "metadata": {},
     "output_type": "execute_result"
    }
   ],
   "source": [
    "sri_lanka_sample_df.describe(include='all')"
   ]
  },
  {
   "cell_type": "markdown",
   "metadata": {
    "id": "Q5J6jnn0KKl-"
   },
   "source": [
    "### Use Bootstrap to estimate Sri Lanka's population height mean"
   ]
  },
  {
   "cell_type": "code",
   "execution_count": 15,
   "metadata": {
    "id": "_aaV0dMOKKl-"
   },
   "outputs": [],
   "source": [
    "def bootstrap_mean(original_sample, column_name, num_replications):\n",
    "    '''This function returns an array of bootstrapped sample means:\n",
    "    original_sample: df containing the original sample\n",
    "    column_name: name of column containing the variable of interest\n",
    "    num_replications: number of bootstrap samples  '''  \n",
    "    original_sample_size = original_sample.shape[0] # we need to replicate with the same sample size\n",
    "    original_sample_var_of_interest = original_sample[[column_name]]\n",
    "    bstrap_means = np.empty(num_replications)\n",
    "    for i in range(num_replications):\n",
    "        # replace - allow or disallow sampling of the same row more than once.\n",
    "        bootstrap_sample = original_sample_var_of_interest.sample(original_sample_size, replace=True) # note WITH REPLACEMENT!\n",
    "        resampled_mean = bootstrap_sample.mean()\n",
    "        bstrap_means[i] = resampled_mean\n",
    "    \n",
    "    return bstrap_means"
   ]
  },
  {
   "cell_type": "code",
   "execution_count": 7,
   "metadata": {
    "id": "01UzGnhPKKl_",
    "outputId": "e0516af8-5feb-4c34-bb18-e24c25cb9504"
   },
   "outputs": [
    {
     "data": {
      "text/plain": [
       "array([155.25106098, 155.73531383, 155.58119276, ..., 155.79472861,\n",
       "       155.57471521, 155.43823989])"
      ]
     },
     "execution_count": 7,
     "metadata": {},
     "output_type": "execute_result"
    }
   ],
   "source": [
    "# run the bootstrap procedure\n",
    "means_bootstrapped = bootstrap_mean(sri_lanka_sample_df, 'Height(cm)', 5000)\n",
    "means_bootstrapped"
   ]
  },
  {
   "cell_type": "code",
   "execution_count": 8,
   "metadata": {
    "id": "j1mMjJeWKKmB",
    "outputId": "0ff8f622-0646-4558-df0d-76be747f1edb"
   },
   "outputs": [
    {
     "data": {
      "text/plain": [
       "<matplotlib.legend.Legend at 0x1ad31c7d730>"
      ]
     },
     "execution_count": 8,
     "metadata": {},
     "output_type": "execute_result"
    },
    {
     "data": {
      "image/png": "[encoded data removed]",
      "text/plain": [
       "<Figure size 500x500 with 1 Axes>"
      ]
     },
     "metadata": {},
     "output_type": "display_data"
    }
   ],
   "source": [
    "# visualize results\n",
    "facetgrid_obj = sns.displot(means_bootstrapped)\n",
    "facetgrid_obj.set(title='Bootstrap means distribution (5000 simulations)', xlabel='Height mean', ylabel='Number of simulations')\n",
    "\n",
    "data_mean = sri_lanka_sample_df['Height(cm)'].mean()\n",
    "facetgrid_obj.axes[0, 0].scatter(data_mean, 0, s=150, color='red')  # draw observed value\n",
    "facetgrid_obj.axes[0, 0].legend(['Whole Data Mean'])"
   ]
  },
  {
   "cell_type": "code",
   "execution_count": 9,
   "metadata": {
    "id": "Prb2PwTrKKmC",
    "outputId": "e6476f8d-9a10-4f3a-cc8a-6584d08ee4d2"
   },
   "outputs": [
    {
     "data": {
      "text/plain": [
       "155.50011168192987"
      ]
     },
     "execution_count": 9,
     "metadata": {},
     "output_type": "execute_result"
    }
   ],
   "source": [
    "data_mean"
   ]
  },
  {
   "cell_type": "code",
   "execution_count": 10,
   "metadata": {
    "id": "Bg30JCXaKKmD",
    "outputId": "c51d2961-1243-4bfe-c2d7-da530ba2fc00"
   },
   "outputs": [
    {
     "data": {
      "text/plain": [
       "154.9756533392897"
      ]
     },
     "execution_count": 10,
     "metadata": {},
     "output_type": "execute_result"
    }
   ],
   "source": [
    "means_bootstrapped.min()"
   ]
  },
  {
   "cell_type": "code",
   "execution_count": 11,
   "metadata": {
    "id": "ldVM91guKKmE",
    "outputId": "fe0b09bf-b2d6-4999-e282-ffb44c1145f8"
   },
   "outputs": [
    {
     "data": {
      "text/plain": [
       "155.93388429752065"
      ]
     },
     "execution_count": 11,
     "metadata": {},
     "output_type": "execute_result"
    }
   ],
   "source": [
    "means_bootstrapped.max()"
   ]
  },
  {
   "cell_type": "code",
   "execution_count": 12,
   "metadata": {
    "id": "yCWitWlIKKmF",
    "outputId": "d9aa23a5-5038-4e9c-b3b0-92af5f19ee8d"
   },
   "outputs": [
    {
     "name": "stdout",
     "output_type": "stream",
     "text": [
      "lower value:  155.22805450078178\n",
      "upper value:  155.78088005360732\n"
     ]
    }
   ],
   "source": [
    "# 95% confidence interval for the height mean\n",
    "left_end = np.percentile(means_bootstrapped, 2.5, method='higher')\n",
    "right_end =  np.percentile(means_bootstrapped, 97.5, method='higher')\n",
    "print('lower value: ', left_end)\n",
    "print('upper value: ', right_end)"
   ]
  },
  {
   "cell_type": "code",
   "execution_count": 13,
   "metadata": {
    "id": "52WkrSnOKKmH",
    "outputId": "27afdb4f-7b10-473b-c849-37cc5e239669"
   },
   "outputs": [
    {
     "data": {
      "text/plain": [
       "<matplotlib.collections.LineCollection at 0x1ad32490b80>"
      ]
     },
     "execution_count": 13,
     "metadata": {},
     "output_type": "execute_result"
    },
    {
     "data": {
      "image/png": "[encoded data removed]",
      "text/plain": [
       "<Figure size 500x500 with 1 Axes>"
      ]
     },
     "metadata": {},
     "output_type": "display_data"
    }
   ],
   "source": [
    "# visualize results\n",
    "facetgrid_obj = sns.displot(means_bootstrapped)\n",
    "facetgrid_obj.axes[0, 0].scatter(data_mean, 0, s=150, color='red')  # draw observed value\n",
    "facetgrid_obj.axes[0, 0].hlines(y=0, xmin=left_end, xmax=right_end, colors='orange', linestyles='solid', lw=5)  # show line of values between 2.5 and 97.5 percentiles"
   ]
  },
  {
   "cell_type": "markdown",
   "metadata": {
    "id": "WAuK_QUqKKmI"
   },
   "source": [
    "## <font color=blue> **Exercise** </font>"
   ]
  },
  {
   "cell_type": "markdown",
   "metadata": {
    "id": "BeEDN_-2KKmI"
   },
   "source": [
    "Since Sri Lanka's males are relatively short, a student assumed that there is no difference between the mean height of males and females in Sri Lanka. Examine the student's claim based on the given sample, assuming it represents the entire Sri Lanka's population."
   ]
  },
  {
   "cell_type": "markdown",
   "metadata": {
    "id": "qqBNVw5fKKmI"
   },
   "source": [
    "### 1. Clearly state the two hypotheses"
   ]
  },
  {
   "cell_type": "markdown",
   "metadata": {
    "id": "2D4ceid7KKmJ"
   },
   "source": []
  },
  {
   "cell_type": "markdown",
   "metadata": {
    "id": "Ds2thKWvKKmJ"
   },
   "source": [
    "### 2. What is your statistic? "
   ]
  },
  {
   "cell_type": "markdown",
   "metadata": {
    "id": "tFZ1UKS7KKmJ"
   },
   "source": []
  },
  {
   "cell_type": "markdown",
   "metadata": {
    "id": "6kPxPBnSKKmJ"
   },
   "source": [
    "### 3. Use the bootstrap method to examine the student's claim. You should use CI in order to try to reject the null hypothesis at the 0.05 significance level."
   ]
  },
  {
   "cell_type": "code",
   "execution_count": 14,
   "metadata": {
    "id": "K8qa8MeLa0V7"
   },
   "outputs": [],
   "source": [
    "# write your code here"
   ]
  }
 ],
 "metadata": {
  "colab": {
   "provenance": []
  },
  "kernelspec": {
   "display_name": "Python 3 (ipykernel)",
   "language": "python",
   "name": "python3"
  },
  "language_info": {
   "codemirror_mode": {
    "name": "ipython",
    "version": 3
   },
   "file_extension": ".py",
   "mimetype": "text/x-python",
   "name": "python",
   "nbconvert_exporter": "python",
   "pygments_lexer": "ipython3",
   "version": "3.9.16"
  }
 },
 "nbformat": 4,
 "nbformat_minor": 1
}
