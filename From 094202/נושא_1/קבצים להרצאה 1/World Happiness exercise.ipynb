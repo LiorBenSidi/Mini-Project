{
 "cells": [
  {
   "cell_type": "markdown",
   "metadata": {},
   "source": [
    "# World Happiness \n",
    "In this exercise, we will play with data from The World Happiness survey (https://worldhappiness.report/) for the years 2005-2022.\n",
    "\n",
    "Data description:\n",
    "\n",
    "- Country: Name of the country.\n",
    "- Region: The world region the country belongs to.\n",
    "- Year: The year in which the data was collected\n",
    "- Happiness Score: The \"Cantril Ladder\": the answer to the question: \"think of a ladder, with the best possible life for you being a 10, and the worst possible life for you being a 0, and rate your current life on this 0 to 10 ladder\".\n",
    "- Economy: Log GDP per capita\n",
    "- Social support: the answer to the question \"if you were in trouble, do you have relatives or friends you can count on to help you whenever you need them, or not.\"\n",
    "- Health: Life expectency at birth\n",
    "- Freedom: the answer to the question \"are you satisfied or dissatisfied with your freedom to choose what you do with your life?\"\n",
    "- Generosity:  the residual of regressing the national average responses to the question \"Have you donated money to a charity in the past month?\" on GDP per capita\n",
    "- Perceptions of courrption: the average answer to the questions \"Is corruption widespread throughout the government or not?\" and \"Is corruption widespread within businesses or not?\"\n",
    "- Positive affect: the average frequency of happiness, laughter, and enjoyment on the previous day\n",
    "- Negative affect: the average frequency of worry, sadness, and anger on the previous day"
   ]
  },
  {
   "cell_type": "code",
   "execution_count": null,
   "metadata": {},
   "outputs": [],
   "source": [
    "# importing some of the main packages we'll use in this class\n",
    "import numpy as np # numpy is the main Python package for scientific computing\n",
    "import pandas as pd # pandas is a package designed for data manipulation and analysis\n",
    "import matplotlib.pyplot as plt # matplotlib is a package for plotting data\n",
    "import seaborn as sns # seaborn is also a package for plotting data, built on top of matplotlib"
   ]
  },
  {
   "cell_type": "code",
   "execution_count": null,
   "metadata": {},
   "outputs": [],
   "source": [
    "# just a couple of definitions to make the plots look nicer (IMO)\n",
    "sns.set(style='ticks',font_scale=1.2)\n",
    "sns.set_palette(\"deep\")"
   ]
  },
  {
   "cell_type": "code",
   "execution_count": null,
   "metadata": {
    "scrolled": false
   },
   "outputs": [],
   "source": [
    "happiness_df = pd.read_csv('happiness 2005_2022.csv') # read the dataset to a dataframe (more on this later)\n",
    "happiness_df # default print method in Jupyter prints the top 5 and bottom 5 rows\n"
   ]
  },
  {
   "cell_type": "code",
   "execution_count": null,
   "metadata": {},
   "outputs": [],
   "source": [
    "# additional useful methods for overviewing the data\n",
    "# often, \"display\" method produces nicer and clearer output than \"print\"\n",
    "display(happiness_df.columns.values)  # prints the names of columns in our dataset\n",
    "print(\"*****\")\n",
    "display(happiness_df.info()) # gives basic structure information on each variable\n",
    "print(\"*****\")\n",
    "happiness_df.describe(include='all') # gives summary statistics (more on this later) for numeric variables and freuqnecy counts for categorical variables\n"
   ]
  },
  {
   "cell_type": "markdown",
   "metadata": {},
   "source": [
    "#### What can we learn from these outputs?\n",
    "(don't worry if you don't know the answers (unless you're reading this before the final exam))\n",
    "- How many observations do we have here?\n",
    "- Happiness of how many different countries was measured?\n",
    "- How many different regions of the world are there? Can you name at least one?\n",
    "- In which years of the world happiness report do these data come from?\n",
    "- What is the range (minimum and maximun) of the \"happiness score\"?"
   ]
  },
  {
   "cell_type": "markdown",
   "metadata": {},
   "source": [
    "## World's happiest countries\n",
    "\n",
    "Run the code below to see which 3 countries are the happiest in the world (over the years), and their corresponding mean happiness scores."
   ]
  },
  {
   "cell_type": "code",
   "execution_count": null,
   "metadata": {
    "scrolled": false
   },
   "outputs": [],
   "source": [
    "# First compute the average country happiness across all years and sort the countries by mean happiness\n",
    "grpby_country = happiness_df.groupby('Country')\n",
    "df_avg_happy = grpby_country.agg({'Happiness Score':'mean'}).reset_index()\n",
    "df_avg_happy.sort_values('Happiness Score', inplace=True, ascending=False)\n",
    "df_avg_happy['World happiness rank'] = np.arange(len(df_avg_happy))+1\n",
    "\n",
    "# Now filter to get only the top 3 happiest countries\n",
    "happiness_top_3 = df_avg_happy.loc[df_avg_happy['World happiness rank'] <= 3] \n",
    "# plot happiness by country\n",
    "p = sns.catplot(x='Country', y='Happiness Score', data=happiness_top_3, kind=\"bar\")\n",
    "p.fig.set_size_inches(8,4) # changing plot size for readability"
   ]
  },
  {
   "cell_type": "markdown",
   "metadata": {},
   "source": [
    "##### challenge\n",
    "1. Try to modify the code below (a copy of the code above) the view the top 7 happiest countries \n",
    "2. Try to modify the code below (a copy of the code above) to see which 7 countries are the least happy (clue: there are 164 countries in this dataset)"
   ]
  },
  {
   "cell_type": "code",
   "execution_count": null,
   "metadata": {},
   "outputs": [],
   "source": [
    "# 1\n",
    "happiness_top_3 = df_avg_happy.loc[df_avg_happy['World happiness rank'] <= 3] \n",
    "# plot happiness by country\n",
    "p = sns.catplot(x='Country', y='Happiness Score', data=happiness_top_3, kind=\"bar\")\n",
    "p.fig.set_size_inches(8,4) # changing plot size for readability\n",
    "\n",
    "# 2 \n",
    "happiness_top_3 = df_avg_happy.loc[df_avg_happy['World happiness rank'] <= 3] \n",
    "# plot happiness by country\n",
    "p = sns.catplot(x='Country', y='Happiness Score', data=happiness_top_3, kind=\"bar\")\n",
    "p.fig.set_size_inches(8,4) # changing plot size for readability"
   ]
  },
  {
   "cell_type": "markdown",
   "metadata": {},
   "source": [
    "- Is there anything in common to the happiest countries? \n",
    "- Is there anything in common to the least happy countries?\n",
    "***\n",
    "\n",
    "***\n",
    "## What about Israel?\n",
    "Run the code below to compare the happiness in Israel to that in some other countries"
   ]
  },
  {
   "cell_type": "code",
   "execution_count": null,
   "metadata": {},
   "outputs": [],
   "source": [
    "# list of countries we want to check out\n",
    "countries = ['Israel', 'United States', 'Turkey', 'Singapore']  \n",
    "# filters data to include countries from our list\n",
    "happiness_countries = happiness_df.loc[happiness_df['Country'].isin(countries)]  \n",
    "# plot happiness by country (we'll present the same information in 2 ways)\n",
    "sns.catplot(kind=\"bar\", x='Country', y='Happiness Score', data=happiness_countries)\n",
    "sns.catplot(kind=\"point\", x='Country', y='Happiness Score', data=happiness_countries, join=False);"
   ]
  },
  {
   "cell_type": "markdown",
   "metadata": {},
   "source": [
    "(note the little lines on the bars and around the points - these are called confidence intervals, and we will disucss them later in the course)\n",
    "\n",
    "Are you surprised by these results? \n",
    "\n",
    "#### challenge\n",
    "Change the code below (a copy of the code above) to compare between 5 countries you think would make an interesting comparison:\n",
    "- Why did you choose these countries? \n",
    "- What did you expect to see?\n",
    "- Are you surprised by the results?"
   ]
  },
  {
   "cell_type": "code",
   "execution_count": null,
   "metadata": {},
   "outputs": [],
   "source": [
    "# list of countries we want to check out\n",
    "countries = ['Israel', 'United States', 'Turkey', 'Singapore']  \n",
    "# filters data to include countries from our list\n",
    "happiness_countries = happiness_df.loc[happiness_df['Country'].isin(countries)]  \n",
    "# plot happiness by country (we'll present the same information in 2 ways)\n",
    "sns.catplot(kind=\"bar\", x='Country', y='Happiness Score', data=happiness_countries)\n",
    "sns.catplot(kind=\"point\", x='Country', y='Happiness Score', data=happiness_countries, join=False);"
   ]
  },
  {
   "cell_type": "markdown",
   "metadata": {},
   "source": [
    "\n",
    "## Let's compare the whole world!"
   ]
  },
  {
   "cell_type": "code",
   "execution_count": null,
   "metadata": {
    "scrolled": false
   },
   "outputs": [],
   "source": [
    "# let's compare worldwide mean happiness in 2005-2022\n",
    "\n",
    "# First compute the mean happiness over the years 2005-2022 and sort the countries by mean happiness, while keeping \"Region\"\n",
    "grpby_country = happiness_df.groupby(['Country','Region'])\n",
    "df_avg_happy = grpby_country.agg({'Happiness Score':'mean'}).reset_index()\n",
    "df_avg_happy.sort_values('Happiness Score', inplace=True, ascending=False)\n",
    "\n",
    "# save the color palette used here, for later\n",
    "col_dict = dict(zip(df_avg_happy['Region'].unique(),sns.color_palette().as_hex()))\n",
    "\n",
    "# next, plot the desired figure\n",
    "p=sns.catplot(kind='bar', x='Happiness Score', y='Country', hue='Region', data=df_avg_happy, dodge=False, legend_out=False, palette=col_dict)\n",
    "p.fig.set_size_inches(18,35)\n",
    "p.ax.set_title('Worldwide Happiness 2005-2022 by Country', size=15);"
   ]
  },
  {
   "cell_type": "markdown",
   "metadata": {},
   "source": [
    "Which **world regions** seem to you the happiest? Which are least happy?\n",
    "***\n",
    "Let's check if your answers hold when we look at region averages:"
   ]
  },
  {
   "cell_type": "code",
   "execution_count": null,
   "metadata": {},
   "outputs": [],
   "source": [
    "# compute region averages\n",
    "grpby_region = happiness_df.groupby(['Region'])\n",
    "avg_happy_region = grpby_region.agg({'Happiness Score':'mean'}).reset_index()\n",
    "avg_happy_region.sort_values('Happiness Score', inplace=True, ascending=False)\n",
    "\n",
    "# plot the region averages\n",
    "p = sns.catplot(kind='bar', y='Happiness Score', x='Region', order=avg_happy_region['Region'], \n",
    "                data=happiness_df, dodge=False, palette=col_dict)\n",
    "p.fig.set_size_inches(12,8)\n",
    "p.ax.set_title('Worldwide Happiness 2005-2022 by Region', size=15)\n",
    "p.set_xticklabels(rotation=40, ha=\"right\");"
   ]
  },
  {
   "cell_type": "markdown",
   "metadata": {},
   "source": [
    "Did your answers from above hold?\n",
    "***\n",
    "Which region is Israel in? \n",
    "Is it a \"happy\" region? \n",
    "Is Israel a \"happy\" country?\n",
    "Why the difference?\n",
    "***\n",
    "Let's also look at the variance (more on this later) within regions"
   ]
  },
  {
   "cell_type": "code",
   "execution_count": null,
   "metadata": {},
   "outputs": [],
   "source": [
    "# plot the same information but also add some information on how different countries within a region are different (variance)\n",
    "p = sns.catplot(kind='box', y='Happiness Score', x='Region', order=avg_happy_region['Region'], \n",
    "                data=happiness_df, dodge=False, palette=col_dict, showmeans=True)\n",
    "p.fig.set_size_inches(12,10)\n",
    "p.ax.set_title('Worldwide Happiness 2005-2022 by Region', size=15)\n",
    "p.set_xticklabels(rotation=40, ha=\"right\");"
   ]
  },
  {
   "cell_type": "markdown",
   "metadata": {},
   "source": [
    "Which world region seem to you as the most diverse in terms of happiness?\n",
    "*** \n",
    "Let's look at the distribution of happiness in the Middle East and Northern Africa and compare it to the the distribution in Eastern Asia"
   ]
  },
  {
   "cell_type": "code",
   "execution_count": null,
   "metadata": {},
   "outputs": [],
   "source": [
    "# First get only data for the regions of interst\n",
    "region_to_check = ['Middle East and Northern Africa', 'Eastern Asia'] \n",
    "happiness_region = happiness_df.loc[happiness_df['Region'].isin(region_to_check)]\n",
    "\n",
    "# next, plot the distribution of happiness in this region\n",
    "p = sns.displot(happiness_region, x='Happiness Score', hue='Region', bins=np.arange(2.5, 8.5, 0.5), common_norm=False, stat='proportion', kde=True)\n",
    "p.fig.set_size_inches(10,6)\n",
    "p.ax.set(ylabel='Proportion (number of countries in each bar\\n divided by total number of countries in region)');\n"
   ]
  },
  {
   "cell_type": "markdown",
   "metadata": {},
   "source": [
    "What can we learn from this?\n",
    "\n",
    "#### challenge\n",
    "Change the code below (a copy of the code above) to plot the distribution of another region. \n",
    "What did you learn?"
   ]
  },
  {
   "cell_type": "code",
   "execution_count": null,
   "metadata": {},
   "outputs": [],
   "source": [
    "# First get only data for the regions of interst\n",
    "region_to_check = ['Middle East and Northern Africa', 'Eastern Asia'] \n",
    "happiness_region = happiness_df.loc[happiness_df['Region'].isin(region_to_check)]\n",
    "\n",
    "# next, plot the distribution of happiness in this region\n",
    "p = sns.displot(happiness_region, x='Happiness Score', hue='Region', bins=np.arange(2.5, 8.5, 0.5), common_norm=False, stat='proportion', kde=True)\n",
    "p.fig.set_size_inches(10,6)\n",
    "p.ax.set(ylabel='Proportion (number of countries in each bar\\n divided by total number of countries in region)');\n"
   ]
  },
  {
   "cell_type": "markdown",
   "metadata": {},
   "source": [
    "## Time trends in world happiness\n",
    "\n",
    "So far we looked at average country happiness over all years of the dataset. We can also look at how happiness changes as a function of time.\n",
    "\n",
    "The code below plots the mean world happiness for years 2005-2022"
   ]
  },
  {
   "cell_type": "code",
   "execution_count": null,
   "metadata": {},
   "outputs": [],
   "source": [
    "p = sns.relplot(kind='line', y='Happiness Score', x='Year', data=happiness_df, errorbar=None)\n",
    "p.fig.set_size_inches(12,7)\n",
    "p.set(xticks=range(2005, 2023), xticklabels=range(2005, 2023))\n",
    "p.fig.suptitle('Mean worldwide happiness 2005-2022', size=15);"
   ]
  },
  {
   "cell_type": "markdown",
   "metadata": {},
   "source": [
    "#### What happened in 2006?\n",
    "Any suggestions?"
   ]
  },
  {
   "cell_type": "markdown",
   "metadata": {},
   "source": [
    "Run the following code:"
   ]
  },
  {
   "cell_type": "code",
   "execution_count": null,
   "metadata": {},
   "outputs": [],
   "source": [
    "country_grpby_year = happiness_df[['Country','Year']].groupby('Year')\n",
    "display(country_grpby_year.count())"
   ]
  },
  {
   "cell_type": "markdown",
   "metadata": {},
   "source": [
    "So, what do you think happened in 2006?\n",
    "\n",
    "Here's some more evidence:"
   ]
  },
  {
   "cell_type": "code",
   "execution_count": null,
   "metadata": {
    "scrolled": false
   },
   "outputs": [],
   "source": [
    "region_to_check = ['North America', 'Western Europe', 'Sub-Saharan Africa', 'Southern Asia'] \n",
    "some_regions = happiness_df.loc[happiness_df['Region'].isin(region_to_check)]\n",
    "country_grpby_year_region = some_regions[['Country','Year','Region']].groupby(['Year','Region'])\n",
    "pd.set_option('display.max_rows', 100) # to display all rows\n",
    "display(country_grpby_year_region.count())"
   ]
  },
  {
   "cell_type": "markdown",
   "metadata": {},
   "source": [
    "### Warning! Data is usually not as clean as you'd like it to be!\n",
    "\n",
    "<img src=\"0_YCghEemt6BtW9OZV.png\" width=\"400\" align=\"left\"/>"
   ]
  },
  {
   "cell_type": "markdown",
   "metadata": {},
   "source": [
    "Let's remove observations prior to 2007 before we continue:"
   ]
  },
  {
   "cell_type": "code",
   "execution_count": null,
   "metadata": {},
   "outputs": [],
   "source": [
    "new_happiness_df = happiness_df.loc[happiness_df['Year'] > 2006].copy() \n",
    "# when creating a new df based on an existing one, it is good practice to explicitly tell pandas to make a copy"
   ]
  },
  {
   "cell_type": "markdown",
   "metadata": {},
   "source": [
    "Now, let's check the trends again."
   ]
  },
  {
   "cell_type": "code",
   "execution_count": null,
   "metadata": {},
   "outputs": [],
   "source": [
    "# Worldwide:\n",
    "p = sns.relplot(kind='line', y='Happiness Score', x='Year', data=new_happiness_df, errorbar=None)\n",
    "p.fig.set_size_inches(10,7)\n",
    "p.fig.suptitle('Mean worldwide happiness 2007-2022', size=15)\n",
    "\n",
    "# By region\n",
    "p = sns.relplot(kind='line', y='Happiness Score', x='Year', data=new_happiness_df, errorbar=None, hue='Region', palette=col_dict)\n",
    "p.fig.set_size_inches(12,7)\n",
    "p.fig.suptitle('Mean worldwide happiness 2007-2022 - by region', size=15);"
   ]
  },
  {
   "cell_type": "markdown",
   "metadata": {},
   "source": [
    "Hmm, 2020 was a good year, ha?\n",
    "Was it?\n",
    "\n",
    "What can we say on the trends of world happiness between 2007 and 2022?<br>\n",
    "How meaningful are the changes? Can you tell?\n",
    "\n",
    "What can we say on the differences in trends across different regions?\n",
    "\n",
    "Are these plots reliable given the change in countries surveyed across time?\n",
    "\n",
    "***\n",
    "***\n",
    "\n",
    "Let's look on the trends in specific countries. For example, let's compare the 5 most populated countries in the world:"
   ]
  },
  {
   "cell_type": "code",
   "execution_count": null,
   "metadata": {},
   "outputs": [],
   "source": [
    "largest_countries = ['China', 'India', 'United States', 'Indonesia', 'Brazil']\n",
    "largest_happiness = new_happiness_df.loc[happiness_df['Country'].isin(largest_countries)]\n",
    "p = sns.relplot(kind=\"line\", x=\"Year\", y='Happiness Score', data=largest_happiness, hue='Country')\n",
    "p.fig.set_size_inches(10,7)\n",
    "p.fig.suptitle('Happiness 2007-2022 for most populated countries', size=15)"
   ]
  },
  {
   "cell_type": "markdown",
   "metadata": {},
   "source": [
    "#### Challenge\n",
    "\n",
    "Think of countries whose happiness trends you'd like to compare (why these countries?) and plot their happiness trends for 2007-2022. Use the code above as reference.<br>\n",
    "\n",
    "What did you learn?"
   ]
  },
  {
   "cell_type": "code",
   "execution_count": null,
   "metadata": {},
   "outputs": [],
   "source": [
    "\n",
    "\n"
   ]
  },
  {
   "cell_type": "markdown",
   "metadata": {},
   "source": [
    "What can we say happened to happiness of people in the most populated countries in recent years? <br>\n",
    "Do you find this strange? reaonable? why?\n",
    "\n",
    "***\n",
    "\n",
    "Let's compare the average of the most populated and the average of all other countries."
   ]
  },
  {
   "cell_type": "code",
   "execution_count": null,
   "metadata": {
    "scrolled": false
   },
   "outputs": [],
   "source": [
    "# We can first add a column to the dataframe that marks whether the country is one of the largest countries or not \n",
    "# This is an example of feature engineering, more on this later\n",
    "new_happiness_df['largest'] = \"No\"\n",
    "new_happiness_df.loc[new_happiness_df['Country'].isin(largest_countries),'largest'] = \"Yes\"\n",
    "display(new_happiness_df.describe(include='all')) # checking the result makes sense\n",
    "\n",
    "# Now let's plot the difference in average trends between the largest and the other countries:\n",
    "p = sns.relplot(kind='line', y='Happiness Score', x='Year', data=new_happiness_df, errorbar=('ci', 68), hue='largest', style='largest')\n",
    "p.fig.set_size_inches(10,7)\n",
    "p.fig.suptitle('Mean worldwide happiness 2007-2022', size=15);"
   ]
  },
  {
   "cell_type": "markdown",
   "metadata": {},
   "source": [
    "What can we say about the trends in happiness in the world most populated countries and the rest of the world?\n",
    "\n",
    "***\n",
    "\n",
    "## What is related to happiness?\n",
    "\n",
    "So far we only used 4 coulmns of our original data (Country, Region, Year, & Happiness Score). Let's check out the additional information we have, possible factors that may be related to happiness.\n",
    "\n",
    "The code below shows the relationship between the Economy (GDP per capita) on the x-axis, and happiness scores on the y-axis. <br>What do you infer from this plot?"
   ]
  },
  {
   "cell_type": "code",
   "execution_count": null,
   "metadata": {},
   "outputs": [],
   "source": [
    "# make scatter plot of Economy and happiness\n",
    "ax = sns.regplot(x='Economy', y='Happiness Score', fit_reg=True, data=happiness_df)"
   ]
  },
  {
   "cell_type": "markdown",
   "metadata": {},
   "source": [
    "#### Challenge\n",
    "Do you expect other factors in the data would also be related to happiness? In what way? \n",
    "1. Make a list of your intuitive predictions for the relationship of each of the other factors in the data and happiness\n",
    "2. Write code to test your intuitive predicitons"
   ]
  },
  {
   "cell_type": "code",
   "execution_count": null,
   "metadata": {},
   "outputs": [],
   "source": [
    "\n",
    "\n"
   ]
  },
  {
   "cell_type": "markdown",
   "metadata": {},
   "source": [
    "What are your conclusions? <br>\n",
    "Can you tell us what makes people happy?\n",
    "\n",
    "***\n",
    "***\n",
    "\n",
    "\n",
    "### Warning: Correlation does not imply causation!\n",
    "\n",
    "<img src=\"dilbert.gif\" width=\"640\" height=\"400\" align=\"left\"/>"
   ]
  },
  {
   "cell_type": "markdown",
   "metadata": {},
   "source": [
    "### Some other things to consider\n",
    "\n",
    "- We analyzed the average happiness in the world/regions with each country as one data-point. Does this make sense? Can you think of another way to do things?\n",
    "- Look at the definitions for \"Positive affect\" and \"Negative affect\". Do you think the six factors explaining the Happiness Score should be related to these? More or less so than their relationship with happiness? How about repeating the exercise for one of these as our main target variable?\n",
    "- We can think of more complex data manipulations that can help us explore other interesting questions:\n",
    "    - Which countries' happiness increased the most between 2007 and 2022? Decreased the most? \n",
    "    - Can we spot major geo-political events using this data?\n",
    "    - Can we predict a \"new country\"'s happiness score based on the six factors in our data? How well?\n",
    "    - What countries are more or less happy than we would expect them to be given their levels of six factors? \n",
    "    - ..."
   ]
  }
 ],
 "metadata": {
  "kernelspec": {
   "display_name": "Python 3 (ipykernel)",
   "language": "python",
   "name": "python3"
  },
  "language_info": {
   "codemirror_mode": {
    "name": "ipython",
    "version": 3
   },
   "file_extension": ".py",
   "mimetype": "text/x-python",
   "name": "python",
   "nbconvert_exporter": "python",
   "pygments_lexer": "ipython3",
   "version": "3.9.16"
  }
 },
 "nbformat": 4,
 "nbformat_minor": 2
}
