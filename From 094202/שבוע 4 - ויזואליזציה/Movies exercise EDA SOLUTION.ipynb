{
 "cells": [
  {
   "cell_type": "markdown",
   "metadata": {
    "colab_type": "text",
    "id": "a_IAuReWfZAT"
   },
   "source": [
    "# IMDB Movies Dataset\n",
    "In this exercise, we will explore data from IMDB (https://www.imdb.com/; https://www.kaggle.com/carolzhangdc/imdb-5000-movie-dataset#movie_metadata.csv), a movies website where people can rank movies, read and write reviews, etc.\n",
    "\n",
    "Below is some basic code for reading and visualizing the data. \n",
    "\n",
    "Data description:\n",
    "\n",
    "- color: is the movie in color or black and white\n",
    "- director_name: name of the director of the movie\n",
    "- duration: the duration of the movie in minutes\n",
    "- director_facebook_likes: how many likes does the movie director have on facebook\n",
    "- gross: the gross income of the movie\n",
    "- genres: the genre of the movie (e.g., action)\n",
    "- movie_title: the name of the movie\n",
    "- num_voted_users: number of IMDB users who rated the movie\n",
    "- cast_total_facebook_likes: how many likes do the cast (actors of the movie) have on facebook in total\n",
    "- budget: the budget of the movie\n",
    "- title_year: the year in which the movie came out\n",
    "- imdb_score: the average rating of the movie on imdb (scale of 1-10)\n",
    "- movie_facebook_likes: how many likes does the movie have on facebook"
   ]
  },
  {
   "cell_type": "code",
   "execution_count": 1,
   "metadata": {
    "colab": {
     "base_uri": "https://localhost:8080/",
     "height": 999
    },
    "colab_type": "code",
    "executionInfo": {
     "elapsed": 35995,
     "status": "error",
     "timestamp": 1549971606084,
     "user": {
      "displayName": "Ofra Amir",
      "photoUrl": "https://lh5.googleusercontent.com/-Q9LpYVAusTc/AAAAAAAAAAI/AAAAAAAAOAw/m80On9EU9mk/s64/photo.jpg",
      "userId": "01381598933201577412"
     },
     "user_tz": -120
    },
    "id": "gH993VXffZAY",
    "outputId": "3cd8130f-c4d5-4e47-ce66-e03b09269154"
   },
   "outputs": [
    {
     "data": {
      "text/html": [
       "<div>\n",
       "<style scoped>\n",
       "    .dataframe tbody tr th:only-of-type {\n",
       "        vertical-align: middle;\n",
       "    }\n",
       "\n",
       "    .dataframe tbody tr th {\n",
       "        vertical-align: top;\n",
       "    }\n",
       "\n",
       "    .dataframe thead th {\n",
       "        text-align: right;\n",
       "    }\n",
       "</style>\n",
       "<table border=\"1\" class=\"dataframe\">\n",
       "  <thead>\n",
       "    <tr style=\"text-align: right;\">\n",
       "      <th></th>\n",
       "      <th>color</th>\n",
       "      <th>director_name</th>\n",
       "      <th>duration</th>\n",
       "      <th>director_facebook_likes</th>\n",
       "      <th>gross</th>\n",
       "      <th>genres</th>\n",
       "      <th>movie_title</th>\n",
       "      <th>num_voted_users</th>\n",
       "      <th>cast_total_facebook_likes</th>\n",
       "      <th>budget</th>\n",
       "      <th>title_year</th>\n",
       "      <th>imdb_score</th>\n",
       "      <th>movie_facebook_likes</th>\n",
       "    </tr>\n",
       "  </thead>\n",
       "  <tbody>\n",
       "    <tr>\n",
       "      <th>0</th>\n",
       "      <td>Color</td>\n",
       "      <td>James Cameron</td>\n",
       "      <td>178.0</td>\n",
       "      <td>0</td>\n",
       "      <td>760505847</td>\n",
       "      <td>Action</td>\n",
       "      <td>Avatar</td>\n",
       "      <td>886204</td>\n",
       "      <td>4834</td>\n",
       "      <td>237000000</td>\n",
       "      <td>2009</td>\n",
       "      <td>7.9</td>\n",
       "      <td>33000</td>\n",
       "    </tr>\n",
       "    <tr>\n",
       "      <th>1</th>\n",
       "      <td>Color</td>\n",
       "      <td>Gore Verbinski</td>\n",
       "      <td>169.0</td>\n",
       "      <td>563</td>\n",
       "      <td>309404152</td>\n",
       "      <td>Action</td>\n",
       "      <td>Pirates of the Caribbean: At World's End</td>\n",
       "      <td>471220</td>\n",
       "      <td>48350</td>\n",
       "      <td>300000000</td>\n",
       "      <td>2007</td>\n",
       "      <td>7.1</td>\n",
       "      <td>0</td>\n",
       "    </tr>\n",
       "    <tr>\n",
       "      <th>2</th>\n",
       "      <td>Color</td>\n",
       "      <td>Sam Mendes</td>\n",
       "      <td>148.0</td>\n",
       "      <td>0</td>\n",
       "      <td>200074175</td>\n",
       "      <td>Action</td>\n",
       "      <td>Spectre</td>\n",
       "      <td>275868</td>\n",
       "      <td>11700</td>\n",
       "      <td>245000000</td>\n",
       "      <td>2015</td>\n",
       "      <td>6.8</td>\n",
       "      <td>85000</td>\n",
       "    </tr>\n",
       "    <tr>\n",
       "      <th>3</th>\n",
       "      <td>Color</td>\n",
       "      <td>Christopher Nolan</td>\n",
       "      <td>164.0</td>\n",
       "      <td>22000</td>\n",
       "      <td>448130642</td>\n",
       "      <td>Action</td>\n",
       "      <td>The Dark Knight Rises</td>\n",
       "      <td>1144337</td>\n",
       "      <td>106759</td>\n",
       "      <td>250000000</td>\n",
       "      <td>2012</td>\n",
       "      <td>8.5</td>\n",
       "      <td>164000</td>\n",
       "    </tr>\n",
       "    <tr>\n",
       "      <th>4</th>\n",
       "      <td>Color</td>\n",
       "      <td>Andrew Stanton</td>\n",
       "      <td>132.0</td>\n",
       "      <td>475</td>\n",
       "      <td>73058679</td>\n",
       "      <td>Action</td>\n",
       "      <td>John Carter</td>\n",
       "      <td>212204</td>\n",
       "      <td>1873</td>\n",
       "      <td>263700000</td>\n",
       "      <td>2012</td>\n",
       "      <td>6.6</td>\n",
       "      <td>24000</td>\n",
       "    </tr>\n",
       "  </tbody>\n",
       "</table>\n",
       "</div>"
      ],
      "text/plain": [
       "   color      director_name  duration  director_facebook_likes      gross  \\\n",
       "0  Color      James Cameron     178.0                        0  760505847   \n",
       "1  Color     Gore Verbinski     169.0                      563  309404152   \n",
       "2  Color         Sam Mendes     148.0                        0  200074175   \n",
       "3  Color  Christopher Nolan     164.0                    22000  448130642   \n",
       "4  Color     Andrew Stanton     132.0                      475   73058679   \n",
       "\n",
       "   genres                                movie_title  num_voted_users  \\\n",
       "0  Action                                    Avatar            886204   \n",
       "1  Action  Pirates of the Caribbean: At World's End            471220   \n",
       "2  Action                                   Spectre            275868   \n",
       "3  Action                     The Dark Knight Rises           1144337   \n",
       "4  Action                               John Carter            212204   \n",
       "\n",
       "   cast_total_facebook_likes     budget  title_year  imdb_score  \\\n",
       "0                       4834  237000000        2009         7.9   \n",
       "1                      48350  300000000        2007         7.1   \n",
       "2                      11700  245000000        2015         6.8   \n",
       "3                     106759  250000000        2012         8.5   \n",
       "4                       1873  263700000        2012         6.6   \n",
       "\n",
       "   movie_facebook_likes  \n",
       "0                 33000  \n",
       "1                     0  \n",
       "2                 85000  \n",
       "3                164000  \n",
       "4                 24000  "
      ]
     },
     "metadata": {},
     "output_type": "display_data"
    },
    {
     "name": "stdout",
     "output_type": "stream",
     "text": [
      "<class 'pandas.core.frame.DataFrame'>\n",
      "RangeIndex: 3882 entries, 0 to 3881\n",
      "Data columns (total 13 columns):\n",
      " #   Column                     Non-Null Count  Dtype  \n",
      "---  ------                     --------------  -----  \n",
      " 0   color                      3882 non-null   object \n",
      " 1   director_name              3882 non-null   object \n",
      " 2   duration                   3881 non-null   float64\n",
      " 3   director_facebook_likes    3882 non-null   int64  \n",
      " 4   gross                      3882 non-null   int64  \n",
      " 5   genres                     3882 non-null   object \n",
      " 6   movie_title                3882 non-null   object \n",
      " 7   num_voted_users            3882 non-null   int64  \n",
      " 8   cast_total_facebook_likes  3882 non-null   int64  \n",
      " 9   budget                     3882 non-null   int64  \n",
      " 10  title_year                 3882 non-null   int64  \n",
      " 11  imdb_score                 3882 non-null   float64\n",
      " 12  movie_facebook_likes       3882 non-null   int64  \n",
      "dtypes: float64(2), int64(7), object(4)\n",
      "memory usage: 394.4+ KB\n"
     ]
    }
   ],
   "source": [
    "import pandas as pd  # pandas is a package we will use to work with data tables\n",
    "import matplotlib.pyplot as plt  # matplotlib is a package for plotting data\n",
    "import seaborn as sns  # seaborn is also a package for plotting data, built on top of matplotlib\n",
    "import numpy as np  # numpy is a package for working with numerical data\n",
    "\n",
    "sns.set_context(\"talk\") # seaborn theme that makes plots clearer when presenting\n",
    "sns.set_palette(\"viridis\") # change color pallette to the recommended Viridis\n",
    "\n",
    "movies_df = pd.read_csv('movie_metadata.csv')  # reads dataset to a dataframe \n",
    "display(movies_df.head())  # prints first 5 rows of dataframe\n",
    "movies_df.info()"
   ]
  },
  {
   "cell_type": "markdown",
   "metadata": {},
   "source": [
    "How many observations do we have? \n",
    "Do we have missing values? In which variables?"
   ]
  },
  {
   "cell_type": "code",
   "execution_count": 2,
   "metadata": {},
   "outputs": [
    {
     "data": {
      "text/html": [
       "<div>\n",
       "<style scoped>\n",
       "    .dataframe tbody tr th:only-of-type {\n",
       "        vertical-align: middle;\n",
       "    }\n",
       "\n",
       "    .dataframe tbody tr th {\n",
       "        vertical-align: top;\n",
       "    }\n",
       "\n",
       "    .dataframe thead th {\n",
       "        text-align: right;\n",
       "    }\n",
       "</style>\n",
       "<table border=\"1\" class=\"dataframe\">\n",
       "  <thead>\n",
       "    <tr style=\"text-align: right;\">\n",
       "      <th></th>\n",
       "      <th>duration</th>\n",
       "      <th>director_facebook_likes</th>\n",
       "      <th>gross</th>\n",
       "      <th>num_voted_users</th>\n",
       "      <th>cast_total_facebook_likes</th>\n",
       "      <th>budget</th>\n",
       "      <th>title_year</th>\n",
       "      <th>imdb_score</th>\n",
       "      <th>movie_facebook_likes</th>\n",
       "    </tr>\n",
       "  </thead>\n",
       "  <tbody>\n",
       "    <tr>\n",
       "      <th>count</th>\n",
       "      <td>3881.000000</td>\n",
       "      <td>3882.000000</td>\n",
       "      <td>3.882000e+03</td>\n",
       "      <td>3.882000e+03</td>\n",
       "      <td>3882.000000</td>\n",
       "      <td>3.882000e+03</td>\n",
       "      <td>3882.000000</td>\n",
       "      <td>3882.000000</td>\n",
       "      <td>3882.000000</td>\n",
       "    </tr>\n",
       "    <tr>\n",
       "      <th>mean</th>\n",
       "      <td>109.886369</td>\n",
       "      <td>781.218444</td>\n",
       "      <td>5.114833e+07</td>\n",
       "      <td>1.026713e+05</td>\n",
       "      <td>11281.888717</td>\n",
       "      <td>3.872725e+07</td>\n",
       "      <td>2003.082174</td>\n",
       "      <td>6.462107</td>\n",
       "      <td>9149.570582</td>\n",
       "    </tr>\n",
       "    <tr>\n",
       "      <th>std</th>\n",
       "      <td>22.724192</td>\n",
       "      <td>3019.868885</td>\n",
       "      <td>6.984633e+07</td>\n",
       "      <td>1.508444e+05</td>\n",
       "      <td>18941.023800</td>\n",
       "      <td>4.792372e+07</td>\n",
       "      <td>10.007686</td>\n",
       "      <td>1.056180</td>\n",
       "      <td>21324.775147</td>\n",
       "    </tr>\n",
       "    <tr>\n",
       "      <th>min</th>\n",
       "      <td>34.000000</td>\n",
       "      <td>0.000000</td>\n",
       "      <td>1.620000e+02</td>\n",
       "      <td>5.000000e+00</td>\n",
       "      <td>0.000000</td>\n",
       "      <td>2.180000e+02</td>\n",
       "      <td>1920.000000</td>\n",
       "      <td>1.600000</td>\n",
       "      <td>0.000000</td>\n",
       "    </tr>\n",
       "    <tr>\n",
       "      <th>25%</th>\n",
       "      <td>95.000000</td>\n",
       "      <td>10.000000</td>\n",
       "      <td>6.855627e+06</td>\n",
       "      <td>1.732350e+04</td>\n",
       "      <td>1825.500000</td>\n",
       "      <td>1.000000e+07</td>\n",
       "      <td>1999.000000</td>\n",
       "      <td>5.900000</td>\n",
       "      <td>0.000000</td>\n",
       "    </tr>\n",
       "    <tr>\n",
       "      <th>50%</th>\n",
       "      <td>106.000000</td>\n",
       "      <td>58.000000</td>\n",
       "      <td>2.805488e+07</td>\n",
       "      <td>5.040200e+04</td>\n",
       "      <td>3896.500000</td>\n",
       "      <td>2.400000e+07</td>\n",
       "      <td>2005.000000</td>\n",
       "      <td>6.600000</td>\n",
       "      <td>207.500000</td>\n",
       "    </tr>\n",
       "    <tr>\n",
       "      <th>75%</th>\n",
       "      <td>120.000000</td>\n",
       "      <td>225.000000</td>\n",
       "      <td>6.548808e+07</td>\n",
       "      <td>1.242370e+05</td>\n",
       "      <td>16006.250000</td>\n",
       "      <td>5.000000e+07</td>\n",
       "      <td>2010.000000</td>\n",
       "      <td>7.200000</td>\n",
       "      <td>11000.000000</td>\n",
       "    </tr>\n",
       "    <tr>\n",
       "      <th>max</th>\n",
       "      <td>330.000000</td>\n",
       "      <td>23000.000000</td>\n",
       "      <td>7.605058e+08</td>\n",
       "      <td>1.689764e+06</td>\n",
       "      <td>656730.000000</td>\n",
       "      <td>7.000000e+08</td>\n",
       "      <td>2016.000000</td>\n",
       "      <td>9.300000</td>\n",
       "      <td>349000.000000</td>\n",
       "    </tr>\n",
       "  </tbody>\n",
       "</table>\n",
       "</div>"
      ],
      "text/plain": [
       "          duration  director_facebook_likes         gross  num_voted_users  \\\n",
       "count  3881.000000              3882.000000  3.882000e+03     3.882000e+03   \n",
       "mean    109.886369               781.218444  5.114833e+07     1.026713e+05   \n",
       "std      22.724192              3019.868885  6.984633e+07     1.508444e+05   \n",
       "min      34.000000                 0.000000  1.620000e+02     5.000000e+00   \n",
       "25%      95.000000                10.000000  6.855627e+06     1.732350e+04   \n",
       "50%     106.000000                58.000000  2.805488e+07     5.040200e+04   \n",
       "75%     120.000000               225.000000  6.548808e+07     1.242370e+05   \n",
       "max     330.000000             23000.000000  7.605058e+08     1.689764e+06   \n",
       "\n",
       "       cast_total_facebook_likes        budget   title_year   imdb_score  \\\n",
       "count                3882.000000  3.882000e+03  3882.000000  3882.000000   \n",
       "mean                11281.888717  3.872725e+07  2003.082174     6.462107   \n",
       "std                 18941.023800  4.792372e+07    10.007686     1.056180   \n",
       "min                     0.000000  2.180000e+02  1920.000000     1.600000   \n",
       "25%                  1825.500000  1.000000e+07  1999.000000     5.900000   \n",
       "50%                  3896.500000  2.400000e+07  2005.000000     6.600000   \n",
       "75%                 16006.250000  5.000000e+07  2010.000000     7.200000   \n",
       "max                656730.000000  7.000000e+08  2016.000000     9.300000   \n",
       "\n",
       "       movie_facebook_likes  \n",
       "count           3882.000000  \n",
       "mean            9149.570582  \n",
       "std            21324.775147  \n",
       "min                0.000000  \n",
       "25%                0.000000  \n",
       "50%              207.500000  \n",
       "75%            11000.000000  \n",
       "max           349000.000000  "
      ]
     },
     "metadata": {},
     "output_type": "display_data"
    },
    {
     "data": {
      "text/html": [
       "<div>\n",
       "<style scoped>\n",
       "    .dataframe tbody tr th:only-of-type {\n",
       "        vertical-align: middle;\n",
       "    }\n",
       "\n",
       "    .dataframe tbody tr th {\n",
       "        vertical-align: top;\n",
       "    }\n",
       "\n",
       "    .dataframe thead th {\n",
       "        text-align: right;\n",
       "    }\n",
       "</style>\n",
       "<table border=\"1\" class=\"dataframe\">\n",
       "  <thead>\n",
       "    <tr style=\"text-align: right;\">\n",
       "      <th></th>\n",
       "      <th>color</th>\n",
       "      <th>director_name</th>\n",
       "      <th>genres</th>\n",
       "      <th>movie_title</th>\n",
       "    </tr>\n",
       "  </thead>\n",
       "  <tbody>\n",
       "    <tr>\n",
       "      <th>count</th>\n",
       "      <td>3882</td>\n",
       "      <td>3882</td>\n",
       "      <td>3882</td>\n",
       "      <td>3882</td>\n",
       "    </tr>\n",
       "    <tr>\n",
       "      <th>unique</th>\n",
       "      <td>2</td>\n",
       "      <td>1750</td>\n",
       "      <td>17</td>\n",
       "      <td>3781</td>\n",
       "    </tr>\n",
       "    <tr>\n",
       "      <th>top</th>\n",
       "      <td>Color</td>\n",
       "      <td>Steven Spielberg</td>\n",
       "      <td>Comedy</td>\n",
       "      <td>Pan</td>\n",
       "    </tr>\n",
       "    <tr>\n",
       "      <th>freq</th>\n",
       "      <td>3751</td>\n",
       "      <td>25</td>\n",
       "      <td>1035</td>\n",
       "      <td>3</td>\n",
       "    </tr>\n",
       "  </tbody>\n",
       "</table>\n",
       "</div>"
      ],
      "text/plain": [
       "        color     director_name  genres movie_title\n",
       "count    3882              3882    3882        3882\n",
       "unique      2              1750      17        3781\n",
       "top     Color  Steven Spielberg  Comedy        Pan \n",
       "freq     3751                25    1035           3"
      ]
     },
     "execution_count": 2,
     "metadata": {},
     "output_type": "execute_result"
    }
   ],
   "source": [
    "# let's describe the data (separately for numeric and categorical variables)\n",
    "display(movies_df.describe()) # describes only numeric variables\n",
    "movies_df.describe(include=[object]) # descirbe only cateogrical variables (actually \"object\" type variables)"
   ]
  },
  {
   "cell_type": "markdown",
   "metadata": {},
   "source": [
    "What is the average number of IMDB votes for a movie in this dataset? \n",
    "What is the median number?\n",
    "\n",
    "How many of Steven Spielberg's movies are in this dataset?"
   ]
  },
  {
   "cell_type": "markdown",
   "metadata": {
    "colab_type": "text",
    "id": "r0qmx1vAfZAh"
   },
   "source": [
    "## Explore distributions of variables\n",
    "\n",
    "### Numeric variables\n",
    "\n",
    "Run the code below to see the distribution of the budget of movies. \n",
    "\n",
    "Let's play with the parameter \"bins\", which controls the number of bins in the histogram. Can you make different observations as you change it?\n",
    "\n",
    "**Challenge for home:** Try to look at the distributions of other (numeric) variables that you are curious about. E.g., what does the distribution of movie ratings looks like? of movie durations?"
   ]
  },
  {
   "cell_type": "code",
   "execution_count": 3,
   "metadata": {},
   "outputs": [
    {
     "data": {
      "image/png": "[encoded data removed]",
      "text/plain": [
       "<Figure size 500x500 with 1 Axes>"
      ]
     },
     "metadata": {},
     "output_type": "display_data"
    }
   ],
   "source": [
    "ax=sns.displot(data=movies_df, x=\"budget\", bins=20)"
   ]
  },
  {
   "cell_type": "markdown",
   "metadata": {},
   "source": [
    "### categorical variables\n",
    "\n",
    "Run the code below to see the distribution of movie genres.\n",
    "\n",
    "Would it be wise to plot distributions of other categorical variables in this dataset? Hint: look at the summary statistics table above.\n",
    "\n",
    "**Challenge for home:** Try to flip the chart 90 degress counter-clockwise, and make sure the labeles are readable"
   ]
  },
  {
   "cell_type": "code",
   "execution_count": 6,
   "metadata": {},
   "outputs": [
    {
     "data": {
      "text/plain": [
       "<seaborn.axisgrid.FacetGrid at 0x1ff640f13a0>"
      ]
     },
     "execution_count": 6,
     "metadata": {},
     "output_type": "execute_result"
    },
    {
     "data": {
      "image/png": "[encoded data removed]",
      "text/plain": [
       "<Figure size 1400x700 with 1 Axes>"
      ]
     },
     "metadata": {},
     "output_type": "display_data"
    }
   ],
   "source": [
    "sns.catplot(data=movies_df, x='genres', kind='count', aspect=2, height=7)"
   ]
  },
  {
   "cell_type": "markdown",
   "metadata": {},
   "source": [
    "Clearly, there are very few movies in several generes. Let's change their category to \"other\""
   ]
  },
  {
   "cell_type": "code",
   "execution_count": 9,
   "metadata": {},
   "outputs": [
    {
     "data": {
      "text/plain": [
       "<seaborn.axisgrid.FacetGrid at 0x279e4340f40>"
      ]
     },
     "execution_count": 9,
     "metadata": {},
     "output_type": "execute_result"
    },
    {
     "data": {
      "image/png": "[encoded data removed]",
      "text/plain": [
       "<Figure size 500x500 with 1 Axes>"
      ]
     },
     "metadata": {},
     "output_type": "display_data"
    }
   ],
   "source": [
    "# make a list of categories we want to change\n",
    "genres_to_remove = ['Sci-Fi','Romance','Family','Western','Musical','Thriller']\n",
    "# change the value in 'genres' of observations whose genre is in the list to 'other'\n",
    "movies_df.loc[movies_df['genres'].isin(genres_to_remove),'genres'] = 'Other'\n",
    "# replot the cell above\n",
    "sns.catplot(data=movies_df, y='genres', kind='count')"
   ]
  },
  {
   "cell_type": "markdown",
   "metadata": {
    "colab_type": "text",
    "id": "r0qmx1vAfZAh"
   },
   "source": [
    "## Explore relationship between variables\n",
    "\n",
    "Run the code below to see a scatter plot showing the relationship between the movie's budget and its income. Does there seem to be a clear pattern? Is there anything weird in the data?\n",
    "\n",
    "**Challenge for home:** Modify the code to explore other potential relationships between variables:\n",
    "\n",
    "- Do you think there is a strong correlation between the budget of a movie and its rating?\n",
    "- Do you think there is a strong correlation between the gross income of a movie and its rating?\n",
    "- Do you think there is a strong correlation between the facebook likes of a movie and its rating?\n",
    "- Do you think there is a strong correlation between the facebook likes of a movie and the facebook likes of its director?\n"
   ]
  },
  {
   "cell_type": "code",
   "execution_count": 10,
   "metadata": {},
   "outputs": [
    {
     "data": {
      "text/plain": [
       "<seaborn.axisgrid.FacetGrid at 0x279e707eb50>"
      ]
     },
     "execution_count": 10,
     "metadata": {},
     "output_type": "execute_result"
    },
    {
     "data": {
      "image/png": "[encoded data removed]",
      "text/plain": [
       "<Figure size 500x500 with 1 Axes>"
      ]
     },
     "metadata": {},
     "output_type": "display_data"
    }
   ],
   "source": [
    "sns.relplot(data=movies_df, x='budget', y='gross', kind='scatter')"
   ]
  },
  {
   "cell_type": "code",
   "execution_count": 11,
   "metadata": {},
   "outputs": [
    {
     "data": {
      "text/plain": [
       "0.5707589302847074"
      ]
     },
     "execution_count": 11,
     "metadata": {},
     "output_type": "execute_result"
    }
   ],
   "source": [
    "# checking the correlation \n",
    "movies_df['budget'].corr(movies_df['gross'])"
   ]
  },
  {
   "cell_type": "markdown",
   "metadata": {},
   "source": [
    "### Outliers\n",
    "\n",
    "The budget of some movies in the data seems too high. Let's print out the names of these movies"
   ]
  },
  {
   "cell_type": "code",
   "execution_count": 12,
   "metadata": {},
   "outputs": [
    {
     "data": {
      "text/html": [
       "<div>\n",
       "<style scoped>\n",
       "    .dataframe tbody tr th:only-of-type {\n",
       "        vertical-align: middle;\n",
       "    }\n",
       "\n",
       "    .dataframe tbody tr th {\n",
       "        vertical-align: top;\n",
       "    }\n",
       "\n",
       "    .dataframe thead th {\n",
       "        text-align: right;\n",
       "    }\n",
       "</style>\n",
       "<table border=\"1\" class=\"dataframe\">\n",
       "  <thead>\n",
       "    <tr style=\"text-align: right;\">\n",
       "      <th></th>\n",
       "      <th>color</th>\n",
       "      <th>director_name</th>\n",
       "      <th>duration</th>\n",
       "      <th>director_facebook_likes</th>\n",
       "      <th>gross</th>\n",
       "      <th>genres</th>\n",
       "      <th>movie_title</th>\n",
       "      <th>num_voted_users</th>\n",
       "      <th>cast_total_facebook_likes</th>\n",
       "      <th>budget</th>\n",
       "      <th>title_year</th>\n",
       "      <th>imdb_score</th>\n",
       "      <th>movie_facebook_likes</th>\n",
       "    </tr>\n",
       "  </thead>\n",
       "  <tbody>\n",
       "    <tr>\n",
       "      <th>966</th>\n",
       "      <td>Color</td>\n",
       "      <td>Luc Besson</td>\n",
       "      <td>158.0</td>\n",
       "      <td>0</td>\n",
       "      <td>14131298</td>\n",
       "      <td>Adventure</td>\n",
       "      <td>The Messenger: The Story of Joan of Arc</td>\n",
       "      <td>55889</td>\n",
       "      <td>144</td>\n",
       "      <td>390000000</td>\n",
       "      <td>1999</td>\n",
       "      <td>6.4</td>\n",
       "      <td>0</td>\n",
       "    </tr>\n",
       "    <tr>\n",
       "      <th>1267</th>\n",
       "      <td>Color</td>\n",
       "      <td>John Woo</td>\n",
       "      <td>150.0</td>\n",
       "      <td>610</td>\n",
       "      <td>626809</td>\n",
       "      <td>Action</td>\n",
       "      <td>Red Cliff</td>\n",
       "      <td>36894</td>\n",
       "      <td>2172</td>\n",
       "      <td>553632000</td>\n",
       "      <td>2008</td>\n",
       "      <td>7.4</td>\n",
       "      <td>0</td>\n",
       "    </tr>\n",
       "    <tr>\n",
       "      <th>2760</th>\n",
       "      <td>Color</td>\n",
       "      <td>Karan Johar</td>\n",
       "      <td>193.0</td>\n",
       "      <td>160</td>\n",
       "      <td>3275443</td>\n",
       "      <td>Drama</td>\n",
       "      <td>Kabhi Alvida Naa Kehna</td>\n",
       "      <td>13998</td>\n",
       "      <td>10822</td>\n",
       "      <td>700000000</td>\n",
       "      <td>2006</td>\n",
       "      <td>6.0</td>\n",
       "      <td>659</td>\n",
       "    </tr>\n",
       "    <tr>\n",
       "      <th>2908</th>\n",
       "      <td>Color</td>\n",
       "      <td>Anurag Basu</td>\n",
       "      <td>90.0</td>\n",
       "      <td>116</td>\n",
       "      <td>1602466</td>\n",
       "      <td>Action</td>\n",
       "      <td>Kites</td>\n",
       "      <td>9673</td>\n",
       "      <td>1836</td>\n",
       "      <td>600000000</td>\n",
       "      <td>2010</td>\n",
       "      <td>6.0</td>\n",
       "      <td>0</td>\n",
       "    </tr>\n",
       "    <tr>\n",
       "      <th>2934</th>\n",
       "      <td>Color</td>\n",
       "      <td>Chatrichalerm Yukol</td>\n",
       "      <td>300.0</td>\n",
       "      <td>6</td>\n",
       "      <td>454255</td>\n",
       "      <td>Action</td>\n",
       "      <td>The Legend of Suriyothai</td>\n",
       "      <td>1666</td>\n",
       "      <td>32</td>\n",
       "      <td>400000000</td>\n",
       "      <td>2001</td>\n",
       "      <td>6.6</td>\n",
       "      <td>124</td>\n",
       "    </tr>\n",
       "    <tr>\n",
       "      <th>3297</th>\n",
       "      <td>Color</td>\n",
       "      <td>Carlos Saura</td>\n",
       "      <td>115.0</td>\n",
       "      <td>98</td>\n",
       "      <td>1687311</td>\n",
       "      <td>Drama</td>\n",
       "      <td>Tango</td>\n",
       "      <td>2412</td>\n",
       "      <td>371</td>\n",
       "      <td>700000000</td>\n",
       "      <td>1998</td>\n",
       "      <td>7.2</td>\n",
       "      <td>539</td>\n",
       "    </tr>\n",
       "  </tbody>\n",
       "</table>\n",
       "</div>"
      ],
      "text/plain": [
       "      color        director_name  duration  director_facebook_likes     gross  \\\n",
       "966   Color           Luc Besson     158.0                        0  14131298   \n",
       "1267  Color             John Woo     150.0                      610    626809   \n",
       "2760  Color          Karan Johar     193.0                      160   3275443   \n",
       "2908  Color          Anurag Basu      90.0                      116   1602466   \n",
       "2934  Color  Chatrichalerm Yukol     300.0                        6    454255   \n",
       "3297  Color         Carlos Saura     115.0                       98   1687311   \n",
       "\n",
       "         genres                               movie_title  num_voted_users  \\\n",
       "966   Adventure  The Messenger: The Story of Joan of Arc             55889   \n",
       "1267     Action                                Red Cliff             36894   \n",
       "2760      Drama                   Kabhi Alvida Naa Kehna             13998   \n",
       "2908     Action                                    Kites              9673   \n",
       "2934     Action                 The Legend of Suriyothai              1666   \n",
       "3297      Drama                                    Tango              2412   \n",
       "\n",
       "      cast_total_facebook_likes     budget  title_year  imdb_score  \\\n",
       "966                         144  390000000        1999         6.4   \n",
       "1267                       2172  553632000        2008         7.4   \n",
       "2760                      10822  700000000        2006         6.0   \n",
       "2908                       1836  600000000        2010         6.0   \n",
       "2934                         32  400000000        2001         6.6   \n",
       "3297                        371  700000000        1998         7.2   \n",
       "\n",
       "      movie_facebook_likes  \n",
       "966                      0  \n",
       "1267                     0  \n",
       "2760                   659  \n",
       "2908                     0  \n",
       "2934                   124  \n",
       "3297                   539  "
      ]
     },
     "execution_count": 12,
     "metadata": {},
     "output_type": "execute_result"
    }
   ],
   "source": [
    "outliers = movies_df.loc[movies_df['budget'] > 3e+08]\n",
    "outliers"
   ]
  },
  {
   "cell_type": "markdown",
   "metadata": {},
   "source": [
    "Let's remove these from the data"
   ]
  },
  {
   "cell_type": "code",
   "execution_count": 13,
   "metadata": {},
   "outputs": [],
   "source": [
    "movies_df = movies_df.loc[movies_df['budget'] <= 3e+08]"
   ]
  },
  {
   "cell_type": "markdown",
   "metadata": {},
   "source": [
    "These outliers indicate that the data includes errors. <br>\n",
    "Let's try to find another variable with suspicious values and check if they make sense. For example, let's check the distribution of cast_total_facebook_likes"
   ]
  },
  {
   "cell_type": "code",
   "execution_count": null,
   "metadata": {},
   "outputs": [],
   "source": [
    "# the rug argument makes sure we can see outliers plotted.\n",
    "sns.displot(data=movies_df, x='cast_total_facebook_likes',kind='kde', rug=True) "
   ]
  },
  {
   "cell_type": "code",
   "execution_count": null,
   "metadata": {},
   "outputs": [],
   "source": [
    "outliers = movies_df.loc[movies_df['cast_total_facebook_likes'] >=200000]\n",
    "outliers"
   ]
  },
  {
   "cell_type": "markdown",
   "metadata": {},
   "source": [
    "These also seem unreasonable, but not as unreasonable as the *budget* outliers above. Normally, we'd investigate more, but for now let's remove them.\n",
    "\n",
    "**Challenge for home:** Check for other possible outliers, and remove them if necessary."
   ]
  },
  {
   "cell_type": "code",
   "execution_count": null,
   "metadata": {},
   "outputs": [],
   "source": [
    "movies_df = movies_df.loc[movies_df['cast_total_facebook_likes'] <= 200000]"
   ]
  },
  {
   "cell_type": "markdown",
   "metadata": {
    "colab_type": "text",
    "id": "r0qmx1vAfZAh"
   },
   "source": [
    "## Make comparisons between movie genres\n",
    "\n",
    "Run the code below to see the a bar chart showing the average income for movies of different genres. What do you observe? What does this mean for movie producers? Does this mean that if they want to make more money, they should focus on specific genres?\n",
    "\n",
    "**Challenge for home:** Modify the code to explore other comparisons between genres, e.g.:\n",
    "\n",
    "- Movies from which genres cost more to produce?\n",
    "- Movies from which genres have get higher ratings?\n",
    "\n"
   ]
  },
  {
   "cell_type": "code",
   "execution_count": null,
   "metadata": {
    "colab": {},
    "colab_type": "code",
    "id": "LZG3wy4afZAj"
   },
   "outputs": [],
   "source": [
    "p = sns.catplot(data=movies_df, x='genres', y='gross', kind='bar',height=7, aspect=2) # aspect controls the ratio of width to height of the plot\n",
    "p.set_xticklabels(size = 14) # make font size of tick lables on x axis smaller so they dont go over one another"
   ]
  },
  {
   "cell_type": "markdown",
   "metadata": {
    "colab_type": "text",
    "id": "r0qmx1vAfZAh"
   },
   "source": [
    "## Make comparisons between movie genres - part 2\n",
    "\n",
    "Run the code below to see the a boxplot showing the average ratings for movies of different genres. What can you infer that you could not see in the bar chart above?\n",
    "\n",
    "Modify the code to look at boxplots for other comparisons (as above).\n"
   ]
  },
  {
   "cell_type": "code",
   "execution_count": null,
   "metadata": {
    "colab": {},
    "colab_type": "code",
    "id": "LZG3wy4afZAj"
   },
   "outputs": [],
   "source": [
    "p = sns.catplot(data=movies_df, x='genres', y='imdb_score', kind='box', showmeans=True, height=7, aspect=2) # note the showmeans argument\n",
    "p.set_xticklabels(size = 14)"
   ]
  },
  {
   "cell_type": "markdown",
   "metadata": {},
   "source": [
    "## Trends over time\n",
    "\n",
    "We want to see how the average revenue of a movie changes over time. First, we need to find the average revenue of a movie for each year in the data. <br>\n",
    "Yet, there are years with very few movies, and the average will not be informaive. So we will also remove years that have fewer than 50 movies.\n",
    "\n",
    "Run the code below to create a new dataframe with the average revenue per year"
   ]
  },
  {
   "cell_type": "code",
   "execution_count": null,
   "metadata": {},
   "outputs": [],
   "source": [
    "grpby_year = movies_df.groupby(['title_year']) # first, we create a groupby object by year\n",
    "agg_types = {\n",
    "    'gross': ['mean','count']\n",
    "}\n",
    "\n",
    "df_year_gross = grpby_year.agg(agg_types)\n",
    "\n",
    "df_year_gross # checking to see we have what we want...\n"
   ]
  },
  {
   "cell_type": "code",
   "execution_count": null,
   "metadata": {},
   "outputs": [],
   "source": [
    "# the groupby object automatically uses year for indexing, so we will not be able to use it as a variable\n",
    "# reset_index allows us to use year again as a variable\n",
    "df_year_gross.reset_index(inplace=True) # inplace asks to do the resetting on the calling df\n",
    "df_year_gross\n",
    "\n",
    "# Alternatively, we could have set as_index=False when we created the groupby object"
   ]
  },
  {
   "cell_type": "code",
   "execution_count": null,
   "metadata": {},
   "outputs": [],
   "source": [
    "# let's rename the columns to make things easier\n",
    "display(df_year_gross.columns.values)\n",
    "df_year_gross.columns = ['title_year', 'mean_gross', 'count_gross']\n",
    "df_year_gross.columns.values\n",
    "\n",
    "# alternatively, we could have used \"named aggregations\" when creating the new dataframe"
   ]
  },
  {
   "cell_type": "code",
   "execution_count": null,
   "metadata": {},
   "outputs": [],
   "source": [
    "# now we can remove years with fewer than 50 movies\n",
    "df_year_gross = df_year_gross.loc[df_year_gross['count_gross'] > 50]\n",
    "df_year_gross"
   ]
  },
  {
   "cell_type": "markdown",
   "metadata": {},
   "source": [
    "Run the code below to plot a line chart of the trend in average revenue for the years we have left in the data\n",
    "\n",
    "Then, try to change the code above and below to llok at other interesting variables over time"
   ]
  },
  {
   "cell_type": "code",
   "execution_count": null,
   "metadata": {},
   "outputs": [],
   "source": [
    "sns.relplot(data=df_year_gross, x='title_year', y='mean_gross', kind='line')"
   ]
  },
  {
   "cell_type": "markdown",
   "metadata": {},
   "source": [
    "## Feature engineering\n",
    "\n",
    "Creating new features very much depends on the questions we want to ask regarding the movies in this dataset. Let's say we're investigating the likes on Facebook for the movie, its cast, and its director. Here are a few examples of features we can engineer.\n",
    "\n",
    "- If we want to say something regarding the total Facebook exposure of the movie, we can sum the three Facebook-like variables\n",
    "- If we want to ask whether a movie is more or less popular than its director, we can compute the ratio of the movie Facebook likes to the director's Facebook likes. What is another feature you'd design for such question?\n",
    "- If we believe the number of likes is strongly related to the popularity of Facebook in the year in which the movie came out, we can design an indicator variable for years>2010 (when Facebook had over 500,000,000 users). What would be another feature you may use here?\n",
    "- It is possible the movie or director has no fan page on Facebook, so the number of likes would be 0. Perhaps we need an indicator for 0 likes for each such variable.\n",
    "\n",
    "Try to create these, and other possibly interesting, features."
   ]
  },
  {
   "cell_type": "code",
   "execution_count": null,
   "metadata": {},
   "outputs": [],
   "source": [
    "# SOLUTION\n",
    "\n",
    "# total facebook likes\n",
    "movies_df['total_facebook_likes'] = movies_df[['director_facebook_likes', 'cast_total_facebook_likes', \\\n",
    "                                               'movie_facebook_likes']].sum(axis=1)\n",
    "# ratio of director likes to movie likes\n",
    "movies_df['director_to_movie_likes'] = movies_df['director_facebook_likes']/movies_df['movie_facebook_likes']\n",
    "# year after 2010\n",
    "movies_df['year_after_2010'] = movies_df['title_year'] >= 2010\n",
    "# indicator for 0 fans\n",
    "movies_df['no_director_likes'] = movies_df['director_facebook_likes'] == 0\n",
    "movies_df.head()"
   ]
  },
  {
   "cell_type": "code",
   "execution_count": null,
   "metadata": {},
   "outputs": [],
   "source": []
  }
 ],
 "metadata": {
  "colab": {
   "name": "world happiness.ipynb",
   "provenance": [],
   "version": "0.3.2"
  },
  "kernelspec": {
   "display_name": "Python 3 (ipykernel)",
   "language": "python",
   "name": "python3"
  },
  "language_info": {
   "codemirror_mode": {
    "name": "ipython",
    "version": 3
   },
   "file_extension": ".py",
   "mimetype": "text/x-python",
   "name": "python",
   "nbconvert_exporter": "python",
   "pygments_lexer": "ipython3",
   "version": "3.9.16"
  }
 },
 "nbformat": 4,
 "nbformat_minor": 4
}
