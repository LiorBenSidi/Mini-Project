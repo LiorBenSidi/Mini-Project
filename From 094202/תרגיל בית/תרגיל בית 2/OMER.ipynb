{
 "cells": [
  {
   "cell_type": "markdown",
   "id": "4d8dfa38",
   "metadata": {},
   "source": [
    "<h1 style=\"color:#6D8764; background-color:#f2f2f2; padding:20px; text-align:center\"> Data analysis aviation accident </h1>"
   ]
  },
  {
   "cell_type": "markdown",
   "id": "fe8588d0",
   "metadata": {},
   "source": [
    "<h1 style=\"color:#00ABA9; background-color:#f2f2f2; padding:10px; text-align:center\"> Part I </h1>"
   ]
  },
  {
   "cell_type": "code",
   "execution_count": 1,
   "id": "f724f2d5",
   "metadata": {},
   "outputs": [
    {
     "name": "stdout",
     "output_type": "stream",
     "text": [
      "<class 'pandas.core.frame.DataFrame'>\n",
      "RangeIndex: 23967 entries, 0 to 23966\n",
      "Data columns (total 7 columns):\n",
      " #   Column      Non-Null Count  Dtype  \n",
      "---  ------      --------------  -----  \n",
      " 0   date        23408 non-null  object \n",
      " 1   type        23933 non-null  object \n",
      " 2   operator    23963 non-null  object \n",
      " 3   fatalities  20029 non-null  float64\n",
      " 4   country     23129 non-null  object \n",
      " 5   cat         23967 non-null  object \n",
      " 6   year        23906 non-null  float64\n",
      "dtypes: float64(2), object(5)\n",
      "memory usage: 1.3+ MB\n"
     ]
    }
   ],
   "source": [
    "import pandas as pd  \n",
    "import matplotlib.pyplot as plt  \n",
    "import seaborn as sns  \n",
    "import numpy as np  \n",
    "\n",
    "\n",
    "aviation_accident_data_df = pd.read_csv('aviation_accident_data.csv')  \n",
    "aviation_accident_data_df.info()\n",
    "    "
   ]
  },
  {
   "cell_type": "markdown",
   "id": "c5a30001",
   "metadata": {},
   "source": [
    "<h1 style=\"color:#6D8764; background-color:#f2f2f2; padding:10px; text-align:center\">Questions 1,2</h1>"
   ]
  },
  {
   "cell_type": "markdown",
   "id": "2ed1b6c4",
   "metadata": {},
   "source": [
    "q1 : In total there are 23967 Observations orgenized in 7 columns. \n",
    "q2 : As described below. "
   ]
  },
  {
   "cell_type": "code",
   "execution_count": 2,
   "id": "4117a8af",
   "metadata": {
    "scrolled": true
   },
   "outputs": [
    {
     "name": "stdout",
     "output_type": "stream",
     "text": [
      "Column 'date' has 559 missing value(s).\n",
      "Column 'type' has 34 missing value(s).\n",
      "Column 'operator' has 4 missing value(s).\n",
      "Column 'fatalities' has 3938 missing value(s).\n",
      "Column 'country' has 838 missing value(s).\n",
      "Column 'cat' has 0 missing value(s).\n",
      "Column 'year' has 61 missing value(s).\n"
     ]
    }
   ],
   "source": [
    "cols = ['date', 'type', 'operator', 'fatalities', 'country', 'cat', 'year']\n",
    "\n",
    "for col in cols:\n",
    "    missing_values = aviation_accident_data_df[col].isnull().sum()\n",
    "    print(f\"Column '{col}' has {missing_values} missing value(s).\")"
   ]
  },
  {
   "cell_type": "markdown",
   "id": "12b110bf",
   "metadata": {},
   "source": [
    "<h1 style=\"color:#6D8764; background-color:#f2f2f2; padding:10px; text-align:center\">Question 3</h1>"
   ]
  },
  {
   "cell_type": "markdown",
   "id": "810c59d4",
   "metadata": {},
   "source": [
    "q3 : As described below - in total there are 4 types of aircraft with at least 500 documented accidents. "
   ]
  },
  {
   "cell_type": "code",
   "execution_count": 3,
   "id": "74d74435",
   "metadata": {},
   "outputs": [
    {
     "name": "stdout",
     "output_type": "stream",
     "text": [
      "At least 500 documented accidents : \n",
      "Douglas C-47A (DC-3)\n",
      "Douglas C-47 (DC-3)\n",
      "Douglas C-47B (DC-3)\n",
      "Curtiss C-46A\n"
     ]
    }
   ],
   "source": [
    "plain_types_count = aviation_accident_data_df['type'].value_counts()\n",
    "\n",
    "aircraft_types = plain_types_count[plain_types_count >= 500].index.tolist()\n",
    "\n",
    "print (\"At least 500 documented accidents : \") \n",
    "for types in aircraft_types : \n",
    "    print (types)\n",
    "    "
   ]
  },
  {
   "cell_type": "markdown",
   "id": "8e444b57",
   "metadata": {},
   "source": [
    "<h1 style=\"color:#6D8764; background-color:#f2f2f2; padding:10px; text-align:center\">Question 4</h1>"
   ]
  },
  {
   "cell_type": "code",
   "execution_count": 4,
   "id": "1f9903bc",
   "metadata": {},
   "outputs": [
    {
     "name": "stdout",
     "output_type": "stream",
     "text": [
      "Percentage of accidents in the United States: 18.26 %\n"
     ]
    }
   ],
   "source": [
    "accident_by_country = aviation_accident_data_df.groupby('country')['cat'].count()\n",
    "accident_by_country = accident_by_country.reset_index()\n",
    "\n",
    "usa_accidents = accident_by_country[accident_by_country['country'] == 'USA']['cat'].values[0]\n",
    "total_accidents = 23967 #as written in q1 this is the number of accidents in total in the file.\n",
    "\n",
    "percentage_usa = (usa_accidents / total_accidents ) * 100\n",
    "percentage_usa_rounded = round(percentage_usa, 2)\n",
    "\n",
    "print(\"Percentage of accidents in the United States:\", percentage_usa_rounded, \"%\")\n"
   ]
  },
  {
   "cell_type": "markdown",
   "id": "3c114de2",
   "metadata": {},
   "source": [
    "The percentage of aviation accidents in the USA  among all accidents in the world is:18.26 %"
   ]
  },
  {
   "cell_type": "markdown",
   "id": "def4a4ff",
   "metadata": {},
   "source": [
    "<h1 style=\"color:#6D8764; background-color:#f2f2f2; padding:10px; text-align:center\">Question 5</h1>"
   ]
  },
  {
   "cell_type": "code",
   "execution_count": 5,
   "id": "ea4543bf",
   "metadata": {},
   "outputs": [
    {
     "data": {
      "text/html": [
       "<div>\n",
       "<style scoped>\n",
       "    .dataframe tbody tr th:only-of-type {\n",
       "        vertical-align: middle;\n",
       "    }\n",
       "\n",
       "    .dataframe tbody tr th {\n",
       "        vertical-align: top;\n",
       "    }\n",
       "\n",
       "    .dataframe thead th {\n",
       "        text-align: right;\n",
       "    }\n",
       "</style>\n",
       "<table border=\"1\" class=\"dataframe\">\n",
       "  <thead>\n",
       "    <tr style=\"text-align: right;\">\n",
       "      <th></th>\n",
       "      <th>fatalities</th>\n",
       "    </tr>\n",
       "    <tr>\n",
       "      <th>cat</th>\n",
       "      <th></th>\n",
       "    </tr>\n",
       "  </thead>\n",
       "  <tbody>\n",
       "    <tr>\n",
       "      <th>A1</th>\n",
       "      <td>8.338233</td>\n",
       "    </tr>\n",
       "    <tr>\n",
       "      <th>A2</th>\n",
       "      <td>0.062728</td>\n",
       "    </tr>\n",
       "    <tr>\n",
       "      <th>C1</th>\n",
       "      <td>9.273478</td>\n",
       "    </tr>\n",
       "    <tr>\n",
       "      <th>C2</th>\n",
       "      <td>0.642857</td>\n",
       "    </tr>\n",
       "    <tr>\n",
       "      <th>H1</th>\n",
       "      <td>85.523810</td>\n",
       "    </tr>\n",
       "    <tr>\n",
       "      <th>H2</th>\n",
       "      <td>0.172710</td>\n",
       "    </tr>\n",
       "    <tr>\n",
       "      <th>I1</th>\n",
       "      <td>0.000000</td>\n",
       "    </tr>\n",
       "    <tr>\n",
       "      <th>I2</th>\n",
       "      <td>0.000000</td>\n",
       "    </tr>\n",
       "    <tr>\n",
       "      <th>O1</th>\n",
       "      <td>0.079533</td>\n",
       "    </tr>\n",
       "    <tr>\n",
       "      <th>O2</th>\n",
       "      <td>0.031250</td>\n",
       "    </tr>\n",
       "    <tr>\n",
       "      <th>U1</th>\n",
       "      <td>0.000000</td>\n",
       "    </tr>\n",
       "  </tbody>\n",
       "</table>\n",
       "</div>"
      ],
      "text/plain": [
       "     fatalities\n",
       "cat            \n",
       "A1     8.338233\n",
       "A2     0.062728\n",
       "C1     9.273478\n",
       "C2     0.642857\n",
       "H1    85.523810\n",
       "H2     0.172710\n",
       "I1     0.000000\n",
       "I2     0.000000\n",
       "O1     0.079533\n",
       "O2     0.031250\n",
       "U1     0.000000"
      ]
     },
     "metadata": {},
     "output_type": "display_data"
    }
   ],
   "source": [
    "deadliest_category = aviation_accident_data_df.groupby('cat')['fatalities'].mean()\n",
    "\n",
    "deadliest_category = deadliest_category.reset_index()\n",
    "pivot_table = pd.pivot_table(deadliest_category, index='cat', values='fatalities')\n",
    "display(pivot_table)"
   ]
  },
  {
   "cell_type": "markdown",
   "id": "0e1f7266",
   "metadata": {},
   "source": [
    "q5 : The deadliest category of accidents on average is: H1 - Hijacking, hull-loss."
   ]
  },
  {
   "cell_type": "markdown",
   "id": "c41ca189",
   "metadata": {},
   "source": [
    "<h1 style=\"color:#6D8764; background-color:#f2f2f2; padding:10px; text-align:center\">Question 6</h1>"
   ]
  },
  {
   "cell_type": "code",
   "execution_count": 6,
   "id": "16f4c411",
   "metadata": {},
   "outputs": [
    {
     "data": {
      "image/png": "[encoded data removed]",
      "text/plain": [
       "<Figure size 360x360 with 1 Axes>"
      ]
     },
     "metadata": {
      "needs_background": "light"
     },
     "output_type": "display_data"
    }
   ],
   "source": [
    "gb_country = aviation_accident_data_df.groupby('country').size().sort_values(ascending=False)\n",
    "#size is counting how much observation there is in each group\n",
    "\n",
    "gb_country=gb_country.nlargest(5).reset_index()\n",
    "#takes the 5 countries with the largest numbe of observation, meaning, had most accidents. \n",
    "\n",
    "filtered_df = aviation_accident_data_df[aviation_accident_data_df['type'].isin(aircraft_types) & aviation_accident_data_df['country'].isin(gb_country['country'])]\n",
    "\n",
    "sns.catplot(x=\"country\", y=\"fatalities\", kind='box', data=filtered_df)\n",
    "plt.title('Distribution of Fatalities in Accidents by Countries')\n",
    "plt.show()\n"
   ]
  },
  {
   "cell_type": "markdown",
   "id": "efbbc916",
   "metadata": {},
   "source": [
    "q6: a. As you can see in the graph, the 5 countries that passed the filter are: UK, USA, India, Russia and Canada. \n",
    "       In each country we can see : Minimum, first quarter, median, third quarter and maximum\n",
    "       b. The median in the graph is shown by the line inside the box. Among all the boxes you can see that the highest line \n",
    "       is Russia.Therefore it has the highest median number of fatalities."
   ]
  },
  {
   "cell_type": "markdown",
   "id": "7f0de04a",
   "metadata": {},
   "source": [
    "<h1 style=\"color:#6D8764; background-color:#f2f2f2; padding:10px; text-align:center\">Question 7</h1>"
   ]
  },
  {
   "cell_type": "code",
   "execution_count": 7,
   "id": "5c4682e8",
   "metadata": {},
   "outputs": [
    {
     "data": {
      "image/png": "[encoded data removed]",
      "text/plain": [
       "<Figure size 432x288 with 1 Axes>"
      ]
     },
     "metadata": {
      "needs_background": "light"
     },
     "output_type": "display_data"
    }
   ],
   "source": [
    "accidents_by_year = aviation_accident_data_df.groupby('year').size()\n",
    "accidents_df = pd.DataFrame({'year': accidents_by_year.index, 'accidents': accidents_by_year.values})\n",
    "sns.scatterplot(data=accidents_df, x='year', y='accidents')\n",
    "\n",
    "# Setting the plot title and labels\n",
    "plt.title('Number of Accidents over the Years')\n",
    "plt.xlabel('Year')\n",
    "plt.ylabel('Number of Accidents')\n",
    "\n",
    "plt.show()"
   ]
  },
  {
   "cell_type": "markdown",
   "id": "fc96ea70",
   "metadata": {},
   "source": [
    "q7 : We Grouped our data by year and calculated the total number of accidents for each year. \n",
    "    According to the graph we received, it seems that there is no linear correlation between the data. \n",
    "    It cannot be said that as the number of years increases, so the number of accidents increases or decreases."
   ]
  },
  {
   "cell_type": "markdown",
   "id": "f5ec3520",
   "metadata": {},
   "source": [
    "<h1 style=\"color:#6D8764; background-color:#f2f2f2; padding:10px; text-align:center\">Question 8</h1>"
   ]
  },
  {
   "cell_type": "code",
   "execution_count": 8,
   "id": "c45c3dae",
   "metadata": {},
   "outputs": [
    {
     "data": {
      "image/png": "[encoded data removed]",
      "text/plain": [
       "<Figure size 432x288 with 1 Axes>"
      ]
     },
     "metadata": {
      "needs_background": "light"
     },
     "output_type": "display_data"
    },
    {
     "data": {
      "text/plain": [
       "Douglas C-47A (DC-3)         1916\n",
       "Douglas C-47 (DC-3)           669\n",
       "Douglas C-47B (DC-3)          592\n",
       "Curtiss C-46A                 564\n",
       "Junkers Ju-52/3m              471\n",
       "Antonov An-2R                 391\n",
       "Curtiss C-46D                 344\n",
       "Douglas Dakota III (DC-3)     262\n",
       "DHC-6 Twin Otter 300          258\n",
       "Cessna 208B Grand Caravan     247\n",
       "Name: type, dtype: int64"
      ]
     },
     "execution_count": 8,
     "metadata": {},
     "output_type": "execute_result"
    }
   ],
   "source": [
    "top_10_plains = plain_types_count.sort_values(ascending=False).nlargest(10)\n",
    "\n",
    "color_palette = sns.color_palette('Set2', len(plain_types_count))\n",
    "ax = top_10_plains.plot(kind='bar', color=color_palette)\n",
    "\n",
    "plt.title('Number of Accidents for Each Plane')\n",
    "plt.xlabel('Plane')\n",
    "plt.ylabel('Number of Accidents')\n",
    "plt.xticks(rotation=45, ha='right')\n",
    "\n",
    "plt.show()\n",
    "top_10_plains"
   ]
  },
  {
   "cell_type": "markdown",
   "id": "0623ed72",
   "metadata": {},
   "source": [
    "q8: The top 10 planes with the most accidents :\n",
    "    1.Douglas C-47A (DC-3)\n",
    "    2.Douglas C-47 (DC-3)\n",
    "    3.Douglas C-47B (DC-3)\n",
    "    4.Curtiss C-46A\n",
    "    5.Junkers Ju-52/3m\n",
    "    6.Antonov An-2R  \n",
    "    7.Curtiss C-46D\n",
    "    8.Douglas Dakota III (DC-3)\n",
    "    9.DHC-6 Twin Otter 300 \n",
    "    10.Cessna 208B Grand Carava"
   ]
  },
  {
   "cell_type": "markdown",
   "id": "3a2059fd",
   "metadata": {},
   "source": [
    "<h1 style=\"color:#6D8764; background-color:#f2f2f2; padding:10px; text-align:center\">Question 9</h1>"
   ]
  },
  {
   "cell_type": "code",
   "execution_count": 9,
   "id": "0f661e2b",
   "metadata": {},
   "outputs": [
    {
     "data": {
      "image/png": "[encoded data removed]",
      "text/plain": [
       "<Figure size 432x288 with 1 Axes>"
      ]
     },
     "metadata": {
      "needs_background": "light"
     },
     "output_type": "display_data"
    },
    {
     "name": "stdout",
     "output_type": "stream",
     "text": [
      "operator\n",
      "USAAF    2604\n",
      "USAF     1120\n",
      "RAF       920\n",
      "dtype: int64\n"
     ]
    }
   ],
   "source": [
    "operator_accident = aviation_accident_data_df.groupby('operator').size()\n",
    "filtered_operators = aviation_accident_data_df[aviation_accident_data_df['type'].isin(top_10_plains.index)]['operator'].unique()\n",
    "top_3_operators = operator_accident[operator_accident.index.isin(filtered_operators)].nlargest(3)\n",
    "\n",
    "color_palette = sns.color_palette('Set2', len(plain_types_count))\n",
    "ax = top_3_operators.plot(kind='bar', color=color_palette)\n",
    "\n",
    "plt.title('The 3 most dangerous operators')\n",
    "plt.xlabel('Operator')\n",
    "plt.ylabel('Number of Accidents')\n",
    "plt.xticks(rotation=45, ha='right')\n",
    "\n",
    "plt.show()\n",
    "\n",
    "print(top_3_operators)"
   ]
  },
  {
   "cell_type": "markdown",
   "id": "d249d56c",
   "metadata": {},
   "source": [
    "q9: The most 3 dangerous operators are:\n",
    "    1. USAAF with 2604 accidents\n",
    "    2. USAF with 1120 accidents\n",
    "    3. RAF with 920 accidents"
   ]
  },
  {
   "cell_type": "markdown",
   "id": "9d43c1c1",
   "metadata": {},
   "source": [
    "<h1 style=\"color:#6D8764; background-color:#f2f2f2; padding:10px; text-align:center\">Question 10</h1>"
   ]
  },
  {
   "cell_type": "code",
   "execution_count": 10,
   "id": "fa439251",
   "metadata": {},
   "outputs": [
    {
     "data": {
      "image/png": "[encoded data removed]",
      "text/plain": [
       "<Figure size 432x288 with 1 Axes>"
      ]
     },
     "metadata": {
      "needs_background": "light"
     },
     "output_type": "display_data"
    }
   ],
   "source": [
    "# Filter to the three planes with the most accidents\n",
    "top_3_planes = aviation_accident_data_df.groupby('type').size().nlargest(3)\n",
    "\n",
    "# Finding the plane names of the three most dangerous planes\n",
    "top_3_planes_names = top_3_planes.index.tolist()\n",
    "\n",
    "# Filtering only for planes that are in the three most dangerous group\n",
    "top_3_planes_data = aviation_accident_data_df[aviation_accident_data_df['type'].isin(top_3_planes_names)]\n",
    "\n",
    "# Calculation of the number of accidents for each plane and year\n",
    "accidents_count = top_3_planes_data.groupby(['type', 'year']).size()\n",
    "\n",
    "# Creating a pivot for the number of accidents by plane and year\n",
    "pivot_table = accidents_count.unstack(level='type')\n",
    "\n",
    "\n",
    "\n",
    "for plane in top_3_planes_names:\n",
    "    plt.plot(pivot_table.index, pivot_table[plane], label=plane)\n",
    "\n",
    "plt.xlabel('Year')\n",
    "plt.ylabel('Number of Accidents')\n",
    "plt.title('Number of Accidents for Top 3 Dangerous Planes Over the Years')\n",
    "\n",
    "plt.legend()\n",
    "plt.show()\n"
   ]
  },
  {
   "cell_type": "markdown",
   "id": "48587c99",
   "metadata": {},
   "source": [
    "q10: \n",
    "A. The number of accidents of the three most dangerous planes appears to decrease over the years. \n",
    "   We think that there are several explanations for this: \n",
    "   1.Advancements in technology and safety measures in the aviation industry - This have led to improved aircraft design,\n",
    "   maintenance, and operational procedures.\n",
    "   These advancements have contributed to a safer flying environment and reduced the likelihood of accidents. \n",
    "   2.We no longer use fighter jets today like we used to in the past.During times of war, \n",
    "   the number of aircraft accidents tends to increase due to the inherent risks associated with military operations. \n",
    "\n",
    "\n",
    "B. One unusual observation stands out between the years 1940 and the mid-1940s. During this period, World War II took place, \n",
    "    and the number of accidents involving the most dangerous planes increased significantly. The primary reason for this is the\n",
    "    extensive military usage of these planes during the war. The \"Douglas C-47(A/B)\" model, is a well known fighter jet a that\n",
    "    time. After a little reserch it was also known for its high accident rate.\n",
    "    The demanding nature of combat operations, coupled with the conditions of war, likely contributed to the surge in accidents \n",
    "    during this specific time frame."
   ]
  },
  {
   "cell_type": "markdown",
   "id": "fd9a349c",
   "metadata": {},
   "source": [
    "<h1 style=\"color:#00ABA9; background-color:#f2f2f2; padding:10px; text-align:center\"> Part II </h1>"
   ]
  },
  {
   "cell_type": "markdown",
   "id": "b5173962",
   "metadata": {},
   "source": [
    "<h1 style=\"color:#6D8764; background-color:#f2f2f2; padding:10px; text-align:center\">Questions 1</h1>"
   ]
  },
  {
   "cell_type": "code",
   "execution_count": 11,
   "id": "dd374f0a",
   "metadata": {},
   "outputs": [
    {
     "data": {
      "text/plain": [
       "176.60585193730617"
      ]
     },
     "execution_count": 11,
     "metadata": {},
     "output_type": "execute_result"
    },
    {
     "data": {
      "image/png": "[encoded data removed]",
      "text/plain": [
       "<Figure size 360x360 with 1 Axes>"
      ]
     },
     "metadata": {
      "needs_background": "light"
     },
     "output_type": "display_data"
    }
   ],
   "source": [
    "expectation_mean = 175 # as given \n",
    "std = 6 # as given \n",
    "sample_size = 40 # number of shows sampled\n",
    "\n",
    "random_array = np.random.normal(expectation_mean, std, sample_size)\n",
    "\n",
    "sns.displot(data=random_array, bins=10, color='green')\n",
    "\n",
    "random_array_mean=random_array.mean()\n",
    "random_array_mean"
   ]
  },
  {
   "cell_type": "markdown",
   "id": "2c34fe93",
   "metadata": {},
   "source": [
    "Q1: a. The above graph is the graph that describes the empirical distribution, not the real one. \n",
    "    We produce a simulation from a small sample according to the conditions in the population but this is not the real\n",
    "    distribution.\n",
    "    \n",
    "    b.The average obtained is constantly changing because in each run of the code, our array receives different values \n",
    "    and accordingly calculates the average. You can see the value printed above the graph, but currently the calculated \n",
    "    average is 175.665 \n",
    "    \n",
    "    c.The distribution we currently received is a left-leaning distribution, with 2 peaks.\n",
    "    If we took a sample size of 100, the shape of the distribution would tend to change because we have more data, \n",
    "    and the resulting information would be closer to the true mean. We would probably get a distribution that is more \n",
    "    symmetrical than skewed to one side and we would also probably get a 1 peak. "
   ]
  },
  {
   "cell_type": "markdown",
   "id": "424eb4a1",
   "metadata": {},
   "source": [
    "<h1 style=\"color:#6D8764; background-color:#f2f2f2; padding:10px; text-align:center\">Questions 2</h1>"
   ]
  },
  {
   "cell_type": "markdown",
   "id": "b4acb45e",
   "metadata": {},
   "source": [
    "       \n",
    "$$ H_0: p = 175 cm \\\\\n",
    "H_1: p < 175 cm\n",
    "$$\n",
    "        "
   ]
  },
  {
   "cell_type": "markdown",
   "id": "c9ca3458",
   "metadata": {},
   "source": [
    "Q2. A - H0: The average height in the population is 175 cm\n",
    "        H1: The average height in the population is less then 175 cm\n",
    "        "
   ]
  },
  {
   "cell_type": "code",
   "execution_count": 12,
   "id": "b37757d8",
   "metadata": {},
   "outputs": [
    {
     "name": "stdout",
     "output_type": "stream",
     "text": [
      "The p-value is 0.9635\n"
     ]
    },
    {
     "data": {
      "image/png": "[encoded data removed]",
      "text/plain": [
       "<Figure size 720x504 with 1 Axes>"
      ]
     },
     "metadata": {
      "needs_background": "light"
     },
     "output_type": "display_data"
    }
   ],
   "source": [
    "num_repetitions = 2000\n",
    "expectation_mean=175\n",
    "std=6\n",
    "sample_size=40\n",
    "test_statistic = random_array_mean\n",
    "\n",
    "distribution_heights = np.empty(num_repetitions) # collection array\n",
    "\n",
    "def one_simulation():\n",
    "    array_mean = np.random.normal(expectation_mean, std, sample_size).mean()\n",
    "    return array_mean\n",
    "\n",
    "for i in range(num_repetitions):\n",
    "    distribution_heights[i] = one_simulation()\n",
    "\n",
    "#Because we supposedly don't know what the average in the population is, we use and compare in relation to the result \n",
    "#that came out in the previous question - random_array_mean. \n",
    "num_simulations_like_data_or_more_extreme = np.count_nonzero(distribution_heights <= test_statistic) \n",
    "print(f'The p-value is {num_simulations_like_data_or_more_extreme/num_repetitions}')\n",
    "\n",
    "facetgrid_obj = sns.displot(distribution_heights, bins=30, stat='count', color='green')  # Specify the number of bins\n",
    "facetgrid_obj.fig.set_size_inches(10, 7)\n",
    "facetgrid_obj.set(title='Distribution of simulation results assuming the model is true', xlabel='Random Array Mean', ylabel='Probability')\n",
    "facetgrid_obj.axes[0, 0].scatter(random_array_mean, 0, s=150, color='red')  # draw observed value\n",
    "facetgrid_obj.axes[0, 0].legend(['array_mean'])\n",
    "plt.show()\n"
   ]
  },
  {
   "cell_type": "markdown",
   "id": "eec34116",
   "metadata": {},
   "source": [
    "B. According to the distribution of the graph, it seems that the average height is around 175 cm - the highest column\n",
    "\n",
    "C. *p*-value is intended to quantify the idea of statistical significance of observed results from sample data. \n",
    "    The main idea is to show how likely the sample results are under the H0 hypothesis.\n",
    "    Every time we run the code we will get a different P value,\n",
    "    For this specific time the p value is 0.767 for test statistic 175.66."
   ]
  },
  {
   "cell_type": "markdown",
   "id": "f2278bec",
   "metadata": {},
   "source": [
    "D.To determine whether to reject or accept the null hypothesis at different significance levels, we need to compare the \n",
    "    calculated p-value with the chosen significance level.\n",
    "    Given that the p-value is around 0.5: \n",
    "    At a significance level of 0.01: Since the p-value is greater than the significance level we would fail to reject the null\n",
    "    hypothesis. This means that there is not enough evidence to conclude that the average height is significantly less \n",
    "    than 175 cm.\n",
    "\n",
    "    At a significance level of 0.1: Again, the p-value is greater than the significance level,so we would fail to reject the \n",
    "    null hypothesis. Similar to the previous case, there is not enoght evidence to suggest that the average height is \n",
    "    significantly lower than 175 cm.\n",
    "\n",
    "    In both cases, since the p-value is greater than the chosen significance levels, we do not have enough evidence to reject\n",
    "    the null hypothesis, measning we would accept the null hypothesis that the average height is 175 cm.\n"
   ]
  },
  {
   "cell_type": "markdown",
   "id": "95908bf7",
   "metadata": {},
   "source": [
    "<h1 style=\"color:#6D8764; background-color:#f2f2f2; padding:10px; text-align:center\">Questions 3</h1>"
   ]
  },
  {
   "cell_type": "code",
   "execution_count": null,
   "id": "bc36aeee",
   "metadata": {},
   "outputs": [],
   "source": []
  },
  {
   "cell_type": "code",
   "execution_count": 13,
   "id": "5f9e9b65",
   "metadata": {},
   "outputs": [],
   "source": [
    "#In this question we receive a small sample from a population - sample heights and we want to perform a calculation \n",
    "# regarding some measure whether the average height of the entire population is less than or equal to the average mean_0 \n",
    "# that we receive from the user of the function.\n",
    "\n",
    "def get_p_value_hights (sample_hights, n, mean_0): \n",
    "    std = 6\n",
    "    num_repetitions = 1500\n",
    "    sample_size = n\n",
    "    statistic = sample_hights.mean()\n",
    "    \n",
    "    #simulating once\n",
    "    def one_simulation():\n",
    "        simulation_sample = np.random.normal(mean_0, std, sample_size).mean()\n",
    "        return simulation_sample\n",
    "\n",
    "   \n",
    "    #simulate num_repetitions times\n",
    "    hights = np.empty(num_repetitions)\n",
    "    for i in range(num_repetitions):\n",
    "        hights[i] = one_simulation()\n",
    "    \n",
    "    num_observations_like_data_or_extreme = np.count_nonzero(hights <= statistic) \n",
    "    p_value = num_observations_like_data_or_extreme / num_repetitions\n",
    "    return p_value\n"
   ]
  },
  {
   "cell_type": "markdown",
   "id": "61308ae0",
   "metadata": {},
   "source": [
    "Q3: We have implemented the function to calculate P-value in general, so that a person can enter his database, \n",
    "    its size and what his null hypothesis is and we can tell him what his p value is."
   ]
  },
  {
   "cell_type": "markdown",
   "id": "1b4f9f1b",
   "metadata": {},
   "source": [
    "<h1 style=\"color:#6D8764; background-color:#f2f2f2; padding:10px; text-align:center\">Questions 4</h1>"
   ]
  },
  {
   "cell_type": "markdown",
   "id": "0a482cf7",
   "metadata": {},
   "source": [
    "A.  We assume that the 5000 p-value's histogram distribution will be like a normal distribution - bell (Gaussian) as we saw on\n",
    "    lecture. When we do simulation to sample hundreds and thousands of times, the distribution will act like this. \n",
    "    The P-value is defined as the probability under the assumption of no effect or no difference, of obtaining a result equal to or more extreme that what \n",
    "    was actually observed."
   ]
  },
  {
   "cell_type": "code",
   "execution_count": null,
   "id": "af20fae0",
   "metadata": {},
   "outputs": [],
   "source": [
    "\n",
    "n_iterations = 5000\n",
    "p_values = np.empty(n_iterations)\n",
    "\n",
    "for i in range(n_iterations):\n",
    "    heights_sample = np.random.normal(175, 6, 40)\n",
    "    p_values[i] = get_p_value_hights(heights_sample, 40, 175)\n",
    "\n",
    "\n",
    "sns.histplot(p_values, bins=20)\n",
    "plt.xlabel('p-value')\n",
    "plt.ylabel('Frequency')\n",
    "plt.title('Histogram of p-values')\n",
    "plt.show()\n",
    "\n"
   ]
  },
  {
   "cell_type": "markdown",
   "id": "a0337a23",
   "metadata": {},
   "source": [
    "C. The P-value's distribution is like a Gaussian function more or less, and the distribution is like we answer on the 4.A question"
   ]
  },
  {
   "cell_type": "code",
   "execution_count": null,
   "id": "3c68da29",
   "metadata": {},
   "outputs": [],
   "source": [
    "def calculate_p_value_percentage(p_values):\n",
    "    below_threshold_count = np.count_nonzero(p_values < 0.05)\n",
    "    percentage = (below_threshold_count / len(p_values)) * 100\n",
    "    return percentage\n",
    "\n",
    "percentage_below_threshold = calculate_p_value_percentage(p_values)\n",
    "print(f\"Percentage of p-values below 0.05: {percentage_below_threshold}%\")"
   ]
  },
  {
   "cell_type": "markdown",
   "id": "641993d1",
   "metadata": {},
   "source": [
    "4.D  The p-value represents the probability of observing data as extreme or more extreme than the observed data, assuming the null hypothesis is true. A p-value of 0.05 is commonly used as a threshold for statistical significance. If the p-value is smaller than 0.05, it suggests strong evidence against the null hypothesis. Therefore, it is reasonable for the percentage of values smaller than 0.05 to be close to zero, as it indicates that the observed data is unlikely to have occurred by chance alone under the null hypothesis."
   ]
  },
  {
   "cell_type": "markdown",
   "id": "ec2d2c6a",
   "metadata": {},
   "source": [
    "<h1 style=\"color:#6D8764; background-color:#f2f2f2; padding:10px; text-align:center\">Questions 5</h1>"
   ]
  },
  {
   "cell_type": "markdown",
   "id": "4dc2efa7",
   "metadata": {},
   "source": [
    "If we change the value of n to 200 in the provided code, it will affect the resulting histogram. With n = 200, we iterate through the process 5000 times, where each time we calculate the p-value and check if it is below the threshold value of 0.05. With a larger value of n, such as 200, the advantage is that we have a larger sample size from the population, which provides us with higher accuracy in estimating the p-value.\n",
    "\n",
    "When n is larger, we may expect to have more accuracy in our p-value estimation. In the histogram, you may observe that the distribution of p-values is likely to become more concentrated and closer to the value of 0.05. Additionally, there might be an increase in the density at the center of the histogram."
   ]
  },
  {
   "cell_type": "code",
   "execution_count": null,
   "id": "52e2ed4c",
   "metadata": {},
   "outputs": [],
   "source": [
    "n_iterations = 5000\n",
    "p_values = np.empty(n_iterations)\n",
    "\n",
    "for i in range(n_iterations):\n",
    "    heights_sample = np.random.normal(175, 6, 200)\n",
    "    p_values[i] = get_p_value_hights(heights_sample, 200, 175)\n",
    "\n",
    "sns.histplot(p_values, bins=20)\n",
    "plt.xlabel('p-value')\n",
    "plt.ylabel('Frequency')\n",
    "plt.title('Histogram of p-values')\n",
    "plt.show()"
   ]
  }
 ],
 "metadata": {
  "kernelspec": {
   "display_name": "Python 3 (ipykernel)",
   "language": "python",
   "name": "python3"
  },
  "language_info": {
   "codemirror_mode": {
    "name": "ipython",
    "version": 3
   },
   "file_extension": ".py",
   "mimetype": "text/x-python",
   "name": "python",
   "nbconvert_exporter": "python",
   "pygments_lexer": "ipython3",
   "version": "3.9.16"
  }
 },
 "nbformat": 4,
 "nbformat_minor": 5
}
