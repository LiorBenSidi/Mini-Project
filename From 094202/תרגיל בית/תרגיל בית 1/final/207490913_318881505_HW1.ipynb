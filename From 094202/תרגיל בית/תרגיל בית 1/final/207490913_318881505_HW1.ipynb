{
 "cells": [
  {
   "cell_type": "markdown",
   "id": "61aed328-0a0b-4367-89d8-22546e73fc50",
   "metadata": {},
   "source": [
    " ### חלק א׳ - חקירת מערך נתונים"
   ]
  },
  {
   "cell_type": "code",
   "execution_count": 1,
   "id": "d60674fe-c695-4d27-be33-e5d7820d638c",
   "metadata": {},
   "outputs": [],
   "source": [
    "#Import libraries:\n",
    "import pandas as pd  # pa\n",
    "import numpy as np  # numpy is a package for working with numerical data"
   ]
  },
  {
   "cell_type": "code",
   "execution_count": 2,
   "id": "52617f87-c60e-4148-9ef4-ebff9e643d56",
   "metadata": {},
   "outputs": [],
   "source": [
    "#Reading the 'HW1_data.csv' file:\n",
    "df_soccer = pd.read_csv('HW1_data.csv')"
   ]
  },
  {
   "cell_type": "markdown",
   "id": "065a58ac-508e-4643-aa6e-fa75e01bb148",
   "metadata": {},
   "source": [
    "## Question 1:"
   ]
  },
  {
   "cell_type": "code",
   "execution_count": 3,
   "id": "22ab1e58-1eef-44ae-9704-fda5ee83c237",
   "metadata": {},
   "outputs": [
    {
     "name": "stdout",
     "output_type": "stream",
     "text": [
      "<class 'pandas.core.frame.DataFrame'>\n",
      "RangeIndex: 684 entries, 0 to 683\n",
      "Data columns (total 11 columns):\n",
      " #   Column    Non-Null Count  Dtype  \n",
      "---  ------    --------------  -----  \n",
      " 0   league    684 non-null    object \n",
      " 1   year      684 non-null    int64  \n",
      " 2   position  684 non-null    int64  \n",
      " 3   team      684 non-null    object \n",
      " 4   matches   684 non-null    int64  \n",
      " 5   wins      684 non-null    int64  \n",
      " 6   draws     684 non-null    int64  \n",
      " 7   loses     684 non-null    int64  \n",
      " 8   scored    684 non-null    int64  \n",
      " 9   conceded  681 non-null    float64\n",
      " 10  pts       684 non-null    int64  \n",
      "dtypes: float64(1), int64(8), object(2)\n",
      "memory usage: 58.9+ KB\n"
     ]
    }
   ],
   "source": [
    "#1\n",
    "\n",
    "df_soccer.info()"
   ]
  },
  {
   "cell_type": "markdown",
   "id": "9578967b-4f4c-4b86-b0ea-9dbf90fafe2a",
   "metadata": {},
   "source": [
    "We can see according to the \"info()\" of the data frame that there are 684 entries."
   ]
  },
  {
   "cell_type": "markdown",
   "id": "04d25fa4-ac6b-44b4-ade9-d314644eb8b1",
   "metadata": {},
   "source": [
    "## Question 2:"
   ]
  },
  {
   "cell_type": "code",
   "execution_count": 4,
   "id": "9448c73d-9e64-49d4-b0d0-6139b6aba1de",
   "metadata": {},
   "outputs": [
    {
     "name": "stdout",
     "output_type": "stream",
     "text": [
      "<class 'pandas.core.frame.DataFrame'>\n",
      "RangeIndex: 684 entries, 0 to 683\n",
      "Data columns (total 11 columns):\n",
      " #   Column    Non-Null Count  Dtype  \n",
      "---  ------    --------------  -----  \n",
      " 0   league    684 non-null    object \n",
      " 1   year      684 non-null    int64  \n",
      " 2   position  684 non-null    int64  \n",
      " 3   team      684 non-null    object \n",
      " 4   matches   684 non-null    int64  \n",
      " 5   wins      684 non-null    int64  \n",
      " 6   draws     684 non-null    int64  \n",
      " 7   loses     684 non-null    int64  \n",
      " 8   scored    684 non-null    int64  \n",
      " 9   conceded  681 non-null    float64\n",
      " 10  pts       684 non-null    int64  \n",
      "dtypes: float64(1), int64(8), object(2)\n",
      "memory usage: 58.9+ KB\n"
     ]
    },
    {
     "data": {
      "text/html": [
       "<div>\n",
       "<style scoped>\n",
       "    .dataframe tbody tr th:only-of-type {\n",
       "        vertical-align: middle;\n",
       "    }\n",
       "\n",
       "    .dataframe tbody tr th {\n",
       "        vertical-align: top;\n",
       "    }\n",
       "\n",
       "    .dataframe thead th {\n",
       "        text-align: right;\n",
       "    }\n",
       "</style>\n",
       "<table border=\"1\" class=\"dataframe\">\n",
       "  <thead>\n",
       "    <tr style=\"text-align: right;\">\n",
       "      <th></th>\n",
       "      <th>league</th>\n",
       "      <th>year</th>\n",
       "      <th>position</th>\n",
       "      <th>team</th>\n",
       "      <th>matches</th>\n",
       "      <th>wins</th>\n",
       "      <th>draws</th>\n",
       "      <th>loses</th>\n",
       "      <th>scored</th>\n",
       "      <th>conceded</th>\n",
       "      <th>pts</th>\n",
       "    </tr>\n",
       "  </thead>\n",
       "  <tbody>\n",
       "    <tr>\n",
       "      <th>0</th>\n",
       "      <td>La_liga</td>\n",
       "      <td>2014</td>\n",
       "      <td>1</td>\n",
       "      <td>Barcelona</td>\n",
       "      <td>38</td>\n",
       "      <td>30</td>\n",
       "      <td>4</td>\n",
       "      <td>4</td>\n",
       "      <td>110</td>\n",
       "      <td>21.0</td>\n",
       "      <td>94</td>\n",
       "    </tr>\n",
       "    <tr>\n",
       "      <th>1</th>\n",
       "      <td>La_liga</td>\n",
       "      <td>2014</td>\n",
       "      <td>2</td>\n",
       "      <td>Real Madrid</td>\n",
       "      <td>38</td>\n",
       "      <td>30</td>\n",
       "      <td>2</td>\n",
       "      <td>6</td>\n",
       "      <td>118</td>\n",
       "      <td>38.0</td>\n",
       "      <td>92</td>\n",
       "    </tr>\n",
       "    <tr>\n",
       "      <th>2</th>\n",
       "      <td>La_liga</td>\n",
       "      <td>2014</td>\n",
       "      <td>3</td>\n",
       "      <td>Atletico Madrid</td>\n",
       "      <td>38</td>\n",
       "      <td>23</td>\n",
       "      <td>9</td>\n",
       "      <td>6</td>\n",
       "      <td>67</td>\n",
       "      <td>29.0</td>\n",
       "      <td>78</td>\n",
       "    </tr>\n",
       "    <tr>\n",
       "      <th>3</th>\n",
       "      <td>La_liga</td>\n",
       "      <td>2014</td>\n",
       "      <td>4</td>\n",
       "      <td>Valencia</td>\n",
       "      <td>38</td>\n",
       "      <td>22</td>\n",
       "      <td>11</td>\n",
       "      <td>5</td>\n",
       "      <td>70</td>\n",
       "      <td>32.0</td>\n",
       "      <td>77</td>\n",
       "    </tr>\n",
       "    <tr>\n",
       "      <th>4</th>\n",
       "      <td>La_liga</td>\n",
       "      <td>2014</td>\n",
       "      <td>5</td>\n",
       "      <td>Sevilla</td>\n",
       "      <td>38</td>\n",
       "      <td>23</td>\n",
       "      <td>7</td>\n",
       "      <td>8</td>\n",
       "      <td>71</td>\n",
       "      <td>45.0</td>\n",
       "      <td>76</td>\n",
       "    </tr>\n",
       "    <tr>\n",
       "      <th>...</th>\n",
       "      <td>...</td>\n",
       "      <td>...</td>\n",
       "      <td>...</td>\n",
       "      <td>...</td>\n",
       "      <td>...</td>\n",
       "      <td>...</td>\n",
       "      <td>...</td>\n",
       "      <td>...</td>\n",
       "      <td>...</td>\n",
       "      <td>...</td>\n",
       "      <td>...</td>\n",
       "    </tr>\n",
       "    <tr>\n",
       "      <th>679</th>\n",
       "      <td>RFPL</td>\n",
       "      <td>2019</td>\n",
       "      <td>12</td>\n",
       "      <td>PFC Sochi</td>\n",
       "      <td>30</td>\n",
       "      <td>8</td>\n",
       "      <td>9</td>\n",
       "      <td>13</td>\n",
       "      <td>40</td>\n",
       "      <td>39.0</td>\n",
       "      <td>33</td>\n",
       "    </tr>\n",
       "    <tr>\n",
       "      <th>680</th>\n",
       "      <td>RFPL</td>\n",
       "      <td>2019</td>\n",
       "      <td>13</td>\n",
       "      <td>FK Akhmat</td>\n",
       "      <td>30</td>\n",
       "      <td>7</td>\n",
       "      <td>10</td>\n",
       "      <td>13</td>\n",
       "      <td>27</td>\n",
       "      <td>46.0</td>\n",
       "      <td>31</td>\n",
       "    </tr>\n",
       "    <tr>\n",
       "      <th>681</th>\n",
       "      <td>RFPL</td>\n",
       "      <td>2019</td>\n",
       "      <td>14</td>\n",
       "      <td>Krylya Sovetov Samara</td>\n",
       "      <td>30</td>\n",
       "      <td>8</td>\n",
       "      <td>7</td>\n",
       "      <td>15</td>\n",
       "      <td>33</td>\n",
       "      <td>40.0</td>\n",
       "      <td>31</td>\n",
       "    </tr>\n",
       "    <tr>\n",
       "      <th>682</th>\n",
       "      <td>RFPL</td>\n",
       "      <td>2019</td>\n",
       "      <td>15</td>\n",
       "      <td>FC Tambov</td>\n",
       "      <td>30</td>\n",
       "      <td>9</td>\n",
       "      <td>4</td>\n",
       "      <td>17</td>\n",
       "      <td>37</td>\n",
       "      <td>41.0</td>\n",
       "      <td>31</td>\n",
       "    </tr>\n",
       "    <tr>\n",
       "      <th>683</th>\n",
       "      <td>RFPL</td>\n",
       "      <td>2019</td>\n",
       "      <td>16</td>\n",
       "      <td>FC Orenburg</td>\n",
       "      <td>30</td>\n",
       "      <td>7</td>\n",
       "      <td>6</td>\n",
       "      <td>17</td>\n",
       "      <td>28</td>\n",
       "      <td>52.0</td>\n",
       "      <td>27</td>\n",
       "    </tr>\n",
       "  </tbody>\n",
       "</table>\n",
       "<p>684 rows × 11 columns</p>\n",
       "</div>"
      ],
      "text/plain": [
       "      league  year  position                   team  matches  wins  draws  \\\n",
       "0    La_liga  2014         1              Barcelona       38    30      4   \n",
       "1    La_liga  2014         2            Real Madrid       38    30      2   \n",
       "2    La_liga  2014         3        Atletico Madrid       38    23      9   \n",
       "3    La_liga  2014         4               Valencia       38    22     11   \n",
       "4    La_liga  2014         5                Sevilla       38    23      7   \n",
       "..       ...   ...       ...                    ...      ...   ...    ...   \n",
       "679     RFPL  2019        12              PFC Sochi       30     8      9   \n",
       "680     RFPL  2019        13              FK Akhmat       30     7     10   \n",
       "681     RFPL  2019        14  Krylya Sovetov Samara       30     8      7   \n",
       "682     RFPL  2019        15              FC Tambov       30     9      4   \n",
       "683     RFPL  2019        16            FC Orenburg       30     7      6   \n",
       "\n",
       "     loses  scored  conceded  pts  \n",
       "0        4     110      21.0   94  \n",
       "1        6     118      38.0   92  \n",
       "2        6      67      29.0   78  \n",
       "3        5      70      32.0   77  \n",
       "4        8      71      45.0   76  \n",
       "..     ...     ...       ...  ...  \n",
       "679     13      40      39.0   33  \n",
       "680     13      27      46.0   31  \n",
       "681     15      33      40.0   31  \n",
       "682     17      37      41.0   31  \n",
       "683     17      28      52.0   27  \n",
       "\n",
       "[684 rows x 11 columns]"
      ]
     },
     "metadata": {},
     "output_type": "display_data"
    }
   ],
   "source": [
    "#2\n",
    "\n",
    "df_soccer.info()\n",
    "display(df_soccer)"
   ]
  },
  {
   "cell_type": "markdown",
   "id": "e17611ec-763e-4b15-be82-195959bcf344",
   "metadata": {},
   "source": [
    "We can see according to the \"info()\" of the data frame that there are two fields of type \"object\", so we can be asure that they are categorical.\n",
    "About the other columns, we can see according to the data frame table that the other fields are continuous, so thay are numerical.\n",
    "To sum up:\n",
    "\n",
    "The fields that are categorical are:\n",
    "1. league\n",
    "2. team\n",
    "\n",
    "The fields that are numerical are:\n",
    "1. year\n",
    "2. position\n",
    "3. matches\n",
    "4. wins\n",
    "5. draws\n",
    "6. loses\n",
    "7. scored\n",
    "8. conceded\n",
    "9. pts"
   ]
  },
  {
   "cell_type": "markdown",
   "id": "d9a6d848-84ff-492d-a090-883130d096c4",
   "metadata": {},
   "source": [
    "## Question 3:"
   ]
  },
  {
   "cell_type": "code",
   "execution_count": 5,
   "id": "9bf50d0e-ea1f-4bfc-8599-cfcc49ebfcfd",
   "metadata": {},
   "outputs": [
    {
     "name": "stdout",
     "output_type": "stream",
     "text": [
      "6\n",
      "\n",
      "168\n"
     ]
    }
   ],
   "source": [
    "#3\n",
    "\n",
    "print(len(df_soccer.league.unique()))\n",
    "print()\n",
    "print(len(df_soccer.team.unique()))"
   ]
  },
  {
   "cell_type": "markdown",
   "id": "658647ca-3970-443f-9ab2-e413e4e359fb",
   "metadata": {},
   "source": [
    "Number of unique values at \"league\" field: 6\n",
    "\n",
    "Number of unique values at \"team\" field: 168"
   ]
  },
  {
   "cell_type": "markdown",
   "id": "67be73ee-900e-48ab-b87d-b099e3f3a679",
   "metadata": {},
   "source": [
    "## Question 4:"
   ]
  },
  {
   "cell_type": "code",
   "execution_count": 6,
   "id": "2a05edf0-83be-45f0-9f4c-40256c969d42",
   "metadata": {},
   "outputs": [
    {
     "name": "stdout",
     "output_type": "stream",
     "text": [
      "Let's find out if there are missing values at our data frame: True.\n",
      "The field conceded have 3 missing values.\n"
     ]
    }
   ],
   "source": [
    "#4\n",
    "print(\"Let's find out if there are missing values at our data frame: \" + str(pd.isna(None)) + \".\") \n",
    "for i in df_soccer.columns:\n",
    "    if df_soccer.isna().sum()[i] != 0:\n",
    "        print('The field', i, 'have', df_soccer.isna().sum()[i], 'missing values.')"
   ]
  },
  {
   "cell_type": "markdown",
   "id": "6b9569c4-1e8a-442a-b61a-25d510b05567",
   "metadata": {},
   "source": [
    "The field that has a null vlaues is conceded, and it has 3 missing values."
   ]
  },
  {
   "cell_type": "markdown",
   "id": "18c53633-6b33-45b4-8f3e-fc3aa3658c08",
   "metadata": {},
   "source": [
    "## Question 5:"
   ]
  },
  {
   "cell_type": "code",
   "execution_count": 7,
   "id": "6606ec34-246a-4dc5-b0b7-a788731c57e5",
   "metadata": {},
   "outputs": [
    {
     "name": "stdout",
     "output_type": "stream",
     "text": [
      "La_liga: 30\n",
      "EPL: 30\n",
      "Bundesliga: 24\n",
      "Serie_A: 30\n",
      "Ligue_1: 29\n",
      "RFPL: 25\n",
      "\n",
      "min: Bundesliga\n"
     ]
    }
   ],
   "source": [
    "#5\n",
    "\n",
    "min_league = ''\n",
    "temp = 0\n",
    "flag = True\n",
    "\n",
    "#Loop over array of the leagues, find the number of different teams for each league and find out witch league has the fewer teams.  \n",
    "for diff_league in df_soccer.league.unique():\n",
    "    if flag:\n",
    "       temp = len(df_soccer[df_soccer.league == diff_league].team.unique())\n",
    "       flag = False\n",
    "    print(diff_league + ':',len(df_soccer[df_soccer.league == diff_league].team.unique()))\n",
    "    if len(df_soccer[df_soccer.league == diff_league].team.unique()) < temp:\n",
    "     temp = len(df_soccer[df_soccer.league == diff_league].team.unique())\n",
    "     min_league = diff_league\n",
    "print()\n",
    "print(\"min:\", min_league)"
   ]
  },
  {
   "cell_type": "markdown",
   "id": "f328f7c0-a90b-424d-aae3-081804b6829f",
   "metadata": {},
   "source": [
    "Number of different teams over the years of:\n",
    "La_liga: 30\n",
    "EPL: 30\n",
    "Bundesliga: 24\n",
    "Serie_A: 30\n",
    "Ligue_1: 29\n",
    "RFPL: 25\n",
    "\n",
    "The league that has the least number of teams over the years is: Bundesliga"
   ]
  },
  {
   "cell_type": "markdown",
   "id": "2fcc8adc-a113-4e4c-83e3-961a5ab548ee",
   "metadata": {},
   "source": [
    "## Question 6:"
   ]
  },
  {
   "cell_type": "code",
   "execution_count": null,
   "id": "b741df39-3f99-440b-b026-1b6489685625",
   "metadata": {
    "collapsed": true,
    "jupyter": {
     "outputs_hidden": true
    },
    "tags": []
   },
   "outputs": [],
   "source": [
    "#6\n",
    "\n",
    "#Method for calculate the avarge of scored goals per year.\n",
    "def calculateAvgGoals(row):\n",
    "    avg = row.scored/row.matches\n",
    "    return avg\n",
    "\n",
    "#Adds new columne to the data frame that store the avarge scored goals of each team per year.\n",
    "df_soccer[\"avg_goals\"] = df_soccer.apply(calculateAvgGoals, axis = 'columns')\n",
    "\n",
    "#Creates a groupby object of 'team'.\n",
    "gb_team = df_soccer.groupby('team')\n",
    "\n",
    "#Prints the columns that describe the avarge scored goals of each team for every year.\n",
    "for team, team_df_soccer in gb_team:\n",
    "    print(team)\n",
    "    display(team_df_soccer[['year', 'avg_goals']])"
   ]
  },
  {
   "cell_type": "code",
   "execution_count": 9,
   "id": "cef4cbae-5738-49ce-b82f-6365b15edadb",
   "metadata": {
    "scrolled": true,
    "tags": []
   },
   "outputs": [
    {
     "name": "stdout",
     "output_type": "stream",
     "text": [
      "-0.7587818572237601\n"
     ]
    }
   ],
   "source": [
    "#checking the correlation \n",
    "print(df_soccer.position.corr(df_soccer.avg_goals))"
   ]
  },
  {
   "cell_type": "markdown",
   "id": "81c6d680-d859-4836-b83b-9875f6f26547",
   "metadata": {},
   "source": [
    "The corilation we have got(-0.7587) tells us that there is a liniar corilation(-1<-0.7587<0),\n",
    "and even a strong corilation according to the high value of the corilation."
   ]
  },
  {
   "cell_type": "markdown",
   "id": "a8fb1fe4-ed8c-4eb8-9d96-c5b3405519f1",
   "metadata": {},
   "source": [
    "## Question 7:"
   ]
  },
  {
   "cell_type": "code",
   "execution_count": 10,
   "id": "6073348c-ae33-4e7c-9c19-60881f738c33",
   "metadata": {},
   "outputs": [
    {
     "name": "stdout",
     "output_type": "stream",
     "text": [
      "league      year\n",
      "Bundesliga  2014    44.0\n",
      "            2015    44.0\n",
      "            2016    44.5\n",
      "            2017    43.5\n",
      "            2018    53.0\n",
      "            2019    48.0\n",
      "EPL         2014    46.5\n",
      "            2015    48.5\n",
      "            2016    47.5\n",
      "            2017    44.5\n",
      "            2018    51.5\n",
      "            2019    46.5\n",
      "La_liga     2014    43.0\n",
      "            2015    45.5\n",
      "            2016    53.0\n",
      "            2017    46.5\n",
      "            2018    47.0\n",
      "            2019    46.0\n",
      "Ligue_1     2014    44.0\n",
      "            2015    46.0\n",
      "            2016    42.5\n",
      "            2017    45.5\n",
      "            2018    46.0\n",
      "            2019    33.0\n",
      "RFPL        2014    31.0\n",
      "            2015    34.5\n",
      "            2016    30.5\n",
      "            2017    31.5\n",
      "            2018    30.5\n",
      "            2019    36.5\n",
      "Serie_A     2014    49.0\n",
      "            2015    46.5\n",
      "            2016    56.0\n",
      "            2017    51.0\n",
      "            2018    51.5\n",
      "            2019    51.5\n",
      "Name: scored, dtype: float64\n"
     ]
    },
    {
     "name": "stderr",
     "output_type": "stream",
     "text": [
      "C:\\Users\\liorb\\AppData\\Local\\Temp\\ipykernel_24608\\2117126896.py:4: FutureWarning: The default value of numeric_only in DataFrameGroupBy.median is deprecated. In a future version, numeric_only will default to False. Either specify numeric_only or select only columns which should be valid for the function.\n",
      "  gb_median = df_soccer.groupby(['league', 'year']).median()['scored']\n"
     ]
    }
   ],
   "source": [
    "#7\n",
    "\n",
    "#Creates a groupby object of 'league' and 'year', and calculate the median value of 'scored' for each league and year.\n",
    "gb_median = df_soccer.groupby(['league', 'year']).median()['scored']\n",
    "\n",
    "#Prints the groupby object we have created.\n",
    "print(gb_median)"
   ]
  },
  {
   "cell_type": "markdown",
   "id": "04cad81c-9065-49fb-8d4f-c313937c06e4",
   "metadata": {},
   "source": [
    "We have found that the league that has the highest difference between the medians over the years is \"ligue_1\"(differnce of 13 goals scored(46 is the highest at year 2018/2015 and 33 is the lowest at year 2019)."
   ]
  },
  {
   "cell_type": "markdown",
   "id": "d4281038-24b9-459a-b9ce-0dc13567f1fc",
   "metadata": {},
   "source": [
    "## Question 8:"
   ]
  },
  {
   "cell_type": "code",
   "execution_count": 11,
   "id": "7cba9807-2bda-4bb2-a290-0c9fd8ea82c7",
   "metadata": {},
   "outputs": [
    {
     "data": {
      "text/html": [
       "<div>\n",
       "<style scoped>\n",
       "    .dataframe tbody tr th:only-of-type {\n",
       "        vertical-align: middle;\n",
       "    }\n",
       "\n",
       "    .dataframe tbody tr th {\n",
       "        vertical-align: top;\n",
       "    }\n",
       "\n",
       "    .dataframe thead th {\n",
       "        text-align: right;\n",
       "    }\n",
       "</style>\n",
       "<table border=\"1\" class=\"dataframe\">\n",
       "  <thead>\n",
       "    <tr style=\"text-align: right;\">\n",
       "      <th></th>\n",
       "      <th>year</th>\n",
       "      <th>team</th>\n",
       "      <th>matches</th>\n",
       "      <th>wins</th>\n",
       "      <th>draws</th>\n",
       "      <th>loses</th>\n",
       "      <th>pts</th>\n",
       "      <th>our_pts</th>\n",
       "      <th>compare_pts</th>\n",
       "    </tr>\n",
       "  </thead>\n",
       "  <tbody>\n",
       "    <tr>\n",
       "      <th>0</th>\n",
       "      <td>2014</td>\n",
       "      <td>Barcelona</td>\n",
       "      <td>38</td>\n",
       "      <td>30</td>\n",
       "      <td>4</td>\n",
       "      <td>4</td>\n",
       "      <td>94</td>\n",
       "      <td>94</td>\n",
       "      <td>True</td>\n",
       "    </tr>\n",
       "    <tr>\n",
       "      <th>1</th>\n",
       "      <td>2014</td>\n",
       "      <td>Real Madrid</td>\n",
       "      <td>38</td>\n",
       "      <td>30</td>\n",
       "      <td>2</td>\n",
       "      <td>6</td>\n",
       "      <td>92</td>\n",
       "      <td>92</td>\n",
       "      <td>True</td>\n",
       "    </tr>\n",
       "    <tr>\n",
       "      <th>2</th>\n",
       "      <td>2014</td>\n",
       "      <td>Atletico Madrid</td>\n",
       "      <td>38</td>\n",
       "      <td>23</td>\n",
       "      <td>9</td>\n",
       "      <td>6</td>\n",
       "      <td>78</td>\n",
       "      <td>78</td>\n",
       "      <td>True</td>\n",
       "    </tr>\n",
       "    <tr>\n",
       "      <th>3</th>\n",
       "      <td>2014</td>\n",
       "      <td>Valencia</td>\n",
       "      <td>38</td>\n",
       "      <td>22</td>\n",
       "      <td>11</td>\n",
       "      <td>5</td>\n",
       "      <td>77</td>\n",
       "      <td>77</td>\n",
       "      <td>True</td>\n",
       "    </tr>\n",
       "    <tr>\n",
       "      <th>4</th>\n",
       "      <td>2014</td>\n",
       "      <td>Sevilla</td>\n",
       "      <td>38</td>\n",
       "      <td>23</td>\n",
       "      <td>7</td>\n",
       "      <td>8</td>\n",
       "      <td>76</td>\n",
       "      <td>76</td>\n",
       "      <td>True</td>\n",
       "    </tr>\n",
       "    <tr>\n",
       "      <th>...</th>\n",
       "      <td>...</td>\n",
       "      <td>...</td>\n",
       "      <td>...</td>\n",
       "      <td>...</td>\n",
       "      <td>...</td>\n",
       "      <td>...</td>\n",
       "      <td>...</td>\n",
       "      <td>...</td>\n",
       "      <td>...</td>\n",
       "    </tr>\n",
       "    <tr>\n",
       "      <th>679</th>\n",
       "      <td>2019</td>\n",
       "      <td>PFC Sochi</td>\n",
       "      <td>30</td>\n",
       "      <td>8</td>\n",
       "      <td>9</td>\n",
       "      <td>13</td>\n",
       "      <td>33</td>\n",
       "      <td>33</td>\n",
       "      <td>True</td>\n",
       "    </tr>\n",
       "    <tr>\n",
       "      <th>680</th>\n",
       "      <td>2019</td>\n",
       "      <td>FK Akhmat</td>\n",
       "      <td>30</td>\n",
       "      <td>7</td>\n",
       "      <td>10</td>\n",
       "      <td>13</td>\n",
       "      <td>31</td>\n",
       "      <td>31</td>\n",
       "      <td>True</td>\n",
       "    </tr>\n",
       "    <tr>\n",
       "      <th>681</th>\n",
       "      <td>2019</td>\n",
       "      <td>Krylya Sovetov Samara</td>\n",
       "      <td>30</td>\n",
       "      <td>8</td>\n",
       "      <td>7</td>\n",
       "      <td>15</td>\n",
       "      <td>31</td>\n",
       "      <td>31</td>\n",
       "      <td>True</td>\n",
       "    </tr>\n",
       "    <tr>\n",
       "      <th>682</th>\n",
       "      <td>2019</td>\n",
       "      <td>FC Tambov</td>\n",
       "      <td>30</td>\n",
       "      <td>9</td>\n",
       "      <td>4</td>\n",
       "      <td>17</td>\n",
       "      <td>31</td>\n",
       "      <td>31</td>\n",
       "      <td>True</td>\n",
       "    </tr>\n",
       "    <tr>\n",
       "      <th>683</th>\n",
       "      <td>2019</td>\n",
       "      <td>FC Orenburg</td>\n",
       "      <td>30</td>\n",
       "      <td>7</td>\n",
       "      <td>6</td>\n",
       "      <td>17</td>\n",
       "      <td>27</td>\n",
       "      <td>27</td>\n",
       "      <td>True</td>\n",
       "    </tr>\n",
       "  </tbody>\n",
       "</table>\n",
       "<p>684 rows × 9 columns</p>\n",
       "</div>"
      ],
      "text/plain": [
       "     year                   team  matches  wins  draws  loses  pts  our_pts  \\\n",
       "0    2014              Barcelona       38    30      4      4   94       94   \n",
       "1    2014            Real Madrid       38    30      2      6   92       92   \n",
       "2    2014        Atletico Madrid       38    23      9      6   78       78   \n",
       "3    2014               Valencia       38    22     11      5   77       77   \n",
       "4    2014                Sevilla       38    23      7      8   76       76   \n",
       "..    ...                    ...      ...   ...    ...    ...  ...      ...   \n",
       "679  2019              PFC Sochi       30     8      9     13   33       33   \n",
       "680  2019              FK Akhmat       30     7     10     13   31       31   \n",
       "681  2019  Krylya Sovetov Samara       30     8      7     15   31       31   \n",
       "682  2019              FC Tambov       30     9      4     17   31       31   \n",
       "683  2019            FC Orenburg       30     7      6     17   27       27   \n",
       "\n",
       "    compare_pts  \n",
       "0          True  \n",
       "1          True  \n",
       "2          True  \n",
       "3          True  \n",
       "4          True  \n",
       "..          ...  \n",
       "679        True  \n",
       "680        True  \n",
       "681        True  \n",
       "682        True  \n",
       "683        True  \n",
       "\n",
       "[684 rows x 9 columns]"
      ]
     },
     "metadata": {},
     "output_type": "display_data"
    },
    {
     "name": "stdout",
     "output_type": "stream",
     "text": [
      "<class 'pandas.core.frame.DataFrame'>\n",
      "RangeIndex: 684 entries, 0 to 683\n",
      "Data columns (total 14 columns):\n",
      " #   Column       Non-Null Count  Dtype  \n",
      "---  ------       --------------  -----  \n",
      " 0   league       684 non-null    object \n",
      " 1   year         684 non-null    int64  \n",
      " 2   position     684 non-null    int64  \n",
      " 3   team         684 non-null    object \n",
      " 4   matches      684 non-null    int64  \n",
      " 5   wins         684 non-null    int64  \n",
      " 6   draws        684 non-null    int64  \n",
      " 7   loses        684 non-null    int64  \n",
      " 8   scored       684 non-null    int64  \n",
      " 9   conceded     681 non-null    float64\n",
      " 10  pts          684 non-null    int64  \n",
      " 11  avg_goals    684 non-null    float64\n",
      " 12  our_pts      684 non-null    int64  \n",
      " 13  compare_pts  683 non-null    object \n",
      "dtypes: float64(2), int64(9), object(3)\n",
      "memory usage: 74.9+ KB\n",
      "\n",
      "the number of non-NA values of 'compare_pts' column is: 683 of total 684 entries.\n",
      "\n",
      "We will Find information about the mistake:\n"
     ]
    },
    {
     "data": {
      "text/html": [
       "<div>\n",
       "<style scoped>\n",
       "    .dataframe tbody tr th:only-of-type {\n",
       "        vertical-align: middle;\n",
       "    }\n",
       "\n",
       "    .dataframe tbody tr th {\n",
       "        vertical-align: top;\n",
       "    }\n",
       "\n",
       "    .dataframe thead th {\n",
       "        text-align: right;\n",
       "    }\n",
       "</style>\n",
       "<table border=\"1\" class=\"dataframe\">\n",
       "  <thead>\n",
       "    <tr style=\"text-align: right;\">\n",
       "      <th></th>\n",
       "      <th>league</th>\n",
       "      <th>year</th>\n",
       "      <th>position</th>\n",
       "      <th>team</th>\n",
       "      <th>matches</th>\n",
       "      <th>wins</th>\n",
       "      <th>draws</th>\n",
       "      <th>loses</th>\n",
       "      <th>scored</th>\n",
       "      <th>conceded</th>\n",
       "      <th>pts</th>\n",
       "      <th>avg_goals</th>\n",
       "      <th>our_pts</th>\n",
       "      <th>compare_pts</th>\n",
       "    </tr>\n",
       "  </thead>\n",
       "  <tbody>\n",
       "    <tr>\n",
       "      <th>425</th>\n",
       "      <td>Serie_A</td>\n",
       "      <td>2017</td>\n",
       "      <td>18</td>\n",
       "      <td>Crotone</td>\n",
       "      <td>38</td>\n",
       "      <td>9</td>\n",
       "      <td>8</td>\n",
       "      <td>21</td>\n",
       "      <td>40</td>\n",
       "      <td>66.0</td>\n",
       "      <td>180</td>\n",
       "      <td>1.052632</td>\n",
       "      <td>35</td>\n",
       "      <td>None</td>\n",
       "    </tr>\n",
       "  </tbody>\n",
       "</table>\n",
       "</div>"
      ],
      "text/plain": [
       "      league  year  position     team  matches  wins  draws  loses  scored  \\\n",
       "425  Serie_A  2017        18  Crotone       38     9      8     21      40   \n",
       "\n",
       "     conceded  pts  avg_goals  our_pts compare_pts  \n",
       "425      66.0  180   1.052632       35        None  "
      ]
     },
     "metadata": {},
     "output_type": "display_data"
    },
    {
     "name": "stdout",
     "output_type": "stream",
     "text": [
      "the mistake happens to be in league is \"Serie_A\", year 2017, the team \"Crotone\".\n"
     ]
    }
   ],
   "source": [
    "#8\n",
    "\n",
    "#Method for calculate the sum of pts each team got at each year.\n",
    "def calculatePts(row):\n",
    "    sumOfPts = row.wins*3 + row.draws*1\n",
    "    return sumOfPts\n",
    "\n",
    "#Adds new columne to the data frame that store the sum of pts each team got at each year.\n",
    "df_soccer['our_pts'] = df_soccer.apply(calculatePts, axis='columns')\n",
    "\n",
    "#Method for compare our values of pts to the values that given to us.\n",
    "def comparePts(row):\n",
    "    if row.pts == row.our_pts:\n",
    "        return True\n",
    "    else:\n",
    "        return None\n",
    "    \n",
    "#Adds new columne to the data frame that store boolian value - \"True\" if our values of pts to the values that given to us is equal, else - \"None\".\n",
    "df_soccer['compare_pts'] = df_soccer.apply(comparePts, axis='columns')\n",
    "display(df_soccer[['year', 'team', 'matches', 'wins', 'draws', 'loses', 'pts', 'our_pts', 'compare_pts']])\n",
    "\n",
    "\n",
    "df_soccer.info()\n",
    "print()\n",
    "#we can use the `count()` method to count the number of non-NA values of 'compare_pts' column.\n",
    "print(\"the number of non-NA values of 'compare_pts' column is: \" + str(df_soccer.count()['compare_pts']) + \" of total 684 entries.\")\n",
    "print()\n",
    "print(\"We will Find information about the mistake:\")\n",
    "display(df_soccer[df_soccer['compare_pts'].isna() == True])\n",
    "\n",
    "print('the mistake happens to be in league is \"Serie_A\", year 2017, the team \"Crotone\".')"
   ]
  },
  {
   "cell_type": "markdown",
   "id": "8a92bda2-2f6c-4e08-9006-bad4845746f4",
   "metadata": {},
   "source": [
    "According to that the \"Serie_A\" league have 38 matches per year according to the information we got, and the max number that a team at that league\n",
    "and yaer can got is 38*3=116(if the team won all the games at that year), the given value of \"pts\" we have got is not possible,\n",
    "so the origin of the mistake is the given \"pts\" column"
   ]
  },
  {
   "cell_type": "markdown",
   "id": "d05e36d5-4f7b-4041-a6e2-5b5410b9d2fb",
   "metadata": {},
   "source": [
    "## Question 9:"
   ]
  },
  {
   "cell_type": "code",
   "execution_count": 12,
   "id": "ec028d2b-195f-47af-bd7f-8d4c6722a7ef",
   "metadata": {},
   "outputs": [
    {
     "data": {
      "text/plain": [
       "['La_liga 75',\n",
       " 'EPL 71',\n",
       " 'Bundesliga 63',\n",
       " 'Serie_A 63',\n",
       " 'Ligue_1 69',\n",
       " 'RFPL 52']"
      ]
     },
     "metadata": {},
     "output_type": "display_data"
    }
   ],
   "source": [
    "#9\n",
    "\n",
    "#Method for compare the values of conceded goals to the values of scored goals.\n",
    "def isFailure(row):\n",
    "    if row.conceded != None:\n",
    "            if row.conceded > row.scored:\n",
    "                return True\n",
    "            else:\n",
    "                return None\n",
    "    \n",
    "#Adds new columne to the data frame that store boolian value - \"True\" if a team is conceded more goals than scored, else - \"None\".\n",
    "df_soccer['is_failure'] = df_soccer.apply(isFailure, axis='columns')\n",
    "\n",
    "#Gets an array that store the different leagues in the data frame.\n",
    "arrOfLeagues = df_soccer.league.unique()\n",
    "\n",
    "listCountFailure = []\n",
    "#find the number of \"failed teams\" for over the years of each league and append to the empty list we have created.\n",
    "for i in arrOfLeagues:\n",
    "    filt = (df_soccer['league'] == i) & (df_soccer['is_failure'] == True)\n",
    "    val = df_soccer.loc[filt].count()['is_failure']\n",
    "    leagueAndVal = i + \" \" + str(val)\n",
    "    listCountFailure.append(leagueAndVal)\n",
    "    \n",
    "display(listCountFailure)"
   ]
  },
  {
   "cell_type": "markdown",
   "id": "aa888ed9-7a83-480b-b5cc-9d2c2ce4b33a",
   "metadata": {},
   "source": [
    "According to the results we got, the league with the most \"failed teams\" for over the years is \"La_liga\" league. "
   ]
  }
 ],
 "metadata": {
  "kernelspec": {
   "display_name": "Python 3 (ipykernel)",
   "language": "python",
   "name": "python3"
  },
  "language_info": {
   "codemirror_mode": {
    "name": "ipython",
    "version": 3
   },
   "file_extension": ".py",
   "mimetype": "text/x-python",
   "name": "python",
   "nbconvert_exporter": "python",
   "pygments_lexer": "ipython3",
   "version": "3.9.16"
  }
 },
 "nbformat": 4,
 "nbformat_minor": 5
}
