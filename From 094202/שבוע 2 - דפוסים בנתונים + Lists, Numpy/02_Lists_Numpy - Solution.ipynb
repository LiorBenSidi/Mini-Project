{
 "cells": [
  {
   "cell_type": "markdown",
   "metadata": {
    "id": "pJzhULrhZ9YV",
    "slideshow": {
     "slide_type": "slide"
    }
   },
   "source": [
    "# <font color=red>Tutorial 2 - Python Lists & Numpy Arrays</font>"
   ]
  },
  {
   "cell_type": "markdown",
   "metadata": {
    "id": "YsApHzWDuCUC",
    "slideshow": {
     "slide_type": "slide"
    }
   },
   "source": [
    "## <b>Introduction</b>"
   ]
  },
  {
   "cell_type": "markdown",
   "metadata": {
    "id": "ApcZcSJzuCUD",
    "slideshow": {
     "slide_type": "subslide"
    }
   },
   "source": [
    "### <b>Python Data Types</b>"
   ]
  },
  {
   "cell_type": "code",
   "execution_count": 1,
   "metadata": {
    "id": "WG8SViOzuCUD",
    "slideshow": {
     "slide_type": "fragment"
    }
   },
   "outputs": [
    {
     "name": "stdout",
     "output_type": "stream",
     "text": [
      "<class 'int'>\n",
      "<class 'float'>\n",
      "<class 'str'>\n",
      "<class 'list'>\n",
      "<class 'tuple'>\n",
      "<class 'dict'>\n"
     ]
    }
   ],
   "source": [
    "print(type(123)) # int\n",
    "print(type(12.34)) # float\n",
    "print(type('hello world')) # string (can also use \"\" instead of '')\n",
    "print(type([1,2,3,4])) # list\n",
    "print(type((1,2,3))) # tuple\n",
    "print(type({1:'one', 2:'two', 3:'three'})) # dictionary"
   ]
  },
  {
   "cell_type": "markdown",
   "metadata": {
    "id": "zWkB7vZ3uCUE",
    "slideshow": {
     "slide_type": "subslide"
    }
   },
   "source": [
    "### <b>Mutable and Immutable Objects</b>"
   ]
  },
  {
   "cell_type": "markdown",
   "metadata": {
    "id": "TciIOLBHuCUF",
    "slideshow": {
     "slide_type": "fragment"
    }
   },
   "source": [
    "Numeric values (int and float), strings and tuples are immutable, which means their content can't be altered after creation. On the other hand, collection of items in a List or Dictionary object can be modified"
   ]
  },
  {
   "cell_type": "code",
   "execution_count": 2,
   "metadata": {
    "id": "_gER6WKWuCUF",
    "slideshow": {
     "slide_type": "fragment"
    }
   },
   "outputs": [
    {
     "name": "stdout",
     "output_type": "stream",
     "text": [
      "m\n"
     ]
    }
   ],
   "source": [
    "my_str = 'immutable objects like strings cannot be changed'\n",
    "print(my_str[1])\n",
    "#my_str[1] = 's' # Error"
   ]
  },
  {
   "cell_type": "code",
   "execution_count": 3,
   "metadata": {
    "id": "kSyCyaBjuCUG",
    "slideshow": {
     "slide_type": "subslide"
    }
   },
   "outputs": [
    {
     "data": {
      "text/plain": [
       "[1, 20, 3]"
      ]
     },
     "execution_count": 3,
     "metadata": {},
     "output_type": "execute_result"
    }
   ],
   "source": [
    "list_is_mutable = [1, 2, 3]\n",
    "list_is_mutable[1] = 20\n",
    "list_is_mutable"
   ]
  },
  {
   "cell_type": "markdown",
   "metadata": {
    "id": "uNZvbW2kZ9ZK",
    "slideshow": {
     "slide_type": "subslide"
    }
   },
   "source": [
    "### <b>Explore Object Attributes and Functionality</b>"
   ]
  },
  {
   "cell_type": "markdown",
   "metadata": {
    "id": "TgChZeesZ9ZK",
    "slideshow": {
     "slide_type": "fragment"
    }
   },
   "source": [
    "To explore any python type attributes and functionality we can use the dir() method and then use help on any of the available methods. The double underscore ('__') before the attribute's name means that the attribute will not be directly accessible/visible outside."
   ]
  },
  {
   "cell_type": "code",
   "execution_count": 4,
   "metadata": {
    "id": "VwXP3YE3Z9ZL",
    "scrolled": true,
    "slideshow": {
     "slide_type": "fragment"
    }
   },
   "outputs": [
    {
     "data": {
      "text/plain": [
       "['__add__',\n",
       " '__class__',\n",
       " '__class_getitem__',\n",
       " '__contains__',\n",
       " '__delattr__',\n",
       " '__delitem__',\n",
       " '__dir__',\n",
       " '__doc__',\n",
       " '__eq__',\n",
       " '__format__',\n",
       " '__ge__',\n",
       " '__getattribute__',\n",
       " '__getitem__',\n",
       " '__gt__',\n",
       " '__hash__',\n",
       " '__iadd__',\n",
       " '__imul__',\n",
       " '__init__',\n",
       " '__init_subclass__',\n",
       " '__iter__',\n",
       " '__le__',\n",
       " '__len__',\n",
       " '__lt__',\n",
       " '__mul__',\n",
       " '__ne__',\n",
       " '__new__',\n",
       " '__reduce__',\n",
       " '__reduce_ex__',\n",
       " '__repr__',\n",
       " '__reversed__',\n",
       " '__rmul__',\n",
       " '__setattr__',\n",
       " '__setitem__',\n",
       " '__sizeof__',\n",
       " '__str__',\n",
       " '__subclasshook__',\n",
       " 'append',\n",
       " 'clear',\n",
       " 'copy',\n",
       " 'count',\n",
       " 'extend',\n",
       " 'index',\n",
       " 'insert',\n",
       " 'pop',\n",
       " 'remove',\n",
       " 'reverse',\n",
       " 'sort']"
      ]
     },
     "execution_count": 4,
     "metadata": {},
     "output_type": "execute_result"
    }
   ],
   "source": [
    "numbers = [1, 2, 3, 4] # list\n",
    "dir(numbers)"
   ]
  },
  {
   "cell_type": "code",
   "execution_count": 5,
   "metadata": {
    "id": "Wk8TpLJAZ9ZM",
    "slideshow": {
     "slide_type": "subslide"
    }
   },
   "outputs": [
    {
     "name": "stdout",
     "output_type": "stream",
     "text": [
      "Help on built-in function reverse:\n",
      "\n",
      "reverse() method of builtins.list instance\n",
      "    Reverse *IN PLACE*.\n",
      "\n"
     ]
    }
   ],
   "source": [
    "help(numbers.reverse)"
   ]
  },
  {
   "cell_type": "code",
   "execution_count": 6,
   "metadata": {
    "id": "iVVGVPkVZ9ZN",
    "slideshow": {
     "slide_type": "fragment"
    }
   },
   "outputs": [
    {
     "name": "stdout",
     "output_type": "stream",
     "text": [
      "[0, 1, 2, 3, 4, 5, 6, 7, 8, 9]\n"
     ]
    },
    {
     "data": {
      "text/plain": [
       "[9, 8, 7, 6, 5, 4, 3, 2, 1, 0]"
      ]
     },
     "execution_count": 6,
     "metadata": {},
     "output_type": "execute_result"
    }
   ],
   "source": [
    "numbers = list(range(10))\n",
    "print(numbers)\n",
    "numbers.reverse()\n",
    "numbers"
   ]
  },
  {
   "cell_type": "markdown",
   "metadata": {
    "id": "fk8h7CT3Z9YZ",
    "slideshow": {
     "slide_type": "slide"
    }
   },
   "source": [
    "## <b>Lists</b>"
   ]
  },
  {
   "cell_type": "markdown",
   "metadata": {
    "id": "qDGW5Vd8Z9YX",
    "slideshow": {
     "slide_type": "fragment"
    }
   },
   "source": [
    "Lists are a built-in data structures for storing and accessing objects in specific order. It can contain various types of values. A list is a mutable container, this means that we can add values, delete values, or modify existing values.<br>\n",
    "Python list represents a mathematical concept of a finite sequence. Values of a list are called items or elements of the list. A list can contain the same value multiple times. Each occurrence is considered a distinct item. In this tutorial we'll learn how to create and use lists."
   ]
  },
  {
   "cell_type": "markdown",
   "metadata": {
    "id": "_DRTEmT_Z9Yb",
    "slideshow": {
     "slide_type": "subslide"
    }
   },
   "source": [
    "### <b>Creating Lists</b>"
   ]
  },
  {
   "cell_type": "markdown",
   "metadata": {
    "id": "GCidmDoOZ9Yc",
    "slideshow": {
     "slide_type": "fragment"
    }
   },
   "source": [
    "Following are two different ways to create empty lists. We can confirm we created a list using the type() function."
   ]
  },
  {
   "cell_type": "code",
   "execution_count": 7,
   "metadata": {
    "id": "rZ6k-NlaZ9Yd",
    "slideshow": {
     "slide_type": "fragment"
    }
   },
   "outputs": [
    {
     "data": {
      "text/plain": [
       "list"
      ]
     },
     "execution_count": 7,
     "metadata": {},
     "output_type": "execute_result"
    }
   ],
   "source": [
    "example1 = list()\n",
    "type(example1)"
   ]
  },
  {
   "cell_type": "code",
   "execution_count": 8,
   "metadata": {
    "id": "IF3BpQvIZ9Yj",
    "slideshow": {
     "slide_type": "fragment"
    }
   },
   "outputs": [
    {
     "data": {
      "text/plain": [
       "list"
      ]
     },
     "execution_count": 8,
     "metadata": {},
     "output_type": "execute_result"
    }
   ],
   "source": [
    "example2 = []\n",
    "type(example2)"
   ]
  },
  {
   "cell_type": "markdown",
   "metadata": {
    "id": "DUSIJe4WZ9Ym",
    "slideshow": {
     "slide_type": "subslide"
    }
   },
   "source": [
    "We can also create and initialize a list. For example we can initialize a list of prime numbers"
   ]
  },
  {
   "cell_type": "code",
   "execution_count": 9,
   "metadata": {
    "id": "ScsCf6qbZ9Ym",
    "slideshow": {
     "slide_type": "fragment"
    }
   },
   "outputs": [
    {
     "data": {
      "text/plain": [
       "[2, 3, 5, 7, 11, 13, 17]"
      ]
     },
     "execution_count": 9,
     "metadata": {},
     "output_type": "execute_result"
    }
   ],
   "source": [
    "primes = [2, 3, 5, 7, 11, 13, 17]\n",
    "primes"
   ]
  },
  {
   "cell_type": "markdown",
   "metadata": {
    "id": "F4zwngzfZ9Yp",
    "slideshow": {
     "slide_type": "subslide"
    }
   },
   "source": [
    "List can contain various types of data"
   ]
  },
  {
   "cell_type": "code",
   "execution_count": 10,
   "metadata": {
    "id": "olKd6VeTZ9Yp",
    "slideshow": {
     "slide_type": "fragment"
    }
   },
   "outputs": [
    {
     "data": {
      "text/plain": [
       "[100, 'mylist', True, 3.72, [1, 2, 3], (4, 6)]"
      ]
     },
     "execution_count": 10,
     "metadata": {},
     "output_type": "execute_result"
    }
   ],
   "source": [
    "various = [100, 'mylist', True, 3.72, [1, 2, 3], (4, 6)]\n",
    "various"
   ]
  },
  {
   "cell_type": "markdown",
   "metadata": {
    "id": "_sW15CK0Z9Yr",
    "slideshow": {
     "slide_type": "subslide"
    }
   },
   "source": [
    "We can also create a list conditioned on our first list, for example lets create a list of small prime numbers"
   ]
  },
  {
   "cell_type": "code",
   "execution_count": 11,
   "metadata": {
    "id": "N8otDdRnuCUO",
    "slideshow": {
     "slide_type": "fragment"
    }
   },
   "outputs": [
    {
     "data": {
      "text/plain": [
       "[2, 3, 5, 7]"
      ]
     },
     "execution_count": 11,
     "metadata": {},
     "output_type": "execute_result"
    }
   ],
   "source": [
    "small_primes_1 = []\n",
    "for item in primes:\n",
    "    if item < 10:\n",
    "        small_primes_1.append(item)\n",
    "        \n",
    "small_primes_1"
   ]
  },
  {
   "cell_type": "code",
   "execution_count": 12,
   "metadata": {
    "id": "UDKrevstZ9Yr",
    "slideshow": {
     "slide_type": "fragment"
    }
   },
   "outputs": [
    {
     "data": {
      "text/plain": [
       "[2, 3, 5, 7]"
      ]
     },
     "execution_count": 12,
     "metadata": {},
     "output_type": "execute_result"
    }
   ],
   "source": [
    "small_primes_2 = [item for item in primes if item < 10]\n",
    "small_primes_2"
   ]
  },
  {
   "cell_type": "markdown",
   "metadata": {
    "id": "DxEU350guCUO",
    "slideshow": {
     "slide_type": "subslide"
    }
   },
   "source": [
    "We can create a list from any iterable collection (e.g. tuple, string,..)"
   ]
  },
  {
   "cell_type": "code",
   "execution_count": 13,
   "metadata": {
    "id": "l9lqLHftuCUO",
    "slideshow": {
     "slide_type": "fragment"
    }
   },
   "outputs": [
    {
     "name": "stdout",
     "output_type": "stream",
     "text": [
      "<class 'tuple'>\n"
     ]
    },
    {
     "data": {
      "text/plain": [
       "('one', 'two', 'three')"
      ]
     },
     "execution_count": 13,
     "metadata": {},
     "output_type": "execute_result"
    }
   ],
   "source": [
    "tup = ('one', 'two', 'three')\n",
    "print(type(tup))\n",
    "tup"
   ]
  },
  {
   "cell_type": "code",
   "execution_count": 14,
   "metadata": {
    "id": "dV810V5ruCUP",
    "slideshow": {
     "slide_type": "fragment"
    }
   },
   "outputs": [
    {
     "name": "stdout",
     "output_type": "stream",
     "text": [
      "<class 'list'>\n"
     ]
    },
    {
     "data": {
      "text/plain": [
       "['one', 'two', 'three']"
      ]
     },
     "execution_count": 14,
     "metadata": {},
     "output_type": "execute_result"
    }
   ],
   "source": [
    "my_list = list(tup)\n",
    "print(type(my_list))\n",
    "my_list"
   ]
  },
  {
   "cell_type": "code",
   "execution_count": 15,
   "metadata": {
    "id": "gaKlNrvjuCUP",
    "slideshow": {
     "slide_type": "fragment"
    }
   },
   "outputs": [
    {
     "name": "stdout",
     "output_type": "stream",
     "text": [
      "string to list\n"
     ]
    },
    {
     "data": {
      "text/plain": [
       "['s', 't', 'r', 'i', 'n', 'g', ' ', 't', 'o', ' ', 'l', 'i', 's', 't']"
      ]
     },
     "execution_count": 15,
     "metadata": {},
     "output_type": "execute_result"
    }
   ],
   "source": [
    "my_str = 'string to list'\n",
    "print(my_str)\n",
    "my_list = list(my_str)\n",
    "my_list"
   ]
  },
  {
   "cell_type": "markdown",
   "metadata": {
    "id": "aCDnDK49Z9Yt",
    "slideshow": {
     "slide_type": "subslide"
    }
   },
   "source": [
    "### <b>Accessing Lists</b>"
   ]
  },
  {
   "cell_type": "markdown",
   "metadata": {
    "id": "X7IrGPK3Z9Yt",
    "slideshow": {
     "slide_type": "fragment"
    }
   },
   "source": [
    "Let's first check the size of our list. Then we'll use [index] to refer to specific item"
   ]
  },
  {
   "cell_type": "code",
   "execution_count": 16,
   "metadata": {
    "id": "xa9YnAgFZ9Yt",
    "slideshow": {
     "slide_type": "fragment"
    }
   },
   "outputs": [
    {
     "name": "stdout",
     "output_type": "stream",
     "text": [
      "7\n"
     ]
    }
   ],
   "source": [
    "print(len(primes))"
   ]
  },
  {
   "cell_type": "code",
   "execution_count": 17,
   "metadata": {
    "id": "FsE16gJZZ9Yv",
    "slideshow": {
     "slide_type": "fragment"
    }
   },
   "outputs": [
    {
     "data": {
      "text/plain": [
       "2"
      ]
     },
     "execution_count": 17,
     "metadata": {},
     "output_type": "execute_result"
    }
   ],
   "source": [
    "primes[0]"
   ]
  },
  {
   "cell_type": "code",
   "execution_count": 18,
   "metadata": {
    "id": "60ys14ZzZ9Yx",
    "slideshow": {
     "slide_type": "fragment"
    }
   },
   "outputs": [
    {
     "data": {
      "text/plain": [
       "3"
      ]
     },
     "execution_count": 18,
     "metadata": {},
     "output_type": "execute_result"
    }
   ],
   "source": [
    "primes[1]"
   ]
  },
  {
   "cell_type": "markdown",
   "metadata": {
    "id": "3wccWuosZ9Yy",
    "slideshow": {
     "slide_type": "subslide"
    }
   },
   "source": [
    "We can refer to an item from the end of the list"
   ]
  },
  {
   "cell_type": "code",
   "execution_count": 19,
   "metadata": {
    "id": "9WVREltyZ9Yz",
    "slideshow": {
     "slide_type": "fragment"
    }
   },
   "outputs": [
    {
     "data": {
      "text/plain": [
       "17"
      ]
     },
     "execution_count": 19,
     "metadata": {},
     "output_type": "execute_result"
    }
   ],
   "source": [
    "primes[-1]"
   ]
  },
  {
   "cell_type": "code",
   "execution_count": 20,
   "metadata": {
    "id": "qRyUarFgZ9Y0",
    "slideshow": {
     "slide_type": "fragment"
    }
   },
   "outputs": [
    {
     "data": {
      "text/plain": [
       "13"
      ]
     },
     "execution_count": 20,
     "metadata": {},
     "output_type": "execute_result"
    }
   ],
   "source": [
    "primes[-2]"
   ]
  },
  {
   "cell_type": "markdown",
   "metadata": {
    "id": "Bi8ib_pTZ9Y1",
    "slideshow": {
     "slide_type": "subslide"
    }
   },
   "source": [
    "We can use slicing ([start:stop]) to refer to multiple items - notice that we do not get the stop index item"
   ]
  },
  {
   "cell_type": "code",
   "execution_count": 21,
   "metadata": {
    "id": "LGqoJUgqZ9Y2",
    "slideshow": {
     "slide_type": "fragment"
    }
   },
   "outputs": [
    {
     "data": {
      "text/plain": [
       "[5, 7, 11]"
      ]
     },
     "execution_count": 21,
     "metadata": {},
     "output_type": "execute_result"
    }
   ],
   "source": [
    "primes[2:5]"
   ]
  },
  {
   "cell_type": "code",
   "execution_count": 22,
   "metadata": {
    "id": "OGLuWPNGZ9Y3",
    "slideshow": {
     "slide_type": "fragment"
    }
   },
   "outputs": [
    {
     "data": {
      "text/plain": [
       "[2, 3, 5, 7]"
      ]
     },
     "execution_count": 22,
     "metadata": {},
     "output_type": "execute_result"
    }
   ],
   "source": [
    "primes[0:4]"
   ]
  },
  {
   "cell_type": "markdown",
   "metadata": {
    "id": "XYD4MW0tZ9Y4",
    "slideshow": {
     "slide_type": "subslide"
    }
   },
   "source": [
    "We can also use steps - list[start:stop:step]. For exampe lets get every second prime number"
   ]
  },
  {
   "cell_type": "code",
   "execution_count": 23,
   "metadata": {
    "id": "jkvgS4epZ9Y6",
    "slideshow": {
     "slide_type": "fragment"
    }
   },
   "outputs": [
    {
     "data": {
      "text/plain": [
       "[2, 5, 11, 17]"
      ]
     },
     "execution_count": 23,
     "metadata": {},
     "output_type": "execute_result"
    }
   ],
   "source": [
    "primes[0:7:2]"
   ]
  },
  {
   "cell_type": "markdown",
   "metadata": {
    "id": "N1nzt14EZ9Y6",
    "slideshow": {
     "slide_type": "subslide"
    }
   },
   "source": [
    "Notice that if we leave the start and stop empty, the default is the starting and ending indices of the list - the following will have the same result"
   ]
  },
  {
   "cell_type": "code",
   "execution_count": 24,
   "metadata": {
    "id": "6C3HS4TnZ9Y5",
    "slideshow": {
     "slide_type": "fragment"
    }
   },
   "outputs": [
    {
     "data": {
      "text/plain": [
       "[2, 5, 11, 17]"
      ]
     },
     "execution_count": 24,
     "metadata": {},
     "output_type": "execute_result"
    }
   ],
   "source": [
    "primes[::2]"
   ]
  },
  {
   "cell_type": "markdown",
   "metadata": {
    "id": "clkqJ0kFZ9Y7",
    "slideshow": {
     "slide_type": "subslide"
    }
   },
   "source": [
    "Lets get every second prime number, starting from the second"
   ]
  },
  {
   "cell_type": "code",
   "execution_count": 25,
   "metadata": {
    "id": "u3SWbjXkZ9Y8",
    "slideshow": {
     "slide_type": "fragment"
    }
   },
   "outputs": [
    {
     "data": {
      "text/plain": [
       "[3, 7, 13]"
      ]
     },
     "execution_count": 25,
     "metadata": {},
     "output_type": "execute_result"
    }
   ],
   "source": [
    "primes[1::2]"
   ]
  },
  {
   "cell_type": "markdown",
   "metadata": {
    "id": "j0IJVNEHZ9Y9",
    "slideshow": {
     "slide_type": "subslide"
    }
   },
   "source": [
    "### <b>Looping over lists</b>"
   ]
  },
  {
   "cell_type": "code",
   "execution_count": 26,
   "metadata": {
    "id": "uVKFlm_vZ9Y9",
    "slideshow": {
     "slide_type": "fragment"
    }
   },
   "outputs": [
    {
     "name": "stdout",
     "output_type": "stream",
     "text": [
      "2\n",
      "3\n",
      "5\n",
      "7\n",
      "11\n",
      "13\n",
      "17\n"
     ]
    }
   ],
   "source": [
    "for item in primes:\n",
    "    print(item)"
   ]
  },
  {
   "cell_type": "markdown",
   "metadata": {
    "id": "eArPE4amZ9Y_",
    "slideshow": {
     "slide_type": "subslide"
    }
   },
   "source": [
    "If we need both the index and the item, we can use the enumerate function: "
   ]
  },
  {
   "cell_type": "code",
   "execution_count": 27,
   "metadata": {
    "id": "mO-WNqAfZ9ZA",
    "slideshow": {
     "slide_type": "fragment"
    }
   },
   "outputs": [
    {
     "name": "stdout",
     "output_type": "stream",
     "text": [
      "0 2\n",
      "1 3\n",
      "2 5\n",
      "3 7\n",
      "4 11\n",
      "5 13\n",
      "6 17\n"
     ]
    }
   ],
   "source": [
    "for index, item in enumerate(primes):\n",
    "    print(index, item)"
   ]
  },
  {
   "cell_type": "markdown",
   "metadata": {
    "id": "AomNPCmyZ9ZB",
    "slideshow": {
     "slide_type": "subslide"
    }
   },
   "source": [
    "### <b>List concatenation</b>"
   ]
  },
  {
   "cell_type": "markdown",
   "metadata": {
    "id": "ALHLLi6CZ9ZC",
    "slideshow": {
     "slide_type": "fragment"
    }
   },
   "source": [
    "We can concatenate lists just by using the '+' sign, note that this operation does not change the original lists"
   ]
  },
  {
   "cell_type": "code",
   "execution_count": 28,
   "metadata": {
    "id": "mjl47bEnZ9ZC",
    "slideshow": {
     "slide_type": "fragment"
    }
   },
   "outputs": [
    {
     "name": "stdout",
     "output_type": "stream",
     "text": [
      "[1, 2, 3, 'a', 'b', 'c']\n"
     ]
    }
   ],
   "source": [
    "numbers = [1, 2, 3]\n",
    "letters = ['a', 'b', 'c']\n",
    "print(numbers + letters)"
   ]
  },
  {
   "cell_type": "markdown",
   "metadata": {
    "id": "s0QYmN0DZ9ZD",
    "slideshow": {
     "slide_type": "subslide"
    }
   },
   "source": [
    "To concatenate in-place we can use the extend() function"
   ]
  },
  {
   "cell_type": "code",
   "execution_count": 29,
   "metadata": {
    "id": "aikvQLtFZ9ZD",
    "slideshow": {
     "slide_type": "fragment"
    }
   },
   "outputs": [
    {
     "name": "stdout",
     "output_type": "stream",
     "text": [
      "[1, 2, 3, 'a', 'b', 'c']\n"
     ]
    }
   ],
   "source": [
    "numbers.extend(letters)\n",
    "print(numbers)"
   ]
  },
  {
   "cell_type": "markdown",
   "metadata": {
    "id": "lyNcwfaxZ9ZE",
    "slideshow": {
     "slide_type": "subslide"
    }
   },
   "source": [
    "### <b>Modifying Lists</b>"
   ]
  },
  {
   "cell_type": "code",
   "execution_count": 30,
   "metadata": {
    "id": "1ZIRQCYpZ9ZF",
    "slideshow": {
     "slide_type": "fragment"
    }
   },
   "outputs": [
    {
     "name": "stdout",
     "output_type": "stream",
     "text": [
      "[1, 2, 3, 'a', 'b', 'c']\n",
      "[1, 2, 3, 4, 5, 6]\n"
     ]
    }
   ],
   "source": [
    "print(numbers)\n",
    "numbers[3] = 4\n",
    "numbers[4:6] = [5,6]\n",
    "print(numbers)"
   ]
  },
  {
   "cell_type": "markdown",
   "metadata": {
    "id": "Qp-_qgwnZ9ZG",
    "slideshow": {
     "slide_type": "subslide"
    }
   },
   "source": [
    "To create a copy of a list we can use slicing or the list function. Notice that just using the '=' sign creates a reference to the original list - In the following example we can see that numbers3 referes to the original numbers list."
   ]
  },
  {
   "cell_type": "code",
   "execution_count": 31,
   "metadata": {
    "id": "ZVICGvkSZ9ZG",
    "slideshow": {
     "slide_type": "fragment"
    }
   },
   "outputs": [
    {
     "name": "stdout",
     "output_type": "stream",
     "text": [
      "[100, 2, 3]\n",
      "[1, 2, 3]\n",
      "[1, 2, 3]\n",
      "[100, 2, 3]\n",
      "[1, 2, 3]\n"
     ]
    }
   ],
   "source": [
    "numbers = [1, 2, 3]\n",
    "numbers1 = numbers[:]\n",
    "numbers2 = list(numbers)\n",
    "numbers3 = numbers\n",
    "numbers4 = numbers.copy()\n",
    "numbers[0] = 100\n",
    "print(numbers)\n",
    "print(numbers1)\n",
    "print(numbers2)\n",
    "print(numbers3)\n",
    "print(numbers4)"
   ]
  },
  {
   "cell_type": "markdown",
   "metadata": {
    "id": "CblmpWncZ9ZH",
    "slideshow": {
     "slide_type": "subslide"
    }
   },
   "source": [
    "To add an item to a list we can use either the append or the insert - **append** inserts the item to the end of the list, **insert** inserts an item at a given index, and move the remaining items to the right."
   ]
  },
  {
   "cell_type": "code",
   "execution_count": 32,
   "metadata": {
    "id": "mOFGWRPDZ9ZH",
    "slideshow": {
     "slide_type": "fragment"
    }
   },
   "outputs": [
    {
     "name": "stdout",
     "output_type": "stream",
     "text": [
      "[2, 3, 5, 7, 11, 13, 17]\n",
      "[2, 3, 5, 7, 11, 13, 17, 21]\n",
      "[2, 3, 5, 7, 11, 13, 17, 19, 21]\n"
     ]
    }
   ],
   "source": [
    "print(primes)\n",
    "primes.append(21)\n",
    "print(primes)\n",
    "primes.insert(7, 19)\n",
    "print(primes)"
   ]
  },
  {
   "cell_type": "markdown",
   "metadata": {
    "id": "WJOg3ZpaZ9ZJ",
    "slideshow": {
     "slide_type": "subslide"
    }
   },
   "source": [
    "To delete items from a list we can use each of the following:\n",
    "- del - removes an indivudual item or all items identified by a slice\n",
    "- pop - removes an individual item at specific index and returns it\n",
    "- remove - searches for an item, and removes the first matching item from the list"
   ]
  },
  {
   "cell_type": "code",
   "execution_count": 33,
   "metadata": {
    "id": "21OlRZXFZ9ZJ",
    "slideshow": {
     "slide_type": "fragment"
    }
   },
   "outputs": [
    {
     "name": "stdout",
     "output_type": "stream",
     "text": [
      "[1, 3, 5, 7, 9, 11, 13, 15, 17, 19]\n",
      "1\n",
      "[3, 5, 7, 9, 11, 13, 15, 17, 19]\n",
      "[3, 5, 7, 9, 11, 13, 15]\n",
      "[1, 3, 5, 7, 9, 11, 13, 15]\n",
      "[1, 3, 7, 9, 11, 13, 15]\n"
     ]
    }
   ],
   "source": [
    "numbers = list(range(1,20,2)) # create a list starting from 1 to 20 with steps of 2\n",
    "print(numbers)\n",
    "first = numbers.pop(0) # remove and return item at index 0\n",
    "print(first) # pop returns the item we removed from the list\n",
    "print(numbers)\n",
    "del numbers[-2:] # remove last 2 items\n",
    "print(numbers)\n",
    "numbers.insert(0, first) # insert 'first' to index 0\n",
    "print(numbers)\n",
    "numbers.remove(5) # searching for item with value of 5 and removes it\n",
    "print(numbers)"
   ]
  },
  {
   "cell_type": "markdown",
   "metadata": {
    "id": "Iew2Pz8Db00c",
    "slideshow": {
     "slide_type": "slide"
    }
   },
   "source": [
    "# <b>Numpy</b>"
   ]
  },
  {
   "cell_type": "markdown",
   "metadata": {
    "id": "6Cuv6LG3ccpw",
    "slideshow": {
     "slide_type": "fragment"
    }
   },
   "source": [
    "Numpy is the core library for scientific computing in Python. It provides a high-performance multi-dimensional array object, and tools for working with these arrays.  If you are going to work on data analysis or machine learning projects, then having a solid understanding of Numpy is nearly mandatory, since both the Pandas (data analysis) and the Scikit-learn (machine learning) packages are built on top of Numpy."
   ]
  },
  {
   "cell_type": "markdown",
   "metadata": {
    "id": "WMje1c43fBlr",
    "slideshow": {
     "slide_type": "subslide"
    }
   },
   "source": [
    "### <b>Numpy Arrays</b>"
   ]
  },
  {
   "cell_type": "markdown",
   "metadata": {
    "id": "dG38l00ZfEI-",
    "slideshow": {
     "slide_type": "fragment"
    }
   },
   "source": [
    "At the core, Numpy provides the excellent ndarray objects, short for n-dimensional arrays. In a ‘ndarray’ object, you can store multiple items of the same data type. It is the facilities around the array object that makes Numpy so convenient for performing math and data manipulations.<br> There are multiple ways to create a numpy array, one of the most common ways is to create one from a list or a list like object by passing it to the np.array function:"
   ]
  },
  {
   "cell_type": "code",
   "execution_count": 34,
   "metadata": {
    "id": "qQDqtEZ3ggJj",
    "slideshow": {
     "slide_type": "fragment"
    }
   },
   "outputs": [
    {
     "name": "stdout",
     "output_type": "stream",
     "text": [
      "[0, 1, 2, 3, 4, 5, 6, 7, 8, 9], Type: <class 'list'>\n",
      "[0 1 2 3 4 5 6 7 8 9], Type: <class 'numpy.ndarray'>\n"
     ]
    }
   ],
   "source": [
    "import numpy as np\n",
    "\n",
    "py_list = list(range(10))\n",
    "np_array = np.array(py_list)\n",
    "print(str(py_list) + ', Type: ' + str(type(py_list)))\n",
    "print(str(np_array) + ', Type: ' + str(type(np_array)))"
   ]
  },
  {
   "cell_type": "markdown",
   "metadata": {
    "id": "wOX6-Vq1hl6b",
    "slideshow": {
     "slide_type": "subslide"
    }
   },
   "source": [
    "The key difference between an array and a list is that array is designed to handle vectorized operations while a python list is not. Let’s suppose you want your list to range from 1 to 10, so you want to add 1 to every item. The intuitive way to do it is something like this:"
   ]
  },
  {
   "cell_type": "code",
   "execution_count": 35,
   "metadata": {
    "id": "lfrMB5BphwqA",
    "slideshow": {
     "slide_type": "fragment"
    }
   },
   "outputs": [],
   "source": [
    "#py_list + 1 # Error"
   ]
  },
  {
   "cell_type": "markdown",
   "metadata": {
    "id": "xhUlTNzKiQNg",
    "slideshow": {
     "slide_type": "subslide"
    }
   },
   "source": [
    "That is not possible with a list. But you can do that on a ndarray:"
   ]
  },
  {
   "cell_type": "code",
   "execution_count": 36,
   "metadata": {
    "id": "OG7Wyg2giVfv",
    "slideshow": {
     "slide_type": "fragment"
    }
   },
   "outputs": [
    {
     "data": {
      "text/plain": [
       "array([ 1,  2,  3,  4,  5,  6,  7,  8,  9, 10])"
      ]
     },
     "execution_count": 36,
     "metadata": {},
     "output_type": "execute_result"
    }
   ],
   "source": [
    "np_array + 1"
   ]
  },
  {
   "cell_type": "markdown",
   "metadata": {
    "id": "NDqmJWEKib2e",
    "slideshow": {
     "slide_type": "subslide"
    }
   },
   "source": [
    "Once a ndarray is created, you cannot alter its size. To do so, you will have to create a new ndarray:"
   ]
  },
  {
   "cell_type": "code",
   "execution_count": 37,
   "metadata": {
    "id": "lMW1AmXYiui-",
    "slideshow": {
     "slide_type": "fragment"
    }
   },
   "outputs": [
    {
     "data": {
      "text/plain": [
       "[0, 1, 2, 3, 4, 5, 6, 7, 8, 9, 11, 12]"
      ]
     },
     "execution_count": 37,
     "metadata": {},
     "output_type": "execute_result"
    }
   ],
   "source": [
    "py_list + [11, 12]"
   ]
  },
  {
   "cell_type": "code",
   "execution_count": 38,
   "metadata": {
    "id": "48rgA8F-i-Df",
    "slideshow": {
     "slide_type": "fragment"
    }
   },
   "outputs": [],
   "source": [
    "#np_array + np.array([11,12]) # Error"
   ]
  },
  {
   "cell_type": "markdown",
   "metadata": {
    "id": "KgeyEXYLjN4Q",
    "slideshow": {
     "slide_type": "subslide"
    }
   },
   "source": [
    "You may also specify the datatype by setting the dtype argument. Some of the most commonly used numpy dtypes are: 'float', 'int', 'bool', 'str' and 'object'. Unlike lists, numpy arrays should have all items to be of the same data type. This is another significant difference. "
   ]
  },
  {
   "cell_type": "code",
   "execution_count": 39,
   "metadata": {
    "id": "7X4EZAygjQfH",
    "slideshow": {
     "slide_type": "fragment"
    }
   },
   "outputs": [
    {
     "data": {
      "text/plain": [
       "array([1., 2., 3., 4., 5.])"
      ]
     },
     "execution_count": 39,
     "metadata": {},
     "output_type": "execute_result"
    }
   ],
   "source": [
    "np_array_float = np.array([1, 2, 3 ,4 ,5], dtype='float')\n",
    "np_array_float"
   ]
  },
  {
   "cell_type": "markdown",
   "metadata": {
    "id": "0YlD02BdmddR",
    "slideshow": {
     "slide_type": "subslide"
    }
   },
   "source": [
    "To summarise, the main differences between Numpy arrays and python lists are::\n",
    "\n",
    "1. Numpy Arrays support vectorized operations, while lists don’t.\n",
    "2. Once an array is created, you cannot change its size. You will have to create a new array or overwrite the existing one.\n",
    "3. Every array has one and only one dtype. All items in it should be of that dtype."
   ]
  },
  {
   "cell_type": "markdown",
   "metadata": {
    "id": "54CHVbaInPmD",
    "slideshow": {
     "slide_type": "subslide"
    }
   },
   "source": [
    "### <b>Numpy Basic Attributes and Functionality</b>"
   ]
  },
  {
   "cell_type": "markdown",
   "metadata": {
    "id": "4JaWfv6FuCUW",
    "slideshow": {
     "slide_type": "fragment"
    }
   },
   "source": [
    "The attributes dtype, shape, and size of Numpy array object:"
   ]
  },
  {
   "cell_type": "code",
   "execution_count": 40,
   "metadata": {
    "id": "MCsnS6ZDn63q",
    "slideshow": {
     "slide_type": "fragment"
    }
   },
   "outputs": [
    {
     "name": "stdout",
     "output_type": "stream",
     "text": [
      "[[1 2 3]\n",
      " [4 5 6]], Type: int32, Shape: (2, 3), Size: 6\n"
     ]
    }
   ],
   "source": [
    "np_arr = np.array([[1, 2, 3], [4, 5, 6]])\n",
    "print(str(np_arr) + ', Type: ' + str(np_arr.dtype) + ', Shape: ' + str(np_arr.shape) + ', Size: ' + str(np_arr.size))"
   ]
  },
  {
   "cell_type": "markdown",
   "metadata": {
    "id": "KT2qeS3xuCUX",
    "slideshow": {
     "slide_type": "subslide"
    }
   },
   "source": [
    "Basic functionality of Numpy array object: "
   ]
  },
  {
   "cell_type": "code",
   "execution_count": 41,
   "metadata": {
    "id": "4DU-L4ocuCUX",
    "slideshow": {
     "slide_type": "fragment"
    }
   },
   "outputs": [
    {
     "name": "stdout",
     "output_type": "stream",
     "text": [
      "[[1 2 3]\n",
      " [4 5 6]]\n",
      "Mean value is:  3.5\n",
      "Max value is:  6\n",
      "Min value is:  1\n"
     ]
    }
   ],
   "source": [
    "# mean, max and min\n",
    "print(np_arr)\n",
    "print(\"Mean value is: \", np_arr.mean()) # the mean method returns the average of the numpay array\n",
    "print(\"Max value is: \", np_arr.max())\n",
    "print(\"Min value is: \", np_arr.min())"
   ]
  },
  {
   "cell_type": "code",
   "execution_count": 42,
   "metadata": {
    "id": "6D3g54XjuCUX",
    "slideshow": {
     "slide_type": "fragment"
    }
   },
   "outputs": [
    {
     "name": "stdout",
     "output_type": "stream",
     "text": [
      "[[1 2 3]\n",
      " [4 5 6]]\n",
      "[[ 1  4  9]\n",
      " [16 25 36]]\n",
      "[[1.         1.41421356 1.73205081]\n",
      " [2.         2.23606798 2.44948974]]\n"
     ]
    }
   ],
   "source": [
    "print(np_arr)\n",
    "print(np_arr**2)\n",
    "print(np.sqrt(np_arr))"
   ]
  },
  {
   "cell_type": "markdown",
   "metadata": {
    "id": "dx_O-A_VrNga",
    "slideshow": {
     "slide_type": "subslide"
    }
   },
   "source": [
    "The random module provides nice functions to generate random numbers (and also statistical distributions) of any given shape."
   ]
  },
  {
   "cell_type": "code",
   "execution_count": 43,
   "metadata": {
    "id": "hXW13s6KQxX-",
    "slideshow": {
     "slide_type": "fragment"
    }
   },
   "outputs": [
    {
     "name": "stdout",
     "output_type": "stream",
     "text": [
      "[[2 8]\n",
      " [7 3]]\n"
     ]
    }
   ],
   "source": [
    "# Random integers between [0, 10) of shape 2,2\n",
    "print(np.random.randint(0, 10, size=[2,2]))"
   ]
  },
  {
   "cell_type": "code",
   "execution_count": 44,
   "metadata": {
    "id": "4Ys6BfQdQ9EF",
    "slideshow": {
     "slide_type": "fragment"
    }
   },
   "outputs": [
    {
     "name": "stdout",
     "output_type": "stream",
     "text": [
      "0.49562276312320463\n"
     ]
    }
   ],
   "source": [
    "# One random number between [0,1)\n",
    "print(np.random.random())"
   ]
  },
  {
   "cell_type": "code",
   "execution_count": 45,
   "metadata": {
    "id": "9yuvy4UIQ9SR",
    "slideshow": {
     "slide_type": "fragment"
    }
   },
   "outputs": [
    {
     "name": "stdout",
     "output_type": "stream",
     "text": [
      "[[0.50622657 0.058678  ]\n",
      " [0.890051   0.48619705]]\n"
     ]
    }
   ],
   "source": [
    "# Random numbers between [0,1) of shape 2,2\n",
    "print(np.random.random(size=[2,2]))"
   ]
  },
  {
   "cell_type": "code",
   "execution_count": 46,
   "metadata": {
    "id": "j9y8SdTtQ9Zc",
    "slideshow": {
     "slide_type": "fragment"
    }
   },
   "outputs": [
    {
     "name": "stdout",
     "output_type": "stream",
     "text": [
      "['a' 'u' 'a' 'i' 'i' 'o' 'u' 'u' 'e' 'i']\n"
     ]
    }
   ],
   "source": [
    "# Pick 10 items from a given list, with equal probability\n",
    "print(np.random.choice(['a', 'e', 'i', 'o', 'u'], size=10))"
   ]
  },
  {
   "cell_type": "code",
   "execution_count": 47,
   "metadata": {
    "id": "2t49lFZfQ9e3",
    "slideshow": {
     "slide_type": "fragment"
    }
   },
   "outputs": [
    {
     "name": "stdout",
     "output_type": "stream",
     "text": [
      "['a' 'i' 'a' 'a' 'a' 'a' 'o' 'a' 'a' 'u']\n"
     ]
    }
   ],
   "source": [
    "# Pick 10 items from a given list with a predefined probability 'p'\n",
    "print(np.random.choice(['a', 'e', 'i', 'o', 'u'], size=10, p=[0.3, 0.1, 0.1, 0.4, 0.1]))  # picks more o's and a's"
   ]
  },
  {
   "cell_type": "markdown",
   "metadata": {
    "id": "Taru6hZTrvx8",
    "slideshow": {
     "slide_type": "subslide"
    }
   },
   "source": [
    "The np.unique() method can be used to get the unique items of a Numpy array. If we want the repetition counts of each item, we should set the return_counts parameter to True:"
   ]
  },
  {
   "cell_type": "code",
   "execution_count": 48,
   "metadata": {
    "id": "39Hs7BuOryi-",
    "slideshow": {
     "slide_type": "fragment"
    }
   },
   "outputs": [
    {
     "name": "stdout",
     "output_type": "stream",
     "text": [
      "[0 0 0 1 0 0 1 0 0 1]\n",
      "Unique items :  [0 1]\n",
      "Counts       :  [7 3]\n"
     ]
    }
   ],
   "source": [
    "bin_array = np.random.randint(0, 2, size=10) # Create random binary array of size 10\n",
    "print(bin_array)\n",
    "uniques, counts = np.unique(bin_array, return_counts=True)\n",
    "print(\"Unique items : \", uniques)\n",
    "print(\"Counts       : \", counts)"
   ]
  },
  {
   "cell_type": "markdown",
   "metadata": {
    "id": "Wv1TUaLQy-IX",
    "slideshow": {
     "slide_type": "slide"
    }
   },
   "source": [
    "## <font color=blue> **Exercise** </font>"
   ]
  },
  {
   "cell_type": "markdown",
   "metadata": {
    "id": "OG7cw_HYzGIn",
    "slideshow": {
     "slide_type": "fragment"
    }
   },
   "source": [
    "<b>Important</b>: Use the help() method to get more information regarding the suggested methods (e.g. help(numpy.random.uniform)) <br>\n",
    "1. Use the `numpy.random.uniform` method to create a random uniform numpy array containing 100 numbers representing basketball players' heights ranging from 1.65 to 2.20.\n",
    "2. Print the minimum, maximum and mean of the players' heights.\n",
    "3. Use the `np.where` method to create a new binary array in which heights above 1.80 are represented by '1' and below 1.80 are represented by '0'.\n",
    "4. Use the `np.unique` function to present how many players are above 1.80, and how many are below."
   ]
  },
  {
   "cell_type": "code",
   "execution_count": 49,
   "metadata": {
    "id": "0uvDXuRzzKbu",
    "slideshow": {
     "slide_type": "skip"
    }
   },
   "outputs": [],
   "source": [
    "# Write your code here\n"
   ]
  },
  {
   "cell_type": "code",
   "execution_count": 50,
   "metadata": {
    "id": "65nJEuYXuCUY",
    "slideshow": {
     "slide_type": "skip"
    }
   },
   "outputs": [
    {
     "name": "stdout",
     "output_type": "stream",
     "text": [
      "Min: 1.6579896247786208, Max: 2.188516091437082, Mean: 1.9114109140278248\n",
      "Unique items :  [0 1]\n",
      "Counts       :  [34 66]\n"
     ]
    },
    {
     "data": {
      "text/plain": [
       "34"
      ]
     },
     "execution_count": 50,
     "metadata": {},
     "output_type": "execute_result"
    }
   ],
   "source": [
    "# Solution\n",
    "import numpy as np\n",
    "\n",
    "# 1\n",
    "heights = np.random.uniform(1.65, 2.20, 100)\n",
    "\n",
    "# 2\n",
    "print('Min: ' + str(heights.min()) + ', Max: ' + str(heights.max()) + ', Mean: ' + str(heights.mean()) )\n",
    "\n",
    "# 3\n",
    "bin_heights = np.where(heights < 1.80, 0, 1)\n",
    "\n",
    "# 4\n",
    "uniques, counts = np.unique(bin_heights, return_counts=True)\n",
    "print(\"Unique items : \", uniques)\n",
    "print(\"Counts       : \", counts)\n",
    "\n",
    "# 4 Alternative solution\n",
    "bin_heights.size - bin_heights.sum()"
   ]
  }
 ],
 "metadata": {
  "celltoolbar": "Slideshow",
  "colab": {
   "name": "02_Lists_Numpy.ipynb",
   "provenance": []
  },
  "kernelspec": {
   "display_name": "Python 3 (ipykernel)",
   "language": "python",
   "name": "python3"
  },
  "language_info": {
   "codemirror_mode": {
    "name": "ipython",
    "version": 3
   },
   "file_extension": ".py",
   "mimetype": "text/x-python",
   "name": "python",
   "nbconvert_exporter": "python",
   "pygments_lexer": "ipython3",
   "version": "3.9.16"
  }
 },
 "nbformat": 4,
 "nbformat_minor": 4
}
