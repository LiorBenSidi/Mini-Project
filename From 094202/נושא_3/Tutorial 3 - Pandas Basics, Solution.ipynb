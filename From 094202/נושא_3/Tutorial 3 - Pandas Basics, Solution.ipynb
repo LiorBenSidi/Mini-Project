{
 "cells": [
  {
   "cell_type": "markdown",
   "metadata": {
    "id": "2PvKD0FMCoCn",
    "slideshow": {
     "slide_type": "slide"
    }
   },
   "source": [
    "# <font color='red'>Tutorial 3 - Pandas Basics</font>"
   ]
  },
  {
   "cell_type": "markdown",
   "metadata": {
    "id": "UbeSz4L-uBcO",
    "slideshow": {
     "slide_type": "-"
    }
   },
   "source": [
    "**Pandas** is a software library written for the Python programming language for data manipulation and analysis. In particular, it offers data structures and operations for manipulating numerical tables and time series. **Dataframe** is the main object in pandas. It's used to represent data with rows and columns (tabular or excel spreadsheet like data). Dataframe uses the **Series** object to represent each row or column. The **Series** object is very similar to a Numpy array, the major difference is that it includes an explicit index."
   ]
  },
  {
   "cell_type": "code",
   "execution_count": 1,
   "metadata": {
    "executionInfo": {
     "elapsed": 352,
     "status": "ok",
     "timestamp": 1649841300064,
     "user": {
      "displayName": "Zohar Gilad",
      "userId": "00340934557496237852"
     },
     "user_tz": -180
    },
    "id": "Dy_ZZY-7uBcP",
    "slideshow": {
     "slide_type": "skip"
    }
   },
   "outputs": [],
   "source": [
    "import numpy as np\n",
    "import pandas as pd"
   ]
  },
  {
   "cell_type": "markdown",
   "metadata": {
    "id": "nx_w8PiPCoC0",
    "slideshow": {
     "slide_type": "slide"
    }
   },
   "source": [
    "## Creating a Dataframe"
   ]
  },
  {
   "cell_type": "markdown",
   "metadata": {
    "id": "eiVDc-3_CoC1",
    "slideshow": {
     "slide_type": "fragment"
    }
   },
   "source": [
    "In most cases we will create a dataframe by importing a CSV (Comma Separated Values) file, but now to get fimiliar with Pandas we will use a small dictionary:"
   ]
  },
  {
   "cell_type": "code",
   "execution_count": 2,
   "metadata": {
    "executionInfo": {
     "elapsed": 22,
     "status": "ok",
     "timestamp": 1649841300065,
     "user": {
      "displayName": "Zohar Gilad",
      "userId": "00340934557496237852"
     },
     "user_tz": -180
    },
    "id": "x0oNNwW4CoC1",
    "slideshow": {
     "slide_type": "fragment"
    }
   },
   "outputs": [],
   "source": [
    "weather_data = {\n",
    "    'Day' : ['1/1/2017', '2/1/2017', '3/1/2017', '4/1/2017', '5/1/2017', '6/1/2017'],\n",
    "    'Temperature' : [12, 16, -2, -3, 8, 14],\n",
    "    'Windspeed' : [60, 70, 25, 75, 45, 20],\n",
    "    'Event' : ['Rain', 'Sunny', 'Snow', 'Snow', 'Rain', 'Sunny']\n",
    "}"
   ]
  },
  {
   "cell_type": "code",
   "execution_count": 3,
   "metadata": {
    "colab": {
     "base_uri": "https://localhost:8080/"
    },
    "executionInfo": {
     "elapsed": 22,
     "status": "ok",
     "timestamp": 1649841300066,
     "user": {
      "displayName": "Zohar Gilad",
      "userId": "00340934557496237852"
     },
     "user_tz": -180
    },
    "id": "4_Xz3vgyCoC5",
    "outputId": "455af85b-d46b-46aa-98be-d07a5f18b29e",
    "slideshow": {
     "slide_type": "fragment"
    }
   },
   "outputs": [
    {
     "name": "stdout",
     "output_type": "stream",
     "text": [
      "<class 'dict'>\n",
      "<class 'list'>\n"
     ]
    },
    {
     "data": {
      "text/plain": [
       "{'Day': ['1/1/2017',\n",
       "  '2/1/2017',\n",
       "  '3/1/2017',\n",
       "  '4/1/2017',\n",
       "  '5/1/2017',\n",
       "  '6/1/2017'],\n",
       " 'Temperature': [12, 16, -2, -3, 8, 14],\n",
       " 'Windspeed': [60, 70, 25, 75, 45, 20],\n",
       " 'Event': ['Rain', 'Sunny', 'Snow', 'Snow', 'Rain', 'Sunny']}"
      ]
     },
     "execution_count": 3,
     "metadata": {},
     "output_type": "execute_result"
    }
   ],
   "source": [
    "print(type(weather_data))\n",
    "print(type(weather_data['Day']))\n",
    "weather_data"
   ]
  },
  {
   "cell_type": "markdown",
   "metadata": {
    "id": "vfBw3lFhCoC8",
    "slideshow": {
     "slide_type": "subslide"
    }
   },
   "source": [
    "Now we can use the `pd.Dataframe()` method to initiate a dataframe from the dictionary:"
   ]
  },
  {
   "cell_type": "code",
   "execution_count": 4,
   "metadata": {
    "colab": {
     "base_uri": "https://localhost:8080/",
     "height": 376
    },
    "executionInfo": {
     "elapsed": 20,
     "status": "ok",
     "timestamp": 1649841300066,
     "user": {
      "displayName": "Zohar Gilad",
      "userId": "00340934557496237852"
     },
     "user_tz": -180
    },
    "id": "QGAn4j5uCoC8",
    "outputId": "163933ef-a858-49ab-95ab-19ba00a3162d",
    "slideshow": {
     "slide_type": "fragment"
    }
   },
   "outputs": [
    {
     "name": "stdout",
     "output_type": "stream",
     "text": [
      "<class 'pandas.core.frame.DataFrame'>\n",
      "        Day  Temperature  Windspeed  Event\n",
      "0  1/1/2017           12         60   Rain\n",
      "1  2/1/2017           16         70  Sunny\n",
      "2  3/1/2017           -2         25   Snow\n",
      "3  4/1/2017           -3         75   Snow\n",
      "4  5/1/2017            8         45   Rain\n",
      "5  6/1/2017           14         20  Sunny\n"
     ]
    },
    {
     "data": {
      "text/html": [
       "<div>\n",
       "<style scoped>\n",
       "    .dataframe tbody tr th:only-of-type {\n",
       "        vertical-align: middle;\n",
       "    }\n",
       "\n",
       "    .dataframe tbody tr th {\n",
       "        vertical-align: top;\n",
       "    }\n",
       "\n",
       "    .dataframe thead th {\n",
       "        text-align: right;\n",
       "    }\n",
       "</style>\n",
       "<table border=\"1\" class=\"dataframe\">\n",
       "  <thead>\n",
       "    <tr style=\"text-align: right;\">\n",
       "      <th></th>\n",
       "      <th>Day</th>\n",
       "      <th>Temperature</th>\n",
       "      <th>Windspeed</th>\n",
       "      <th>Event</th>\n",
       "    </tr>\n",
       "  </thead>\n",
       "  <tbody>\n",
       "    <tr>\n",
       "      <th>0</th>\n",
       "      <td>1/1/2017</td>\n",
       "      <td>12</td>\n",
       "      <td>60</td>\n",
       "      <td>Rain</td>\n",
       "    </tr>\n",
       "    <tr>\n",
       "      <th>1</th>\n",
       "      <td>2/1/2017</td>\n",
       "      <td>16</td>\n",
       "      <td>70</td>\n",
       "      <td>Sunny</td>\n",
       "    </tr>\n",
       "    <tr>\n",
       "      <th>2</th>\n",
       "      <td>3/1/2017</td>\n",
       "      <td>-2</td>\n",
       "      <td>25</td>\n",
       "      <td>Snow</td>\n",
       "    </tr>\n",
       "    <tr>\n",
       "      <th>3</th>\n",
       "      <td>4/1/2017</td>\n",
       "      <td>-3</td>\n",
       "      <td>75</td>\n",
       "      <td>Snow</td>\n",
       "    </tr>\n",
       "    <tr>\n",
       "      <th>4</th>\n",
       "      <td>5/1/2017</td>\n",
       "      <td>8</td>\n",
       "      <td>45</td>\n",
       "      <td>Rain</td>\n",
       "    </tr>\n",
       "    <tr>\n",
       "      <th>5</th>\n",
       "      <td>6/1/2017</td>\n",
       "      <td>14</td>\n",
       "      <td>20</td>\n",
       "      <td>Sunny</td>\n",
       "    </tr>\n",
       "  </tbody>\n",
       "</table>\n",
       "</div>"
      ],
      "text/plain": [
       "        Day  Temperature  Windspeed  Event\n",
       "0  1/1/2017           12         60   Rain\n",
       "1  2/1/2017           16         70  Sunny\n",
       "2  3/1/2017           -2         25   Snow\n",
       "3  4/1/2017           -3         75   Snow\n",
       "4  5/1/2017            8         45   Rain\n",
       "5  6/1/2017           14         20  Sunny"
      ]
     },
     "execution_count": 4,
     "metadata": {},
     "output_type": "execute_result"
    }
   ],
   "source": [
    "df = pd.DataFrame(weather_data)\n",
    "print(type(df))\n",
    "print(df)\n",
    "df"
   ]
  },
  {
   "cell_type": "markdown",
   "metadata": {
    "id": "SkYbdKc5uBcS",
    "slideshow": {
     "slide_type": "slide"
    }
   },
   "source": [
    "## Dataframe Series Object"
   ]
  },
  {
   "cell_type": "markdown",
   "metadata": {
    "slideshow": {
     "slide_type": "subslide"
    }
   },
   "source": [
    "Each column in a dataframe is actually a pandas Series object:"
   ]
  },
  {
   "cell_type": "code",
   "execution_count": 5,
   "metadata": {
    "colab": {
     "base_uri": "https://localhost:8080/"
    },
    "executionInfo": {
     "elapsed": 17,
     "status": "ok",
     "timestamp": 1649841300066,
     "user": {
      "displayName": "Zohar Gilad",
      "userId": "00340934557496237852"
     },
     "user_tz": -180
    },
    "id": "x1y7lh8xCoDS",
    "outputId": "0865b378-96a0-4bf7-a66a-d67a110e124c",
    "slideshow": {
     "slide_type": "fragment"
    }
   },
   "outputs": [
    {
     "data": {
      "text/plain": [
       "pandas.core.series.Series"
      ]
     },
     "execution_count": 5,
     "metadata": {},
     "output_type": "execute_result"
    }
   ],
   "source": [
    "type(df['Temperature'])"
   ]
  },
  {
   "cell_type": "code",
   "execution_count": 6,
   "metadata": {
    "colab": {
     "base_uri": "https://localhost:8080/"
    },
    "executionInfo": {
     "elapsed": 17,
     "status": "ok",
     "timestamp": 1649841300067,
     "user": {
      "displayName": "Zohar Gilad",
      "userId": "00340934557496237852"
     },
     "user_tz": -180
    },
    "id": "Y9NJ2_UOuBcT",
    "outputId": "7fb84261-c3d7-4605-cd5d-711ec826df0f",
    "slideshow": {
     "slide_type": "fragment"
    }
   },
   "outputs": [
    {
     "data": {
      "text/plain": [
       "0    12\n",
       "1    16\n",
       "2    -2\n",
       "3    -3\n",
       "4     8\n",
       "5    14\n",
       "Name: Temperature, dtype: int64"
      ]
     },
     "execution_count": 6,
     "metadata": {},
     "output_type": "execute_result"
    }
   ],
   "source": [
    "df['Temperature']"
   ]
  },
  {
   "cell_type": "markdown",
   "metadata": {
    "id": "lZoz0ideuBcT",
    "slideshow": {
     "slide_type": "subslide"
    }
   },
   "source": [
    "Series object contains an index and a set of values, to access the values we can use the `values` attribute"
   ]
  },
  {
   "cell_type": "code",
   "execution_count": 7,
   "metadata": {
    "colab": {
     "base_uri": "https://localhost:8080/"
    },
    "executionInfo": {
     "elapsed": 16,
     "status": "ok",
     "timestamp": 1649841300067,
     "user": {
      "displayName": "Zohar Gilad",
      "userId": "00340934557496237852"
     },
     "user_tz": -180
    },
    "id": "hE-ykxDRuBcU",
    "outputId": "190364a9-9a2b-4371-9724-3c8b458febed",
    "slideshow": {
     "slide_type": "fragment"
    }
   },
   "outputs": [
    {
     "data": {
      "text/plain": [
       "RangeIndex(start=0, stop=6, step=1)"
      ]
     },
     "execution_count": 7,
     "metadata": {},
     "output_type": "execute_result"
    }
   ],
   "source": [
    "df['Temperature'].index"
   ]
  },
  {
   "cell_type": "markdown",
   "metadata": {
    "id": "u1uSxieHuBcU",
    "slideshow": {
     "slide_type": "subslide"
    }
   },
   "source": [
    "Notice that this is a Numpy array"
   ]
  },
  {
   "cell_type": "code",
   "execution_count": 8,
   "metadata": {
    "colab": {
     "base_uri": "https://localhost:8080/"
    },
    "executionInfo": {
     "elapsed": 12,
     "status": "ok",
     "timestamp": 1649841300068,
     "user": {
      "displayName": "Zohar Gilad",
      "userId": "00340934557496237852"
     },
     "user_tz": -180
    },
    "id": "OneJg0QyuBcU",
    "outputId": "87818ea4-e20f-40f8-d8a5-4a98055ecd06",
    "slideshow": {
     "slide_type": "fragment"
    }
   },
   "outputs": [
    {
     "data": {
      "text/plain": [
       "numpy.ndarray"
      ]
     },
     "execution_count": 8,
     "metadata": {},
     "output_type": "execute_result"
    }
   ],
   "source": [
    "type(df['Temperature'].values)"
   ]
  },
  {
   "cell_type": "markdown",
   "metadata": {
    "id": "s7ashUIoCoDT",
    "slideshow": {
     "slide_type": "subslide"
    }
   },
   "source": [
    "Similar to a Numpy array, we have built-in functions to run on a Series object such as max, min, mean, std, etc..."
   ]
  },
  {
   "cell_type": "code",
   "execution_count": 9,
   "metadata": {
    "colab": {
     "base_uri": "https://localhost:8080/"
    },
    "executionInfo": {
     "elapsed": 11,
     "status": "ok",
     "timestamp": 1649841300068,
     "user": {
      "displayName": "Zohar Gilad",
      "userId": "00340934557496237852"
     },
     "user_tz": -180
    },
    "id": "Yztm5sEICoDU",
    "outputId": "8b3f21ab-20e9-4730-9eac-abbf35027e0b",
    "slideshow": {
     "slide_type": "fragment"
    }
   },
   "outputs": [
    {
     "data": {
      "text/plain": [
       "16"
      ]
     },
     "execution_count": 9,
     "metadata": {},
     "output_type": "execute_result"
    }
   ],
   "source": [
    "df['Temperature'].max()"
   ]
  },
  {
   "cell_type": "code",
   "execution_count": 10,
   "metadata": {
    "colab": {
     "base_uri": "https://localhost:8080/"
    },
    "executionInfo": {
     "elapsed": 10,
     "status": "ok",
     "timestamp": 1649841300068,
     "user": {
      "displayName": "Zohar Gilad",
      "userId": "00340934557496237852"
     },
     "user_tz": -180
    },
    "id": "5mKMkg_NCoDV",
    "outputId": "1bab8976-e320-4890-c18f-e322579c86fa",
    "slideshow": {
     "slide_type": "fragment"
    }
   },
   "outputs": [
    {
     "data": {
      "text/plain": [
       "7.5"
      ]
     },
     "execution_count": 10,
     "metadata": {},
     "output_type": "execute_result"
    }
   ],
   "source": [
    "df['Temperature'].mean()"
   ]
  },
  {
   "cell_type": "code",
   "execution_count": 11,
   "metadata": {
    "colab": {
     "base_uri": "https://localhost:8080/"
    },
    "executionInfo": {
     "elapsed": 396,
     "status": "ok",
     "timestamp": 1649841300455,
     "user": {
      "displayName": "Zohar Gilad",
      "userId": "00340934557496237852"
     },
     "user_tz": -180
    },
    "id": "EF6IgOrdCoDX",
    "outputId": "f89dc2e4-b20f-4622-8f1b-1411b6d4360c",
    "slideshow": {
     "slide_type": "fragment"
    }
   },
   "outputs": [
    {
     "data": {
      "text/plain": [
       "8.191458966508957"
      ]
     },
     "execution_count": 11,
     "metadata": {},
     "output_type": "execute_result"
    }
   ],
   "source": [
    "df['Temperature'].std()"
   ]
  },
  {
   "cell_type": "markdown",
   "metadata": {
    "id": "u76ACZxVCoC-",
    "slideshow": {
     "slide_type": "slide"
    }
   },
   "source": [
    "## Dataframes Basics"
   ]
  },
  {
   "cell_type": "markdown",
   "metadata": {
    "id": "xpNj6qqDCoDC",
    "slideshow": {
     "slide_type": "subslide"
    }
   },
   "source": [
    "We can use the `head()` method to get the first n rows of the dataframe - the default is n=5:"
   ]
  },
  {
   "cell_type": "code",
   "execution_count": 12,
   "metadata": {
    "colab": {
     "base_uri": "https://localhost:8080/",
     "height": 206
    },
    "executionInfo": {
     "elapsed": 41,
     "status": "ok",
     "timestamp": 1649841300455,
     "user": {
      "displayName": "Zohar Gilad",
      "userId": "00340934557496237852"
     },
     "user_tz": -180
    },
    "id": "XnSe_xSaCoDD",
    "outputId": "b584badb-0ef5-4be6-a15c-2b6d9005fdf3",
    "slideshow": {
     "slide_type": "fragment"
    }
   },
   "outputs": [
    {
     "data": {
      "text/html": [
       "<div>\n",
       "<style scoped>\n",
       "    .dataframe tbody tr th:only-of-type {\n",
       "        vertical-align: middle;\n",
       "    }\n",
       "\n",
       "    .dataframe tbody tr th {\n",
       "        vertical-align: top;\n",
       "    }\n",
       "\n",
       "    .dataframe thead th {\n",
       "        text-align: right;\n",
       "    }\n",
       "</style>\n",
       "<table border=\"1\" class=\"dataframe\">\n",
       "  <thead>\n",
       "    <tr style=\"text-align: right;\">\n",
       "      <th></th>\n",
       "      <th>Day</th>\n",
       "      <th>Temperature</th>\n",
       "      <th>Windspeed</th>\n",
       "      <th>Event</th>\n",
       "    </tr>\n",
       "  </thead>\n",
       "  <tbody>\n",
       "    <tr>\n",
       "      <th>0</th>\n",
       "      <td>1/1/2017</td>\n",
       "      <td>12</td>\n",
       "      <td>60</td>\n",
       "      <td>Rain</td>\n",
       "    </tr>\n",
       "    <tr>\n",
       "      <th>1</th>\n",
       "      <td>2/1/2017</td>\n",
       "      <td>16</td>\n",
       "      <td>70</td>\n",
       "      <td>Sunny</td>\n",
       "    </tr>\n",
       "    <tr>\n",
       "      <th>2</th>\n",
       "      <td>3/1/2017</td>\n",
       "      <td>-2</td>\n",
       "      <td>25</td>\n",
       "      <td>Snow</td>\n",
       "    </tr>\n",
       "    <tr>\n",
       "      <th>3</th>\n",
       "      <td>4/1/2017</td>\n",
       "      <td>-3</td>\n",
       "      <td>75</td>\n",
       "      <td>Snow</td>\n",
       "    </tr>\n",
       "    <tr>\n",
       "      <th>4</th>\n",
       "      <td>5/1/2017</td>\n",
       "      <td>8</td>\n",
       "      <td>45</td>\n",
       "      <td>Rain</td>\n",
       "    </tr>\n",
       "  </tbody>\n",
       "</table>\n",
       "</div>"
      ],
      "text/plain": [
       "        Day  Temperature  Windspeed  Event\n",
       "0  1/1/2017           12         60   Rain\n",
       "1  2/1/2017           16         70  Sunny\n",
       "2  3/1/2017           -2         25   Snow\n",
       "3  4/1/2017           -3         75   Snow\n",
       "4  5/1/2017            8         45   Rain"
      ]
     },
     "execution_count": 12,
     "metadata": {},
     "output_type": "execute_result"
    }
   ],
   "source": [
    "df.head()"
   ]
  },
  {
   "cell_type": "code",
   "execution_count": 13,
   "metadata": {
    "colab": {
     "base_uri": "https://localhost:8080/",
     "height": 143
    },
    "executionInfo": {
     "elapsed": 40,
     "status": "ok",
     "timestamp": 1649841300455,
     "user": {
      "displayName": "Zohar Gilad",
      "userId": "00340934557496237852"
     },
     "user_tz": -180
    },
    "id": "YAsFbZGkCoDE",
    "outputId": "6b345ecd-1897-46a5-d61e-51cf8e1746c2",
    "slideshow": {
     "slide_type": "fragment"
    }
   },
   "outputs": [
    {
     "data": {
      "text/html": [
       "<div>\n",
       "<style scoped>\n",
       "    .dataframe tbody tr th:only-of-type {\n",
       "        vertical-align: middle;\n",
       "    }\n",
       "\n",
       "    .dataframe tbody tr th {\n",
       "        vertical-align: top;\n",
       "    }\n",
       "\n",
       "    .dataframe thead th {\n",
       "        text-align: right;\n",
       "    }\n",
       "</style>\n",
       "<table border=\"1\" class=\"dataframe\">\n",
       "  <thead>\n",
       "    <tr style=\"text-align: right;\">\n",
       "      <th></th>\n",
       "      <th>Day</th>\n",
       "      <th>Temperature</th>\n",
       "      <th>Windspeed</th>\n",
       "      <th>Event</th>\n",
       "    </tr>\n",
       "  </thead>\n",
       "  <tbody>\n",
       "    <tr>\n",
       "      <th>0</th>\n",
       "      <td>1/1/2017</td>\n",
       "      <td>12</td>\n",
       "      <td>60</td>\n",
       "      <td>Rain</td>\n",
       "    </tr>\n",
       "    <tr>\n",
       "      <th>1</th>\n",
       "      <td>2/1/2017</td>\n",
       "      <td>16</td>\n",
       "      <td>70</td>\n",
       "      <td>Sunny</td>\n",
       "    </tr>\n",
       "    <tr>\n",
       "      <th>2</th>\n",
       "      <td>3/1/2017</td>\n",
       "      <td>-2</td>\n",
       "      <td>25</td>\n",
       "      <td>Snow</td>\n",
       "    </tr>\n",
       "  </tbody>\n",
       "</table>\n",
       "</div>"
      ],
      "text/plain": [
       "        Day  Temperature  Windspeed  Event\n",
       "0  1/1/2017           12         60   Rain\n",
       "1  2/1/2017           16         70  Sunny\n",
       "2  3/1/2017           -2         25   Snow"
      ]
     },
     "execution_count": 13,
     "metadata": {},
     "output_type": "execute_result"
    }
   ],
   "source": [
    "df.head(3)"
   ]
  },
  {
   "cell_type": "markdown",
   "metadata": {
    "id": "Y1CfAKtRuBcW",
    "slideshow": {
     "slide_type": "subslide"
    }
   },
   "source": [
    "Similarly, we can use the `tail()` method to get the last n rows of the dataframe - the default is n=5: "
   ]
  },
  {
   "cell_type": "code",
   "execution_count": 14,
   "metadata": {
    "colab": {
     "base_uri": "https://localhost:8080/",
     "height": 206
    },
    "executionInfo": {
     "elapsed": 40,
     "status": "ok",
     "timestamp": 1649841300456,
     "user": {
      "displayName": "Zohar Gilad",
      "userId": "00340934557496237852"
     },
     "user_tz": -180
    },
    "id": "rXLXxDQBCoDG",
    "outputId": "1b8fc343-9ed0-4dce-fe14-774bf6af7141",
    "slideshow": {
     "slide_type": "fragment"
    }
   },
   "outputs": [
    {
     "data": {
      "text/html": [
       "<div>\n",
       "<style scoped>\n",
       "    .dataframe tbody tr th:only-of-type {\n",
       "        vertical-align: middle;\n",
       "    }\n",
       "\n",
       "    .dataframe tbody tr th {\n",
       "        vertical-align: top;\n",
       "    }\n",
       "\n",
       "    .dataframe thead th {\n",
       "        text-align: right;\n",
       "    }\n",
       "</style>\n",
       "<table border=\"1\" class=\"dataframe\">\n",
       "  <thead>\n",
       "    <tr style=\"text-align: right;\">\n",
       "      <th></th>\n",
       "      <th>Day</th>\n",
       "      <th>Temperature</th>\n",
       "      <th>Windspeed</th>\n",
       "      <th>Event</th>\n",
       "    </tr>\n",
       "  </thead>\n",
       "  <tbody>\n",
       "    <tr>\n",
       "      <th>1</th>\n",
       "      <td>2/1/2017</td>\n",
       "      <td>16</td>\n",
       "      <td>70</td>\n",
       "      <td>Sunny</td>\n",
       "    </tr>\n",
       "    <tr>\n",
       "      <th>2</th>\n",
       "      <td>3/1/2017</td>\n",
       "      <td>-2</td>\n",
       "      <td>25</td>\n",
       "      <td>Snow</td>\n",
       "    </tr>\n",
       "    <tr>\n",
       "      <th>3</th>\n",
       "      <td>4/1/2017</td>\n",
       "      <td>-3</td>\n",
       "      <td>75</td>\n",
       "      <td>Snow</td>\n",
       "    </tr>\n",
       "    <tr>\n",
       "      <th>4</th>\n",
       "      <td>5/1/2017</td>\n",
       "      <td>8</td>\n",
       "      <td>45</td>\n",
       "      <td>Rain</td>\n",
       "    </tr>\n",
       "    <tr>\n",
       "      <th>5</th>\n",
       "      <td>6/1/2017</td>\n",
       "      <td>14</td>\n",
       "      <td>20</td>\n",
       "      <td>Sunny</td>\n",
       "    </tr>\n",
       "  </tbody>\n",
       "</table>\n",
       "</div>"
      ],
      "text/plain": [
       "        Day  Temperature  Windspeed  Event\n",
       "1  2/1/2017           16         70  Sunny\n",
       "2  3/1/2017           -2         25   Snow\n",
       "3  4/1/2017           -3         75   Snow\n",
       "4  5/1/2017            8         45   Rain\n",
       "5  6/1/2017           14         20  Sunny"
      ]
     },
     "execution_count": 14,
     "metadata": {},
     "output_type": "execute_result"
    }
   ],
   "source": [
    "df.tail()"
   ]
  },
  {
   "cell_type": "code",
   "execution_count": 15,
   "metadata": {
    "colab": {
     "base_uri": "https://localhost:8080/"
    },
    "executionInfo": {
     "elapsed": 39,
     "status": "ok",
     "timestamp": 1649841300456,
     "user": {
      "displayName": "Zohar Gilad",
      "userId": "00340934557496237852"
     },
     "user_tz": -180
    },
    "id": "FFThFDRsCoDI",
    "outputId": "5ef00468-0180-4bb2-e540-d719defcafc5",
    "slideshow": {
     "slide_type": "fragment"
    }
   },
   "outputs": [
    {
     "data": {
      "text/html": [
       "<div>\n",
       "<style scoped>\n",
       "    .dataframe tbody tr th:only-of-type {\n",
       "        vertical-align: middle;\n",
       "    }\n",
       "\n",
       "    .dataframe tbody tr th {\n",
       "        vertical-align: top;\n",
       "    }\n",
       "\n",
       "    .dataframe thead th {\n",
       "        text-align: right;\n",
       "    }\n",
       "</style>\n",
       "<table border=\"1\" class=\"dataframe\">\n",
       "  <thead>\n",
       "    <tr style=\"text-align: right;\">\n",
       "      <th></th>\n",
       "      <th>Day</th>\n",
       "      <th>Temperature</th>\n",
       "      <th>Windspeed</th>\n",
       "      <th>Event</th>\n",
       "    </tr>\n",
       "  </thead>\n",
       "  <tbody>\n",
       "    <tr>\n",
       "      <th>3</th>\n",
       "      <td>4/1/2017</td>\n",
       "      <td>-3</td>\n",
       "      <td>75</td>\n",
       "      <td>Snow</td>\n",
       "    </tr>\n",
       "    <tr>\n",
       "      <th>4</th>\n",
       "      <td>5/1/2017</td>\n",
       "      <td>8</td>\n",
       "      <td>45</td>\n",
       "      <td>Rain</td>\n",
       "    </tr>\n",
       "    <tr>\n",
       "      <th>5</th>\n",
       "      <td>6/1/2017</td>\n",
       "      <td>14</td>\n",
       "      <td>20</td>\n",
       "      <td>Sunny</td>\n",
       "    </tr>\n",
       "  </tbody>\n",
       "</table>\n",
       "</div>"
      ],
      "text/plain": [
       "        Day  Temperature  Windspeed  Event\n",
       "3  4/1/2017           -3         75   Snow\n",
       "4  5/1/2017            8         45   Rain\n",
       "5  6/1/2017           14         20  Sunny"
      ]
     },
     "execution_count": 15,
     "metadata": {},
     "output_type": "execute_result"
    }
   ],
   "source": [
    "df.tail(3)"
   ]
  },
  {
   "cell_type": "markdown",
   "metadata": {
    "id": "43X3XA7gCoC_",
    "slideshow": {
     "slide_type": "subslide"
    }
   },
   "source": [
    "We can use the `shape` attribute to get the dimensionality of the dataframe:"
   ]
  },
  {
   "cell_type": "code",
   "execution_count": 16,
   "metadata": {
    "colab": {
     "base_uri": "https://localhost:8080/"
    },
    "executionInfo": {
     "elapsed": 38,
     "status": "ok",
     "timestamp": 1649841300456,
     "user": {
      "displayName": "Zohar Gilad",
      "userId": "00340934557496237852"
     },
     "user_tz": -180
    },
    "id": "3qevLKu-CoC_",
    "outputId": "aff3dd31-8fdf-4b25-9451-accc271683b7",
    "slideshow": {
     "slide_type": "fragment"
    }
   },
   "outputs": [
    {
     "data": {
      "text/plain": [
       "(6, 4)"
      ]
     },
     "execution_count": 16,
     "metadata": {},
     "output_type": "execute_result"
    }
   ],
   "source": [
    "df.shape"
   ]
  },
  {
   "cell_type": "markdown",
   "metadata": {
    "id": "YJYOvn28CoDL",
    "slideshow": {
     "slide_type": "subslide"
    }
   },
   "source": [
    "We can view all the Dataframe columns by using the `columns` attribute:"
   ]
  },
  {
   "cell_type": "code",
   "execution_count": 17,
   "metadata": {
    "colab": {
     "base_uri": "https://localhost:8080/"
    },
    "executionInfo": {
     "elapsed": 35,
     "status": "ok",
     "timestamp": 1649841300457,
     "user": {
      "displayName": "Zohar Gilad",
      "userId": "00340934557496237852"
     },
     "user_tz": -180
    },
    "id": "02rnIbttCoDM",
    "outputId": "398087c1-05c7-4ed9-8583-f0a053d2f080",
    "slideshow": {
     "slide_type": "fragment"
    }
   },
   "outputs": [
    {
     "data": {
      "text/plain": [
       "Index(['Day', 'Temperature', 'Windspeed', 'Event'], dtype='object')"
      ]
     },
     "execution_count": 17,
     "metadata": {},
     "output_type": "execute_result"
    }
   ],
   "source": [
    "df.columns"
   ]
  },
  {
   "cell_type": "markdown",
   "metadata": {
    "id": "jVUk1rC_uBcX",
    "slideshow": {
     "slide_type": "subslide"
    }
   },
   "source": [
    "And the types of these columns by using the `dtypes` attribute:"
   ]
  },
  {
   "cell_type": "code",
   "execution_count": 18,
   "metadata": {
    "colab": {
     "base_uri": "https://localhost:8080/"
    },
    "executionInfo": {
     "elapsed": 33,
     "status": "ok",
     "timestamp": 1649841300457,
     "user": {
      "displayName": "Zohar Gilad",
      "userId": "00340934557496237852"
     },
     "user_tz": -180
    },
    "id": "WROpi4twuBcX",
    "outputId": "ce701dda-704b-4ade-e18d-dd3538125d88",
    "slideshow": {
     "slide_type": "fragment"
    }
   },
   "outputs": [
    {
     "data": {
      "text/plain": [
       "Day            object\n",
       "Temperature     int64\n",
       "Windspeed       int64\n",
       "Event          object\n",
       "dtype: object"
      ]
     },
     "execution_count": 18,
     "metadata": {},
     "output_type": "execute_result"
    }
   ],
   "source": [
    "df.dtypes"
   ]
  },
  {
   "cell_type": "markdown",
   "metadata": {
    "id": "1mDfiYnuuBcX",
    "slideshow": {
     "slide_type": "subslide"
    }
   },
   "source": [
    "We can get more information of 'object' types by using the `unique()` method. It returns a NumPy array holding the distinct values of the column:"
   ]
  },
  {
   "cell_type": "code",
   "execution_count": 19,
   "metadata": {
    "colab": {
     "base_uri": "https://localhost:8080/"
    },
    "executionInfo": {
     "elapsed": 31,
     "status": "ok",
     "timestamp": 1649841300457,
     "user": {
      "displayName": "Zohar Gilad",
      "userId": "00340934557496237852"
     },
     "user_tz": -180
    },
    "id": "3ZK2YITtuBcX",
    "outputId": "a4aad6a1-d80f-41ed-e5b0-3e07d32853ad",
    "slideshow": {
     "slide_type": "fragment"
    }
   },
   "outputs": [
    {
     "data": {
      "text/plain": [
       "array(['Rain', 'Sunny', 'Snow'], dtype=object)"
      ]
     },
     "execution_count": 19,
     "metadata": {},
     "output_type": "execute_result"
    }
   ],
   "source": [
    "df['Event'].unique()"
   ]
  },
  {
   "cell_type": "markdown",
   "metadata": {
    "id": "2QvDsWokuBcY",
    "slideshow": {
     "slide_type": "subslide"
    }
   },
   "source": [
    "The `value_counts()` method returns a Series object containing the counts of each value of an object type: "
   ]
  },
  {
   "cell_type": "code",
   "execution_count": 20,
   "metadata": {
    "colab": {
     "base_uri": "https://localhost:8080/"
    },
    "executionInfo": {
     "elapsed": 29,
     "status": "ok",
     "timestamp": 1649841300457,
     "user": {
      "displayName": "Zohar Gilad",
      "userId": "00340934557496237852"
     },
     "user_tz": -180
    },
    "id": "kcCRd2HauBcY",
    "outputId": "0343927c-8dae-4387-e2a0-1d02b8750aef",
    "slideshow": {
     "slide_type": "fragment"
    }
   },
   "outputs": [
    {
     "data": {
      "text/plain": [
       "Rain     2\n",
       "Sunny    2\n",
       "Snow     2\n",
       "Name: Event, dtype: int64"
      ]
     },
     "execution_count": 20,
     "metadata": {},
     "output_type": "execute_result"
    }
   ],
   "source": [
    "df['Event'].value_counts()"
   ]
  },
  {
   "cell_type": "markdown",
   "metadata": {
    "id": "QlajGzSPuBcY",
    "slideshow": {
     "slide_type": "slide"
    }
   },
   "source": [
    "## Accessing Columns"
   ]
  },
  {
   "cell_type": "markdown",
   "metadata": {
    "id": "0ylaBrblCoDN",
    "slideshow": {
     "slide_type": "subslide"
    }
   },
   "source": [
    "We can access a specific column by either using `df.column_name` or `df['column_name']`."
   ]
  },
  {
   "cell_type": "code",
   "execution_count": 21,
   "metadata": {
    "colab": {
     "base_uri": "https://localhost:8080/"
    },
    "executionInfo": {
     "elapsed": 29,
     "status": "ok",
     "timestamp": 1649841300458,
     "user": {
      "displayName": "Zohar Gilad",
      "userId": "00340934557496237852"
     },
     "user_tz": -180
    },
    "id": "iY71a8zFCoDO",
    "outputId": "add8ecae-f8ce-4dc0-8450-85a5656386e0",
    "slideshow": {
     "slide_type": "fragment"
    }
   },
   "outputs": [
    {
     "data": {
      "text/plain": [
       "0    1/1/2017\n",
       "1    2/1/2017\n",
       "2    3/1/2017\n",
       "3    4/1/2017\n",
       "4    5/1/2017\n",
       "5    6/1/2017\n",
       "Name: Day, dtype: object"
      ]
     },
     "execution_count": 21,
     "metadata": {},
     "output_type": "execute_result"
    }
   ],
   "source": [
    "df.Day"
   ]
  },
  {
   "cell_type": "code",
   "execution_count": 22,
   "metadata": {
    "colab": {
     "base_uri": "https://localhost:8080/"
    },
    "executionInfo": {
     "elapsed": 27,
     "status": "ok",
     "timestamp": 1649841300458,
     "user": {
      "displayName": "Zohar Gilad",
      "userId": "00340934557496237852"
     },
     "user_tz": -180
    },
    "id": "EoC1lAJPCoDP",
    "outputId": "8519ec50-bd6a-4853-96e3-7e163c3664fa",
    "slideshow": {
     "slide_type": "fragment"
    }
   },
   "outputs": [
    {
     "data": {
      "text/plain": [
       "0    1/1/2017\n",
       "1    2/1/2017\n",
       "2    3/1/2017\n",
       "3    4/1/2017\n",
       "4    5/1/2017\n",
       "5    6/1/2017\n",
       "Name: Day, dtype: object"
      ]
     },
     "execution_count": 22,
     "metadata": {},
     "output_type": "execute_result"
    }
   ],
   "source": [
    "df['Day']"
   ]
  },
  {
   "cell_type": "code",
   "execution_count": 23,
   "metadata": {
    "colab": {
     "base_uri": "https://localhost:8080/"
    },
    "executionInfo": {
     "elapsed": 26,
     "status": "ok",
     "timestamp": 1649841300458,
     "user": {
      "displayName": "Zohar Gilad",
      "userId": "00340934557496237852"
     },
     "user_tz": -180
    },
    "id": "JCrba3q1uBcY",
    "outputId": "4f19e2ac-c103-48af-bb9f-4eaa44523483",
    "slideshow": {
     "slide_type": "fragment"
    }
   },
   "outputs": [
    {
     "data": {
      "text/plain": [
       "pandas.core.series.Series"
      ]
     },
     "execution_count": 23,
     "metadata": {},
     "output_type": "execute_result"
    }
   ],
   "source": [
    "type(df['Day'])"
   ]
  },
  {
   "cell_type": "code",
   "execution_count": 24,
   "metadata": {
    "colab": {
     "base_uri": "https://localhost:8080/"
    },
    "executionInfo": {
     "elapsed": 27,
     "status": "ok",
     "timestamp": 1649841300459,
     "user": {
      "displayName": "Zohar Gilad",
      "userId": "00340934557496237852"
     },
     "user_tz": -180
    },
    "id": "tnkQBtRguBcZ",
    "outputId": "fe08199b-4950-439c-e806-b8779f82c9eb",
    "slideshow": {
     "slide_type": "fragment"
    }
   },
   "outputs": [
    {
     "data": {
      "text/plain": [
       "'2/1/2017'"
      ]
     },
     "execution_count": 24,
     "metadata": {},
     "output_type": "execute_result"
    }
   ],
   "source": [
    "df['Day'][1]"
   ]
  },
  {
   "cell_type": "markdown",
   "metadata": {
    "id": "AU57WCktuBcZ",
    "slideshow": {
     "slide_type": "subslide"
    }
   },
   "source": [
    "We can access multiple column by passing a list of columns, in this case a new Dataframe is returned: "
   ]
  },
  {
   "cell_type": "code",
   "execution_count": 25,
   "metadata": {
    "colab": {
     "base_uri": "https://localhost:8080/"
    },
    "executionInfo": {
     "elapsed": 26,
     "status": "ok",
     "timestamp": 1649841300459,
     "user": {
      "displayName": "Zohar Gilad",
      "userId": "00340934557496237852"
     },
     "user_tz": -180
    },
    "id": "XQasb7BnuBcZ",
    "outputId": "f6a0f13b-4ac4-4f44-e9a5-b7067504cbfc",
    "slideshow": {
     "slide_type": "fragment"
    }
   },
   "outputs": [
    {
     "data": {
      "text/html": [
       "<div>\n",
       "<style scoped>\n",
       "    .dataframe tbody tr th:only-of-type {\n",
       "        vertical-align: middle;\n",
       "    }\n",
       "\n",
       "    .dataframe tbody tr th {\n",
       "        vertical-align: top;\n",
       "    }\n",
       "\n",
       "    .dataframe thead th {\n",
       "        text-align: right;\n",
       "    }\n",
       "</style>\n",
       "<table border=\"1\" class=\"dataframe\">\n",
       "  <thead>\n",
       "    <tr style=\"text-align: right;\">\n",
       "      <th></th>\n",
       "      <th>Day</th>\n",
       "      <th>Event</th>\n",
       "    </tr>\n",
       "  </thead>\n",
       "  <tbody>\n",
       "    <tr>\n",
       "      <th>0</th>\n",
       "      <td>1/1/2017</td>\n",
       "      <td>Rain</td>\n",
       "    </tr>\n",
       "    <tr>\n",
       "      <th>1</th>\n",
       "      <td>2/1/2017</td>\n",
       "      <td>Sunny</td>\n",
       "    </tr>\n",
       "    <tr>\n",
       "      <th>2</th>\n",
       "      <td>3/1/2017</td>\n",
       "      <td>Snow</td>\n",
       "    </tr>\n",
       "    <tr>\n",
       "      <th>3</th>\n",
       "      <td>4/1/2017</td>\n",
       "      <td>Snow</td>\n",
       "    </tr>\n",
       "    <tr>\n",
       "      <th>4</th>\n",
       "      <td>5/1/2017</td>\n",
       "      <td>Rain</td>\n",
       "    </tr>\n",
       "    <tr>\n",
       "      <th>5</th>\n",
       "      <td>6/1/2017</td>\n",
       "      <td>Sunny</td>\n",
       "    </tr>\n",
       "  </tbody>\n",
       "</table>\n",
       "</div>"
      ],
      "text/plain": [
       "        Day  Event\n",
       "0  1/1/2017   Rain\n",
       "1  2/1/2017  Sunny\n",
       "2  3/1/2017   Snow\n",
       "3  4/1/2017   Snow\n",
       "4  5/1/2017   Rain\n",
       "5  6/1/2017  Sunny"
      ]
     },
     "execution_count": 25,
     "metadata": {},
     "output_type": "execute_result"
    }
   ],
   "source": [
    "df[['Day','Event']]"
   ]
  },
  {
   "cell_type": "markdown",
   "metadata": {
    "id": "2NelHfkSuBcZ",
    "slideshow": {
     "slide_type": "slide"
    }
   },
   "source": [
    "## Accessing Rows"
   ]
  },
  {
   "cell_type": "markdown",
   "metadata": {
    "id": "1KQCHmc3uBcZ",
    "slideshow": {
     "slide_type": "fragment"
    }
   },
   "source": [
    "In order to access rows in a Dataframe we mainly use the loc and iloc indexers."
   ]
  },
  {
   "cell_type": "markdown",
   "metadata": {
    "id": "cfo8_IQjuBcZ",
    "slideshow": {
     "slide_type": "subslide"
    }
   },
   "source": [
    "### Integer Location (iloc) Indexer"
   ]
  },
  {
   "cell_type": "markdown",
   "metadata": {
    "id": "EjXCjqG4uBcZ",
    "slideshow": {
     "slide_type": "fragment"
    }
   },
   "source": [
    "`iloc` allows us to access rows by integer location, it returns a Series object."
   ]
  },
  {
   "cell_type": "code",
   "execution_count": 26,
   "metadata": {
    "colab": {
     "base_uri": "https://localhost:8080/"
    },
    "executionInfo": {
     "elapsed": 25,
     "status": "ok",
     "timestamp": 1649841300459,
     "user": {
      "displayName": "Zohar Gilad",
      "userId": "00340934557496237852"
     },
     "user_tz": -180
    },
    "id": "0k4DkFJRuBcZ",
    "outputId": "3cfe1325-12a4-4a9a-a2b1-b6ce1bbc09e9",
    "slideshow": {
     "slide_type": "fragment"
    }
   },
   "outputs": [
    {
     "data": {
      "text/plain": [
       "Day            1/1/2017\n",
       "Temperature          12\n",
       "Windspeed            60\n",
       "Event              Rain\n",
       "Name: 0, dtype: object"
      ]
     },
     "execution_count": 26,
     "metadata": {},
     "output_type": "execute_result"
    }
   ],
   "source": [
    "df.iloc[0]"
   ]
  },
  {
   "cell_type": "code",
   "execution_count": 27,
   "metadata": {
    "colab": {
     "base_uri": "https://localhost:8080/"
    },
    "executionInfo": {
     "elapsed": 25,
     "status": "ok",
     "timestamp": 1649841300459,
     "user": {
      "displayName": "Zohar Gilad",
      "userId": "00340934557496237852"
     },
     "user_tz": -180
    },
    "id": "Qm9jtW72uBcZ",
    "outputId": "a09fa1d1-0df6-455a-cc7b-00b1c5c152fa",
    "slideshow": {
     "slide_type": "fragment"
    }
   },
   "outputs": [
    {
     "data": {
      "text/plain": [
       "pandas.core.series.Series"
      ]
     },
     "execution_count": 27,
     "metadata": {},
     "output_type": "execute_result"
    }
   ],
   "source": [
    "type(df.iloc[0])"
   ]
  },
  {
   "cell_type": "markdown",
   "metadata": {
    "id": "82-h__5FCoDJ",
    "slideshow": {
     "slide_type": "subslide"
    }
   },
   "source": [
    "We can select multiple rows by passing a list of indexes:"
   ]
  },
  {
   "cell_type": "code",
   "execution_count": 28,
   "metadata": {
    "colab": {
     "base_uri": "https://localhost:8080/"
    },
    "executionInfo": {
     "elapsed": 25,
     "status": "ok",
     "timestamp": 1649841300460,
     "user": {
      "displayName": "Zohar Gilad",
      "userId": "00340934557496237852"
     },
     "user_tz": -180
    },
    "id": "KvPCHcXkuBca",
    "outputId": "9205b104-5fad-4ddc-b967-30002e5eaa2c",
    "slideshow": {
     "slide_type": "fragment"
    }
   },
   "outputs": [
    {
     "data": {
      "text/html": [
       "<div>\n",
       "<style scoped>\n",
       "    .dataframe tbody tr th:only-of-type {\n",
       "        vertical-align: middle;\n",
       "    }\n",
       "\n",
       "    .dataframe tbody tr th {\n",
       "        vertical-align: top;\n",
       "    }\n",
       "\n",
       "    .dataframe thead th {\n",
       "        text-align: right;\n",
       "    }\n",
       "</style>\n",
       "<table border=\"1\" class=\"dataframe\">\n",
       "  <thead>\n",
       "    <tr style=\"text-align: right;\">\n",
       "      <th></th>\n",
       "      <th>Day</th>\n",
       "      <th>Temperature</th>\n",
       "      <th>Windspeed</th>\n",
       "      <th>Event</th>\n",
       "    </tr>\n",
       "  </thead>\n",
       "  <tbody>\n",
       "    <tr>\n",
       "      <th>1</th>\n",
       "      <td>2/1/2017</td>\n",
       "      <td>16</td>\n",
       "      <td>70</td>\n",
       "      <td>Sunny</td>\n",
       "    </tr>\n",
       "    <tr>\n",
       "      <th>2</th>\n",
       "      <td>3/1/2017</td>\n",
       "      <td>-2</td>\n",
       "      <td>25</td>\n",
       "      <td>Snow</td>\n",
       "    </tr>\n",
       "    <tr>\n",
       "      <th>5</th>\n",
       "      <td>6/1/2017</td>\n",
       "      <td>14</td>\n",
       "      <td>20</td>\n",
       "      <td>Sunny</td>\n",
       "    </tr>\n",
       "  </tbody>\n",
       "</table>\n",
       "</div>"
      ],
      "text/plain": [
       "        Day  Temperature  Windspeed  Event\n",
       "1  2/1/2017           16         70  Sunny\n",
       "2  3/1/2017           -2         25   Snow\n",
       "5  6/1/2017           14         20  Sunny"
      ]
     },
     "execution_count": 28,
     "metadata": {},
     "output_type": "execute_result"
    }
   ],
   "source": [
    "df.iloc[[1, 2, 5]]"
   ]
  },
  {
   "cell_type": "markdown",
   "metadata": {
    "id": "hnQWEGuPuBca",
    "slideshow": {
     "slide_type": "subslide"
    }
   },
   "source": [
    "or by using slicing:"
   ]
  },
  {
   "cell_type": "code",
   "execution_count": 29,
   "metadata": {
    "colab": {
     "base_uri": "https://localhost:8080/"
    },
    "executionInfo": {
     "elapsed": 24,
     "status": "ok",
     "timestamp": 1649841300460,
     "user": {
      "displayName": "Zohar Gilad",
      "userId": "00340934557496237852"
     },
     "user_tz": -180
    },
    "id": "mLl5pvnHCoDK",
    "outputId": "6375d001-00c4-46c3-c59d-c6ff09becacb",
    "slideshow": {
     "slide_type": "fragment"
    }
   },
   "outputs": [
    {
     "data": {
      "text/html": [
       "<div>\n",
       "<style scoped>\n",
       "    .dataframe tbody tr th:only-of-type {\n",
       "        vertical-align: middle;\n",
       "    }\n",
       "\n",
       "    .dataframe tbody tr th {\n",
       "        vertical-align: top;\n",
       "    }\n",
       "\n",
       "    .dataframe thead th {\n",
       "        text-align: right;\n",
       "    }\n",
       "</style>\n",
       "<table border=\"1\" class=\"dataframe\">\n",
       "  <thead>\n",
       "    <tr style=\"text-align: right;\">\n",
       "      <th></th>\n",
       "      <th>Day</th>\n",
       "      <th>Temperature</th>\n",
       "      <th>Windspeed</th>\n",
       "      <th>Event</th>\n",
       "    </tr>\n",
       "  </thead>\n",
       "  <tbody>\n",
       "    <tr>\n",
       "      <th>2</th>\n",
       "      <td>3/1/2017</td>\n",
       "      <td>-2</td>\n",
       "      <td>25</td>\n",
       "      <td>Snow</td>\n",
       "    </tr>\n",
       "    <tr>\n",
       "      <th>3</th>\n",
       "      <td>4/1/2017</td>\n",
       "      <td>-3</td>\n",
       "      <td>75</td>\n",
       "      <td>Snow</td>\n",
       "    </tr>\n",
       "    <tr>\n",
       "      <th>4</th>\n",
       "      <td>5/1/2017</td>\n",
       "      <td>8</td>\n",
       "      <td>45</td>\n",
       "      <td>Rain</td>\n",
       "    </tr>\n",
       "  </tbody>\n",
       "</table>\n",
       "</div>"
      ],
      "text/plain": [
       "        Day  Temperature  Windspeed Event\n",
       "2  3/1/2017           -2         25  Snow\n",
       "3  4/1/2017           -3         75  Snow\n",
       "4  5/1/2017            8         45  Rain"
      ]
     },
     "execution_count": 29,
     "metadata": {},
     "output_type": "execute_result"
    }
   ],
   "source": [
    "df.iloc[2:5]"
   ]
  },
  {
   "cell_type": "markdown",
   "metadata": {
    "id": "jnmkUDs0uBca",
    "slideshow": {
     "slide_type": "subslide"
    }
   },
   "source": [
    "We can select columns as well by passing it as a second argument: "
   ]
  },
  {
   "cell_type": "code",
   "execution_count": 30,
   "metadata": {
    "colab": {
     "base_uri": "https://localhost:8080/"
    },
    "executionInfo": {
     "elapsed": 23,
     "status": "ok",
     "timestamp": 1649841300460,
     "user": {
      "displayName": "Zohar Gilad",
      "userId": "00340934557496237852"
     },
     "user_tz": -180
    },
    "id": "NFzbYDHFuBca",
    "outputId": "674e99d1-0360-49a4-ca15-72d1f70e40da",
    "slideshow": {
     "slide_type": "fragment"
    }
   },
   "outputs": [
    {
     "data": {
      "text/html": [
       "<div>\n",
       "<style scoped>\n",
       "    .dataframe tbody tr th:only-of-type {\n",
       "        vertical-align: middle;\n",
       "    }\n",
       "\n",
       "    .dataframe tbody tr th {\n",
       "        vertical-align: top;\n",
       "    }\n",
       "\n",
       "    .dataframe thead th {\n",
       "        text-align: right;\n",
       "    }\n",
       "</style>\n",
       "<table border=\"1\" class=\"dataframe\">\n",
       "  <thead>\n",
       "    <tr style=\"text-align: right;\">\n",
       "      <th></th>\n",
       "      <th>Day</th>\n",
       "      <th>Event</th>\n",
       "    </tr>\n",
       "  </thead>\n",
       "  <tbody>\n",
       "    <tr>\n",
       "      <th>1</th>\n",
       "      <td>2/1/2017</td>\n",
       "      <td>Sunny</td>\n",
       "    </tr>\n",
       "    <tr>\n",
       "      <th>2</th>\n",
       "      <td>3/1/2017</td>\n",
       "      <td>Snow</td>\n",
       "    </tr>\n",
       "    <tr>\n",
       "      <th>5</th>\n",
       "      <td>6/1/2017</td>\n",
       "      <td>Sunny</td>\n",
       "    </tr>\n",
       "  </tbody>\n",
       "</table>\n",
       "</div>"
      ],
      "text/plain": [
       "        Day  Event\n",
       "1  2/1/2017  Sunny\n",
       "2  3/1/2017   Snow\n",
       "5  6/1/2017  Sunny"
      ]
     },
     "execution_count": 30,
     "metadata": {},
     "output_type": "execute_result"
    }
   ],
   "source": [
    "df.iloc[[1, 2, 5], [0, 3]]"
   ]
  },
  {
   "cell_type": "markdown",
   "metadata": {
    "id": "5RHEAAeouBca",
    "slideshow": {
     "slide_type": "subslide"
    }
   },
   "source": [
    "### loc Indexer"
   ]
  },
  {
   "cell_type": "markdown",
   "metadata": {
    "id": "G8Enh5mhuBca",
    "slideshow": {
     "slide_type": "fragment"
    }
   },
   "source": [
    "With `iloc` we were searching using integer location, with `loc` we are going to search by the label name of the row and column. In our example, the rows names are integers, and the column names are strings."
   ]
  },
  {
   "cell_type": "code",
   "execution_count": 31,
   "metadata": {
    "colab": {
     "base_uri": "https://localhost:8080/"
    },
    "executionInfo": {
     "elapsed": 23,
     "status": "ok",
     "timestamp": 1649841300461,
     "user": {
      "displayName": "Zohar Gilad",
      "userId": "00340934557496237852"
     },
     "user_tz": -180
    },
    "id": "ANFKD9hhuBcb",
    "outputId": "519b04d4-ad28-4027-cbb4-f13be2451b58",
    "slideshow": {
     "slide_type": "fragment"
    }
   },
   "outputs": [
    {
     "data": {
      "text/plain": [
       "Day            1/1/2017\n",
       "Temperature          12\n",
       "Windspeed            60\n",
       "Event              Rain\n",
       "Name: 0, dtype: object"
      ]
     },
     "execution_count": 31,
     "metadata": {},
     "output_type": "execute_result"
    }
   ],
   "source": [
    "df.loc[0]"
   ]
  },
  {
   "cell_type": "code",
   "execution_count": 32,
   "metadata": {
    "colab": {
     "base_uri": "https://localhost:8080/"
    },
    "executionInfo": {
     "elapsed": 23,
     "status": "ok",
     "timestamp": 1649841300461,
     "user": {
      "displayName": "Zohar Gilad",
      "userId": "00340934557496237852"
     },
     "user_tz": -180
    },
    "id": "cAlaH3N-uBcb",
    "outputId": "3a74f951-55df-4391-9bed-86f1c076823b",
    "slideshow": {
     "slide_type": "fragment"
    }
   },
   "outputs": [
    {
     "data": {
      "text/plain": [
       "pandas.core.series.Series"
      ]
     },
     "execution_count": 32,
     "metadata": {},
     "output_type": "execute_result"
    }
   ],
   "source": [
    "type(df.loc[0])"
   ]
  },
  {
   "cell_type": "markdown",
   "metadata": {
    "id": "UHaRvfYDuBcb",
    "slideshow": {
     "slide_type": "subslide"
    }
   },
   "source": [
    "We can also use loc on a Series to get a specific value:"
   ]
  },
  {
   "cell_type": "code",
   "execution_count": 33,
   "metadata": {
    "colab": {
     "base_uri": "https://localhost:8080/"
    },
    "executionInfo": {
     "elapsed": 23,
     "status": "ok",
     "timestamp": 1649841300462,
     "user": {
      "displayName": "Zohar Gilad",
      "userId": "00340934557496237852"
     },
     "user_tz": -180
    },
    "id": "Vxo77068uBcb",
    "outputId": "1103802c-7d73-4515-c184-62aaf0c6b731",
    "slideshow": {
     "slide_type": "fragment"
    }
   },
   "outputs": [
    {
     "data": {
      "text/plain": [
       "'1/1/2017'"
      ]
     },
     "execution_count": 33,
     "metadata": {},
     "output_type": "execute_result"
    }
   ],
   "source": [
    "df.loc[0].loc['Day']"
   ]
  },
  {
   "cell_type": "code",
   "execution_count": 34,
   "metadata": {
    "colab": {
     "base_uri": "https://localhost:8080/"
    },
    "executionInfo": {
     "elapsed": 23,
     "status": "ok",
     "timestamp": 1649841300462,
     "user": {
      "displayName": "Zohar Gilad",
      "userId": "00340934557496237852"
     },
     "user_tz": -180
    },
    "id": "R1P7h1V3uBcb",
    "outputId": "8a7bcb47-ea14-4384-9c95-58da479333f4",
    "slideshow": {
     "slide_type": "fragment"
    }
   },
   "outputs": [
    {
     "data": {
      "text/plain": [
       "'1/1/2017'"
      ]
     },
     "execution_count": 34,
     "metadata": {},
     "output_type": "execute_result"
    }
   ],
   "source": [
    "df.loc[0, 'Day']"
   ]
  },
  {
   "cell_type": "code",
   "execution_count": 35,
   "metadata": {
    "colab": {
     "base_uri": "https://localhost:8080/"
    },
    "executionInfo": {
     "elapsed": 346,
     "status": "ok",
     "timestamp": 1649841300786,
     "user": {
      "displayName": "Zohar Gilad",
      "userId": "00340934557496237852"
     },
     "user_tz": -180
    },
    "id": "3Es__lY0uBcb",
    "outputId": "7bbacbd1-a18e-49a8-d459-a9617163a91a",
    "slideshow": {
     "slide_type": "fragment"
    }
   },
   "outputs": [
    {
     "data": {
      "text/html": [
       "<div>\n",
       "<style scoped>\n",
       "    .dataframe tbody tr th:only-of-type {\n",
       "        vertical-align: middle;\n",
       "    }\n",
       "\n",
       "    .dataframe tbody tr th {\n",
       "        vertical-align: top;\n",
       "    }\n",
       "\n",
       "    .dataframe thead th {\n",
       "        text-align: right;\n",
       "    }\n",
       "</style>\n",
       "<table border=\"1\" class=\"dataframe\">\n",
       "  <thead>\n",
       "    <tr style=\"text-align: right;\">\n",
       "      <th></th>\n",
       "      <th>Day</th>\n",
       "      <th>Event</th>\n",
       "    </tr>\n",
       "  </thead>\n",
       "  <tbody>\n",
       "    <tr>\n",
       "      <th>1</th>\n",
       "      <td>2/1/2017</td>\n",
       "      <td>Sunny</td>\n",
       "    </tr>\n",
       "    <tr>\n",
       "      <th>2</th>\n",
       "      <td>3/1/2017</td>\n",
       "      <td>Snow</td>\n",
       "    </tr>\n",
       "    <tr>\n",
       "      <th>5</th>\n",
       "      <td>6/1/2017</td>\n",
       "      <td>Sunny</td>\n",
       "    </tr>\n",
       "  </tbody>\n",
       "</table>\n",
       "</div>"
      ],
      "text/plain": [
       "        Day  Event\n",
       "1  2/1/2017  Sunny\n",
       "2  3/1/2017   Snow\n",
       "5  6/1/2017  Sunny"
      ]
     },
     "execution_count": 35,
     "metadata": {},
     "output_type": "execute_result"
    }
   ],
   "source": [
    "df.loc[[1, 2, 5], ['Day', 'Event']]"
   ]
  },
  {
   "cell_type": "markdown",
   "metadata": {
    "id": "trqGtzkTuBcb",
    "slideshow": {
     "slide_type": "subslide"
    }
   },
   "source": [
    "We can use slicing here too:"
   ]
  },
  {
   "cell_type": "code",
   "execution_count": 36,
   "metadata": {
    "colab": {
     "base_uri": "https://localhost:8080/"
    },
    "executionInfo": {
     "elapsed": 38,
     "status": "ok",
     "timestamp": 1649841300787,
     "user": {
      "displayName": "Zohar Gilad",
      "userId": "00340934557496237852"
     },
     "user_tz": -180
    },
    "id": "5hpHgPG0uBcb",
    "outputId": "a0d60e18-791e-45e7-dd10-5a0e813e570d",
    "slideshow": {
     "slide_type": "fragment"
    }
   },
   "outputs": [
    {
     "data": {
      "text/html": [
       "<div>\n",
       "<style scoped>\n",
       "    .dataframe tbody tr th:only-of-type {\n",
       "        vertical-align: middle;\n",
       "    }\n",
       "\n",
       "    .dataframe tbody tr th {\n",
       "        vertical-align: top;\n",
       "    }\n",
       "\n",
       "    .dataframe thead th {\n",
       "        text-align: right;\n",
       "    }\n",
       "</style>\n",
       "<table border=\"1\" class=\"dataframe\">\n",
       "  <thead>\n",
       "    <tr style=\"text-align: right;\">\n",
       "      <th></th>\n",
       "      <th>Temperature</th>\n",
       "      <th>Windspeed</th>\n",
       "      <th>Event</th>\n",
       "    </tr>\n",
       "  </thead>\n",
       "  <tbody>\n",
       "    <tr>\n",
       "      <th>3</th>\n",
       "      <td>-3</td>\n",
       "      <td>75</td>\n",
       "      <td>Snow</td>\n",
       "    </tr>\n",
       "    <tr>\n",
       "      <th>4</th>\n",
       "      <td>8</td>\n",
       "      <td>45</td>\n",
       "      <td>Rain</td>\n",
       "    </tr>\n",
       "    <tr>\n",
       "      <th>5</th>\n",
       "      <td>14</td>\n",
       "      <td>20</td>\n",
       "      <td>Sunny</td>\n",
       "    </tr>\n",
       "  </tbody>\n",
       "</table>\n",
       "</div>"
      ],
      "text/plain": [
       "   Temperature  Windspeed  Event\n",
       "3           -3         75   Snow\n",
       "4            8         45   Rain\n",
       "5           14         20  Sunny"
      ]
     },
     "execution_count": 36,
     "metadata": {},
     "output_type": "execute_result"
    }
   ],
   "source": [
    "df.loc[3:5, 'Temperature':'Event']"
   ]
  },
  {
   "cell_type": "markdown",
   "metadata": {
    "id": "_1gA01IfuBcb",
    "slideshow": {
     "slide_type": "slide"
    }
   },
   "source": [
    "## Dataframe Indexes"
   ]
  },
  {
   "cell_type": "markdown",
   "metadata": {
    "id": "Pvw8PLBbuBcc",
    "slideshow": {
     "slide_type": "fragment"
    }
   },
   "source": [
    "Dataframes have a default index, which is the unnamed column on the left. In the default case it is a range of numbers which is used as an identifier for the rows."
   ]
  },
  {
   "cell_type": "code",
   "execution_count": 37,
   "metadata": {
    "colab": {
     "base_uri": "https://localhost:8080/"
    },
    "executionInfo": {
     "elapsed": 38,
     "status": "ok",
     "timestamp": 1649841300788,
     "user": {
      "displayName": "Zohar Gilad",
      "userId": "00340934557496237852"
     },
     "user_tz": -180
    },
    "id": "UMDrJOazuBcc",
    "outputId": "d7a6aaa3-56d7-4bb0-fca2-cdc0fa71dfd9",
    "slideshow": {
     "slide_type": "fragment"
    }
   },
   "outputs": [
    {
     "data": {
      "text/html": [
       "<div>\n",
       "<style scoped>\n",
       "    .dataframe tbody tr th:only-of-type {\n",
       "        vertical-align: middle;\n",
       "    }\n",
       "\n",
       "    .dataframe tbody tr th {\n",
       "        vertical-align: top;\n",
       "    }\n",
       "\n",
       "    .dataframe thead th {\n",
       "        text-align: right;\n",
       "    }\n",
       "</style>\n",
       "<table border=\"1\" class=\"dataframe\">\n",
       "  <thead>\n",
       "    <tr style=\"text-align: right;\">\n",
       "      <th></th>\n",
       "      <th>Day</th>\n",
       "      <th>Temperature</th>\n",
       "      <th>Windspeed</th>\n",
       "      <th>Event</th>\n",
       "    </tr>\n",
       "  </thead>\n",
       "  <tbody>\n",
       "    <tr>\n",
       "      <th>0</th>\n",
       "      <td>1/1/2017</td>\n",
       "      <td>12</td>\n",
       "      <td>60</td>\n",
       "      <td>Rain</td>\n",
       "    </tr>\n",
       "    <tr>\n",
       "      <th>1</th>\n",
       "      <td>2/1/2017</td>\n",
       "      <td>16</td>\n",
       "      <td>70</td>\n",
       "      <td>Sunny</td>\n",
       "    </tr>\n",
       "    <tr>\n",
       "      <th>2</th>\n",
       "      <td>3/1/2017</td>\n",
       "      <td>-2</td>\n",
       "      <td>25</td>\n",
       "      <td>Snow</td>\n",
       "    </tr>\n",
       "    <tr>\n",
       "      <th>3</th>\n",
       "      <td>4/1/2017</td>\n",
       "      <td>-3</td>\n",
       "      <td>75</td>\n",
       "      <td>Snow</td>\n",
       "    </tr>\n",
       "    <tr>\n",
       "      <th>4</th>\n",
       "      <td>5/1/2017</td>\n",
       "      <td>8</td>\n",
       "      <td>45</td>\n",
       "      <td>Rain</td>\n",
       "    </tr>\n",
       "    <tr>\n",
       "      <th>5</th>\n",
       "      <td>6/1/2017</td>\n",
       "      <td>14</td>\n",
       "      <td>20</td>\n",
       "      <td>Sunny</td>\n",
       "    </tr>\n",
       "  </tbody>\n",
       "</table>\n",
       "</div>"
      ],
      "text/plain": [
       "        Day  Temperature  Windspeed  Event\n",
       "0  1/1/2017           12         60   Rain\n",
       "1  2/1/2017           16         70  Sunny\n",
       "2  3/1/2017           -2         25   Snow\n",
       "3  4/1/2017           -3         75   Snow\n",
       "4  5/1/2017            8         45   Rain\n",
       "5  6/1/2017           14         20  Sunny"
      ]
     },
     "execution_count": 37,
     "metadata": {},
     "output_type": "execute_result"
    }
   ],
   "source": [
    "df"
   ]
  },
  {
   "cell_type": "code",
   "execution_count": 38,
   "metadata": {
    "colab": {
     "base_uri": "https://localhost:8080/"
    },
    "executionInfo": {
     "elapsed": 37,
     "status": "ok",
     "timestamp": 1649841300788,
     "user": {
      "displayName": "Zohar Gilad",
      "userId": "00340934557496237852"
     },
     "user_tz": -180
    },
    "id": "cBELwbzpuBcc",
    "outputId": "fc9147b6-2a20-477c-8bbf-86421fb95a45",
    "slideshow": {
     "slide_type": "fragment"
    }
   },
   "outputs": [
    {
     "data": {
      "text/plain": [
       "RangeIndex(start=0, stop=6, step=1)"
      ]
     },
     "execution_count": 38,
     "metadata": {},
     "output_type": "execute_result"
    }
   ],
   "source": [
    "df.index"
   ]
  },
  {
   "cell_type": "markdown",
   "metadata": {
    "id": "w83XyD7YuBcc",
    "slideshow": {
     "slide_type": "subslide"
    }
   },
   "source": [
    "Sometimes it might make more sense to have a different identifier (index) for each row. In our example, the day column can be used as a better index since it is a unique value for each row which also have a meaning."
   ]
  },
  {
   "cell_type": "code",
   "execution_count": 39,
   "metadata": {
    "colab": {
     "base_uri": "https://localhost:8080/"
    },
    "executionInfo": {
     "elapsed": 38,
     "status": "ok",
     "timestamp": 1649841300789,
     "user": {
      "displayName": "Zohar Gilad",
      "userId": "00340934557496237852"
     },
     "user_tz": -180
    },
    "id": "96eAzSPUuBcc",
    "outputId": "047db570-0d26-4727-ac58-d5c2bbfcf9e9",
    "slideshow": {
     "slide_type": "fragment"
    }
   },
   "outputs": [
    {
     "data": {
      "text/html": [
       "<div>\n",
       "<style scoped>\n",
       "    .dataframe tbody tr th:only-of-type {\n",
       "        vertical-align: middle;\n",
       "    }\n",
       "\n",
       "    .dataframe tbody tr th {\n",
       "        vertical-align: top;\n",
       "    }\n",
       "\n",
       "    .dataframe thead th {\n",
       "        text-align: right;\n",
       "    }\n",
       "</style>\n",
       "<table border=\"1\" class=\"dataframe\">\n",
       "  <thead>\n",
       "    <tr style=\"text-align: right;\">\n",
       "      <th></th>\n",
       "      <th>Temperature</th>\n",
       "      <th>Windspeed</th>\n",
       "      <th>Event</th>\n",
       "    </tr>\n",
       "    <tr>\n",
       "      <th>Day</th>\n",
       "      <th></th>\n",
       "      <th></th>\n",
       "      <th></th>\n",
       "    </tr>\n",
       "  </thead>\n",
       "  <tbody>\n",
       "    <tr>\n",
       "      <th>1/1/2017</th>\n",
       "      <td>12</td>\n",
       "      <td>60</td>\n",
       "      <td>Rain</td>\n",
       "    </tr>\n",
       "    <tr>\n",
       "      <th>2/1/2017</th>\n",
       "      <td>16</td>\n",
       "      <td>70</td>\n",
       "      <td>Sunny</td>\n",
       "    </tr>\n",
       "    <tr>\n",
       "      <th>3/1/2017</th>\n",
       "      <td>-2</td>\n",
       "      <td>25</td>\n",
       "      <td>Snow</td>\n",
       "    </tr>\n",
       "    <tr>\n",
       "      <th>4/1/2017</th>\n",
       "      <td>-3</td>\n",
       "      <td>75</td>\n",
       "      <td>Snow</td>\n",
       "    </tr>\n",
       "    <tr>\n",
       "      <th>5/1/2017</th>\n",
       "      <td>8</td>\n",
       "      <td>45</td>\n",
       "      <td>Rain</td>\n",
       "    </tr>\n",
       "    <tr>\n",
       "      <th>6/1/2017</th>\n",
       "      <td>14</td>\n",
       "      <td>20</td>\n",
       "      <td>Sunny</td>\n",
       "    </tr>\n",
       "  </tbody>\n",
       "</table>\n",
       "</div>"
      ],
      "text/plain": [
       "          Temperature  Windspeed  Event\n",
       "Day                                    \n",
       "1/1/2017           12         60   Rain\n",
       "2/1/2017           16         70  Sunny\n",
       "3/1/2017           -2         25   Snow\n",
       "4/1/2017           -3         75   Snow\n",
       "5/1/2017            8         45   Rain\n",
       "6/1/2017           14         20  Sunny"
      ]
     },
     "execution_count": 39,
     "metadata": {},
     "output_type": "execute_result"
    }
   ],
   "source": [
    "df.set_index('Day', inplace=True)\n",
    "df"
   ]
  },
  {
   "cell_type": "code",
   "execution_count": 40,
   "metadata": {
    "colab": {
     "base_uri": "https://localhost:8080/"
    },
    "executionInfo": {
     "elapsed": 37,
     "status": "ok",
     "timestamp": 1649841300789,
     "user": {
      "displayName": "Zohar Gilad",
      "userId": "00340934557496237852"
     },
     "user_tz": -180
    },
    "id": "n2hts21duBcc",
    "outputId": "066a9dd6-a532-43cf-d48c-9eca2a65303f",
    "slideshow": {
     "slide_type": "fragment"
    }
   },
   "outputs": [
    {
     "data": {
      "text/plain": [
       "-3"
      ]
     },
     "execution_count": 40,
     "metadata": {},
     "output_type": "execute_result"
    }
   ],
   "source": [
    "df.loc['4/1/2017', 'Temperature']"
   ]
  },
  {
   "cell_type": "code",
   "execution_count": 41,
   "metadata": {
    "colab": {
     "base_uri": "https://localhost:8080/"
    },
    "executionInfo": {
     "elapsed": 36,
     "status": "ok",
     "timestamp": 1649841300789,
     "user": {
      "displayName": "Zohar Gilad",
      "userId": "00340934557496237852"
     },
     "user_tz": -180
    },
    "id": "yIfIgdyBuBcc",
    "outputId": "7cece11d-8451-4181-e1b4-d3d0c56a7d23",
    "slideshow": {
     "slide_type": "fragment"
    }
   },
   "outputs": [
    {
     "data": {
      "text/plain": [
       "-3"
      ]
     },
     "execution_count": 41,
     "metadata": {},
     "output_type": "execute_result"
    }
   ],
   "source": [
    "df.iloc[3, 0]"
   ]
  },
  {
   "cell_type": "markdown",
   "metadata": {
    "id": "Py3wlbPbuBcc",
    "slideshow": {
     "slide_type": "subslide"
    }
   },
   "source": [
    "We can reset the index back to default by using the `reset_index()` method:"
   ]
  },
  {
   "cell_type": "markdown",
   "metadata": {
    "id": "Ethug0qiuBcd",
    "slideshow": {
     "slide_type": "fragment"
    }
   },
   "source": [
    "<b>Note: The inplace parameter</b> - Lots of methods do not change the original dataframe, but return a new one. To apply the change on the original dataframe we have to use the `inplace=True` parameter (default is False)"
   ]
  },
  {
   "cell_type": "code",
   "execution_count": 42,
   "metadata": {
    "colab": {
     "base_uri": "https://localhost:8080/"
    },
    "executionInfo": {
     "elapsed": 37,
     "status": "ok",
     "timestamp": 1649841300790,
     "user": {
      "displayName": "Zohar Gilad",
      "userId": "00340934557496237852"
     },
     "user_tz": -180
    },
    "id": "M0-EyruPuBcd",
    "outputId": "d2ae5996-5f2c-4c46-8cfd-f542439259b6",
    "slideshow": {
     "slide_type": "fragment"
    }
   },
   "outputs": [
    {
     "data": {
      "text/html": [
       "<div>\n",
       "<style scoped>\n",
       "    .dataframe tbody tr th:only-of-type {\n",
       "        vertical-align: middle;\n",
       "    }\n",
       "\n",
       "    .dataframe tbody tr th {\n",
       "        vertical-align: top;\n",
       "    }\n",
       "\n",
       "    .dataframe thead th {\n",
       "        text-align: right;\n",
       "    }\n",
       "</style>\n",
       "<table border=\"1\" class=\"dataframe\">\n",
       "  <thead>\n",
       "    <tr style=\"text-align: right;\">\n",
       "      <th></th>\n",
       "      <th>Day</th>\n",
       "      <th>Temperature</th>\n",
       "      <th>Windspeed</th>\n",
       "      <th>Event</th>\n",
       "    </tr>\n",
       "  </thead>\n",
       "  <tbody>\n",
       "    <tr>\n",
       "      <th>0</th>\n",
       "      <td>1/1/2017</td>\n",
       "      <td>12</td>\n",
       "      <td>60</td>\n",
       "      <td>Rain</td>\n",
       "    </tr>\n",
       "    <tr>\n",
       "      <th>1</th>\n",
       "      <td>2/1/2017</td>\n",
       "      <td>16</td>\n",
       "      <td>70</td>\n",
       "      <td>Sunny</td>\n",
       "    </tr>\n",
       "    <tr>\n",
       "      <th>2</th>\n",
       "      <td>3/1/2017</td>\n",
       "      <td>-2</td>\n",
       "      <td>25</td>\n",
       "      <td>Snow</td>\n",
       "    </tr>\n",
       "    <tr>\n",
       "      <th>3</th>\n",
       "      <td>4/1/2017</td>\n",
       "      <td>-3</td>\n",
       "      <td>75</td>\n",
       "      <td>Snow</td>\n",
       "    </tr>\n",
       "    <tr>\n",
       "      <th>4</th>\n",
       "      <td>5/1/2017</td>\n",
       "      <td>8</td>\n",
       "      <td>45</td>\n",
       "      <td>Rain</td>\n",
       "    </tr>\n",
       "    <tr>\n",
       "      <th>5</th>\n",
       "      <td>6/1/2017</td>\n",
       "      <td>14</td>\n",
       "      <td>20</td>\n",
       "      <td>Sunny</td>\n",
       "    </tr>\n",
       "  </tbody>\n",
       "</table>\n",
       "</div>"
      ],
      "text/plain": [
       "        Day  Temperature  Windspeed  Event\n",
       "0  1/1/2017           12         60   Rain\n",
       "1  2/1/2017           16         70  Sunny\n",
       "2  3/1/2017           -2         25   Snow\n",
       "3  4/1/2017           -3         75   Snow\n",
       "4  5/1/2017            8         45   Rain\n",
       "5  6/1/2017           14         20  Sunny"
      ]
     },
     "execution_count": 42,
     "metadata": {},
     "output_type": "execute_result"
    }
   ],
   "source": [
    "df.reset_index(inplace=True)\n",
    "df"
   ]
  },
  {
   "cell_type": "markdown",
   "metadata": {
    "id": "kHdx61dFuBcd",
    "slideshow": {
     "slide_type": "slide"
    }
   },
   "source": [
    "## Filtering"
   ]
  },
  {
   "cell_type": "markdown",
   "metadata": {
    "id": "qe09NnaSuBcd",
    "slideshow": {
     "slide_type": "fragment"
    }
   },
   "source": [
    "We can exract a true and false series called a <b>filter mask</b>:"
   ]
  },
  {
   "cell_type": "code",
   "execution_count": 43,
   "metadata": {
    "colab": {
     "base_uri": "https://localhost:8080/"
    },
    "executionInfo": {
     "elapsed": 36,
     "status": "ok",
     "timestamp": 1649841300790,
     "user": {
      "displayName": "Zohar Gilad",
      "userId": "00340934557496237852"
     },
     "user_tz": -180
    },
    "id": "q1wJiTNguBcd",
    "outputId": "3a83065c-48f1-4c11-d177-88b26295d6a6",
    "slideshow": {
     "slide_type": "fragment"
    }
   },
   "outputs": [
    {
     "name": "stdout",
     "output_type": "stream",
     "text": [
      "<class 'pandas.core.series.Series'>\n"
     ]
    },
    {
     "data": {
      "text/plain": [
       "0     True\n",
       "1     True\n",
       "2    False\n",
       "3    False\n",
       "4     True\n",
       "5     True\n",
       "Name: Temperature, dtype: bool"
      ]
     },
     "execution_count": 43,
     "metadata": {},
     "output_type": "execute_result"
    }
   ],
   "source": [
    "filt = df.Temperature >= 0\n",
    "print(type(filt))\n",
    "filt"
   ]
  },
  {
   "cell_type": "markdown",
   "metadata": {
    "id": "xwClRZMTCoDa",
    "slideshow": {
     "slide_type": "subslide"
    }
   },
   "source": [
    "We can use the filter mask to extract a new dataframe from the current dataframe:"
   ]
  },
  {
   "cell_type": "code",
   "execution_count": 44,
   "metadata": {
    "colab": {
     "base_uri": "https://localhost:8080/"
    },
    "executionInfo": {
     "elapsed": 36,
     "status": "ok",
     "timestamp": 1649841300791,
     "user": {
      "displayName": "Zohar Gilad",
      "userId": "00340934557496237852"
     },
     "user_tz": -180
    },
    "id": "U5gd9sWvCoDb",
    "outputId": "7a236999-fc88-4363-a514-aaa72779b576",
    "slideshow": {
     "slide_type": "fragment"
    }
   },
   "outputs": [
    {
     "data": {
      "text/html": [
       "<div>\n",
       "<style scoped>\n",
       "    .dataframe tbody tr th:only-of-type {\n",
       "        vertical-align: middle;\n",
       "    }\n",
       "\n",
       "    .dataframe tbody tr th {\n",
       "        vertical-align: top;\n",
       "    }\n",
       "\n",
       "    .dataframe thead th {\n",
       "        text-align: right;\n",
       "    }\n",
       "</style>\n",
       "<table border=\"1\" class=\"dataframe\">\n",
       "  <thead>\n",
       "    <tr style=\"text-align: right;\">\n",
       "      <th></th>\n",
       "      <th>Day</th>\n",
       "      <th>Temperature</th>\n",
       "      <th>Windspeed</th>\n",
       "      <th>Event</th>\n",
       "    </tr>\n",
       "  </thead>\n",
       "  <tbody>\n",
       "    <tr>\n",
       "      <th>0</th>\n",
       "      <td>1/1/2017</td>\n",
       "      <td>12</td>\n",
       "      <td>60</td>\n",
       "      <td>Rain</td>\n",
       "    </tr>\n",
       "    <tr>\n",
       "      <th>1</th>\n",
       "      <td>2/1/2017</td>\n",
       "      <td>16</td>\n",
       "      <td>70</td>\n",
       "      <td>Sunny</td>\n",
       "    </tr>\n",
       "    <tr>\n",
       "      <th>4</th>\n",
       "      <td>5/1/2017</td>\n",
       "      <td>8</td>\n",
       "      <td>45</td>\n",
       "      <td>Rain</td>\n",
       "    </tr>\n",
       "    <tr>\n",
       "      <th>5</th>\n",
       "      <td>6/1/2017</td>\n",
       "      <td>14</td>\n",
       "      <td>20</td>\n",
       "      <td>Sunny</td>\n",
       "    </tr>\n",
       "  </tbody>\n",
       "</table>\n",
       "</div>"
      ],
      "text/plain": [
       "        Day  Temperature  Windspeed  Event\n",
       "0  1/1/2017           12         60   Rain\n",
       "1  2/1/2017           16         70  Sunny\n",
       "4  5/1/2017            8         45   Rain\n",
       "5  6/1/2017           14         20  Sunny"
      ]
     },
     "execution_count": 44,
     "metadata": {},
     "output_type": "execute_result"
    }
   ],
   "source": [
    "df[filt]"
   ]
  },
  {
   "cell_type": "markdown",
   "metadata": {
    "id": "Wzx19A7UuBcd",
    "slideshow": {
     "slide_type": "fragment"
    }
   },
   "source": [
    "We can do it in one line of code:"
   ]
  },
  {
   "cell_type": "code",
   "execution_count": 45,
   "metadata": {
    "colab": {
     "base_uri": "https://localhost:8080/"
    },
    "executionInfo": {
     "elapsed": 35,
     "status": "ok",
     "timestamp": 1649841300791,
     "user": {
      "displayName": "Zohar Gilad",
      "userId": "00340934557496237852"
     },
     "user_tz": -180
    },
    "id": "mTevV1PzCoDc",
    "outputId": "677041df-9b5f-4a84-9ea4-593725df7e14",
    "slideshow": {
     "slide_type": "fragment"
    }
   },
   "outputs": [
    {
     "data": {
      "text/html": [
       "<div>\n",
       "<style scoped>\n",
       "    .dataframe tbody tr th:only-of-type {\n",
       "        vertical-align: middle;\n",
       "    }\n",
       "\n",
       "    .dataframe tbody tr th {\n",
       "        vertical-align: top;\n",
       "    }\n",
       "\n",
       "    .dataframe thead th {\n",
       "        text-align: right;\n",
       "    }\n",
       "</style>\n",
       "<table border=\"1\" class=\"dataframe\">\n",
       "  <thead>\n",
       "    <tr style=\"text-align: right;\">\n",
       "      <th></th>\n",
       "      <th>Day</th>\n",
       "      <th>Temperature</th>\n",
       "      <th>Windspeed</th>\n",
       "      <th>Event</th>\n",
       "    </tr>\n",
       "  </thead>\n",
       "  <tbody>\n",
       "    <tr>\n",
       "      <th>0</th>\n",
       "      <td>1/1/2017</td>\n",
       "      <td>12</td>\n",
       "      <td>60</td>\n",
       "      <td>Rain</td>\n",
       "    </tr>\n",
       "    <tr>\n",
       "      <th>1</th>\n",
       "      <td>2/1/2017</td>\n",
       "      <td>16</td>\n",
       "      <td>70</td>\n",
       "      <td>Sunny</td>\n",
       "    </tr>\n",
       "    <tr>\n",
       "      <th>4</th>\n",
       "      <td>5/1/2017</td>\n",
       "      <td>8</td>\n",
       "      <td>45</td>\n",
       "      <td>Rain</td>\n",
       "    </tr>\n",
       "    <tr>\n",
       "      <th>5</th>\n",
       "      <td>6/1/2017</td>\n",
       "      <td>14</td>\n",
       "      <td>20</td>\n",
       "      <td>Sunny</td>\n",
       "    </tr>\n",
       "  </tbody>\n",
       "</table>\n",
       "</div>"
      ],
      "text/plain": [
       "        Day  Temperature  Windspeed  Event\n",
       "0  1/1/2017           12         60   Rain\n",
       "1  2/1/2017           16         70  Sunny\n",
       "4  5/1/2017            8         45   Rain\n",
       "5  6/1/2017           14         20  Sunny"
      ]
     },
     "execution_count": 45,
     "metadata": {},
     "output_type": "execute_result"
    }
   ],
   "source": [
    "df[df.Temperature >= 0]"
   ]
  },
  {
   "cell_type": "markdown",
   "metadata": {
    "id": "4XjkG-jYuBce",
    "slideshow": {
     "slide_type": "subslide"
    }
   },
   "source": [
    "As we seen earlier, `loc` looks for columns and rows by labels, but we can also pass into `loc` a series of booleans (the filter mask):"
   ]
  },
  {
   "cell_type": "code",
   "execution_count": 46,
   "metadata": {
    "colab": {
     "base_uri": "https://localhost:8080/"
    },
    "executionInfo": {
     "elapsed": 35,
     "status": "ok",
     "timestamp": 1649841300792,
     "user": {
      "displayName": "Zohar Gilad",
      "userId": "00340934557496237852"
     },
     "user_tz": -180
    },
    "id": "oVXX5d02uBce",
    "outputId": "87d929a2-787f-49fe-e44f-70e0b4f7ea51",
    "slideshow": {
     "slide_type": "fragment"
    }
   },
   "outputs": [
    {
     "data": {
      "text/html": [
       "<div>\n",
       "<style scoped>\n",
       "    .dataframe tbody tr th:only-of-type {\n",
       "        vertical-align: middle;\n",
       "    }\n",
       "\n",
       "    .dataframe tbody tr th {\n",
       "        vertical-align: top;\n",
       "    }\n",
       "\n",
       "    .dataframe thead th {\n",
       "        text-align: right;\n",
       "    }\n",
       "</style>\n",
       "<table border=\"1\" class=\"dataframe\">\n",
       "  <thead>\n",
       "    <tr style=\"text-align: right;\">\n",
       "      <th></th>\n",
       "      <th>Day</th>\n",
       "      <th>Temperature</th>\n",
       "      <th>Windspeed</th>\n",
       "      <th>Event</th>\n",
       "    </tr>\n",
       "  </thead>\n",
       "  <tbody>\n",
       "    <tr>\n",
       "      <th>0</th>\n",
       "      <td>1/1/2017</td>\n",
       "      <td>12</td>\n",
       "      <td>60</td>\n",
       "      <td>Rain</td>\n",
       "    </tr>\n",
       "    <tr>\n",
       "      <th>1</th>\n",
       "      <td>2/1/2017</td>\n",
       "      <td>16</td>\n",
       "      <td>70</td>\n",
       "      <td>Sunny</td>\n",
       "    </tr>\n",
       "    <tr>\n",
       "      <th>4</th>\n",
       "      <td>5/1/2017</td>\n",
       "      <td>8</td>\n",
       "      <td>45</td>\n",
       "      <td>Rain</td>\n",
       "    </tr>\n",
       "    <tr>\n",
       "      <th>5</th>\n",
       "      <td>6/1/2017</td>\n",
       "      <td>14</td>\n",
       "      <td>20</td>\n",
       "      <td>Sunny</td>\n",
       "    </tr>\n",
       "  </tbody>\n",
       "</table>\n",
       "</div>"
      ],
      "text/plain": [
       "        Day  Temperature  Windspeed  Event\n",
       "0  1/1/2017           12         60   Rain\n",
       "1  2/1/2017           16         70  Sunny\n",
       "4  5/1/2017            8         45   Rain\n",
       "5  6/1/2017           14         20  Sunny"
      ]
     },
     "execution_count": 46,
     "metadata": {},
     "output_type": "execute_result"
    }
   ],
   "source": [
    "df.loc[filt]"
   ]
  },
  {
   "cell_type": "markdown",
   "metadata": {
    "id": "6MczLQqkuBce",
    "slideshow": {
     "slide_type": "subslide"
    }
   },
   "source": [
    "Using `loc` we can also specify which columns we would like to get:"
   ]
  },
  {
   "cell_type": "code",
   "execution_count": 47,
   "metadata": {
    "colab": {
     "base_uri": "https://localhost:8080/"
    },
    "executionInfo": {
     "elapsed": 34,
     "status": "ok",
     "timestamp": 1649841300792,
     "user": {
      "displayName": "Zohar Gilad",
      "userId": "00340934557496237852"
     },
     "user_tz": -180
    },
    "id": "a684WERWuBce",
    "outputId": "846d3ff4-1ece-41d1-d69f-0ef3312f1791",
    "slideshow": {
     "slide_type": "fragment"
    }
   },
   "outputs": [
    {
     "data": {
      "text/html": [
       "<div>\n",
       "<style scoped>\n",
       "    .dataframe tbody tr th:only-of-type {\n",
       "        vertical-align: middle;\n",
       "    }\n",
       "\n",
       "    .dataframe tbody tr th {\n",
       "        vertical-align: top;\n",
       "    }\n",
       "\n",
       "    .dataframe thead th {\n",
       "        text-align: right;\n",
       "    }\n",
       "</style>\n",
       "<table border=\"1\" class=\"dataframe\">\n",
       "  <thead>\n",
       "    <tr style=\"text-align: right;\">\n",
       "      <th></th>\n",
       "      <th>Day</th>\n",
       "      <th>Temperature</th>\n",
       "    </tr>\n",
       "  </thead>\n",
       "  <tbody>\n",
       "    <tr>\n",
       "      <th>0</th>\n",
       "      <td>1/1/2017</td>\n",
       "      <td>12</td>\n",
       "    </tr>\n",
       "    <tr>\n",
       "      <th>1</th>\n",
       "      <td>2/1/2017</td>\n",
       "      <td>16</td>\n",
       "    </tr>\n",
       "    <tr>\n",
       "      <th>4</th>\n",
       "      <td>5/1/2017</td>\n",
       "      <td>8</td>\n",
       "    </tr>\n",
       "    <tr>\n",
       "      <th>5</th>\n",
       "      <td>6/1/2017</td>\n",
       "      <td>14</td>\n",
       "    </tr>\n",
       "  </tbody>\n",
       "</table>\n",
       "</div>"
      ],
      "text/plain": [
       "        Day  Temperature\n",
       "0  1/1/2017           12\n",
       "1  2/1/2017           16\n",
       "4  5/1/2017            8\n",
       "5  6/1/2017           14"
      ]
     },
     "execution_count": 47,
     "metadata": {},
     "output_type": "execute_result"
    }
   ],
   "source": [
    "df.loc[filt, ['Day', 'Temperature']]"
   ]
  },
  {
   "cell_type": "markdown",
   "metadata": {
    "id": "xWtTJBIwuBce",
    "slideshow": {
     "slide_type": "subslide"
    }
   },
   "source": [
    "### Using And and Or operators"
   ]
  },
  {
   "cell_type": "markdown",
   "metadata": {
    "id": "w2kGk99iuBce",
    "slideshow": {
     "slide_type": "fragment"
    }
   },
   "source": [
    "We can't use Python's built-in `and` and `or` keywords for our filters, instead we will use the `&` and `|` symbols."
   ]
  },
  {
   "cell_type": "markdown",
   "metadata": {
    "id": "rvLEWjKzuBce",
    "slideshow": {
     "slide_type": "fragment"
    }
   },
   "source": [
    "Let's look for day/s that were sunny, but also windy:"
   ]
  },
  {
   "cell_type": "code",
   "execution_count": 48,
   "metadata": {
    "executionInfo": {
     "elapsed": 33,
     "status": "ok",
     "timestamp": 1649841300792,
     "user": {
      "displayName": "Zohar Gilad",
      "userId": "00340934557496237852"
     },
     "user_tz": -180
    },
    "id": "raK3Gms-uBce",
    "slideshow": {
     "slide_type": "fragment"
    }
   },
   "outputs": [],
   "source": [
    "filt = (df['Event'] == 'Sunny') & (df['Windspeed'] > 50) "
   ]
  },
  {
   "cell_type": "code",
   "execution_count": 49,
   "metadata": {
    "colab": {
     "base_uri": "https://localhost:8080/"
    },
    "executionInfo": {
     "elapsed": 34,
     "status": "ok",
     "timestamp": 1649841300793,
     "user": {
      "displayName": "Zohar Gilad",
      "userId": "00340934557496237852"
     },
     "user_tz": -180
    },
    "id": "-YIlk1viuBcf",
    "outputId": "7282448b-c72d-42b6-a6b7-735c7a20e493",
    "slideshow": {
     "slide_type": "fragment"
    }
   },
   "outputs": [
    {
     "data": {
      "text/plain": [
       "1    2/1/2017\n",
       "Name: Day, dtype: object"
      ]
     },
     "execution_count": 49,
     "metadata": {},
     "output_type": "execute_result"
    }
   ],
   "source": [
    "df.loc[filt, 'Day']"
   ]
  },
  {
   "cell_type": "markdown",
   "metadata": {
    "id": "Spdag9H6uBcf",
    "slideshow": {
     "slide_type": "subslide"
    }
   },
   "source": [
    "Now let's look for days that are rainy or snowy:"
   ]
  },
  {
   "cell_type": "code",
   "execution_count": 50,
   "metadata": {
    "executionInfo": {
     "elapsed": 33,
     "status": "ok",
     "timestamp": 1649841300793,
     "user": {
      "displayName": "Zohar Gilad",
      "userId": "00340934557496237852"
     },
     "user_tz": -180
    },
    "id": "0Tf1mYmhuBcf",
    "slideshow": {
     "slide_type": "fragment"
    }
   },
   "outputs": [],
   "source": [
    "filt = (df['Event'] == 'Snow') | (df['Event'] == 'Rain')"
   ]
  },
  {
   "cell_type": "code",
   "execution_count": 51,
   "metadata": {
    "colab": {
     "base_uri": "https://localhost:8080/"
    },
    "executionInfo": {
     "elapsed": 34,
     "status": "ok",
     "timestamp": 1649841300794,
     "user": {
      "displayName": "Zohar Gilad",
      "userId": "00340934557496237852"
     },
     "user_tz": -180
    },
    "id": "MH7lJg69uBcf",
    "outputId": "2a72a006-06da-4ae3-9ccf-7a4f70bd3843",
    "slideshow": {
     "slide_type": "fragment"
    }
   },
   "outputs": [
    {
     "data": {
      "text/html": [
       "<div>\n",
       "<style scoped>\n",
       "    .dataframe tbody tr th:only-of-type {\n",
       "        vertical-align: middle;\n",
       "    }\n",
       "\n",
       "    .dataframe tbody tr th {\n",
       "        vertical-align: top;\n",
       "    }\n",
       "\n",
       "    .dataframe thead th {\n",
       "        text-align: right;\n",
       "    }\n",
       "</style>\n",
       "<table border=\"1\" class=\"dataframe\">\n",
       "  <thead>\n",
       "    <tr style=\"text-align: right;\">\n",
       "      <th></th>\n",
       "      <th>Day</th>\n",
       "      <th>Temperature</th>\n",
       "      <th>Windspeed</th>\n",
       "      <th>Event</th>\n",
       "    </tr>\n",
       "  </thead>\n",
       "  <tbody>\n",
       "    <tr>\n",
       "      <th>0</th>\n",
       "      <td>1/1/2017</td>\n",
       "      <td>12</td>\n",
       "      <td>60</td>\n",
       "      <td>Rain</td>\n",
       "    </tr>\n",
       "    <tr>\n",
       "      <th>2</th>\n",
       "      <td>3/1/2017</td>\n",
       "      <td>-2</td>\n",
       "      <td>25</td>\n",
       "      <td>Snow</td>\n",
       "    </tr>\n",
       "    <tr>\n",
       "      <th>3</th>\n",
       "      <td>4/1/2017</td>\n",
       "      <td>-3</td>\n",
       "      <td>75</td>\n",
       "      <td>Snow</td>\n",
       "    </tr>\n",
       "    <tr>\n",
       "      <th>4</th>\n",
       "      <td>5/1/2017</td>\n",
       "      <td>8</td>\n",
       "      <td>45</td>\n",
       "      <td>Rain</td>\n",
       "    </tr>\n",
       "  </tbody>\n",
       "</table>\n",
       "</div>"
      ],
      "text/plain": [
       "        Day  Temperature  Windspeed Event\n",
       "0  1/1/2017           12         60  Rain\n",
       "2  3/1/2017           -2         25  Snow\n",
       "3  4/1/2017           -3         75  Snow\n",
       "4  5/1/2017            8         45  Rain"
      ]
     },
     "execution_count": 51,
     "metadata": {},
     "output_type": "execute_result"
    }
   ],
   "source": [
    "df.loc[filt]"
   ]
  },
  {
   "cell_type": "markdown",
   "metadata": {
    "id": "C5tPDDEluBcf",
    "slideshow": {
     "slide_type": "subslide"
    }
   },
   "source": [
    "We can use `~` on a filter to get everything that does *not* match the filter:"
   ]
  },
  {
   "cell_type": "code",
   "execution_count": 52,
   "metadata": {
    "colab": {
     "base_uri": "https://localhost:8080/"
    },
    "executionInfo": {
     "elapsed": 33,
     "status": "ok",
     "timestamp": 1649841300794,
     "user": {
      "displayName": "Zohar Gilad",
      "userId": "00340934557496237852"
     },
     "user_tz": -180
    },
    "id": "Ail2kKY2uBcf",
    "outputId": "aca06cd6-032c-422f-870c-c506c6669c7f",
    "slideshow": {
     "slide_type": "fragment"
    }
   },
   "outputs": [
    {
     "data": {
      "text/html": [
       "<div>\n",
       "<style scoped>\n",
       "    .dataframe tbody tr th:only-of-type {\n",
       "        vertical-align: middle;\n",
       "    }\n",
       "\n",
       "    .dataframe tbody tr th {\n",
       "        vertical-align: top;\n",
       "    }\n",
       "\n",
       "    .dataframe thead th {\n",
       "        text-align: right;\n",
       "    }\n",
       "</style>\n",
       "<table border=\"1\" class=\"dataframe\">\n",
       "  <thead>\n",
       "    <tr style=\"text-align: right;\">\n",
       "      <th></th>\n",
       "      <th>Day</th>\n",
       "      <th>Temperature</th>\n",
       "      <th>Windspeed</th>\n",
       "      <th>Event</th>\n",
       "    </tr>\n",
       "  </thead>\n",
       "  <tbody>\n",
       "    <tr>\n",
       "      <th>1</th>\n",
       "      <td>2/1/2017</td>\n",
       "      <td>16</td>\n",
       "      <td>70</td>\n",
       "      <td>Sunny</td>\n",
       "    </tr>\n",
       "    <tr>\n",
       "      <th>5</th>\n",
       "      <td>6/1/2017</td>\n",
       "      <td>14</td>\n",
       "      <td>20</td>\n",
       "      <td>Sunny</td>\n",
       "    </tr>\n",
       "  </tbody>\n",
       "</table>\n",
       "</div>"
      ],
      "text/plain": [
       "        Day  Temperature  Windspeed  Event\n",
       "1  2/1/2017           16         70  Sunny\n",
       "5  6/1/2017           14         20  Sunny"
      ]
     },
     "execution_count": 52,
     "metadata": {},
     "output_type": "execute_result"
    }
   ],
   "source": [
    "df.loc[~filt]"
   ]
  },
  {
   "cell_type": "markdown",
   "metadata": {
    "id": "E4Dne6NOuBcf",
    "slideshow": {
     "slide_type": "slide"
    }
   },
   "source": [
    "## Modify Data in Dataframes"
   ]
  },
  {
   "cell_type": "markdown",
   "metadata": {
    "id": "hqeqQFh-uBcf",
    "slideshow": {
     "slide_type": "fragment"
    }
   },
   "source": [
    "We can use loc and iloc to modify data inplace:"
   ]
  },
  {
   "cell_type": "code",
   "execution_count": 53,
   "metadata": {
    "colab": {
     "base_uri": "https://localhost:8080/"
    },
    "executionInfo": {
     "elapsed": 33,
     "status": "ok",
     "timestamp": 1649841300794,
     "user": {
      "displayName": "Zohar Gilad",
      "userId": "00340934557496237852"
     },
     "user_tz": -180
    },
    "id": "W7efxb0OuBcf",
    "outputId": "9ac90c48-76e1-4815-cba6-869f941ac51a",
    "slideshow": {
     "slide_type": "fragment"
    }
   },
   "outputs": [
    {
     "data": {
      "text/html": [
       "<div>\n",
       "<style scoped>\n",
       "    .dataframe tbody tr th:only-of-type {\n",
       "        vertical-align: middle;\n",
       "    }\n",
       "\n",
       "    .dataframe tbody tr th {\n",
       "        vertical-align: top;\n",
       "    }\n",
       "\n",
       "    .dataframe thead th {\n",
       "        text-align: right;\n",
       "    }\n",
       "</style>\n",
       "<table border=\"1\" class=\"dataframe\">\n",
       "  <thead>\n",
       "    <tr style=\"text-align: right;\">\n",
       "      <th></th>\n",
       "      <th>Day</th>\n",
       "      <th>Temperature</th>\n",
       "      <th>Windspeed</th>\n",
       "      <th>Event</th>\n",
       "    </tr>\n",
       "  </thead>\n",
       "  <tbody>\n",
       "    <tr>\n",
       "      <th>0</th>\n",
       "      <td>1/1/2017</td>\n",
       "      <td>12</td>\n",
       "      <td>60</td>\n",
       "      <td>Rain</td>\n",
       "    </tr>\n",
       "    <tr>\n",
       "      <th>1</th>\n",
       "      <td>2/1/2017</td>\n",
       "      <td>16</td>\n",
       "      <td>70</td>\n",
       "      <td>Sunny</td>\n",
       "    </tr>\n",
       "    <tr>\n",
       "      <th>2</th>\n",
       "      <td>3/1/2017</td>\n",
       "      <td>-2</td>\n",
       "      <td>25</td>\n",
       "      <td>Snow</td>\n",
       "    </tr>\n",
       "    <tr>\n",
       "      <th>3</th>\n",
       "      <td>4/1/2017</td>\n",
       "      <td>-3</td>\n",
       "      <td>75</td>\n",
       "      <td>Snow</td>\n",
       "    </tr>\n",
       "    <tr>\n",
       "      <th>4</th>\n",
       "      <td>5/1/2017</td>\n",
       "      <td>8</td>\n",
       "      <td>45</td>\n",
       "      <td>Rain</td>\n",
       "    </tr>\n",
       "    <tr>\n",
       "      <th>5</th>\n",
       "      <td>6/1/2017</td>\n",
       "      <td>14</td>\n",
       "      <td>20</td>\n",
       "      <td>Sunny</td>\n",
       "    </tr>\n",
       "  </tbody>\n",
       "</table>\n",
       "</div>"
      ],
      "text/plain": [
       "        Day  Temperature  Windspeed  Event\n",
       "0  1/1/2017           12         60   Rain\n",
       "1  2/1/2017           16         70  Sunny\n",
       "2  3/1/2017           -2         25   Snow\n",
       "3  4/1/2017           -3         75   Snow\n",
       "4  5/1/2017            8         45   Rain\n",
       "5  6/1/2017           14         20  Sunny"
      ]
     },
     "execution_count": 53,
     "metadata": {},
     "output_type": "execute_result"
    }
   ],
   "source": [
    "df"
   ]
  },
  {
   "cell_type": "code",
   "execution_count": 54,
   "metadata": {
    "colab": {
     "base_uri": "https://localhost:8080/"
    },
    "executionInfo": {
     "elapsed": 33,
     "status": "ok",
     "timestamp": 1649841300795,
     "user": {
      "displayName": "Zohar Gilad",
      "userId": "00340934557496237852"
     },
     "user_tz": -180
    },
    "id": "bixu71lTuBcf",
    "outputId": "66ffcf96-1092-4e56-eac3-52b2d9075f54",
    "slideshow": {
     "slide_type": "fragment"
    }
   },
   "outputs": [
    {
     "data": {
      "text/html": [
       "<div>\n",
       "<style scoped>\n",
       "    .dataframe tbody tr th:only-of-type {\n",
       "        vertical-align: middle;\n",
       "    }\n",
       "\n",
       "    .dataframe tbody tr th {\n",
       "        vertical-align: top;\n",
       "    }\n",
       "\n",
       "    .dataframe thead th {\n",
       "        text-align: right;\n",
       "    }\n",
       "</style>\n",
       "<table border=\"1\" class=\"dataframe\">\n",
       "  <thead>\n",
       "    <tr style=\"text-align: right;\">\n",
       "      <th></th>\n",
       "      <th>Day</th>\n",
       "      <th>Temperature</th>\n",
       "      <th>Windspeed</th>\n",
       "      <th>Event</th>\n",
       "    </tr>\n",
       "  </thead>\n",
       "  <tbody>\n",
       "    <tr>\n",
       "      <th>0</th>\n",
       "      <td>1/1/2017</td>\n",
       "      <td>12</td>\n",
       "      <td>60</td>\n",
       "      <td>Rain</td>\n",
       "    </tr>\n",
       "    <tr>\n",
       "      <th>1</th>\n",
       "      <td>2/1/2017</td>\n",
       "      <td>16</td>\n",
       "      <td>70</td>\n",
       "      <td>Sunny</td>\n",
       "    </tr>\n",
       "    <tr>\n",
       "      <th>2</th>\n",
       "      <td>3/1/2017</td>\n",
       "      <td>-2</td>\n",
       "      <td>25</td>\n",
       "      <td>Snow</td>\n",
       "    </tr>\n",
       "    <tr>\n",
       "      <th>3</th>\n",
       "      <td>4/1/2017</td>\n",
       "      <td>18</td>\n",
       "      <td>35</td>\n",
       "      <td>Sunny</td>\n",
       "    </tr>\n",
       "    <tr>\n",
       "      <th>4</th>\n",
       "      <td>5/1/2017</td>\n",
       "      <td>8</td>\n",
       "      <td>45</td>\n",
       "      <td>Rain</td>\n",
       "    </tr>\n",
       "    <tr>\n",
       "      <th>5</th>\n",
       "      <td>6/1/2017</td>\n",
       "      <td>14</td>\n",
       "      <td>20</td>\n",
       "      <td>Sunny</td>\n",
       "    </tr>\n",
       "  </tbody>\n",
       "</table>\n",
       "</div>"
      ],
      "text/plain": [
       "        Day  Temperature  Windspeed  Event\n",
       "0  1/1/2017           12         60   Rain\n",
       "1  2/1/2017           16         70  Sunny\n",
       "2  3/1/2017           -2         25   Snow\n",
       "3  4/1/2017           18         35  Sunny\n",
       "4  5/1/2017            8         45   Rain\n",
       "5  6/1/2017           14         20  Sunny"
      ]
     },
     "execution_count": 54,
     "metadata": {},
     "output_type": "execute_result"
    }
   ],
   "source": [
    "df.loc[df['Day'] == '4/1/2017', ['Temperature', 'Windspeed', 'Event']] = [18, 35, 'Sunny']\n",
    "df"
   ]
  },
  {
   "cell_type": "markdown",
   "metadata": {
    "id": "eiXevWyPuBcg",
    "slideshow": {
     "slide_type": "slide"
    }
   },
   "source": [
    "### The Apply Method"
   ]
  },
  {
   "cell_type": "markdown",
   "metadata": {
    "id": "yDcDcgrruBcg",
    "slideshow": {
     "slide_type": "fragment"
    }
   },
   "source": [
    "The Apply method is used to call a function on values in our Dataframe. Apply can work on either a Dataframe or a Series object (row or column)."
   ]
  },
  {
   "cell_type": "markdown",
   "metadata": {
    "id": "ooG8t1xBuBcg",
    "slideshow": {
     "slide_type": "fragment"
    }
   },
   "source": [
    "When using Apply on a Series object, it can apply a function to every value in the Series object. For example we can use it to transform the entire temperature column to be presented in Fahrenheit instead of in Celsius:"
   ]
  },
  {
   "cell_type": "code",
   "execution_count": 55,
   "metadata": {
    "colab": {
     "base_uri": "https://localhost:8080/"
    },
    "executionInfo": {
     "elapsed": 32,
     "status": "ok",
     "timestamp": 1649841300795,
     "user": {
      "displayName": "Zohar Gilad",
      "userId": "00340934557496237852"
     },
     "user_tz": -180
    },
    "id": "VKH7B8BOuBcg",
    "outputId": "14e7e62a-8469-45b1-be3d-18555bfcb298",
    "slideshow": {
     "slide_type": "fragment"
    }
   },
   "outputs": [
    {
     "data": {
      "text/plain": [
       "0    53.6\n",
       "1    60.8\n",
       "2    28.4\n",
       "3    64.4\n",
       "4    46.4\n",
       "5    57.2\n",
       "Name: Temperature, dtype: float64"
      ]
     },
     "execution_count": 55,
     "metadata": {},
     "output_type": "execute_result"
    }
   ],
   "source": [
    "# using an annonymous function by using `lambda`\n",
    "df['Temperature'].apply(lambda x: x*1.8 + 32)"
   ]
  },
  {
   "cell_type": "markdown",
   "metadata": {
    "id": "NVJrWK9vuBcg",
    "slideshow": {
     "slide_type": "subslide"
    }
   },
   "source": [
    "We can also define a function and use it in `apply`, the function will get as input each value in the `Series` object:"
   ]
  },
  {
   "cell_type": "code",
   "execution_count": 56,
   "metadata": {
    "executionInfo": {
     "elapsed": 33,
     "status": "ok",
     "timestamp": 1649841300796,
     "user": {
      "displayName": "Zohar Gilad",
      "userId": "00340934557496237852"
     },
     "user_tz": -180
    },
    "id": "DwAmuauVuBcg",
    "slideshow": {
     "slide_type": "fragment"
    }
   },
   "outputs": [],
   "source": [
    "def celsius_to_fahrenheit(temp_in_celsius):\n",
    "    return temp_in_celsius*1.8 + 32"
   ]
  },
  {
   "cell_type": "code",
   "execution_count": 57,
   "metadata": {
    "colab": {
     "base_uri": "https://localhost:8080/"
    },
    "executionInfo": {
     "elapsed": 542,
     "status": "ok",
     "timestamp": 1649841301306,
     "user": {
      "displayName": "Zohar Gilad",
      "userId": "00340934557496237852"
     },
     "user_tz": -180
    },
    "id": "H5Wtx-ckuBcg",
    "outputId": "0cf41728-bd23-4e7b-831f-a9d5d866c362",
    "slideshow": {
     "slide_type": "fragment"
    }
   },
   "outputs": [
    {
     "data": {
      "text/plain": [
       "0    53.6\n",
       "1    60.8\n",
       "2    28.4\n",
       "3    64.4\n",
       "4    46.4\n",
       "5    57.2\n",
       "Name: Temperature, dtype: float64"
      ]
     },
     "execution_count": 57,
     "metadata": {},
     "output_type": "execute_result"
    }
   ],
   "source": [
    "df['Temperature'].apply(celsius_to_fahrenheit)"
   ]
  },
  {
   "cell_type": "markdown",
   "metadata": {
    "id": "fqDoL_YmuBcg",
    "slideshow": {
     "slide_type": "subslide"
    }
   },
   "source": [
    "When using `apply()` on a Dataframe object we can use the `axis` parameter to set it to work on each column (`axis='rows'`) or each row (`axis='columns'`):"
   ]
  },
  {
   "cell_type": "code",
   "execution_count": 58,
   "metadata": {
    "colab": {
     "base_uri": "https://localhost:8080/"
    },
    "executionInfo": {
     "elapsed": 27,
     "status": "ok",
     "timestamp": 1649841301306,
     "user": {
      "displayName": "Zohar Gilad",
      "userId": "00340934557496237852"
     },
     "user_tz": -180
    },
    "id": "Mfk_0_bKuBcj",
    "outputId": "7f8fcdb0-a27c-4345-d07f-a549b3f640b2",
    "slideshow": {
     "slide_type": "fragment"
    }
   },
   "outputs": [
    {
     "data": {
      "text/plain": [
       "Day            6\n",
       "Temperature    6\n",
       "Windspeed      6\n",
       "Event          6\n",
       "dtype: int64"
      ]
     },
     "execution_count": 58,
     "metadata": {},
     "output_type": "execute_result"
    }
   ],
   "source": [
    "df.apply(len, axis='rows')"
   ]
  },
  {
   "cell_type": "code",
   "execution_count": 59,
   "metadata": {
    "colab": {
     "base_uri": "https://localhost:8080/"
    },
    "executionInfo": {
     "elapsed": 27,
     "status": "ok",
     "timestamp": 1649841301307,
     "user": {
      "displayName": "Zohar Gilad",
      "userId": "00340934557496237852"
     },
     "user_tz": -180
    },
    "id": "2nbPzorBuBcj",
    "outputId": "62fdab16-3c65-482d-d33a-b31000eb0fad",
    "slideshow": {
     "slide_type": "fragment"
    }
   },
   "outputs": [
    {
     "data": {
      "text/plain": [
       "0    4\n",
       "1    4\n",
       "2    4\n",
       "3    4\n",
       "4    4\n",
       "5    4\n",
       "dtype: int64"
      ]
     },
     "execution_count": 59,
     "metadata": {},
     "output_type": "execute_result"
    }
   ],
   "source": [
    "df.apply(len, axis='columns')"
   ]
  },
  {
   "cell_type": "markdown",
   "metadata": {
    "id": "bhH-8GWVuBcj",
    "slideshow": {
     "slide_type": "slide"
    }
   },
   "source": [
    "## Add and Remove Rows and Columns"
   ]
  },
  {
   "cell_type": "markdown",
   "metadata": {
    "id": "fNw_Nd5nuBcj",
    "slideshow": {
     "slide_type": "subslide"
    }
   },
   "source": [
    "### Add and Remove Columns"
   ]
  },
  {
   "cell_type": "markdown",
   "metadata": {
    "id": "sYvR3-QouBcj",
    "slideshow": {
     "slide_type": "fragment"
    }
   },
   "source": [
    "Let's add a temperature in fahrenheit to our Dataframe:"
   ]
  },
  {
   "cell_type": "code",
   "execution_count": 60,
   "metadata": {
    "colab": {
     "base_uri": "https://localhost:8080/"
    },
    "executionInfo": {
     "elapsed": 26,
     "status": "ok",
     "timestamp": 1649841301307,
     "user": {
      "displayName": "Zohar Gilad",
      "userId": "00340934557496237852"
     },
     "user_tz": -180
    },
    "id": "hgRXXJeUuBcj",
    "outputId": "d42bdd46-cb6e-4705-f87e-8b8d1c95a296",
    "slideshow": {
     "slide_type": "fragment"
    }
   },
   "outputs": [
    {
     "data": {
      "text/html": [
       "<div>\n",
       "<style scoped>\n",
       "    .dataframe tbody tr th:only-of-type {\n",
       "        vertical-align: middle;\n",
       "    }\n",
       "\n",
       "    .dataframe tbody tr th {\n",
       "        vertical-align: top;\n",
       "    }\n",
       "\n",
       "    .dataframe thead th {\n",
       "        text-align: right;\n",
       "    }\n",
       "</style>\n",
       "<table border=\"1\" class=\"dataframe\">\n",
       "  <thead>\n",
       "    <tr style=\"text-align: right;\">\n",
       "      <th></th>\n",
       "      <th>Day</th>\n",
       "      <th>Temperature</th>\n",
       "      <th>Windspeed</th>\n",
       "      <th>Event</th>\n",
       "      <th>Temperature(F)</th>\n",
       "    </tr>\n",
       "  </thead>\n",
       "  <tbody>\n",
       "    <tr>\n",
       "      <th>0</th>\n",
       "      <td>1/1/2017</td>\n",
       "      <td>12</td>\n",
       "      <td>60</td>\n",
       "      <td>Rain</td>\n",
       "      <td>53.6</td>\n",
       "    </tr>\n",
       "    <tr>\n",
       "      <th>1</th>\n",
       "      <td>2/1/2017</td>\n",
       "      <td>16</td>\n",
       "      <td>70</td>\n",
       "      <td>Sunny</td>\n",
       "      <td>60.8</td>\n",
       "    </tr>\n",
       "    <tr>\n",
       "      <th>2</th>\n",
       "      <td>3/1/2017</td>\n",
       "      <td>-2</td>\n",
       "      <td>25</td>\n",
       "      <td>Snow</td>\n",
       "      <td>28.4</td>\n",
       "    </tr>\n",
       "    <tr>\n",
       "      <th>3</th>\n",
       "      <td>4/1/2017</td>\n",
       "      <td>18</td>\n",
       "      <td>35</td>\n",
       "      <td>Sunny</td>\n",
       "      <td>64.4</td>\n",
       "    </tr>\n",
       "    <tr>\n",
       "      <th>4</th>\n",
       "      <td>5/1/2017</td>\n",
       "      <td>8</td>\n",
       "      <td>45</td>\n",
       "      <td>Rain</td>\n",
       "      <td>46.4</td>\n",
       "    </tr>\n",
       "    <tr>\n",
       "      <th>5</th>\n",
       "      <td>6/1/2017</td>\n",
       "      <td>14</td>\n",
       "      <td>20</td>\n",
       "      <td>Sunny</td>\n",
       "      <td>57.2</td>\n",
       "    </tr>\n",
       "  </tbody>\n",
       "</table>\n",
       "</div>"
      ],
      "text/plain": [
       "        Day  Temperature  Windspeed  Event  Temperature(F)\n",
       "0  1/1/2017           12         60   Rain            53.6\n",
       "1  2/1/2017           16         70  Sunny            60.8\n",
       "2  3/1/2017           -2         25   Snow            28.4\n",
       "3  4/1/2017           18         35  Sunny            64.4\n",
       "4  5/1/2017            8         45   Rain            46.4\n",
       "5  6/1/2017           14         20  Sunny            57.2"
      ]
     },
     "execution_count": 60,
     "metadata": {},
     "output_type": "execute_result"
    }
   ],
   "source": [
    "df['Temperature(F)'] = df['Temperature'].apply(lambda x: x*1.8 + 32)\n",
    "df"
   ]
  },
  {
   "cell_type": "markdown",
   "metadata": {
    "id": "VXHO_7z1uBcj",
    "slideshow": {
     "slide_type": "subslide"
    }
   },
   "source": [
    "And also add a humadity column:"
   ]
  },
  {
   "cell_type": "code",
   "execution_count": 61,
   "metadata": {
    "colab": {
     "base_uri": "https://localhost:8080/"
    },
    "executionInfo": {
     "elapsed": 25,
     "status": "ok",
     "timestamp": 1649841301307,
     "user": {
      "displayName": "Zohar Gilad",
      "userId": "00340934557496237852"
     },
     "user_tz": -180
    },
    "id": "qpleeObLuBck",
    "outputId": "28d5518b-5cff-43f2-db7b-82044e94627b",
    "slideshow": {
     "slide_type": "fragment"
    }
   },
   "outputs": [
    {
     "data": {
      "text/html": [
       "<div>\n",
       "<style scoped>\n",
       "    .dataframe tbody tr th:only-of-type {\n",
       "        vertical-align: middle;\n",
       "    }\n",
       "\n",
       "    .dataframe tbody tr th {\n",
       "        vertical-align: top;\n",
       "    }\n",
       "\n",
       "    .dataframe thead th {\n",
       "        text-align: right;\n",
       "    }\n",
       "</style>\n",
       "<table border=\"1\" class=\"dataframe\">\n",
       "  <thead>\n",
       "    <tr style=\"text-align: right;\">\n",
       "      <th></th>\n",
       "      <th>Day</th>\n",
       "      <th>Temperature</th>\n",
       "      <th>Windspeed</th>\n",
       "      <th>Event</th>\n",
       "      <th>Temperature(F)</th>\n",
       "      <th>Humidity</th>\n",
       "    </tr>\n",
       "  </thead>\n",
       "  <tbody>\n",
       "    <tr>\n",
       "      <th>0</th>\n",
       "      <td>1/1/2017</td>\n",
       "      <td>12</td>\n",
       "      <td>60</td>\n",
       "      <td>Rain</td>\n",
       "      <td>53.6</td>\n",
       "      <td>70</td>\n",
       "    </tr>\n",
       "    <tr>\n",
       "      <th>1</th>\n",
       "      <td>2/1/2017</td>\n",
       "      <td>16</td>\n",
       "      <td>70</td>\n",
       "      <td>Sunny</td>\n",
       "      <td>60.8</td>\n",
       "      <td>60</td>\n",
       "    </tr>\n",
       "    <tr>\n",
       "      <th>2</th>\n",
       "      <td>3/1/2017</td>\n",
       "      <td>-2</td>\n",
       "      <td>25</td>\n",
       "      <td>Snow</td>\n",
       "      <td>28.4</td>\n",
       "      <td>50</td>\n",
       "    </tr>\n",
       "    <tr>\n",
       "      <th>3</th>\n",
       "      <td>4/1/2017</td>\n",
       "      <td>18</td>\n",
       "      <td>35</td>\n",
       "      <td>Sunny</td>\n",
       "      <td>64.4</td>\n",
       "      <td>65</td>\n",
       "    </tr>\n",
       "    <tr>\n",
       "      <th>4</th>\n",
       "      <td>5/1/2017</td>\n",
       "      <td>8</td>\n",
       "      <td>45</td>\n",
       "      <td>Rain</td>\n",
       "      <td>46.4</td>\n",
       "      <td>75</td>\n",
       "    </tr>\n",
       "    <tr>\n",
       "      <th>5</th>\n",
       "      <td>6/1/2017</td>\n",
       "      <td>14</td>\n",
       "      <td>20</td>\n",
       "      <td>Sunny</td>\n",
       "      <td>57.2</td>\n",
       "      <td>65</td>\n",
       "    </tr>\n",
       "  </tbody>\n",
       "</table>\n",
       "</div>"
      ],
      "text/plain": [
       "        Day  Temperature  Windspeed  Event  Temperature(F)  Humidity\n",
       "0  1/1/2017           12         60   Rain            53.6        70\n",
       "1  2/1/2017           16         70  Sunny            60.8        60\n",
       "2  3/1/2017           -2         25   Snow            28.4        50\n",
       "3  4/1/2017           18         35  Sunny            64.4        65\n",
       "4  5/1/2017            8         45   Rain            46.4        75\n",
       "5  6/1/2017           14         20  Sunny            57.2        65"
      ]
     },
     "execution_count": 61,
     "metadata": {},
     "output_type": "execute_result"
    }
   ],
   "source": [
    "df['Humidity'] = [70, 60, 50, 65, 75, 65]\n",
    "df"
   ]
  },
  {
   "cell_type": "markdown",
   "metadata": {
    "slideshow": {
     "slide_type": "subslide"
    }
   },
   "source": [
    "We can also add column using the `assign()` method:"
   ]
  },
  {
   "cell_type": "code",
   "execution_count": 62,
   "metadata": {
    "colab": {
     "base_uri": "https://localhost:8080/"
    },
    "executionInfo": {
     "elapsed": 25,
     "status": "ok",
     "timestamp": 1649841301308,
     "user": {
      "displayName": "Zohar Gilad",
      "userId": "00340934557496237852"
     },
     "user_tz": -180
    },
    "id": "Dtg2vD9BuBck",
    "outputId": "827fc5f4-cf2c-4189-ecd0-84d0897c5c90",
    "slideshow": {
     "slide_type": "fragment"
    }
   },
   "outputs": [
    {
     "data": {
      "text/html": [
       "<div>\n",
       "<style scoped>\n",
       "    .dataframe tbody tr th:only-of-type {\n",
       "        vertical-align: middle;\n",
       "    }\n",
       "\n",
       "    .dataframe tbody tr th {\n",
       "        vertical-align: top;\n",
       "    }\n",
       "\n",
       "    .dataframe thead th {\n",
       "        text-align: right;\n",
       "    }\n",
       "</style>\n",
       "<table border=\"1\" class=\"dataframe\">\n",
       "  <thead>\n",
       "    <tr style=\"text-align: right;\">\n",
       "      <th></th>\n",
       "      <th>Day</th>\n",
       "      <th>Temperature</th>\n",
       "      <th>Windspeed</th>\n",
       "      <th>Event</th>\n",
       "      <th>Temperature(F)</th>\n",
       "      <th>Humidity</th>\n",
       "      <th>WindDirection</th>\n",
       "    </tr>\n",
       "  </thead>\n",
       "  <tbody>\n",
       "    <tr>\n",
       "      <th>0</th>\n",
       "      <td>1/1/2017</td>\n",
       "      <td>12</td>\n",
       "      <td>60</td>\n",
       "      <td>Rain</td>\n",
       "      <td>53.6</td>\n",
       "      <td>70</td>\n",
       "      <td>SE</td>\n",
       "    </tr>\n",
       "    <tr>\n",
       "      <th>1</th>\n",
       "      <td>2/1/2017</td>\n",
       "      <td>16</td>\n",
       "      <td>70</td>\n",
       "      <td>Sunny</td>\n",
       "      <td>60.8</td>\n",
       "      <td>60</td>\n",
       "      <td>N</td>\n",
       "    </tr>\n",
       "    <tr>\n",
       "      <th>2</th>\n",
       "      <td>3/1/2017</td>\n",
       "      <td>-2</td>\n",
       "      <td>25</td>\n",
       "      <td>Snow</td>\n",
       "      <td>28.4</td>\n",
       "      <td>50</td>\n",
       "      <td>NW</td>\n",
       "    </tr>\n",
       "    <tr>\n",
       "      <th>3</th>\n",
       "      <td>4/1/2017</td>\n",
       "      <td>18</td>\n",
       "      <td>35</td>\n",
       "      <td>Sunny</td>\n",
       "      <td>64.4</td>\n",
       "      <td>65</td>\n",
       "      <td>SW</td>\n",
       "    </tr>\n",
       "    <tr>\n",
       "      <th>4</th>\n",
       "      <td>5/1/2017</td>\n",
       "      <td>8</td>\n",
       "      <td>45</td>\n",
       "      <td>Rain</td>\n",
       "      <td>46.4</td>\n",
       "      <td>75</td>\n",
       "      <td>W</td>\n",
       "    </tr>\n",
       "    <tr>\n",
       "      <th>5</th>\n",
       "      <td>6/1/2017</td>\n",
       "      <td>14</td>\n",
       "      <td>20</td>\n",
       "      <td>Sunny</td>\n",
       "      <td>57.2</td>\n",
       "      <td>65</td>\n",
       "      <td>SE</td>\n",
       "    </tr>\n",
       "  </tbody>\n",
       "</table>\n",
       "</div>"
      ],
      "text/plain": [
       "        Day  Temperature  Windspeed  Event  Temperature(F)  Humidity  \\\n",
       "0  1/1/2017           12         60   Rain            53.6        70   \n",
       "1  2/1/2017           16         70  Sunny            60.8        60   \n",
       "2  3/1/2017           -2         25   Snow            28.4        50   \n",
       "3  4/1/2017           18         35  Sunny            64.4        65   \n",
       "4  5/1/2017            8         45   Rain            46.4        75   \n",
       "5  6/1/2017           14         20  Sunny            57.2        65   \n",
       "\n",
       "  WindDirection  \n",
       "0            SE  \n",
       "1             N  \n",
       "2            NW  \n",
       "3            SW  \n",
       "4             W  \n",
       "5            SE  "
      ]
     },
     "execution_count": 62,
     "metadata": {},
     "output_type": "execute_result"
    }
   ],
   "source": [
    "df = df.assign(WindDirection= ['SE', 'N', 'NW', 'SW', 'W', 'SE']) # assign can't be inplace operation\n",
    "df"
   ]
  },
  {
   "cell_type": "markdown",
   "metadata": {
    "id": "1sowCGV-uBck",
    "slideshow": {
     "slide_type": "subslide"
    }
   },
   "source": [
    "We can delete columns using the `drop()` method. Let's drop the older temperature column and the windspeed and WindDirection columns:"
   ]
  },
  {
   "cell_type": "code",
   "execution_count": 63,
   "metadata": {
    "colab": {
     "base_uri": "https://localhost:8080/"
    },
    "executionInfo": {
     "elapsed": 26,
     "status": "ok",
     "timestamp": 1649841301308,
     "user": {
      "displayName": "Zohar Gilad",
      "userId": "00340934557496237852"
     },
     "user_tz": -180
    },
    "id": "_WUBm-GZuBck",
    "outputId": "4fd18515-6c21-416f-f1b0-263a6ec75f85",
    "slideshow": {
     "slide_type": "fragment"
    }
   },
   "outputs": [
    {
     "data": {
      "text/html": [
       "<div>\n",
       "<style scoped>\n",
       "    .dataframe tbody tr th:only-of-type {\n",
       "        vertical-align: middle;\n",
       "    }\n",
       "\n",
       "    .dataframe tbody tr th {\n",
       "        vertical-align: top;\n",
       "    }\n",
       "\n",
       "    .dataframe thead th {\n",
       "        text-align: right;\n",
       "    }\n",
       "</style>\n",
       "<table border=\"1\" class=\"dataframe\">\n",
       "  <thead>\n",
       "    <tr style=\"text-align: right;\">\n",
       "      <th></th>\n",
       "      <th>Day</th>\n",
       "      <th>Event</th>\n",
       "      <th>Temperature(F)</th>\n",
       "      <th>Humidity</th>\n",
       "    </tr>\n",
       "  </thead>\n",
       "  <tbody>\n",
       "    <tr>\n",
       "      <th>0</th>\n",
       "      <td>1/1/2017</td>\n",
       "      <td>Rain</td>\n",
       "      <td>53.6</td>\n",
       "      <td>70</td>\n",
       "    </tr>\n",
       "    <tr>\n",
       "      <th>1</th>\n",
       "      <td>2/1/2017</td>\n",
       "      <td>Sunny</td>\n",
       "      <td>60.8</td>\n",
       "      <td>60</td>\n",
       "    </tr>\n",
       "    <tr>\n",
       "      <th>2</th>\n",
       "      <td>3/1/2017</td>\n",
       "      <td>Snow</td>\n",
       "      <td>28.4</td>\n",
       "      <td>50</td>\n",
       "    </tr>\n",
       "    <tr>\n",
       "      <th>3</th>\n",
       "      <td>4/1/2017</td>\n",
       "      <td>Sunny</td>\n",
       "      <td>64.4</td>\n",
       "      <td>65</td>\n",
       "    </tr>\n",
       "    <tr>\n",
       "      <th>4</th>\n",
       "      <td>5/1/2017</td>\n",
       "      <td>Rain</td>\n",
       "      <td>46.4</td>\n",
       "      <td>75</td>\n",
       "    </tr>\n",
       "    <tr>\n",
       "      <th>5</th>\n",
       "      <td>6/1/2017</td>\n",
       "      <td>Sunny</td>\n",
       "      <td>57.2</td>\n",
       "      <td>65</td>\n",
       "    </tr>\n",
       "  </tbody>\n",
       "</table>\n",
       "</div>"
      ],
      "text/plain": [
       "        Day  Event  Temperature(F)  Humidity\n",
       "0  1/1/2017   Rain            53.6        70\n",
       "1  2/1/2017  Sunny            60.8        60\n",
       "2  3/1/2017   Snow            28.4        50\n",
       "3  4/1/2017  Sunny            64.4        65\n",
       "4  5/1/2017   Rain            46.4        75\n",
       "5  6/1/2017  Sunny            57.2        65"
      ]
     },
     "execution_count": 63,
     "metadata": {},
     "output_type": "execute_result"
    }
   ],
   "source": [
    "df.drop(columns=['Temperature', 'Windspeed', 'WindDirection'])"
   ]
  },
  {
   "cell_type": "markdown",
   "metadata": {
    "id": "5a3PEQPMuBck",
    "slideshow": {
     "slide_type": "subslide"
    }
   },
   "source": [
    "Notice that we have to use the `inplace=True` parameter if we want to make changes to the Dataframe we work with. If we don't, the `drop()` method returns a new Dataframe object"
   ]
  },
  {
   "cell_type": "code",
   "execution_count": 64,
   "metadata": {
    "colab": {
     "base_uri": "https://localhost:8080/"
    },
    "executionInfo": {
     "elapsed": 25,
     "status": "ok",
     "timestamp": 1649841301309,
     "user": {
      "displayName": "Zohar Gilad",
      "userId": "00340934557496237852"
     },
     "user_tz": -180
    },
    "id": "VRk8qPzQuBck",
    "outputId": "2162d8e2-48e7-4004-e068-dad72e123322",
    "slideshow": {
     "slide_type": "fragment"
    }
   },
   "outputs": [
    {
     "data": {
      "text/html": [
       "<div>\n",
       "<style scoped>\n",
       "    .dataframe tbody tr th:only-of-type {\n",
       "        vertical-align: middle;\n",
       "    }\n",
       "\n",
       "    .dataframe tbody tr th {\n",
       "        vertical-align: top;\n",
       "    }\n",
       "\n",
       "    .dataframe thead th {\n",
       "        text-align: right;\n",
       "    }\n",
       "</style>\n",
       "<table border=\"1\" class=\"dataframe\">\n",
       "  <thead>\n",
       "    <tr style=\"text-align: right;\">\n",
       "      <th></th>\n",
       "      <th>Day</th>\n",
       "      <th>Event</th>\n",
       "      <th>Temperature(F)</th>\n",
       "      <th>Humidity</th>\n",
       "    </tr>\n",
       "  </thead>\n",
       "  <tbody>\n",
       "    <tr>\n",
       "      <th>0</th>\n",
       "      <td>1/1/2017</td>\n",
       "      <td>Rain</td>\n",
       "      <td>53.6</td>\n",
       "      <td>70</td>\n",
       "    </tr>\n",
       "    <tr>\n",
       "      <th>1</th>\n",
       "      <td>2/1/2017</td>\n",
       "      <td>Sunny</td>\n",
       "      <td>60.8</td>\n",
       "      <td>60</td>\n",
       "    </tr>\n",
       "    <tr>\n",
       "      <th>2</th>\n",
       "      <td>3/1/2017</td>\n",
       "      <td>Snow</td>\n",
       "      <td>28.4</td>\n",
       "      <td>50</td>\n",
       "    </tr>\n",
       "    <tr>\n",
       "      <th>3</th>\n",
       "      <td>4/1/2017</td>\n",
       "      <td>Sunny</td>\n",
       "      <td>64.4</td>\n",
       "      <td>65</td>\n",
       "    </tr>\n",
       "    <tr>\n",
       "      <th>4</th>\n",
       "      <td>5/1/2017</td>\n",
       "      <td>Rain</td>\n",
       "      <td>46.4</td>\n",
       "      <td>75</td>\n",
       "    </tr>\n",
       "    <tr>\n",
       "      <th>5</th>\n",
       "      <td>6/1/2017</td>\n",
       "      <td>Sunny</td>\n",
       "      <td>57.2</td>\n",
       "      <td>65</td>\n",
       "    </tr>\n",
       "  </tbody>\n",
       "</table>\n",
       "</div>"
      ],
      "text/plain": [
       "        Day  Event  Temperature(F)  Humidity\n",
       "0  1/1/2017   Rain            53.6        70\n",
       "1  2/1/2017  Sunny            60.8        60\n",
       "2  3/1/2017   Snow            28.4        50\n",
       "3  4/1/2017  Sunny            64.4        65\n",
       "4  5/1/2017   Rain            46.4        75\n",
       "5  6/1/2017  Sunny            57.2        65"
      ]
     },
     "execution_count": 64,
     "metadata": {},
     "output_type": "execute_result"
    }
   ],
   "source": [
    "df.drop(columns=['Temperature', 'Windspeed', 'WindDirection'], inplace=True)\n",
    "df"
   ]
  },
  {
   "cell_type": "markdown",
   "metadata": {
    "id": "KG5RqlEFuBck",
    "slideshow": {
     "slide_type": "slide"
    }
   },
   "source": [
    "### Add and Remove Rows"
   ]
  },
  {
   "cell_type": "markdown",
   "metadata": {
    "id": "ljlbw79SuBck",
    "slideshow": {
     "slide_type": "subslide"
    }
   },
   "source": [
    "We can use the `pandas.concat()` method to add rows to our Dataframe."
   ]
  },
  {
   "cell_type": "code",
   "execution_count": 65,
   "metadata": {
    "colab": {
     "base_uri": "https://localhost:8080/"
    },
    "executionInfo": {
     "elapsed": 24,
     "status": "ok",
     "timestamp": 1649841301309,
     "user": {
      "displayName": "Zohar Gilad",
      "userId": "00340934557496237852"
     },
     "user_tz": -180
    },
    "id": "w0KFoEENuBck",
    "outputId": "93098e52-fd19-4d5d-d72b-d9dcba5ed82e",
    "slideshow": {
     "slide_type": "fragment"
    }
   },
   "outputs": [
    {
     "data": {
      "text/html": [
       "<div>\n",
       "<style scoped>\n",
       "    .dataframe tbody tr th:only-of-type {\n",
       "        vertical-align: middle;\n",
       "    }\n",
       "\n",
       "    .dataframe tbody tr th {\n",
       "        vertical-align: top;\n",
       "    }\n",
       "\n",
       "    .dataframe thead th {\n",
       "        text-align: right;\n",
       "    }\n",
       "</style>\n",
       "<table border=\"1\" class=\"dataframe\">\n",
       "  <thead>\n",
       "    <tr style=\"text-align: right;\">\n",
       "      <th></th>\n",
       "      <th>Day</th>\n",
       "      <th>Temperature(F)</th>\n",
       "      <th>Humidity</th>\n",
       "      <th>Event</th>\n",
       "    </tr>\n",
       "  </thead>\n",
       "  <tbody>\n",
       "    <tr>\n",
       "      <th>0</th>\n",
       "      <td>7/1/2017</td>\n",
       "      <td>97</td>\n",
       "      <td>78</td>\n",
       "      <td>Sunny</td>\n",
       "    </tr>\n",
       "    <tr>\n",
       "      <th>1</th>\n",
       "      <td>8/1/2017</td>\n",
       "      <td>102</td>\n",
       "      <td>85</td>\n",
       "      <td>Sunny</td>\n",
       "    </tr>\n",
       "  </tbody>\n",
       "</table>\n",
       "</div>"
      ],
      "text/plain": [
       "        Day  Temperature(F)  Humidity  Event\n",
       "0  7/1/2017              97        78  Sunny\n",
       "1  8/1/2017             102        85  Sunny"
      ]
     },
     "execution_count": 65,
     "metadata": {},
     "output_type": "execute_result"
    }
   ],
   "source": [
    "new_data = {\n",
    "    'Day' : ['7/1/2017', '8/1/2017'],\n",
    "    'Temperature(F)' : [97, 102],\n",
    "    'Humidity' : [78, 85],\n",
    "    'Event' : ['Sunny', 'Sunny']\n",
    "}\n",
    "df2 = pd.DataFrame(new_data)\n",
    "df2"
   ]
  },
  {
   "cell_type": "code",
   "execution_count": 66,
   "metadata": {
    "colab": {
     "base_uri": "https://localhost:8080/"
    },
    "executionInfo": {
     "elapsed": 23,
     "status": "ok",
     "timestamp": 1649841301309,
     "user": {
      "displayName": "Zohar Gilad",
      "userId": "00340934557496237852"
     },
     "user_tz": -180
    },
    "id": "06X7BPNiuBcl",
    "outputId": "f6e1964d-62fc-4fd1-c129-2ebe8b55a1e1",
    "slideshow": {
     "slide_type": "fragment"
    }
   },
   "outputs": [
    {
     "data": {
      "text/html": [
       "<div>\n",
       "<style scoped>\n",
       "    .dataframe tbody tr th:only-of-type {\n",
       "        vertical-align: middle;\n",
       "    }\n",
       "\n",
       "    .dataframe tbody tr th {\n",
       "        vertical-align: top;\n",
       "    }\n",
       "\n",
       "    .dataframe thead th {\n",
       "        text-align: right;\n",
       "    }\n",
       "</style>\n",
       "<table border=\"1\" class=\"dataframe\">\n",
       "  <thead>\n",
       "    <tr style=\"text-align: right;\">\n",
       "      <th></th>\n",
       "      <th>Day</th>\n",
       "      <th>Event</th>\n",
       "      <th>Temperature(F)</th>\n",
       "      <th>Humidity</th>\n",
       "    </tr>\n",
       "  </thead>\n",
       "  <tbody>\n",
       "    <tr>\n",
       "      <th>0</th>\n",
       "      <td>1/1/2017</td>\n",
       "      <td>Rain</td>\n",
       "      <td>53.6</td>\n",
       "      <td>70</td>\n",
       "    </tr>\n",
       "    <tr>\n",
       "      <th>1</th>\n",
       "      <td>2/1/2017</td>\n",
       "      <td>Sunny</td>\n",
       "      <td>60.8</td>\n",
       "      <td>60</td>\n",
       "    </tr>\n",
       "    <tr>\n",
       "      <th>2</th>\n",
       "      <td>3/1/2017</td>\n",
       "      <td>Snow</td>\n",
       "      <td>28.4</td>\n",
       "      <td>50</td>\n",
       "    </tr>\n",
       "    <tr>\n",
       "      <th>3</th>\n",
       "      <td>4/1/2017</td>\n",
       "      <td>Sunny</td>\n",
       "      <td>64.4</td>\n",
       "      <td>65</td>\n",
       "    </tr>\n",
       "    <tr>\n",
       "      <th>4</th>\n",
       "      <td>5/1/2017</td>\n",
       "      <td>Rain</td>\n",
       "      <td>46.4</td>\n",
       "      <td>75</td>\n",
       "    </tr>\n",
       "    <tr>\n",
       "      <th>5</th>\n",
       "      <td>6/1/2017</td>\n",
       "      <td>Sunny</td>\n",
       "      <td>57.2</td>\n",
       "      <td>65</td>\n",
       "    </tr>\n",
       "    <tr>\n",
       "      <th>0</th>\n",
       "      <td>7/1/2017</td>\n",
       "      <td>Sunny</td>\n",
       "      <td>97.0</td>\n",
       "      <td>78</td>\n",
       "    </tr>\n",
       "    <tr>\n",
       "      <th>1</th>\n",
       "      <td>8/1/2017</td>\n",
       "      <td>Sunny</td>\n",
       "      <td>102.0</td>\n",
       "      <td>85</td>\n",
       "    </tr>\n",
       "  </tbody>\n",
       "</table>\n",
       "</div>"
      ],
      "text/plain": [
       "        Day  Event  Temperature(F)  Humidity\n",
       "0  1/1/2017   Rain            53.6        70\n",
       "1  2/1/2017  Sunny            60.8        60\n",
       "2  3/1/2017   Snow            28.4        50\n",
       "3  4/1/2017  Sunny            64.4        65\n",
       "4  5/1/2017   Rain            46.4        75\n",
       "5  6/1/2017  Sunny            57.2        65\n",
       "0  7/1/2017  Sunny            97.0        78\n",
       "1  8/1/2017  Sunny           102.0        85"
      ]
     },
     "execution_count": 66,
     "metadata": {},
     "output_type": "execute_result"
    }
   ],
   "source": [
    "pd.concat([df, df2])"
   ]
  },
  {
   "cell_type": "markdown",
   "metadata": {
    "id": "fHH_YSrFuBcl",
    "slideshow": {
     "slide_type": "subslide"
    }
   },
   "source": [
    "We got duplicates in our index which is less preferable. Let's use the `ignore_index=True` parameter to assign the new data appropriate index numbers:"
   ]
  },
  {
   "cell_type": "code",
   "execution_count": 67,
   "metadata": {
    "colab": {
     "base_uri": "https://localhost:8080/"
    },
    "executionInfo": {
     "elapsed": 23,
     "status": "ok",
     "timestamp": 1649841301310,
     "user": {
      "displayName": "Zohar Gilad",
      "userId": "00340934557496237852"
     },
     "user_tz": -180
    },
    "id": "fn4AaprxuBcl",
    "outputId": "4a7b1978-bfa7-4d82-b187-125a82f76ee7",
    "slideshow": {
     "slide_type": "fragment"
    }
   },
   "outputs": [
    {
     "data": {
      "text/html": [
       "<div>\n",
       "<style scoped>\n",
       "    .dataframe tbody tr th:only-of-type {\n",
       "        vertical-align: middle;\n",
       "    }\n",
       "\n",
       "    .dataframe tbody tr th {\n",
       "        vertical-align: top;\n",
       "    }\n",
       "\n",
       "    .dataframe thead th {\n",
       "        text-align: right;\n",
       "    }\n",
       "</style>\n",
       "<table border=\"1\" class=\"dataframe\">\n",
       "  <thead>\n",
       "    <tr style=\"text-align: right;\">\n",
       "      <th></th>\n",
       "      <th>Day</th>\n",
       "      <th>Event</th>\n",
       "      <th>Temperature(F)</th>\n",
       "      <th>Humidity</th>\n",
       "    </tr>\n",
       "  </thead>\n",
       "  <tbody>\n",
       "    <tr>\n",
       "      <th>0</th>\n",
       "      <td>1/1/2017</td>\n",
       "      <td>Rain</td>\n",
       "      <td>53.6</td>\n",
       "      <td>70</td>\n",
       "    </tr>\n",
       "    <tr>\n",
       "      <th>1</th>\n",
       "      <td>2/1/2017</td>\n",
       "      <td>Sunny</td>\n",
       "      <td>60.8</td>\n",
       "      <td>60</td>\n",
       "    </tr>\n",
       "    <tr>\n",
       "      <th>2</th>\n",
       "      <td>3/1/2017</td>\n",
       "      <td>Snow</td>\n",
       "      <td>28.4</td>\n",
       "      <td>50</td>\n",
       "    </tr>\n",
       "    <tr>\n",
       "      <th>3</th>\n",
       "      <td>4/1/2017</td>\n",
       "      <td>Sunny</td>\n",
       "      <td>64.4</td>\n",
       "      <td>65</td>\n",
       "    </tr>\n",
       "    <tr>\n",
       "      <th>4</th>\n",
       "      <td>5/1/2017</td>\n",
       "      <td>Rain</td>\n",
       "      <td>46.4</td>\n",
       "      <td>75</td>\n",
       "    </tr>\n",
       "    <tr>\n",
       "      <th>5</th>\n",
       "      <td>6/1/2017</td>\n",
       "      <td>Sunny</td>\n",
       "      <td>57.2</td>\n",
       "      <td>65</td>\n",
       "    </tr>\n",
       "    <tr>\n",
       "      <th>6</th>\n",
       "      <td>7/1/2017</td>\n",
       "      <td>Sunny</td>\n",
       "      <td>97.0</td>\n",
       "      <td>78</td>\n",
       "    </tr>\n",
       "    <tr>\n",
       "      <th>7</th>\n",
       "      <td>8/1/2017</td>\n",
       "      <td>Sunny</td>\n",
       "      <td>102.0</td>\n",
       "      <td>85</td>\n",
       "    </tr>\n",
       "  </tbody>\n",
       "</table>\n",
       "</div>"
      ],
      "text/plain": [
       "        Day  Event  Temperature(F)  Humidity\n",
       "0  1/1/2017   Rain            53.6        70\n",
       "1  2/1/2017  Sunny            60.8        60\n",
       "2  3/1/2017   Snow            28.4        50\n",
       "3  4/1/2017  Sunny            64.4        65\n",
       "4  5/1/2017   Rain            46.4        75\n",
       "5  6/1/2017  Sunny            57.2        65\n",
       "6  7/1/2017  Sunny            97.0        78\n",
       "7  8/1/2017  Sunny           102.0        85"
      ]
     },
     "execution_count": 67,
     "metadata": {},
     "output_type": "execute_result"
    }
   ],
   "source": [
    "pd.concat([df, df2], ignore_index=True)"
   ]
  },
  {
   "cell_type": "markdown",
   "metadata": {
    "id": "jshnCPKXuBcl",
    "slideshow": {
     "slide_type": "subslide"
    }
   },
   "source": [
    "We can delete rows by using `drop()` and provide index number:"
   ]
  },
  {
   "cell_type": "code",
   "execution_count": 68,
   "metadata": {
    "colab": {
     "base_uri": "https://localhost:8080/"
    },
    "executionInfo": {
     "elapsed": 22,
     "status": "ok",
     "timestamp": 1649841301310,
     "user": {
      "displayName": "Zohar Gilad",
      "userId": "00340934557496237852"
     },
     "user_tz": -180
    },
    "id": "kv7sZkpjuBcl",
    "outputId": "403cf386-0d74-4f0d-9bce-9a563e60963d",
    "slideshow": {
     "slide_type": "fragment"
    }
   },
   "outputs": [
    {
     "data": {
      "text/html": [
       "<div>\n",
       "<style scoped>\n",
       "    .dataframe tbody tr th:only-of-type {\n",
       "        vertical-align: middle;\n",
       "    }\n",
       "\n",
       "    .dataframe tbody tr th {\n",
       "        vertical-align: top;\n",
       "    }\n",
       "\n",
       "    .dataframe thead th {\n",
       "        text-align: right;\n",
       "    }\n",
       "</style>\n",
       "<table border=\"1\" class=\"dataframe\">\n",
       "  <thead>\n",
       "    <tr style=\"text-align: right;\">\n",
       "      <th></th>\n",
       "      <th>Day</th>\n",
       "      <th>Event</th>\n",
       "      <th>Temperature(F)</th>\n",
       "      <th>Humidity</th>\n",
       "    </tr>\n",
       "  </thead>\n",
       "  <tbody>\n",
       "    <tr>\n",
       "      <th>0</th>\n",
       "      <td>1/1/2017</td>\n",
       "      <td>Rain</td>\n",
       "      <td>53.6</td>\n",
       "      <td>70</td>\n",
       "    </tr>\n",
       "    <tr>\n",
       "      <th>1</th>\n",
       "      <td>2/1/2017</td>\n",
       "      <td>Sunny</td>\n",
       "      <td>60.8</td>\n",
       "      <td>60</td>\n",
       "    </tr>\n",
       "    <tr>\n",
       "      <th>2</th>\n",
       "      <td>3/1/2017</td>\n",
       "      <td>Snow</td>\n",
       "      <td>28.4</td>\n",
       "      <td>50</td>\n",
       "    </tr>\n",
       "    <tr>\n",
       "      <th>3</th>\n",
       "      <td>4/1/2017</td>\n",
       "      <td>Sunny</td>\n",
       "      <td>64.4</td>\n",
       "      <td>65</td>\n",
       "    </tr>\n",
       "    <tr>\n",
       "      <th>5</th>\n",
       "      <td>6/1/2017</td>\n",
       "      <td>Sunny</td>\n",
       "      <td>57.2</td>\n",
       "      <td>65</td>\n",
       "    </tr>\n",
       "  </tbody>\n",
       "</table>\n",
       "</div>"
      ],
      "text/plain": [
       "        Day  Event  Temperature(F)  Humidity\n",
       "0  1/1/2017   Rain            53.6        70\n",
       "1  2/1/2017  Sunny            60.8        60\n",
       "2  3/1/2017   Snow            28.4        50\n",
       "3  4/1/2017  Sunny            64.4        65\n",
       "5  6/1/2017  Sunny            57.2        65"
      ]
     },
     "execution_count": 68,
     "metadata": {},
     "output_type": "execute_result"
    }
   ],
   "source": [
    "df.drop(index=4)"
   ]
  },
  {
   "cell_type": "markdown",
   "metadata": {
    "id": "Gb8v-GacuBcl",
    "slideshow": {
     "slide_type": "subslide"
    }
   },
   "source": [
    "We can select specific rows to remove by using a filter. For example, let's drop rows of days in which humadity was 65:"
   ]
  },
  {
   "cell_type": "code",
   "execution_count": 69,
   "metadata": {
    "colab": {
     "base_uri": "https://localhost:8080/"
    },
    "executionInfo": {
     "elapsed": 631,
     "status": "ok",
     "timestamp": 1649841301920,
     "user": {
      "displayName": "Zohar Gilad",
      "userId": "00340934557496237852"
     },
     "user_tz": -180
    },
    "id": "wHXYBcHRuBcl",
    "outputId": "092bf999-148c-4c16-a1fd-57bcf1a84f27",
    "slideshow": {
     "slide_type": "fragment"
    }
   },
   "outputs": [
    {
     "data": {
      "text/html": [
       "<div>\n",
       "<style scoped>\n",
       "    .dataframe tbody tr th:only-of-type {\n",
       "        vertical-align: middle;\n",
       "    }\n",
       "\n",
       "    .dataframe tbody tr th {\n",
       "        vertical-align: top;\n",
       "    }\n",
       "\n",
       "    .dataframe thead th {\n",
       "        text-align: right;\n",
       "    }\n",
       "</style>\n",
       "<table border=\"1\" class=\"dataframe\">\n",
       "  <thead>\n",
       "    <tr style=\"text-align: right;\">\n",
       "      <th></th>\n",
       "      <th>Day</th>\n",
       "      <th>Event</th>\n",
       "      <th>Temperature(F)</th>\n",
       "      <th>Humidity</th>\n",
       "    </tr>\n",
       "  </thead>\n",
       "  <tbody>\n",
       "    <tr>\n",
       "      <th>0</th>\n",
       "      <td>1/1/2017</td>\n",
       "      <td>Rain</td>\n",
       "      <td>53.6</td>\n",
       "      <td>70</td>\n",
       "    </tr>\n",
       "    <tr>\n",
       "      <th>1</th>\n",
       "      <td>2/1/2017</td>\n",
       "      <td>Sunny</td>\n",
       "      <td>60.8</td>\n",
       "      <td>60</td>\n",
       "    </tr>\n",
       "    <tr>\n",
       "      <th>2</th>\n",
       "      <td>3/1/2017</td>\n",
       "      <td>Snow</td>\n",
       "      <td>28.4</td>\n",
       "      <td>50</td>\n",
       "    </tr>\n",
       "    <tr>\n",
       "      <th>4</th>\n",
       "      <td>5/1/2017</td>\n",
       "      <td>Rain</td>\n",
       "      <td>46.4</td>\n",
       "      <td>75</td>\n",
       "    </tr>\n",
       "  </tbody>\n",
       "</table>\n",
       "</div>"
      ],
      "text/plain": [
       "        Day  Event  Temperature(F)  Humidity\n",
       "0  1/1/2017   Rain            53.6        70\n",
       "1  2/1/2017  Sunny            60.8        60\n",
       "2  3/1/2017   Snow            28.4        50\n",
       "4  5/1/2017   Rain            46.4        75"
      ]
     },
     "execution_count": 69,
     "metadata": {},
     "output_type": "execute_result"
    }
   ],
   "source": [
    "filt = df['Humidity'] == 65\n",
    "df.drop(index=df[filt].index)"
   ]
  },
  {
   "cell_type": "markdown",
   "metadata": {
    "id": "b5wsWkUsuBcl",
    "slideshow": {
     "slide_type": "slide"
    }
   },
   "source": [
    "## Sort"
   ]
  },
  {
   "cell_type": "markdown",
   "metadata": {
    "id": "JI_0sB4zuBcl",
    "slideshow": {
     "slide_type": "subslide"
    }
   },
   "source": [
    "We can use the `sort_values()` method to sort out Dataframe:"
   ]
  },
  {
   "cell_type": "code",
   "execution_count": 70,
   "metadata": {
    "colab": {
     "base_uri": "https://localhost:8080/"
    },
    "executionInfo": {
     "elapsed": 63,
     "status": "ok",
     "timestamp": 1649841301921,
     "user": {
      "displayName": "Zohar Gilad",
      "userId": "00340934557496237852"
     },
     "user_tz": -180
    },
    "id": "3Lu-d11yuBcm",
    "outputId": "f882c5bf-8911-4f31-e032-0ce63841fba8",
    "slideshow": {
     "slide_type": "fragment"
    }
   },
   "outputs": [
    {
     "data": {
      "text/html": [
       "<div>\n",
       "<style scoped>\n",
       "    .dataframe tbody tr th:only-of-type {\n",
       "        vertical-align: middle;\n",
       "    }\n",
       "\n",
       "    .dataframe tbody tr th {\n",
       "        vertical-align: top;\n",
       "    }\n",
       "\n",
       "    .dataframe thead th {\n",
       "        text-align: right;\n",
       "    }\n",
       "</style>\n",
       "<table border=\"1\" class=\"dataframe\">\n",
       "  <thead>\n",
       "    <tr style=\"text-align: right;\">\n",
       "      <th></th>\n",
       "      <th>Day</th>\n",
       "      <th>Event</th>\n",
       "      <th>Temperature(F)</th>\n",
       "      <th>Humidity</th>\n",
       "    </tr>\n",
       "  </thead>\n",
       "  <tbody>\n",
       "    <tr>\n",
       "      <th>2</th>\n",
       "      <td>3/1/2017</td>\n",
       "      <td>Snow</td>\n",
       "      <td>28.4</td>\n",
       "      <td>50</td>\n",
       "    </tr>\n",
       "    <tr>\n",
       "      <th>4</th>\n",
       "      <td>5/1/2017</td>\n",
       "      <td>Rain</td>\n",
       "      <td>46.4</td>\n",
       "      <td>75</td>\n",
       "    </tr>\n",
       "    <tr>\n",
       "      <th>0</th>\n",
       "      <td>1/1/2017</td>\n",
       "      <td>Rain</td>\n",
       "      <td>53.6</td>\n",
       "      <td>70</td>\n",
       "    </tr>\n",
       "    <tr>\n",
       "      <th>5</th>\n",
       "      <td>6/1/2017</td>\n",
       "      <td>Sunny</td>\n",
       "      <td>57.2</td>\n",
       "      <td>65</td>\n",
       "    </tr>\n",
       "    <tr>\n",
       "      <th>1</th>\n",
       "      <td>2/1/2017</td>\n",
       "      <td>Sunny</td>\n",
       "      <td>60.8</td>\n",
       "      <td>60</td>\n",
       "    </tr>\n",
       "    <tr>\n",
       "      <th>3</th>\n",
       "      <td>4/1/2017</td>\n",
       "      <td>Sunny</td>\n",
       "      <td>64.4</td>\n",
       "      <td>65</td>\n",
       "    </tr>\n",
       "  </tbody>\n",
       "</table>\n",
       "</div>"
      ],
      "text/plain": [
       "        Day  Event  Temperature(F)  Humidity\n",
       "2  3/1/2017   Snow            28.4        50\n",
       "4  5/1/2017   Rain            46.4        75\n",
       "0  1/1/2017   Rain            53.6        70\n",
       "5  6/1/2017  Sunny            57.2        65\n",
       "1  2/1/2017  Sunny            60.8        60\n",
       "3  4/1/2017  Sunny            64.4        65"
      ]
     },
     "execution_count": 70,
     "metadata": {},
     "output_type": "execute_result"
    }
   ],
   "source": [
    "df.sort_values(by='Temperature(F)')"
   ]
  },
  {
   "cell_type": "markdown",
   "metadata": {
    "slideshow": {
     "slide_type": "subslide"
    }
   },
   "source": [
    "When sorting in Python the default order is ascending, if we want the values to be sorted in a descending order we need to set `ascending=False`:"
   ]
  },
  {
   "cell_type": "code",
   "execution_count": 71,
   "metadata": {
    "colab": {
     "base_uri": "https://localhost:8080/"
    },
    "executionInfo": {
     "elapsed": 61,
     "status": "ok",
     "timestamp": 1649841301921,
     "user": {
      "displayName": "Zohar Gilad",
      "userId": "00340934557496237852"
     },
     "user_tz": -180
    },
    "id": "6Suvnk0ouBcm",
    "outputId": "6fac6d92-1ffe-4205-dde1-82633734ec77",
    "slideshow": {
     "slide_type": "fragment"
    }
   },
   "outputs": [
    {
     "data": {
      "text/html": [
       "<div>\n",
       "<style scoped>\n",
       "    .dataframe tbody tr th:only-of-type {\n",
       "        vertical-align: middle;\n",
       "    }\n",
       "\n",
       "    .dataframe tbody tr th {\n",
       "        vertical-align: top;\n",
       "    }\n",
       "\n",
       "    .dataframe thead th {\n",
       "        text-align: right;\n",
       "    }\n",
       "</style>\n",
       "<table border=\"1\" class=\"dataframe\">\n",
       "  <thead>\n",
       "    <tr style=\"text-align: right;\">\n",
       "      <th></th>\n",
       "      <th>Day</th>\n",
       "      <th>Event</th>\n",
       "      <th>Temperature(F)</th>\n",
       "      <th>Humidity</th>\n",
       "    </tr>\n",
       "  </thead>\n",
       "  <tbody>\n",
       "    <tr>\n",
       "      <th>3</th>\n",
       "      <td>4/1/2017</td>\n",
       "      <td>Sunny</td>\n",
       "      <td>64.4</td>\n",
       "      <td>65</td>\n",
       "    </tr>\n",
       "    <tr>\n",
       "      <th>1</th>\n",
       "      <td>2/1/2017</td>\n",
       "      <td>Sunny</td>\n",
       "      <td>60.8</td>\n",
       "      <td>60</td>\n",
       "    </tr>\n",
       "    <tr>\n",
       "      <th>5</th>\n",
       "      <td>6/1/2017</td>\n",
       "      <td>Sunny</td>\n",
       "      <td>57.2</td>\n",
       "      <td>65</td>\n",
       "    </tr>\n",
       "    <tr>\n",
       "      <th>0</th>\n",
       "      <td>1/1/2017</td>\n",
       "      <td>Rain</td>\n",
       "      <td>53.6</td>\n",
       "      <td>70</td>\n",
       "    </tr>\n",
       "    <tr>\n",
       "      <th>4</th>\n",
       "      <td>5/1/2017</td>\n",
       "      <td>Rain</td>\n",
       "      <td>46.4</td>\n",
       "      <td>75</td>\n",
       "    </tr>\n",
       "    <tr>\n",
       "      <th>2</th>\n",
       "      <td>3/1/2017</td>\n",
       "      <td>Snow</td>\n",
       "      <td>28.4</td>\n",
       "      <td>50</td>\n",
       "    </tr>\n",
       "  </tbody>\n",
       "</table>\n",
       "</div>"
      ],
      "text/plain": [
       "        Day  Event  Temperature(F)  Humidity\n",
       "3  4/1/2017  Sunny            64.4        65\n",
       "1  2/1/2017  Sunny            60.8        60\n",
       "5  6/1/2017  Sunny            57.2        65\n",
       "0  1/1/2017   Rain            53.6        70\n",
       "4  5/1/2017   Rain            46.4        75\n",
       "2  3/1/2017   Snow            28.4        50"
      ]
     },
     "execution_count": 71,
     "metadata": {},
     "output_type": "execute_result"
    }
   ],
   "source": [
    "df.sort_values(by='Temperature(F)', ascending=False)"
   ]
  },
  {
   "cell_type": "markdown",
   "metadata": {
    "slideshow": {
     "slide_type": "subslide"
    }
   },
   "source": [
    "We can also define define several columns to sort by, the order in which we enter them will be the order in which they will be sorted:"
   ]
  },
  {
   "cell_type": "code",
   "execution_count": 72,
   "metadata": {
    "colab": {
     "base_uri": "https://localhost:8080/"
    },
    "executionInfo": {
     "elapsed": 60,
     "status": "ok",
     "timestamp": 1649841301922,
     "user": {
      "displayName": "Zohar Gilad",
      "userId": "00340934557496237852"
     },
     "user_tz": -180
    },
    "id": "fgnGGpfUuBcm",
    "outputId": "1a8d3dc9-8b7f-456d-ef59-7906297ffa05",
    "slideshow": {
     "slide_type": "fragment"
    }
   },
   "outputs": [
    {
     "data": {
      "text/html": [
       "<div>\n",
       "<style scoped>\n",
       "    .dataframe tbody tr th:only-of-type {\n",
       "        vertical-align: middle;\n",
       "    }\n",
       "\n",
       "    .dataframe tbody tr th {\n",
       "        vertical-align: top;\n",
       "    }\n",
       "\n",
       "    .dataframe thead th {\n",
       "        text-align: right;\n",
       "    }\n",
       "</style>\n",
       "<table border=\"1\" class=\"dataframe\">\n",
       "  <thead>\n",
       "    <tr style=\"text-align: right;\">\n",
       "      <th></th>\n",
       "      <th>Day</th>\n",
       "      <th>Event</th>\n",
       "      <th>Temperature(F)</th>\n",
       "      <th>Humidity</th>\n",
       "    </tr>\n",
       "  </thead>\n",
       "  <tbody>\n",
       "    <tr>\n",
       "      <th>4</th>\n",
       "      <td>5/1/2017</td>\n",
       "      <td>Rain</td>\n",
       "      <td>46.4</td>\n",
       "      <td>75</td>\n",
       "    </tr>\n",
       "    <tr>\n",
       "      <th>0</th>\n",
       "      <td>1/1/2017</td>\n",
       "      <td>Rain</td>\n",
       "      <td>53.6</td>\n",
       "      <td>70</td>\n",
       "    </tr>\n",
       "    <tr>\n",
       "      <th>2</th>\n",
       "      <td>3/1/2017</td>\n",
       "      <td>Snow</td>\n",
       "      <td>28.4</td>\n",
       "      <td>50</td>\n",
       "    </tr>\n",
       "    <tr>\n",
       "      <th>5</th>\n",
       "      <td>6/1/2017</td>\n",
       "      <td>Sunny</td>\n",
       "      <td>57.2</td>\n",
       "      <td>65</td>\n",
       "    </tr>\n",
       "    <tr>\n",
       "      <th>1</th>\n",
       "      <td>2/1/2017</td>\n",
       "      <td>Sunny</td>\n",
       "      <td>60.8</td>\n",
       "      <td>60</td>\n",
       "    </tr>\n",
       "    <tr>\n",
       "      <th>3</th>\n",
       "      <td>4/1/2017</td>\n",
       "      <td>Sunny</td>\n",
       "      <td>64.4</td>\n",
       "      <td>65</td>\n",
       "    </tr>\n",
       "  </tbody>\n",
       "</table>\n",
       "</div>"
      ],
      "text/plain": [
       "        Day  Event  Temperature(F)  Humidity\n",
       "4  5/1/2017   Rain            46.4        75\n",
       "0  1/1/2017   Rain            53.6        70\n",
       "2  3/1/2017   Snow            28.4        50\n",
       "5  6/1/2017  Sunny            57.2        65\n",
       "1  2/1/2017  Sunny            60.8        60\n",
       "3  4/1/2017  Sunny            64.4        65"
      ]
     },
     "execution_count": 72,
     "metadata": {},
     "output_type": "execute_result"
    }
   ],
   "source": [
    "df.sort_values(by=['Event', 'Temperature(F)'])"
   ]
  },
  {
   "cell_type": "markdown",
   "metadata": {
    "id": "6K6AB985GoMU",
    "slideshow": {
     "slide_type": "slide"
    }
   },
   "source": [
    "# <font color=blue> Exercise </font>"
   ]
  },
  {
   "cell_type": "code",
   "execution_count": 73,
   "metadata": {
    "executionInfo": {
     "elapsed": 55,
     "status": "ok",
     "timestamp": 1649841301922,
     "user": {
      "displayName": "Zohar Gilad",
      "userId": "00340934557496237852"
     },
     "user_tz": -180
    },
    "id": "U_TFXQ8OuBcm",
    "slideshow": {
     "slide_type": "fragment"
    }
   },
   "outputs": [],
   "source": [
    "salary_data = {\n",
    "    'city' : ['Tel Aviv', 'Haifa', 'Beer Sheva', 'Beer Sheva', 'Tel Aviv', 'Haifa', 'Haifa', 'Tel Aviv'],\n",
    "    'age' : [27, 35, 28, 24, 32, 41, 19, 38],\n",
    "    'salary' : [27000, 29000, 25000, 24000, 32000, 45000, 16500, 48000],\n",
    "}"
   ]
  },
  {
   "cell_type": "markdown",
   "metadata": {
    "id": "EZYQeAchGyUh",
    "slideshow": {
     "slide_type": "fragment"
    }
   },
   "source": [
    "1. Create a Dataframe from the given dictionary\n",
    "2. What is the salaries mean?\n",
    "3. Get data records of salaries only in 'Haifa' city.\n",
    "4. Get the salary at index (row) 4. Given that it is a monthly salary, calculate the annual salary.\n",
    "5. Get data of records in which age is higher than 30 and the salary is lower than 35000.\n",
    "6. Get the salaries (not the entire record, only salary) in 'Tel Aviv' that are below 30000 or above 40000.\n",
    "7. Add a new column to the Dataframe named 'salary_category' that contains the salary level of the employee. 'Low' if salary < 25000, 'Medium' if 25000 <= salary < 35000, and 'High' if salary > 35000\n",
    "8. Add a new column to the Dataframe named 'young_talent' that is set to True if age < 30 and salary >= 25000, otherwise it is set to False. "
   ]
  },
  {
   "cell_type": "code",
   "execution_count": 74,
   "metadata": {
    "executionInfo": {
     "elapsed": 53,
     "status": "ok",
     "timestamp": 1649841301923,
     "user": {
      "displayName": "Zohar Gilad",
      "userId": "00340934557496237852"
     },
     "user_tz": -180
    },
    "id": "R0_zp596Nc8Q",
    "slideshow": {
     "slide_type": "skip"
    }
   },
   "outputs": [],
   "source": [
    "# Write your code here\n"
   ]
  },
  {
   "cell_type": "markdown",
   "metadata": {
    "id": "8fkUa-EJuBcm",
    "slideshow": {
     "slide_type": "skip"
    }
   },
   "source": [
    "### Solution"
   ]
  },
  {
   "cell_type": "code",
   "execution_count": 89,
   "metadata": {
    "colab": {
     "base_uri": "https://localhost:8080/"
    },
    "executionInfo": {
     "elapsed": 52,
     "status": "ok",
     "timestamp": 1649841301923,
     "user": {
      "displayName": "Zohar Gilad",
      "userId": "00340934557496237852"
     },
     "user_tz": -180
    },
    "id": "qqeFyeBtuBcn",
    "outputId": "4c86da10-0170-45e1-a8d6-808d6e5056cd",
    "scrolled": false,
    "slideshow": {
     "slide_type": "skip"
    }
   },
   "outputs": [
    {
     "data": {
      "text/html": [
       "<div>\n",
       "<style scoped>\n",
       "    .dataframe tbody tr th:only-of-type {\n",
       "        vertical-align: middle;\n",
       "    }\n",
       "\n",
       "    .dataframe tbody tr th {\n",
       "        vertical-align: top;\n",
       "    }\n",
       "\n",
       "    .dataframe thead th {\n",
       "        text-align: right;\n",
       "    }\n",
       "</style>\n",
       "<table border=\"1\" class=\"dataframe\">\n",
       "  <thead>\n",
       "    <tr style=\"text-align: right;\">\n",
       "      <th></th>\n",
       "      <th>city</th>\n",
       "      <th>age</th>\n",
       "      <th>salary</th>\n",
       "    </tr>\n",
       "  </thead>\n",
       "  <tbody>\n",
       "    <tr>\n",
       "      <th>0</th>\n",
       "      <td>Tel Aviv</td>\n",
       "      <td>27</td>\n",
       "      <td>27000</td>\n",
       "    </tr>\n",
       "    <tr>\n",
       "      <th>1</th>\n",
       "      <td>Haifa</td>\n",
       "      <td>35</td>\n",
       "      <td>29000</td>\n",
       "    </tr>\n",
       "    <tr>\n",
       "      <th>2</th>\n",
       "      <td>Beer Sheva</td>\n",
       "      <td>28</td>\n",
       "      <td>25000</td>\n",
       "    </tr>\n",
       "    <tr>\n",
       "      <th>3</th>\n",
       "      <td>Beer Sheva</td>\n",
       "      <td>24</td>\n",
       "      <td>24000</td>\n",
       "    </tr>\n",
       "    <tr>\n",
       "      <th>4</th>\n",
       "      <td>Tel Aviv</td>\n",
       "      <td>32</td>\n",
       "      <td>32000</td>\n",
       "    </tr>\n",
       "    <tr>\n",
       "      <th>5</th>\n",
       "      <td>Haifa</td>\n",
       "      <td>41</td>\n",
       "      <td>45000</td>\n",
       "    </tr>\n",
       "    <tr>\n",
       "      <th>6</th>\n",
       "      <td>Haifa</td>\n",
       "      <td>19</td>\n",
       "      <td>16500</td>\n",
       "    </tr>\n",
       "    <tr>\n",
       "      <th>7</th>\n",
       "      <td>Tel Aviv</td>\n",
       "      <td>38</td>\n",
       "      <td>48000</td>\n",
       "    </tr>\n",
       "  </tbody>\n",
       "</table>\n",
       "</div>"
      ],
      "text/plain": [
       "         city  age  salary\n",
       "0    Tel Aviv   27   27000\n",
       "1       Haifa   35   29000\n",
       "2  Beer Sheva   28   25000\n",
       "3  Beer Sheva   24   24000\n",
       "4    Tel Aviv   32   32000\n",
       "5       Haifa   41   45000\n",
       "6       Haifa   19   16500\n",
       "7    Tel Aviv   38   48000"
      ]
     },
     "execution_count": 89,
     "metadata": {},
     "output_type": "execute_result"
    }
   ],
   "source": [
    "# 1\n",
    "df = pd.DataFrame(salary_data)\n",
    "df"
   ]
  },
  {
   "cell_type": "code",
   "execution_count": 90,
   "metadata": {
    "colab": {
     "base_uri": "https://localhost:8080/"
    },
    "executionInfo": {
     "elapsed": 48,
     "status": "ok",
     "timestamp": 1649841301924,
     "user": {
      "displayName": "Zohar Gilad",
      "userId": "00340934557496237852"
     },
     "user_tz": -180
    },
    "id": "Dvh9C52XuBcn",
    "outputId": "6e3d27d4-3d03-4076-bb11-95c00f714978",
    "slideshow": {
     "slide_type": "skip"
    }
   },
   "outputs": [
    {
     "data": {
      "text/plain": [
       "30812.5"
      ]
     },
     "execution_count": 90,
     "metadata": {},
     "output_type": "execute_result"
    }
   ],
   "source": [
    "# 2\n",
    "df['salary'].mean()"
   ]
  },
  {
   "cell_type": "code",
   "execution_count": 103,
   "metadata": {
    "colab": {
     "base_uri": "https://localhost:8080/"
    },
    "executionInfo": {
     "elapsed": 46,
     "status": "ok",
     "timestamp": 1649841301924,
     "user": {
      "displayName": "Zohar Gilad",
      "userId": "00340934557496237852"
     },
     "user_tz": -180
    },
    "id": "EHmnN0OcuBcn",
    "outputId": "534a5e30-0118-451d-846f-e052e43a6572",
    "slideshow": {
     "slide_type": "skip"
    }
   },
   "outputs": [
    {
     "data": {
      "text/plain": [
       "1    29000\n",
       "5    45000\n",
       "6    16500\n",
       "Name: salary, dtype: int64"
      ]
     },
     "execution_count": 103,
     "metadata": {},
     "output_type": "execute_result"
    }
   ],
   "source": [
    "# 3\n",
    "filt = df['city'] == 'Haifa'\n",
    "df.loc[filt][\"salary\"]"
   ]
  },
  {
   "cell_type": "code",
   "execution_count": 92,
   "metadata": {
    "colab": {
     "base_uri": "https://localhost:8080/"
    },
    "executionInfo": {
     "elapsed": 42,
     "status": "ok",
     "timestamp": 1649841301924,
     "user": {
      "displayName": "Zohar Gilad",
      "userId": "00340934557496237852"
     },
     "user_tz": -180
    },
    "id": "XASQO5ptuBcn",
    "outputId": "de274d9f-be9b-43f9-8cb4-be0d5860c36c",
    "slideshow": {
     "slide_type": "skip"
    }
   },
   "outputs": [
    {
     "data": {
      "text/plain": [
       "384000"
      ]
     },
     "execution_count": 92,
     "metadata": {},
     "output_type": "execute_result"
    }
   ],
   "source": [
    "# 4a\n",
    "value = df.loc[4, ['salary']].values[0] # option 1\n",
    "value = df.loc[4, 'salary'] # option 1\n",
    "value * 12"
   ]
  },
  {
   "cell_type": "code",
   "execution_count": 93,
   "metadata": {
    "colab": {
     "base_uri": "https://localhost:8080/"
    },
    "executionInfo": {
     "elapsed": 38,
     "status": "ok",
     "timestamp": 1649841301925,
     "user": {
      "displayName": "Zohar Gilad",
      "userId": "00340934557496237852"
     },
     "user_tz": -180
    },
    "id": "xUKEJP8VuBcn",
    "outputId": "607845f6-320a-466e-d902-1571d6a1e9da",
    "slideshow": {
     "slide_type": "skip"
    }
   },
   "outputs": [
    {
     "data": {
      "text/plain": [
       "salary    32000\n",
       "Name: 4, dtype: object"
      ]
     },
     "execution_count": 93,
     "metadata": {},
     "output_type": "execute_result"
    }
   ],
   "source": [
    "df.loc[4, ['salary']]"
   ]
  },
  {
   "cell_type": "code",
   "execution_count": 94,
   "metadata": {
    "colab": {
     "base_uri": "https://localhost:8080/"
    },
    "executionInfo": {
     "elapsed": 37,
     "status": "ok",
     "timestamp": 1649841301925,
     "user": {
      "displayName": "Zohar Gilad",
      "userId": "00340934557496237852"
     },
     "user_tz": -180
    },
    "id": "S5FOvt4cuBcn",
    "outputId": "e47db3ac-0fe0-4527-9ebc-4357c97ed644",
    "slideshow": {
     "slide_type": "skip"
    }
   },
   "outputs": [
    {
     "data": {
      "text/plain": [
       "pandas.core.series.Series"
      ]
     },
     "execution_count": 94,
     "metadata": {},
     "output_type": "execute_result"
    }
   ],
   "source": [
    "type(df.loc[4, ['salary']])"
   ]
  },
  {
   "cell_type": "code",
   "execution_count": 95,
   "metadata": {
    "colab": {
     "base_uri": "https://localhost:8080/"
    },
    "executionInfo": {
     "elapsed": 37,
     "status": "ok",
     "timestamp": 1649841301926,
     "user": {
      "displayName": "Zohar Gilad",
      "userId": "00340934557496237852"
     },
     "user_tz": -180
    },
    "id": "misXVnPGuBcn",
    "outputId": "fb5b45c6-326c-4865-ad9d-7497ca2d0012",
    "slideshow": {
     "slide_type": "skip"
    }
   },
   "outputs": [
    {
     "data": {
      "text/plain": [
       "384000"
      ]
     },
     "execution_count": 95,
     "metadata": {},
     "output_type": "execute_result"
    }
   ],
   "source": [
    "# 4b\n",
    "value = df.iloc[4, 2]\n",
    "value * 12"
   ]
  },
  {
   "cell_type": "code",
   "execution_count": 96,
   "metadata": {
    "colab": {
     "base_uri": "https://localhost:8080/"
    },
    "executionInfo": {
     "elapsed": 37,
     "status": "ok",
     "timestamp": 1649841301926,
     "user": {
      "displayName": "Zohar Gilad",
      "userId": "00340934557496237852"
     },
     "user_tz": -180
    },
    "id": "3CW9FET3uBco",
    "outputId": "da5b8d1e-a163-40d7-a502-9fc389eaa20f",
    "slideshow": {
     "slide_type": "skip"
    }
   },
   "outputs": [
    {
     "data": {
      "text/plain": [
       "numpy.int64"
      ]
     },
     "execution_count": 96,
     "metadata": {},
     "output_type": "execute_result"
    }
   ],
   "source": [
    "type(df.iloc[4, 2])"
   ]
  },
  {
   "cell_type": "code",
   "execution_count": 97,
   "metadata": {
    "colab": {
     "base_uri": "https://localhost:8080/"
    },
    "executionInfo": {
     "elapsed": 37,
     "status": "ok",
     "timestamp": 1649841301927,
     "user": {
      "displayName": "Zohar Gilad",
      "userId": "00340934557496237852"
     },
     "user_tz": -180
    },
    "id": "VMCYcx3WuBco",
    "outputId": "d6d4d0cf-febb-4fa1-be37-8260844dc48b",
    "slideshow": {
     "slide_type": "skip"
    }
   },
   "outputs": [
    {
     "data": {
      "text/html": [
       "<div>\n",
       "<style scoped>\n",
       "    .dataframe tbody tr th:only-of-type {\n",
       "        vertical-align: middle;\n",
       "    }\n",
       "\n",
       "    .dataframe tbody tr th {\n",
       "        vertical-align: top;\n",
       "    }\n",
       "\n",
       "    .dataframe thead th {\n",
       "        text-align: right;\n",
       "    }\n",
       "</style>\n",
       "<table border=\"1\" class=\"dataframe\">\n",
       "  <thead>\n",
       "    <tr style=\"text-align: right;\">\n",
       "      <th></th>\n",
       "      <th>city</th>\n",
       "      <th>age</th>\n",
       "      <th>salary</th>\n",
       "    </tr>\n",
       "  </thead>\n",
       "  <tbody>\n",
       "    <tr>\n",
       "      <th>1</th>\n",
       "      <td>Haifa</td>\n",
       "      <td>35</td>\n",
       "      <td>29000</td>\n",
       "    </tr>\n",
       "    <tr>\n",
       "      <th>4</th>\n",
       "      <td>Tel Aviv</td>\n",
       "      <td>32</td>\n",
       "      <td>32000</td>\n",
       "    </tr>\n",
       "  </tbody>\n",
       "</table>\n",
       "</div>"
      ],
      "text/plain": [
       "       city  age  salary\n",
       "1     Haifa   35   29000\n",
       "4  Tel Aviv   32   32000"
      ]
     },
     "execution_count": 97,
     "metadata": {},
     "output_type": "execute_result"
    }
   ],
   "source": [
    "# 5\n",
    "filt = (df['age'] > 30) & (df['salary'] < 35000)\n",
    "df.loc[filt]"
   ]
  },
  {
   "cell_type": "code",
   "execution_count": 104,
   "metadata": {
    "colab": {
     "base_uri": "https://localhost:8080/"
    },
    "executionInfo": {
     "elapsed": 36,
     "status": "ok",
     "timestamp": 1649841301927,
     "user": {
      "displayName": "Zohar Gilad",
      "userId": "00340934557496237852"
     },
     "user_tz": -180
    },
    "id": "FPgjBILIuBco",
    "outputId": "a943a96c-5f5e-40aa-cfe1-8486466bcee3",
    "slideshow": {
     "slide_type": "skip"
    }
   },
   "outputs": [
    {
     "data": {
      "text/plain": [
       "0    27000\n",
       "7    48000\n",
       "Name: salary, dtype: int64"
      ]
     },
     "execution_count": 104,
     "metadata": {},
     "output_type": "execute_result"
    }
   ],
   "source": [
    "# 6\n",
    "filt = (df['city'] == 'Tel Aviv') & ((df['salary'] < 30000) | (df['salary'] > 40000))\n",
    "df[filt]['salary']"
   ]
  },
  {
   "cell_type": "code",
   "execution_count": 99,
   "metadata": {
    "executionInfo": {
     "elapsed": 35,
     "status": "ok",
     "timestamp": 1649841301927,
     "user": {
      "displayName": "Zohar Gilad",
      "userId": "00340934557496237852"
     },
     "user_tz": -180
    },
    "id": "HeJ47DNBuBco",
    "slideshow": {
     "slide_type": "skip"
    }
   },
   "outputs": [],
   "source": [
    "# 7\n",
    "def categorize_salary(salary):\n",
    "    if salary < 25000:\n",
    "        return 'Low'\n",
    "    elif salary < 35000:\n",
    "        return 'Medium'\n",
    "    else:\n",
    "        return 'High'"
   ]
  },
  {
   "cell_type": "code",
   "execution_count": 100,
   "metadata": {
    "colab": {
     "base_uri": "https://localhost:8080/"
    },
    "executionInfo": {
     "elapsed": 36,
     "status": "ok",
     "timestamp": 1649841301928,
     "user": {
      "displayName": "Zohar Gilad",
      "userId": "00340934557496237852"
     },
     "user_tz": -180
    },
    "id": "tV9i_SQKuBco",
    "outputId": "906a4546-91b4-49b1-a71d-7dbac52fcc47",
    "slideshow": {
     "slide_type": "skip"
    }
   },
   "outputs": [
    {
     "data": {
      "text/html": [
       "<div>\n",
       "<style scoped>\n",
       "    .dataframe tbody tr th:only-of-type {\n",
       "        vertical-align: middle;\n",
       "    }\n",
       "\n",
       "    .dataframe tbody tr th {\n",
       "        vertical-align: top;\n",
       "    }\n",
       "\n",
       "    .dataframe thead th {\n",
       "        text-align: right;\n",
       "    }\n",
       "</style>\n",
       "<table border=\"1\" class=\"dataframe\">\n",
       "  <thead>\n",
       "    <tr style=\"text-align: right;\">\n",
       "      <th></th>\n",
       "      <th>city</th>\n",
       "      <th>age</th>\n",
       "      <th>salary</th>\n",
       "      <th>salary_category</th>\n",
       "    </tr>\n",
       "  </thead>\n",
       "  <tbody>\n",
       "    <tr>\n",
       "      <th>0</th>\n",
       "      <td>Tel Aviv</td>\n",
       "      <td>27</td>\n",
       "      <td>27000</td>\n",
       "      <td>Medium</td>\n",
       "    </tr>\n",
       "    <tr>\n",
       "      <th>1</th>\n",
       "      <td>Haifa</td>\n",
       "      <td>35</td>\n",
       "      <td>29000</td>\n",
       "      <td>Medium</td>\n",
       "    </tr>\n",
       "    <tr>\n",
       "      <th>2</th>\n",
       "      <td>Beer Sheva</td>\n",
       "      <td>28</td>\n",
       "      <td>25000</td>\n",
       "      <td>Medium</td>\n",
       "    </tr>\n",
       "    <tr>\n",
       "      <th>3</th>\n",
       "      <td>Beer Sheva</td>\n",
       "      <td>24</td>\n",
       "      <td>24000</td>\n",
       "      <td>Low</td>\n",
       "    </tr>\n",
       "    <tr>\n",
       "      <th>4</th>\n",
       "      <td>Tel Aviv</td>\n",
       "      <td>32</td>\n",
       "      <td>32000</td>\n",
       "      <td>Medium</td>\n",
       "    </tr>\n",
       "    <tr>\n",
       "      <th>5</th>\n",
       "      <td>Haifa</td>\n",
       "      <td>41</td>\n",
       "      <td>45000</td>\n",
       "      <td>High</td>\n",
       "    </tr>\n",
       "    <tr>\n",
       "      <th>6</th>\n",
       "      <td>Haifa</td>\n",
       "      <td>19</td>\n",
       "      <td>16500</td>\n",
       "      <td>Low</td>\n",
       "    </tr>\n",
       "    <tr>\n",
       "      <th>7</th>\n",
       "      <td>Tel Aviv</td>\n",
       "      <td>38</td>\n",
       "      <td>48000</td>\n",
       "      <td>High</td>\n",
       "    </tr>\n",
       "  </tbody>\n",
       "</table>\n",
       "</div>"
      ],
      "text/plain": [
       "         city  age  salary salary_category\n",
       "0    Tel Aviv   27   27000          Medium\n",
       "1       Haifa   35   29000          Medium\n",
       "2  Beer Sheva   28   25000          Medium\n",
       "3  Beer Sheva   24   24000             Low\n",
       "4    Tel Aviv   32   32000          Medium\n",
       "5       Haifa   41   45000            High\n",
       "6       Haifa   19   16500             Low\n",
       "7    Tel Aviv   38   48000            High"
      ]
     },
     "execution_count": 100,
     "metadata": {},
     "output_type": "execute_result"
    }
   ],
   "source": [
    "df['salary_category'] = df['salary'].apply(categorize_salary)\n",
    "df"
   ]
  },
  {
   "cell_type": "code",
   "execution_count": 101,
   "metadata": {
    "executionInfo": {
     "elapsed": 35,
     "status": "ok",
     "timestamp": 1649841301928,
     "user": {
      "displayName": "Zohar Gilad",
      "userId": "00340934557496237852"
     },
     "user_tz": -180
    },
    "id": "KexG09-AuBco",
    "slideshow": {
     "slide_type": "skip"
    }
   },
   "outputs": [],
   "source": [
    "# 8\n",
    "def set_young_talent(row):\n",
    "    if row['age'] < 30 and row['salary'] >= 25000:\n",
    "        return True\n",
    "    else:\n",
    "        return False"
   ]
  },
  {
   "cell_type": "code",
   "execution_count": 88,
   "metadata": {
    "colab": {
     "base_uri": "https://localhost:8080/"
    },
    "executionInfo": {
     "elapsed": 35,
     "status": "ok",
     "timestamp": 1649841301929,
     "user": {
      "displayName": "Zohar Gilad",
      "userId": "00340934557496237852"
     },
     "user_tz": -180
    },
    "id": "6j178F01uBco",
    "outputId": "2765247a-f1d5-456e-ce13-7d8d3f2e3b28",
    "slideshow": {
     "slide_type": "skip"
    }
   },
   "outputs": [
    {
     "data": {
      "text/html": [
       "<div>\n",
       "<style scoped>\n",
       "    .dataframe tbody tr th:only-of-type {\n",
       "        vertical-align: middle;\n",
       "    }\n",
       "\n",
       "    .dataframe tbody tr th {\n",
       "        vertical-align: top;\n",
       "    }\n",
       "\n",
       "    .dataframe thead th {\n",
       "        text-align: right;\n",
       "    }\n",
       "</style>\n",
       "<table border=\"1\" class=\"dataframe\">\n",
       "  <thead>\n",
       "    <tr style=\"text-align: right;\">\n",
       "      <th></th>\n",
       "      <th>city</th>\n",
       "      <th>age</th>\n",
       "      <th>salary</th>\n",
       "      <th>salary_category</th>\n",
       "      <th>young_talent</th>\n",
       "    </tr>\n",
       "  </thead>\n",
       "  <tbody>\n",
       "    <tr>\n",
       "      <th>0</th>\n",
       "      <td>Tel Aviv</td>\n",
       "      <td>27</td>\n",
       "      <td>27000</td>\n",
       "      <td>Medium</td>\n",
       "      <td>True</td>\n",
       "    </tr>\n",
       "    <tr>\n",
       "      <th>1</th>\n",
       "      <td>Haifa</td>\n",
       "      <td>35</td>\n",
       "      <td>29000</td>\n",
       "      <td>Medium</td>\n",
       "      <td>False</td>\n",
       "    </tr>\n",
       "    <tr>\n",
       "      <th>2</th>\n",
       "      <td>Beer Sheva</td>\n",
       "      <td>28</td>\n",
       "      <td>25000</td>\n",
       "      <td>Medium</td>\n",
       "      <td>True</td>\n",
       "    </tr>\n",
       "    <tr>\n",
       "      <th>3</th>\n",
       "      <td>Beer Sheva</td>\n",
       "      <td>24</td>\n",
       "      <td>24000</td>\n",
       "      <td>Low</td>\n",
       "      <td>False</td>\n",
       "    </tr>\n",
       "    <tr>\n",
       "      <th>4</th>\n",
       "      <td>Tel Aviv</td>\n",
       "      <td>32</td>\n",
       "      <td>32000</td>\n",
       "      <td>Medium</td>\n",
       "      <td>False</td>\n",
       "    </tr>\n",
       "    <tr>\n",
       "      <th>5</th>\n",
       "      <td>Haifa</td>\n",
       "      <td>41</td>\n",
       "      <td>45000</td>\n",
       "      <td>High</td>\n",
       "      <td>False</td>\n",
       "    </tr>\n",
       "    <tr>\n",
       "      <th>6</th>\n",
       "      <td>Haifa</td>\n",
       "      <td>19</td>\n",
       "      <td>16500</td>\n",
       "      <td>Low</td>\n",
       "      <td>False</td>\n",
       "    </tr>\n",
       "    <tr>\n",
       "      <th>7</th>\n",
       "      <td>Tel Aviv</td>\n",
       "      <td>38</td>\n",
       "      <td>48000</td>\n",
       "      <td>High</td>\n",
       "      <td>False</td>\n",
       "    </tr>\n",
       "  </tbody>\n",
       "</table>\n",
       "</div>"
      ],
      "text/plain": [
       "         city  age  salary salary_category  young_talent\n",
       "0    Tel Aviv   27   27000          Medium          True\n",
       "1       Haifa   35   29000          Medium         False\n",
       "2  Beer Sheva   28   25000          Medium          True\n",
       "3  Beer Sheva   24   24000             Low         False\n",
       "4    Tel Aviv   32   32000          Medium         False\n",
       "5       Haifa   41   45000            High         False\n",
       "6       Haifa   19   16500             Low         False\n",
       "7    Tel Aviv   38   48000            High         False"
      ]
     },
     "execution_count": 88,
     "metadata": {},
     "output_type": "execute_result"
    }
   ],
   "source": [
    "df['young_talent'] = df.apply(set_young_talent, axis='columns')\n",
    "df"
   ]
  },
  {
   "cell_type": "code",
   "execution_count": 102,
   "metadata": {},
   "outputs": [
    {
     "data": {
      "text/plain": [
       "array([[<Axes: title={'center': 'salary'}>]], dtype=object)"
      ]
     },
     "execution_count": 102,
     "metadata": {},
     "output_type": "execute_result"
    },
    {
     "data": {
      "image/png": "[encoded data removed]",
      "text/plain": [
       "<Figure size 640x480 with 1 Axes>"
      ]
     },
     "metadata": {},
     "output_type": "display_data"
    }
   ],
   "source": [
    "df.hist(\"salary\")"
   ]
  }
 ],
 "metadata": {
  "celltoolbar": "Slideshow",
  "colab": {
   "name": "03_Pandas_Basics.ipynb",
   "provenance": []
  },
  "kernelspec": {
   "display_name": "Python 3 (ipykernel)",
   "language": "python",
   "name": "python3"
  },
  "language_info": {
   "codemirror_mode": {
    "name": "ipython",
    "version": 3
   },
   "file_extension": ".py",
   "mimetype": "text/x-python",
   "name": "python",
   "nbconvert_exporter": "python",
   "pygments_lexer": "ipython3",
   "version": "3.9.16"
  }
 },
 "nbformat": 4,
 "nbformat_minor": 1
}
